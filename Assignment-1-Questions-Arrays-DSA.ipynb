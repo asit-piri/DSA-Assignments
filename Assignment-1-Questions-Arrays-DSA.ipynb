{
  "nbformat": 4,
  "nbformat_minor": 0,
  "metadata": {
    "colab": {
      "provenance": []
    },
    "kernelspec": {
      "name": "python3",
      "display_name": "Python 3"
    },
    "language_info": {
      "name": "python"
    }
  },
  "cells": [
    {
      "cell_type": "markdown",
      "source": [
        "#Assignment 1 Questions - Arrays | DSA\n",
        "##Name: Asit Piri\n",
        "###Date of Submission: 28th May 2023"
      ],
      "metadata": {
        "id": "tBYc0zXWURFW"
      }
    },
    {
      "cell_type": "markdown",
      "source": [
        "💡 **Q1.** Given an array of integers nums and an integer target, return indices of the two numbers such that they add up to target.\n",
        "\n",
        "You may assume that each input would have exactly one solution, and you may not use the same element twice.\n",
        "\n",
        "You can return the answer in any order.\n",
        "\n",
        "**Example:**\n",
        "Input: nums = [2,7,11,15], target = 9\n",
        "Output0 [0,1]\n",
        "\n",
        "**Explanation:** Because nums[0] + nums[1] == 9, we return [0, 1]["
      ],
      "metadata": {
        "id": "ALVi3RR7TwSP"
      }
    },
    {
      "cell_type": "code",
      "source": [
        "'''\n",
        "To find the indices of two numbers in an array that add up to a target value, we can use a hash map (dictionary) to optimize the solution. \n",
        "Here's an optimized Python code to solve the problem:\n",
        "'''\n",
        "\n",
        "def twoSum(nums, target):\n",
        "    num_dict = {}  # Key: number, Value: index\n",
        "\n",
        "    for i, num in enumerate(nums):\n",
        "        complement = target - num\n",
        "\n",
        "        if complement in num_dict:\n",
        "            return [num_dict[complement], i]\n",
        "\n",
        "        num_dict[num] = i\n",
        "\n",
        "    return []  # No solution found\n",
        "\n",
        "# Example usage:\n",
        "nums = [2, 7, 11, 15]\n",
        "target = 9\n",
        "indices = twoSum(nums, target)\n",
        "print(\"Indices:\", indices)"
      ],
      "metadata": {
        "colab": {
          "base_uri": "https://localhost:8080/"
        },
        "id": "YyP2_s0hUMCp",
        "outputId": "d828526f-5fe1-454b-d357-2b40619f75f5"
      },
      "execution_count": null,
      "outputs": [
        {
          "output_type": "stream",
          "name": "stdout",
          "text": [
            "Indices: [0, 1]\n"
          ]
        }
      ]
    },
    {
      "cell_type": "markdown",
      "source": [
        "**Conclusion:**\n",
        "In this code, we iterate through the array nums and for each number, we calculate its complement (target minus the current number). We check if the complement exists in the num_dict hash map. If it does, we return the indices of the current number and its complement. If the complement doesn't exist in the hash map, we store the current number and its index in the hash map for future lookups.\n",
        "\n",
        "The **time complexity** of this approach is **O(n)**, where **n is the size of the array nums**. This is because we iterate through the array once, and each lookup in the hash map takes constant time on average. \n",
        "\n",
        "The **space complexity** is also **O(n)** because, **in the worst case, we may store all elements of nums in the hash map**."
      ],
      "metadata": {
        "id": "2YyYoIMNXv6d"
      }
    },
    {
      "cell_type": "markdown",
      "source": [
        "💡 **Q2** Given an integer array nums and an integer val, remove all occurrences of val in nums in-place. The order of the elements may be changed. Then return the number of elements in nums which are not equal to val.\n",
        "\n",
        "Consider the number of elements in nums which are not equal to val be k, to get accepted, you need to do the following things:\n",
        "\n",
        "- Change the array nums such that the first k elements of nums contain the elements which are not equal to val. The remaining elements of nums are not important as well as the size of nums.\n",
        "- Return k.\n",
        "\n",
        "**Example :**\n",
        "Input: nums = [3,2,2,3], val = 3\n",
        "Output: 2, nums = [2,2,_*,_*]\n",
        "\n",
        "**Explanation:** Your function should return k = 2, with the first two elements of nums being 2. It does not matter what you leave beyond the returned k (hence they are underscores)["
      ],
      "metadata": {
        "id": "Xm-HnprqUodS"
      }
    },
    {
      "cell_type": "code",
      "source": [
        "'''\n",
        "To remove all occurrences of a given value val from the array nums in-place and return the number of elements in nums that are not equal to val, \n",
        "we can use a two-pointer approach. Here's an optimized Python code to solve the problem:\n",
        "'''\n",
        "\n",
        "def removeElement(nums, val):\n",
        "    left = 0\n",
        "    right = len(nums) - 1\n",
        "\n",
        "    while left <= right:\n",
        "        if nums[left] == val:\n",
        "            nums[left] = nums[right]\n",
        "            right -= 1\n",
        "        else:\n",
        "            left += 1\n",
        "\n",
        "    return left\n",
        "\n",
        "# Example usage:\n",
        "nums = [3, 2, 2, 3]\n",
        "val = 3\n",
        "k = removeElement(nums, val)\n",
        "print(\"k:\", k)\n",
        "print(\"nums:\", nums[:k] + [\"*\"] * (len(nums) - k))"
      ],
      "metadata": {
        "colab": {
          "base_uri": "https://localhost:8080/"
        },
        "id": "jqf3RZBZUzIf",
        "outputId": "b7e5bbac-c9e1-4de0-a8f3-f3bd2ffdd77b"
      },
      "execution_count": null,
      "outputs": [
        {
          "output_type": "stream",
          "name": "stdout",
          "text": [
            "k: 2\n",
            "nums: [2, 2, '*', '*']\n"
          ]
        }
      ]
    },
    {
      "cell_type": "markdown",
      "source": [
        "**Conclusion:**\n",
        "In the above code, we initialize two pointers, left and right, where left points to the start of the array and right points to the end of the array. We iterate through the array while left is less than or equal to right. If the element at left is equal to val, we replace it with the element at right and decrement right by 1. If the element at left is not equal to val, we increment left by 1. This process continues until left becomes greater than right.\n",
        "\n",
        "Finally, we return the value of left, which represents the number of elements in nums that are not equal to val. To display nums with the first k elements containing the elements not equal to val, we print nums[:k] and append \"*\" for the remaining elements.\n",
        "\n",
        "The **time complexity** of this approach is **O(n)**, where **n is the size of the array nums**. \n",
        "\n",
        "The **space complexity** is **O(1)** since we perform the operations in-place without using any extra space that depends on the size of nums."
      ],
      "metadata": {
        "id": "1iNxSQwRaaTc"
      }
    },
    {
      "cell_type": "markdown",
      "source": [
        "💡 **Q3.** Given a sorted array of distinct integers and a target value, return the index if the target is found. If not, return the index where it would be if it were inserted in order.\n",
        "\n",
        "You must write an algorithm with O(log n) runtime complexity.\n",
        "\n",
        "**Example 1:**\n",
        "Input: nums = [1,3,5,6], target = 5\n",
        "\n",
        "Output: 2"
      ],
      "metadata": {
        "id": "STfxh_lSUzoD"
      }
    },
    {
      "cell_type": "code",
      "source": [
        "'''\n",
        "To find the index of a target value in a sorted array of distinct integers or the index where it would be inserted in order, \n",
        "we can use a binary search algorithm. Here's an optimized Python code to solve the problem:\n",
        "'''\n",
        "\n",
        "def searchInsert(nums, target):\n",
        "    left = 0\n",
        "    right = len(nums) - 1\n",
        "\n",
        "    while left <= right:\n",
        "        mid = left + (right - left) // 2\n",
        "\n",
        "        if nums[mid] == target:\n",
        "            return mid\n",
        "        elif nums[mid] < target:\n",
        "            left = mid + 1\n",
        "        else:\n",
        "            right = mid - 1\n",
        "\n",
        "    return left\n",
        "\n",
        "# Example usage:\n",
        "nums = [1, 3, 5, 6]\n",
        "target = 5\n",
        "index = searchInsert(nums, target)\n",
        "print(\"Index:\", index)"
      ],
      "metadata": {
        "colab": {
          "base_uri": "https://localhost:8080/"
        },
        "id": "oAbmaEgtU68d",
        "outputId": "f458f837-14f2-409b-f28b-3f33b9deb521"
      },
      "execution_count": null,
      "outputs": [
        {
          "output_type": "stream",
          "name": "stdout",
          "text": [
            "Index: 2\n"
          ]
        }
      ]
    },
    {
      "cell_type": "markdown",
      "source": [
        "**Conclusion: **\n",
        "\n",
        "In this code, we use a **binary search algorithm** to find the index of the target value in the sorted array nums. We initialize two pointers, left and right, where left points to the start of the array and right points to the end of the array. We repeatedly calculate the middle index, mid, and compare the element at mid with the target value. If they are equal, we return mid as the index of the target. If the element at mid is less than the target, we update left to mid + 1. If the element at mid is greater than the target, we update right to mid - 1. We continue this process until left becomes greater than right. In the end, if the target is not found, we return left as the index where the target would be inserted in order.\n",
        "\n",
        "The **time complexity** of this approach is **O(log n)**, where **n is the size of the array nums**. This is because we perform a binary search, and at each step, **we divide the search space in half**. \n",
        "\n",
        "The **space complexity** is **O(1)** **since we perform the operations using a constant amount of extra space**."
      ],
      "metadata": {
        "id": "GPgOp5QLbmLD"
      }
    },
    {
      "cell_type": "markdown",
      "source": [
        "💡 **Q4.** You are given a large integer represented as an integer array digits, where each digits[i] is the ith digit of the integer. The digits are ordered from most significant to least significant in left-to-right order. The large integer does not contain any leading 0's.\n",
        "\n",
        "Increment the large integer by one and return the resulting array of digits.\n",
        "\n",
        "**Example 1:**\n",
        "Input: digits = [1,2,3]\n",
        "Output: [1,2,4]\n",
        "\n",
        "**Explanation:** The array represents the integer 123.\n",
        "\n",
        "Incrementing by one gives 123 + 1 = 124.\n",
        "Thus, the result should be [1,2,4]."
      ],
      "metadata": {
        "id": "MJPT7ylAU7X4"
      }
    },
    {
      "cell_type": "code",
      "source": [
        "'''\n",
        "To increment a large integer represented as an integer array of digits by one, we start from the least significant digit and add one to it. \n",
        "If the result is less than 10, we can update the digit and return the updated array. If the result is 10, we set the digit to 0 and move to the next digit. \n",
        "We repeat this process until we encounter a digit that is less than 9 or reach the most significant digit. If we reach the most significant digit and \n",
        "it becomes 10, we need to add an additional digit at the beginning of the array. Here's an optimized Python code to solve the problem:\n",
        "'''\n",
        "\n",
        "def plusOne(digits):\n",
        "    n = len(digits)\n",
        "    for i in range(n - 1, -1, -1):\n",
        "        if digits[i] < 9:\n",
        "            digits[i] += 1\n",
        "            return digits\n",
        "        digits[i] = 0\n",
        "\n",
        "    return [1] + digits\n",
        "\n",
        "# Example usage:\n",
        "digits = [1, 2, 3]\n",
        "result = plusOne(digits)\n",
        "print(\"Result:\", result)\n"
      ],
      "metadata": {
        "colab": {
          "base_uri": "https://localhost:8080/"
        },
        "id": "QCggnTurVJm5",
        "outputId": "5819ccb3-952d-4afe-ae20-8978d86cb429"
      },
      "execution_count": null,
      "outputs": [
        {
          "output_type": "stream",
          "name": "stdout",
          "text": [
            "Result: [1, 2, 4]\n"
          ]
        }
      ]
    },
    {
      "cell_type": "markdown",
      "source": [
        "**Conclusion:**\n",
        "In this code, we start iterating from the least significant digit (at index n-1) to the most significant digit (at index 0). We check if the current digit is less than 9. If it is, we increment the digit by 1 and return the updated array. If the current digit is 9, we set it to 0 and move to the next digit. This process continues until we encounter a digit that is less than 9 or reach the most significant digit. If we reach the most significant digit and it becomes 10, we add an additional digit 1 at the beginning of the array.\n",
        "\n",
        "The **time complexity** of this approach is **O(n)**, where **n is the size of the array digits**. This is because in the worst case, we may need to iterate through all the digits in the array. \n",
        "\n",
        "The **space complexity** is also **O(n)** **since the resulting array may have an additional digit at the beginning**."
      ],
      "metadata": {
        "id": "F37vmAZ3dIOg"
      }
    },
    {
      "cell_type": "markdown",
      "source": [
        "💡 **Q5.** You are given two integer arrays nums1 and nums2, sorted in non-decreasing order, and two integers m and n, representing the number of elements in nums1 and nums2 respectively.\n",
        "\n",
        "Merge nums1 and nums2 into a single array sorted in non-decreasing order.\n",
        "\n",
        "The final sorted array should not be returned by the function, but instead be stored inside the array nums1. To accommodate this, nums1 has a length of m + n, where the first m elements denote the elements that should be merged, and the last n elements are set to 0 and should be ignored. nums2 has a length of n.\n",
        "\n",
        "**Example 1:**\n",
        "Input: nums1 = [1,2,3,0,0,0], m = 3, nums2 = [2,5,6], n = 3\n",
        "Output: [1,2,2,3,5,6]\n",
        "\n",
        "**Explanation:** The arrays we are merging are [1,2,3] and [2,5,6].\n",
        "The result of the merge is [1,2,2,3,5,6] with the underlined elements coming from nums1."
      ],
      "metadata": {
        "id": "hfOYf4qSVB4v"
      }
    },
    {
      "cell_type": "code",
      "source": [
        "'''\n",
        "To merge two sorted arrays nums1 and nums2 into nums1, we can start from the end of the merged array and compare elements from both arrays. \n",
        "Since nums1 has enough space to accommodate all elements, we don't need to worry about overwriting any existing elements. \n",
        "We can start from the last indices of nums1 and nums2, compare the elements, and place the larger element at the end of nums1. \n",
        "We continue this process until we have exhausted all elements in nums1 or nums2.\n",
        "Here's the optimized Python code to solve the problem:\n",
        "'''\n",
        "\n",
        "def merge(nums1, m, nums2, n):\n",
        "    i = m - 1  # Index of last element in nums1\n",
        "    j = n - 1  # Index of last element in nums2\n",
        "    k = m + n - 1  # Index of last position in merged array nums1\n",
        "\n",
        "    while i >= 0 and j >= 0:\n",
        "        if nums1[i] > nums2[j]:\n",
        "            nums1[k] = nums1[i]\n",
        "            i -= 1\n",
        "        else:\n",
        "            nums1[k] = nums2[j]\n",
        "            j -= 1\n",
        "        k -= 1\n",
        "\n",
        "    # Copy remaining elements from nums2 to nums1\n",
        "    while j >= 0:\n",
        "        nums1[k] = nums2[j]\n",
        "        j -= 1\n",
        "        k -= 1\n",
        "\n",
        "# Example usage:\n",
        "nums1 = [1, 2, 3, 0, 0, 0]\n",
        "m = 3\n",
        "nums2 = [2, 5, 6]\n",
        "n = 3\n",
        "\n",
        "merge(nums1, m, nums2, n)\n",
        "print(\"Merged Array:\", nums1)"
      ],
      "metadata": {
        "colab": {
          "base_uri": "https://localhost:8080/"
        },
        "id": "FSHgQFmsVKhQ",
        "outputId": "c7e2b99b-c4c0-46be-aabd-8bf69acdde75"
      },
      "execution_count": null,
      "outputs": [
        {
          "output_type": "stream",
          "name": "stdout",
          "text": [
            "Merged Array: [1, 2, 2, 3, 5, 6]\n"
          ]
        }
      ]
    },
    {
      "cell_type": "markdown",
      "source": [
        "**Conclusion:**\n",
        "In this code, we initialize three pointers: i, j, and k. i points to the last element in nums1 that needs to be considered for merging, j points to the last element in nums2, and k points to the last position in the merged array nums1.\n",
        "\n",
        "We iterate while both i and j are greater than or equal to 0. At each step, we compare the elements at nums1[i] and nums2[j]. If nums1[i] is greater, we place it at nums1[k] and decrement i by 1. Otherwise, we place nums2[j] at nums1[k] and decrement j by 1. We also decrement k by 1 after each placement. This process continues until either i or j becomes less than 0.\n",
        "\n",
        "After merging all the elements from nums2 into nums1, if there are any remaining elements in nums2, we copy them to the beginning of nums1 starting from k till j becomes less than 0.\n",
        "\n",
        "The **time complexity** of this approach is **O(m + n)**, where **m and n are the sizes of nums1 and nums2**, respectively. \n",
        "\n",
        "The **space complexity** is **O(1) **since we perform the **operations in-place without using any extra space proportional to the input size**."
      ],
      "metadata": {
        "id": "Va9R_IJfeLtm"
      }
    },
    {
      "cell_type": "markdown",
      "source": [
        "💡 **Q6.** Given an integer array nums, return true if any value appears at least twice in the array, and return false if every element is distinct.\n",
        "\n",
        "**Example 1:**\n",
        "Input: nums = [1,2,3,1]\n",
        "\n",
        "Output: true"
      ],
      "metadata": {
        "id": "mGQGAd5vVLBL"
      }
    },
    {
      "cell_type": "code",
      "source": [
        "'''\n",
        "To determine if any value appears at least twice in the given integer array nums, we can use a set data structure to keep track of unique elements \n",
        "we have encountered so far. As we iterate through the array, we can check if the current element is already present in the set. \n",
        "If it is, we can return True as we have found a duplicate element. If we reach the end of the array without finding any duplicates, we can return False.\n",
        "\n",
        "Here's the optimized Python code to solve the problem:\n",
        "'''\n",
        "\n",
        "def containsDuplicate(nums):\n",
        "    num_set = set()\n",
        "\n",
        "    for num in nums:\n",
        "        if num in num_set:\n",
        "            return True\n",
        "        num_set.add(num)\n",
        "\n",
        "    return False\n",
        "\n",
        "# Example usage:\n",
        "nums = [1, 2, 3, 1]\n",
        "result = containsDuplicate(nums)\n",
        "print(\"Result:\", result)\n"
      ],
      "metadata": {
        "colab": {
          "base_uri": "https://localhost:8080/"
        },
        "id": "KPN2G3lRVSFY",
        "outputId": "3c44b34f-53ad-4b8e-a4bb-9277f5323f01"
      },
      "execution_count": null,
      "outputs": [
        {
          "output_type": "stream",
          "name": "stdout",
          "text": [
            "Result: True\n"
          ]
        }
      ]
    },
    {
      "cell_type": "markdown",
      "source": [
        "**Conclusion:**\n",
        "In this code, we initialize an empty set num_set to keep track of unique elements. We iterate through each element in nums. For each element, we check if it is already present in num_set using the in operator. If it is, we return True as we have found a duplicate. Otherwise, we add the element to num_set using the add() method.\n",
        "\n",
        "If we complete the loop without finding any duplicates, we return False.\n",
        "\n",
        "The **time complexity** of this approach is **O(n)**, where **n is the size of the array nums**. This is because **we perform a constant-time lookup in the set for each element in the array**. \n",
        "\n",
        "The **space complexity** is also **O(n)** since **in the worst case, all elements in nums are unique, and we need to store them in the set**."
      ],
      "metadata": {
        "id": "D2CVble3fc8i"
      }
    },
    {
      "cell_type": "markdown",
      "source": [
        "💡 **Q7.** Given an integer array nums, move all 0's to the end of it while maintaining the relative order of the nonzero elements.\n",
        "\n",
        "Note that you must do this in-place without making a copy of the array.\n",
        "\n",
        "**Example 1:**\n",
        "Input: nums = [0,1,0,3,12]\n",
        "Output: [1,3,12,0,0]"
      ],
      "metadata": {
        "id": "bF6aDzcrVTt4"
      }
    },
    {
      "cell_type": "code",
      "source": [
        "'''\n",
        "To move all zeros to the end of the integer array nums while maintaining the relative order of the nonzero elements, we can use a two-pointer approach. \n",
        "We initialize two pointers, i and j, both starting at index 0. We iterate through the array with the pointer i. For each element at nums[i], \n",
        "if it is non-zero, we swap it with the element at nums[j] and increment j by 1. This ensures that all the nonzero elements are shifted towards \n",
        "the beginning of the array. After iterating through the entire array, we can fill the remaining positions from j till the end of the array with zeros, \n",
        "effectively moving all the zeros to the end.\n",
        "\n",
        "Here's the optimized Python code to solve the problem:\n",
        "\n",
        "'''\n",
        "\n",
        "def moveZeroes(nums):\n",
        "    n = len(nums)\n",
        "    j = 0\n",
        "\n",
        "    for i in range(n):\n",
        "        if nums[i] != 0:\n",
        "            nums[i], nums[j] = nums[j], nums[i]\n",
        "            j += 1\n",
        "\n",
        "    while j < n:\n",
        "        nums[j] = 0\n",
        "        j += 1\n",
        "\n",
        "# Example usage:\n",
        "nums = [0, 1, 0, 3, 12]\n",
        "moveZeroes(nums)\n",
        "print(\"Result:\", nums)"
      ],
      "metadata": {
        "colab": {
          "base_uri": "https://localhost:8080/"
        },
        "id": "JkXnE0oDVajh",
        "outputId": "9d8bbe2a-380c-46dc-d86c-1ac169b2fd1b"
      },
      "execution_count": null,
      "outputs": [
        {
          "output_type": "stream",
          "name": "stdout",
          "text": [
            "Result: [1, 3, 12, 0, 0]\n"
          ]
        }
      ]
    },
    {
      "cell_type": "markdown",
      "source": [
        "**Conclusion:**\n",
        "In this code, we initialize the pointer j to keep track of the position where the next nonzero element should be placed. We iterate through the array with the pointer i. If nums[i] is non-zero, we swap it with nums[j] using a parallel assignment. After the swap, we increment j by 1 to maintain its correct position for the next nonzero element.\n",
        "\n",
        "Once we finish iterating through the array, we fill the remaining positions from j till the end of the array with zeros in the final step.\n",
        "\n",
        "The **time complexity** of this approach is **O(n)**, where **n is the size of the array nums**. This is because we perform a single pass through the array. \n",
        "\n",
        "The **space complexity** is **O(1)** since we **perform all the operations in-place without using any extra space proportional to the input size**."
      ],
      "metadata": {
        "id": "NaAJ--a0ggnw"
      }
    },
    {
      "cell_type": "markdown",
      "source": [
        "💡 **Q8.** You have a set of integers s, which originally contains all the numbers from 1 to n. Unfortunately, due to some error, one of the numbers in s got duplicated to another number in the set, which results in repetition of one number and loss of another number.\n",
        "\n",
        "You are given an integer array nums representing the data status of this set after the error.\n",
        "\n",
        "Find the number that occurs twice and the number that is missing and return them in the form of an array.\n",
        "\n",
        "**Example 1:**\n",
        "Input: nums = [1,2,2,4]\n",
        "Output: [2,3]"
      ],
      "metadata": {
        "id": "GS2_cTjJVa83"
      }
    },
    {
      "cell_type": "code",
      "source": [
        "'''\n",
        "To find the number that occurs twice and the number that is missing in the given integer array nums, we can use the approach of finding the duplicate \n",
        "and missing elements in an array. First, we initialize a set numSet to keep track of unique elements in nums. Then, we iterate through each element \n",
        "num in nums. For each element, if it is already present in numSet, we have found the duplicate element. Otherwise, we add it to numSet. \n",
        "After iterating through nums, we can determine the missing element by finding the difference between the expected sum of numbers from 1 to n and \n",
        "the sum of elements in nums. The missing element is the difference.\n",
        "\n",
        "Here's the optimized Python code to solve the problem:\n",
        "'''\n",
        "\n",
        "def findErrorNums(nums):\n",
        "    numSet = set()\n",
        "    duplicate = -1\n",
        "    n = len(nums)\n",
        "    expectedSum = n * (n + 1) // 2\n",
        "    actualSum = 0\n",
        "\n",
        "    for num in nums:\n",
        "        if num in numSet:\n",
        "            duplicate = num\n",
        "        numSet.add(num)\n",
        "        actualSum += num\n",
        "\n",
        "    missing = expectedSum - actualSum + duplicate\n",
        "\n",
        "    return [duplicate, missing]\n",
        "\n",
        "# Example usage:\n",
        "nums = [1, 2, 2, 4]\n",
        "result = findErrorNums(nums)\n",
        "print(\"Result:\", result)"
      ],
      "metadata": {
        "colab": {
          "base_uri": "https://localhost:8080/"
        },
        "id": "mSvC-SCaVepE",
        "outputId": "215dd502-58b1-47ef-f512-3bef6acd02a9"
      },
      "execution_count": null,
      "outputs": [
        {
          "output_type": "stream",
          "name": "stdout",
          "text": [
            "Result: [2, 3]\n"
          ]
        }
      ]
    },
    {
      "cell_type": "markdown",
      "source": [
        "**Conclusion:**\n",
        "In this code, we initialize numSet to keep track of unique elements and duplicate to -1 initially. We also calculate the expected sum of numbers from 1 to n using the formula n * (n + 1) // 2.\n",
        "\n",
        "We iterate through nums and for each element, we check if it is already present in numSet. If it is, we have found the duplicate element. Otherwise, we add it to numSet. Additionally, we calculate the actual sum of elements in nums.\n",
        "\n",
        "After iterating through nums, we calculate the missing element by subtracting the actual sum from the expected sum and adding the duplicate element.\n",
        "\n",
        "Finally, we return the result as a list containing the duplicate element and the missing element.\n",
        "\n",
        "The **time complexity** of this approach is **O(n)**, where **n is the size of the array nums**. This is because we perform a single pass through the array. \n",
        "\n",
        "The **space complexity** is **O(n)** since **in the worst case, all elements in nums are unique, and we need to store them in the numSet**."
      ],
      "metadata": {
        "id": "WwBhBbWnhczN"
      }
    },
    {
      "cell_type": "markdown",
      "source": [
        "#Class Tasks\n",
        "###Date: 23 May 2023"
      ],
      "metadata": {
        "id": "87HXxLclin5h"
      }
    },
    {
      "cell_type": "markdown",
      "source": [
        "**Q1:** Given an array of size N, the task is to find the maximum and minimum elements of the array using the minimum number of comparisons. \n",
        "\n",
        "Example: \n",
        "\n",
        "Input: arr[] = {3, 5, 4, 1, 9} \n",
        "\n",
        "Output: Minimum element is: 1; \n",
        "\n",
        "Maximum element is: 9"
      ],
      "metadata": {
        "id": "mEqvxQqWk_pk"
      }
    },
    {
      "cell_type": "code",
      "source": [
        "'''\n",
        "To find the maximum and minimum elements of an array using the minimum number of comparisons, you can use a technique known as \"Tournament Method\" or \"Pairwise Comparison Method.\" The basic idea is to divide the array into pairs and compare the elements within each pair to determine the smaller and larger elements. Then, continue comparing the smaller elements and the larger elements until you find the minimum and maximum values.\n",
        "\n",
        "Here's the step-by-step algorithm:\n",
        "\n",
        "Initialize two variables, min_element and max_element, with the first element of the array.\n",
        "\n",
        "min_element = arr[0]\n",
        "max_element = arr[0]\n",
        "Iterate through the array from index 1 to N-1, considering elements in pairs:\n",
        "\n",
        "Compare each pair of adjacent elements.\n",
        "For each pair, compare the smaller element with min_element and the larger element with max_element.\n",
        "Update min_element and max_element accordingly.\n",
        "'''\n",
        "\n",
        "def find_min_max(arr):\n",
        "    N = len(arr)\n",
        "    if N == 0:\n",
        "        return None\n",
        "\n",
        "    min_element = arr[0]\n",
        "    max_element = arr[0]\n",
        "\n",
        "    for i in range(1, N, 2):\n",
        "        if arr[i] < arr[i+1]:\n",
        "            if arr[i] < min_element:\n",
        "                min_element = arr[i]\n",
        "            if arr[i+1] > max_element:\n",
        "                max_element = arr[i+1]\n",
        "        else:\n",
        "            if arr[i+1] < min_element:\n",
        "                min_element = arr[i+1]\n",
        "            if arr[i] > max_element:\n",
        "                max_element = arr[i]\n",
        "\n",
        "    if N % 2 != 0:\n",
        "        if arr[N-1] < min_element:\n",
        "            min_element = arr[N-1]\n",
        "        elif arr[N-1] > max_element:\n",
        "            max_element = arr[N-1]\n",
        "\n",
        "    return min_element, max_element\n",
        "\n",
        "# Example usage:\n",
        "arr = [3, 5, 4, 1, 9]\n",
        "min_val, max_val = find_min_max(arr)\n",
        "print(\"Minimum element is:\", min_val)\n",
        "print(\"Maximum element is:\", max_val)\n"
      ],
      "metadata": {
        "colab": {
          "base_uri": "https://localhost:8080/"
        },
        "id": "1ciwctN9lE2s",
        "outputId": "4cfb42a1-a8c6-4f16-9c0a-a9c8904053d5"
      },
      "execution_count": null,
      "outputs": [
        {
          "output_type": "stream",
          "name": "stdout",
          "text": [
            "Minimum element is: 1\n",
            "Maximum element is: 9\n"
          ]
        }
      ]
    },
    {
      "cell_type": "markdown",
      "source": [
        "**Conclusion:**\n",
        "By using this approach, we can find the minimum and maximum elements of the array using a minimum number of comparisons, specifically 3*(N//2) comparisons."
      ],
      "metadata": {
        "id": "6YoOWi3tlXoB"
      }
    },
    {
      "cell_type": "markdown",
      "source": [
        "**Q2:** You are given an array of prices, where prices [i] is the price of a given stock on the eighth day. \n",
        "\n",
        "You want to maximize profit by choosing a single day to buy one stock and a distant day in the future to sell it. \n",
        "\n",
        "Return the maximum profit you can achieve from this transaction. If you cannot achieve any profit, return 0.  \n",
        "\n",
        "Example: \n",
        "\n",
        "Input prices = [7,1,5,3,6,4]; \n",
        "\n",
        "Output: 5; \n",
        "\n",
        "Explanation: Buy on day 2 (price = 1) and sell on day 5 (price = 6); ptofit = 6-1 = 5. \n",
        "\n",
        "Note that buying on day 2 and selling on day 1 is not allowed because you must buy before you sell.\n"
      ],
      "metadata": {
        "id": "AfQTjQbXlg57"
      }
    },
    {
      "cell_type": "code",
      "source": [
        "'''\n",
        "To maximize the profit by buying and selling stocks, you can iterate through the array of prices while keeping track of the minimum price seen so far \n",
        "and calculating the maximum profit achievable. Here's an algorithm to solve this problem:\n",
        "\n",
        "Initialize two variables, min_price and max_profit, with the first element of the prices array.\n",
        "\n",
        "min_price = prices[0]\n",
        "max_profit = 0\n",
        "Iterate through the prices array from index 1 to N-1:\n",
        "\n",
        "For each price, calculate the potential profit by subtracting the current price from the minimum price seen so far.\n",
        "If the potential profit is greater than the current max_profit, update max_profit.\n",
        "If the current price is smaller than the min_price, update min_price to the current price.\n",
        "'''\n",
        "\n",
        "def max_profit(prices):\n",
        "    if len(prices) <= 1:\n",
        "        return 0\n",
        "\n",
        "    min_price = prices[0]\n",
        "    max_profit = 0\n",
        "\n",
        "    for i in range(1, len(prices)):\n",
        "        potential_profit = prices[i] - min_price\n",
        "        if potential_profit > max_profit:\n",
        "            max_profit = potential_profit\n",
        "        if prices[i] < min_price:\n",
        "            min_price = prices[i]\n",
        "\n",
        "    return max_profit\n",
        "\n",
        "# Example usage:\n",
        "prices = [7, 1, 5, 3, 6, 4]\n",
        "profit = max_profit(prices)\n",
        "print(\"Maximum profit:\", profit)"
      ],
      "metadata": {
        "colab": {
          "base_uri": "https://localhost:8080/"
        },
        "id": "YABhQC90ltZf",
        "outputId": "1c0105a4-6995-4fc0-fa12-9b3b1bc2e0fb"
      },
      "execution_count": null,
      "outputs": [
        {
          "output_type": "stream",
          "name": "stdout",
          "text": [
            "Maximum profit: 5\n"
          ]
        }
      ]
    },
    {
      "cell_type": "markdown",
      "source": [
        "**Conclusion:**\n",
        "The algorithm has a **time complexity of O(N)**, where N is the length of the prices array, as it iterates through the array only once."
      ],
      "metadata": {
        "id": "MLiDM0JZl-yy"
      }
    },
    {
      "cell_type": "markdown",
      "source": [
        "**Q3:** Given an integer array nums find a subarray that has the largest product and return the product. The test cases are generated so that the answer will fit in a 32 bit integer. \n",
        "\n",
        "Example: \n",
        "\n",
        "Input: num = [2,3,-2,4]\n",
        "\n",
        "Output: 6; \n",
        "\n",
        "Explanation: [2,3] has the largest product 6."
      ],
      "metadata": {
        "id": "R7hbMydOmKs2"
      }
    },
    {
      "cell_type": "code",
      "source": [
        "'''\n",
        "To find the subarray with the largest product in an integer array, you can use a dynamic programming approach. Here's an algorithm to solve this problem:\n",
        "\n",
        "Initialize two variables, max_product and min_product, with the first element of the nums array.\n",
        "\n",
        "max_product = nums[0]\n",
        "min_product = nums[0]\n",
        "Initialize a variable max_global with the value of max_product (since there is only one element in the subarray at this point).\n",
        "\n",
        "Iterate through the nums array from index 1 to N-1:\n",
        "\n",
        "For each number, calculate the potential maximum and minimum products by considering three possibilities:\n",
        "Multiply the current number by the max_product and store it as max_product.\n",
        "Multiply the current number by the min_product and store it as min_product.\n",
        "If the current number is greater than or equal to 0, update max_product with the maximum of the current number and max_product. \n",
        "Otherwise, update min_product with the minimum of the current number and min_product.\n",
        "Update max_global with the maximum of max_global and max_product.\n",
        "'''\n",
        "\n",
        "def max_product_subarray(nums):\n",
        "    if not nums:\n",
        "        return 0\n",
        "\n",
        "    max_product = nums[0]\n",
        "    min_product = nums[0]\n",
        "    max_global = nums[0]\n",
        "\n",
        "    for i in range(1, len(nums)):\n",
        "        temp_max_product = max_product\n",
        "        max_product = max(nums[i], nums[i] * temp_max_product, nums[i] * min_product)\n",
        "        min_product = min(nums[i], nums[i] * temp_max_product, nums[i] * min_product)\n",
        "        max_global = max(max_global, max_product)\n",
        "\n",
        "    return max_global\n",
        "\n",
        "# Example usage:\n",
        "nums = [2, 3, -2, 4]\n",
        "max_prod = max_product_subarray(nums)\n",
        "print(\"Maximum product:\", max_prod)\n"
      ],
      "metadata": {
        "colab": {
          "base_uri": "https://localhost:8080/"
        },
        "id": "s4sfFAydmR09",
        "outputId": "d14556d3-b83a-4847-a95e-477b26472a02"
      },
      "execution_count": null,
      "outputs": [
        {
          "output_type": "stream",
          "name": "stdout",
          "text": [
            "Maximum product: 6\n"
          ]
        }
      ]
    },
    {
      "cell_type": "markdown",
      "source": [
        "**Conclusion:**\n",
        "The algorithm has a **time complexity** of **O(N)**, where N is the length of the nums array, as it iterates through the array only once."
      ],
      "metadata": {
        "id": "lfze1A2-mhhm"
      }
    },
    {
      "cell_type": "markdown",
      "source": [
        "**Q4:** Given an integer array nums, return all the triplets [nums[i], nums[j], nums[k]] such that i != j, i != k and j != k and nums[i] + nums[j] + nums[k] = 0.\n",
        "\n",
        "Notice that the solution set must not contain duplicate triplets.\n",
        "\n",
        "Example:\n",
        "\n",
        "input: nums = [-1, 0, 1, 2, -1, -4]\n",
        "\n",
        "output: [[-1, -1, 2], [-1, 0, 1]]\n",
        "\n",
        "Explanation:\n",
        "\n",
        "nums[0] + nums[1] + nums[2] = (-1) +0 + 1 = 0\n",
        "nums[1] + nums[2] + nums[4] = 0 +1 + (-1) = 0\n",
        "nums[0] + nums[3] + nums[4] = (-1) + 2 + (-1) = 0\n",
        "\n",
        "The distinct triplet are [-1, 0, 1] and [-1, -1, 2]\n",
        "\n",
        "Notice that the order of the output and the order of the triplet does not match."
      ],
      "metadata": {
        "id": "xsnYrgxX27_d"
      }
    },
    {
      "cell_type": "code",
      "source": [
        "'''\n",
        "To find all unique triplets in the given integer array nums that sum up to zero, we can use a two-pointer approach combined with sorting the array.\n",
        "The idea is to fix the first element of the triplet, then use two pointers to find the other two elements such that their sum is the negative of the \n",
        "fixed element. This way, we can ensure that the sum of the triplet is zero.\n",
        "\n",
        "Here's the optimized Python code to solve the problem:\n",
        "'''\n",
        "\n",
        "def threeSum(nums):\n",
        "    nums.sort()  # Sort the array to easily skip duplicates\n",
        "\n",
        "    result = []\n",
        "    n = len(nums)\n",
        "\n",
        "    for i in range(n - 2):\n",
        "        if i > 0 and nums[i] == nums[i - 1]:\n",
        "            # Skip duplicates for the first element of the triplet\n",
        "            continue\n",
        "\n",
        "        left = i + 1\n",
        "        right = n - 1\n",
        "\n",
        "        while left < right:\n",
        "            total = nums[i] + nums[left] + nums[right]\n",
        "\n",
        "            if total < 0:\n",
        "                left += 1\n",
        "            elif total > 0:\n",
        "                right -= 1\n",
        "            else:\n",
        "                result.append([nums[i], nums[left], nums[right]])\n",
        "\n",
        "                # Skip duplicates for the second and third elements of the triplet\n",
        "                while left < right and nums[left] == nums[left + 1]:\n",
        "                    left += 1\n",
        "                while left < right and nums[right] == nums[right - 1]:\n",
        "                    right -= 1\n",
        "\n",
        "                left += 1\n",
        "                right -= 1\n",
        "\n",
        "    return result\n",
        "\n",
        "# Example usage:\n",
        "nums = [-1, 0, 1, 2, -1, -4]\n",
        "result = threeSum(nums)\n",
        "print(\"Result:\", result)\n"
      ],
      "metadata": {
        "colab": {
          "base_uri": "https://localhost:8080/"
        },
        "id": "F56j5h6h8j1p",
        "outputId": "45980c0d-9b27-49e8-870f-3d9b629ef491"
      },
      "execution_count": 16,
      "outputs": [
        {
          "output_type": "stream",
          "name": "stdout",
          "text": [
            "Result: [[-1, -1, 2], [-1, 0, 1]]\n"
          ]
        }
      ]
    },
    {
      "cell_type": "markdown",
      "source": [
        "**Conclusion:**\n",
        "In this code, we first sort the nums array in ascending order. This allows us to easily skip duplicates while iterating through the array.\n",
        "\n",
        "We then iterate through the array using a loop variable i, which represents the fixed element of the triplet. We check for duplicates of the fixed element and skip them to avoid duplicate triplets in the result.\n",
        "\n",
        "Inside the loop, we maintain two pointers, left and right, which represent the second and third elements of the triplet, respectively. We adjust the pointers based on the sum of the current triplet.\n",
        "\n",
        "If the sum is less than zero, we increment the left pointer to increase the sum. If the sum is greater than zero, we decrement the right pointer to decrease the sum. If the sum is zero, we add the triplet to the result and skip duplicates for the second and third elements of the triplet.\n",
        "\n",
        "Finally, we return the result, which contains all the unique triplets that sum up to zero.\n",
        "\n",
        "The **time complexity** of this approach is **O(n^2)**, where **n is the size of the input array nums**. This is because **we have two nested loops, and in the worst case, each element of the array is considered for the fixed element**. \n",
        "\n",
        "The **space complexity** is **O(1)** since we only **use a constant amount of extra space for storing the result**."
      ],
      "metadata": {
        "id": "xJcjw4Gl80Oe"
      }
    },
    {
      "cell_type": "markdown",
      "source": [
        "**Q5:** Given an integer array nums and an integer k, return the kth largest element in the array.\n",
        "\n",
        "Note that it is the kth largest element in the sorted order, not the kth distinct element.\n",
        "\n",
        "Example:\n",
        "\n",
        "Input: nums = [3, 2, 1, 5, 6, 4], K = 2\n",
        "\n",
        "Output: 5"
      ],
      "metadata": {
        "id": "UV5-l0zm9Yxy"
      }
    },
    {
      "cell_type": "code",
      "source": [
        "'''\n",
        "To find the kth largest element in an integer array nums, we can use the concept of a min-heap. We can maintain a min-heap of size k, \n",
        "where the smallest k elements seen so far are stored. As we iterate through the array, we compare each element with the root of the min-heap. \n",
        "If the current element is greater than the root, we remove the root and insert the current element into the min-heap. \n",
        "\n",
        "At the end, the root of the min-heap will be the kth largest element.\n",
        "\n",
        "Here's the Python code to find the kth largest element using a min-heap:\n",
        "'''\n",
        "\n",
        "import heapq\n",
        "\n",
        "def findKthLargest(nums, k):\n",
        "    min_heap = []\n",
        "\n",
        "    # Insert the first k elements into the min-heap\n",
        "    for i in range(k):\n",
        "        heapq.heappush(min_heap, nums[i])\n",
        "\n",
        "    # Compare remaining elements with the root of the min-heap\n",
        "    for i in range(k, len(nums)):\n",
        "        if nums[i] > min_heap[0]:\n",
        "            heapq.heappop(min_heap)\n",
        "            heapq.heappush(min_heap, nums[i])\n",
        "\n",
        "    return min_heap[0]\n",
        "\n",
        "# Example usage:\n",
        "nums = [3, 2, 1, 5, 6, 4]\n",
        "k = 2\n",
        "kth_largest = findKthLargest(nums, k)\n",
        "print(\"Kth Largest Element:\", kth_largest)\n"
      ],
      "metadata": {
        "colab": {
          "base_uri": "https://localhost:8080/"
        },
        "id": "3IbtcdoT_JHL",
        "outputId": "37d678b1-cdcd-4e65-da2c-e603b613d017"
      },
      "execution_count": 17,
      "outputs": [
        {
          "output_type": "stream",
          "name": "stdout",
          "text": [
            "Kth Largest Element: 5\n"
          ]
        }
      ]
    },
    {
      "cell_type": "markdown",
      "source": [
        "**Conclusion:**\n",
        "In this code, we use the heapq module in Python, which provides functions to work with heaps. We create an empty min-heap called min_heap to store the smallest k elements.\n",
        "\n",
        "We initially insert the first k elements of the array into the min-heap. This ensures that the min-heap contains the k largest elements seen so far. We use the heappush function to insert elements into the min-heap.\n",
        "\n",
        "Next, we iterate through the remaining elements of the array starting from index k. For each element, we compare it with the root of the min-heap (which is the smallest element in the min-heap). If the current element is greater than the root, we remove the root using the heappop function and insert the current element into the min-heap using heappush. This way, the min-heap always contains the k largest elements seen so far.\n",
        "\n",
        "Finally, we return the root of the min-heap, which will be the kth largest element in the array.\n",
        "\n",
        "The **time complexity** of this approach is **O(n log k)**, where **n is the size of the input array nums**. **This is because each insertion and removal operation on the min-heap takes O(log k) time, and we perform these operations for each element in the array**. \n",
        "\n",
        "The **space complexity** is **O(k)** to store the k largest elements in the min-heap."
      ],
      "metadata": {
        "id": "0SZg456c_iEQ"
      }
    },
    {
      "cell_type": "markdown",
      "source": [
        "**Q6:** Algorithm: 1. Maintain a hashtag of element. 2. No of elements = n+1. 3. Check if number from 0 to n+1 are present in hashtag or not. If not, return the number. Help me to write a code in Python."
      ],
      "metadata": {
        "id": "sIktqoMUmuvQ"
      }
    },
    {
      "cell_type": "code",
      "source": [
        "'''\n",
        "Here's the code implementation of the algorithm you described in Python:\n",
        "'''\n",
        "\n",
        "def find_missing_number(nums):\n",
        "    # Create a hashtag to store the elements\n",
        "    hashtag = set(nums)\n",
        "\n",
        "    n = len(nums)\n",
        "    # Iterate from 0 to n+1\n",
        "    for i in range(n+1):\n",
        "        # Check if the number is present in the hashtag\n",
        "        if i not in hashtag:\n",
        "            return i\n",
        "\n",
        "    # If no missing number found, return -1 or any suitable value as per your requirement\n",
        "    return -1\n",
        "\n",
        "# Example usage:\n",
        "nums = [0, 1, 3, 4]\n",
        "missing_number = find_missing_number(nums)\n",
        "print(\"Missing number:\", missing_number)"
      ],
      "metadata": {
        "colab": {
          "base_uri": "https://localhost:8080/"
        },
        "id": "9Iw7cXsZm2CB",
        "outputId": "f61b9883-6556-4c38-d262-8342ea242a48"
      },
      "execution_count": null,
      "outputs": [
        {
          "output_type": "stream",
          "name": "stdout",
          "text": [
            "Missing number: 2\n"
          ]
        }
      ]
    },
    {
      "cell_type": "markdown",
      "source": [
        "**Conclusion:**\n",
        "In this code, the find_missing_number function takes an array nums as input. It creates a hashtag using a set to store the elements for efficient lookup.\n",
        "\n",
        "Then, it iterates from 0 to n+1 (where n is the length of the array) and checks if each number is present in the hashtag. If a number is not found, it means that number is missing, so it is returned as the missing number.\n",
        "\n",
        "If no missing number is found, the function returns -1 or any suitable value as per your requirement.\n",
        "\n",
        "Note that this algorithm assumes that the input array is expected to have exactly one missing number between 0 and n+1."
      ],
      "metadata": {
        "id": "vRCP8VSjnB2O"
      }
    },
    {
      "cell_type": "markdown",
      "source": [
        "**Q7:** Given an array of intervals where interval[i]=[start, end]. Merge all overlapping intervals and return an array of the non overlapping intervals that covel all the i tervals in the input. Example: input: intervals = [[1,3], [2,6], [8,10],[15,18]]. Help me to write optimize  Python code."
      ],
      "metadata": {
        "id": "fXGWQzCknMGU"
      }
    },
    {
      "cell_type": "code",
      "source": [
        "'''\n",
        "To merge overlapping intervals in an array and return a set of non-overlapping intervals, you can follow these steps:\n",
        "\n",
        "Sort the intervals based on the start time of each interval. This step ensures that overlapping intervals will be adjacent to each other after sorting.\n",
        "\n",
        "Initialize an empty result list to store the merged intervals.\n",
        "\n",
        "Iterate through the sorted intervals:\n",
        "\n",
        "If the result list is empty or the current interval does not overlap with the last interval in the result list, append the current interval to the result list.\n",
        "If there is an overlap, update the end time of the last interval in the result list with the maximum of the current interval's end time and the last interval's end time.\n",
        "Return the result list containing the merged intervals.\n",
        "\n",
        "Here's the optimized code implementation in Python:\n",
        "\n",
        "'''\n",
        "def merge_intervals(intervals):\n",
        "    if not intervals:\n",
        "        return []\n",
        "\n",
        "    # Sort the intervals based on the start time\n",
        "    intervals.sort(key=lambda x: x[0])\n",
        "\n",
        "    merged = [intervals[0]]  # Initialize the result list with the first interval\n",
        "\n",
        "    for interval in intervals[1:]:\n",
        "        if interval[0] <= merged[-1][1]:  # Overlapping intervals\n",
        "            merged[-1][1] = max(merged[-1][1], interval[1])  # Update the end time of the last interval\n",
        "        else:\n",
        "            merged.append(interval)  # Non-overlapping interval, add it to the result list\n",
        "\n",
        "    return merged\n",
        "\n",
        "# Example usage:\n",
        "intervals = [[1, 3], [2, 6], [8, 10], [15, 18]]\n",
        "merged_intervals = merge_intervals(intervals)\n",
        "print(\"Merged intervals:\", merged_intervals)"
      ],
      "metadata": {
        "colab": {
          "base_uri": "https://localhost:8080/"
        },
        "id": "4YGL2RRXnSqs",
        "outputId": "ed2a82d7-3271-40d5-af5f-d4d28fbd9ada"
      },
      "execution_count": null,
      "outputs": [
        {
          "output_type": "stream",
          "name": "stdout",
          "text": [
            "Merged intervals: [[1, 6], [8, 10], [15, 18]]\n"
          ]
        }
      ]
    },
    {
      "cell_type": "markdown",
      "source": [
        "**Conclusion:**\n",
        "The code first sorts the intervals based on the start time using a lambda function as the key for the sort() method. Then, it initializes the result list with the first interval.\n",
        "\n",
        "It then iterates through the sorted intervals, checking for overlapping intervals. If an overlap is found, it updates the end time of the last interval in the result list with the maximum of the current interval's end time and the last interval's end time. If no overlap is found, the current interval is added to the result list.\n",
        "\n",
        "Finally, the merged intervals are returned as the output.\n",
        "\n",
        "The **time complexity** of this algorithm is **O(n log n)**, where **n is the number of intervals**, due to the sorting step. The merging of intervals takes linear time, resulting in an overall time complexity of O(n log n)."
      ],
      "metadata": {
        "id": "Cv8HiEYIniL7"
      }
    },
    {
      "cell_type": "markdown",
      "source": [],
      "metadata": {
        "id": "suL4295nnwvg"
      }
    }
  ]
}