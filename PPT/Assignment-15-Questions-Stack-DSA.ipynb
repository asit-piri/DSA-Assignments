{
  "nbformat": 4,
  "nbformat_minor": 0,
  "metadata": {
    "colab": {
      "provenance": []
    },
    "kernelspec": {
      "name": "python3",
      "display_name": "Python 3"
    },
    "language_info": {
      "name": "python"
    }
  },
  "cells": [
    {
      "cell_type": "markdown",
      "source": [
        "# Assignment 15 Questions - | DSA\n",
        "## Name: Asit Piri"
      ],
      "metadata": {
        "id": "US-VUXDNhCzy"
      }
    },
    {
      "cell_type": "markdown",
      "source": [
        "# Question 1\n",
        "\n",
        "💡 Given an array **arr[ ]** of size **N** having elements, the task is to find the next greater element for each element of the array in order of their appearance in the array.Next greater element of an element in the array is the nearest element on the right which is greater than the current element.If there does not exist next greater of current element, then next greater element for current element is -1. For example, next greater of the last element is always -1.\n",
        "\n",
        "**Example 1:**\n",
        "\n",
        "Input: N = 4, arr[] = [1 3 2 4]\n",
        "\n",
        "Output: 3 4 4 -1\n",
        "\n",
        "Explanation:\n",
        "In the array, the next larger element\n",
        "to 1 is 3 , 3 is 4 , 2 is 4 and for 4 ?\n",
        "since it doesn't exist, it is -1.\n",
        "\n",
        "**Example 2:**\n",
        "\n",
        "Input:\n",
        "N = 5, arr[] [6 8 0 1 3]\n",
        "\n",
        "Output: 8 -1 1 3 -1\n",
        "\n",
        "Explanation:\n",
        "In the array, the next larger element to\n",
        "6 is 8, for 8 there is no larger elements\n",
        "hence it is -1, for 0 it is 1 , for 1 it\n",
        "is 3 and then for 3 there is no larger\n",
        "element on right and hence -1."
      ],
      "metadata": {
        "id": "KFNUnshahUHa"
      }
    },
    {
      "cell_type": "markdown",
      "source": [
        "## Solution\n",
        "\n",
        "The code uses a stack to keep track of the indices of elements for which we haven't found the next greater element yet. We iterate through the array and for each element, we compare it with the elements at the top of the stack. If we find a larger element, we update the result array accordingly. Finally, any elements remaining in the stack will have no greater element on the right, so we set their values to -1 in the result array.\n",
        "\n",
        "Here's the Python code to find the next greater element for each element in the array:"
      ],
      "metadata": {
        "id": "rIKlNpJcddJt"
      }
    },
    {
      "cell_type": "code",
      "execution_count": null,
      "metadata": {
        "id": "zOyDrsp8gIjk"
      },
      "outputs": [],
      "source": [
        "def nextGreaterElement(arr):\n",
        "    n = len(arr)\n",
        "    result = [-1] * n  # Initialize result array with -1\n",
        "    stack = []  # Stack to store indices of elements\n",
        "\n",
        "    for i in range(n):\n",
        "        # Pop elements from stack while they are smaller than the current element\n",
        "        while stack and arr[i] > arr[stack[-1]]:\n",
        "            idx = stack.pop()\n",
        "            result[idx] = arr[i]\n",
        "\n",
        "        stack.append(i)  # Push the current element's index to the stack\n",
        "\n",
        "    return result"
      ]
    },
    {
      "cell_type": "markdown",
      "source": [
        "### Test Cases"
      ],
      "metadata": {
        "id": "vnpe1Y0odfhx"
      }
    },
    {
      "cell_type": "code",
      "source": [
        "# Test Case 1\n",
        "\n",
        "arr = [1, 3, 2, 4]\n",
        "result = nextGreaterElement(arr)\n",
        "print(result)"
      ],
      "metadata": {
        "id": "X0W-Qj8udm7v",
        "colab": {
          "base_uri": "https://localhost:8080/"
        },
        "outputId": "b5ae3141-eb71-42e7-ad28-16af96e62d86"
      },
      "execution_count": null,
      "outputs": [
        {
          "output_type": "stream",
          "name": "stdout",
          "text": [
            "[3, 4, 4, -1]\n"
          ]
        }
      ]
    },
    {
      "cell_type": "code",
      "source": [
        "# Test Case 2\n",
        "\n",
        "arr = [6, 8, 0, 1, 3]\n",
        "result = nextGreaterElement(arr)\n",
        "print(result)"
      ],
      "metadata": {
        "id": "OYyCnfrtdm_B",
        "colab": {
          "base_uri": "https://localhost:8080/"
        },
        "outputId": "73eb4faf-c92a-4ad1-c951-25c74eca411b"
      },
      "execution_count": null,
      "outputs": [
        {
          "output_type": "stream",
          "name": "stdout",
          "text": [
            "[8, -1, 1, 3, -1]\n"
          ]
        }
      ]
    },
    {
      "cell_type": "markdown",
      "source": [
        "### Conclusion\n",
        "\n",
        "**Time Complexity: O(n)** - We iterate through the array once.\n",
        "\n",
        "**Space Complexity: O(n)** - The stack can store at most n elements in the worst case."
      ],
      "metadata": {
        "id": "6E0Qr4lCdhqN"
      }
    },
    {
      "cell_type": "markdown",
      "source": [
        "# Question 2\n",
        "\n",
        "💡 Given an array **a** of integers of length **n**, find the nearest smaller number for every element such that the smaller element is on left side.If no small element present on the left print -1.\n",
        "\n",
        "**Example 1:**\n",
        "\n",
        "Input: n = 3 a = {1, 6, 2}\n",
        "\n",
        "Output: -1 1 1\n",
        "\n",
        "Explaination: There is no number at the\n",
        "left of 1. Smaller number than 6 and 2 is 1.\n",
        "\n",
        "**Example 2:**\n",
        "\n",
        "Input: n = 6, a = {1, 5, 0, 3, 4, 5}\n",
        "\n",
        "Output: -1 1 -1 0 3 4\n",
        "\n",
        "Explaination: Upto 3 it is easy to see\n",
        "the smaller numbers. But for 4 the smaller\n",
        "numbers are 1, 0 and 3. But among them 3\n",
        "is closest. Similary for 5 it is 4."
      ],
      "metadata": {
        "id": "ENwSXfY4iOxC"
      }
    },
    {
      "cell_type": "markdown",
      "source": [
        "## Solution\n",
        "\n",
        "Used a stack to keep track of the smaller elements encountered so far. We iterate through the array and for each element, we compare it with the elements at the top of the stack. If we find a smaller element, we update the result array accordingly. Finally, if there is no smaller element on the left, we set the value in the result array to -1.\n",
        "\n",
        "Here's the Python code to find the nearest smaller number on the left for each element in the array:"
      ],
      "metadata": {
        "id": "Nll_hIOTdod5"
      }
    },
    {
      "cell_type": "code",
      "source": [
        "def nearestSmallerNumber(n, arr):\n",
        "    result = [-1] * n  # Initialize result array with -1\n",
        "    stack = []  # Stack to store elements\n",
        "\n",
        "    for i in range(n):\n",
        "        # Pop elements from stack while they are greater than the current element\n",
        "        while stack and stack[-1] >= arr[i]:\n",
        "            stack.pop()\n",
        "\n",
        "        if stack:  # If there is a smaller element on the left\n",
        "            result[i] = stack[-1]\n",
        "\n",
        "        stack.append(arr[i])  # Push the current element to the stack\n",
        "\n",
        "    return result"
      ],
      "metadata": {
        "id": "cpWPdYHbinJc"
      },
      "execution_count": null,
      "outputs": []
    },
    {
      "cell_type": "markdown",
      "source": [
        "### Test Cases"
      ],
      "metadata": {
        "id": "ChE8ebTXdq7k"
      }
    },
    {
      "cell_type": "code",
      "source": [
        "# Test Case 1\n",
        "\n",
        "n = 3\n",
        "arr = [1, 6, 2]\n",
        "result = nearestSmallerNumber(n, arr)\n",
        "print(result)"
      ],
      "metadata": {
        "id": "bX1k1BekdtPj",
        "colab": {
          "base_uri": "https://localhost:8080/"
        },
        "outputId": "40e260a1-fa72-41b5-8145-46ed27458c45"
      },
      "execution_count": null,
      "outputs": [
        {
          "output_type": "stream",
          "name": "stdout",
          "text": [
            "[-1, 1, 1]\n"
          ]
        }
      ]
    },
    {
      "cell_type": "code",
      "source": [
        "# Test Case 2\n",
        "n = 6\n",
        "arr = [1, 5, 0, 3, 4, 5]\n",
        "result = nearestSmallerNumber(n, arr)\n",
        "print(result)"
      ],
      "metadata": {
        "id": "0pTbo1eBdtJw",
        "colab": {
          "base_uri": "https://localhost:8080/"
        },
        "outputId": "465af14f-7889-4fc7-e6c2-a8715bf2296f"
      },
      "execution_count": null,
      "outputs": [
        {
          "output_type": "stream",
          "name": "stdout",
          "text": [
            "[-1, 1, -1, 0, 3, 4]\n"
          ]
        }
      ]
    },
    {
      "cell_type": "markdown",
      "source": [
        "### Conclusion\n",
        "\n",
        "**Time Complexity: O(n)** - We iterate through the array once.\n",
        "\n",
        "**Space Complexity: O(n)** - The stack can store at most n elements in the worst case."
      ],
      "metadata": {
        "id": "2QrSAp0rdtgT"
      }
    },
    {
      "cell_type": "markdown",
      "source": [
        "# Question 3\n",
        "\n",
        "💡 Implement a Stack using two queues **q1** and **q2**.\n",
        "\n",
        "**Example 1:**\n",
        "\n",
        "Input:\n",
        "push(2)\n",
        "push(3)\n",
        "pop()\n",
        "push(4)\n",
        "pop()\n",
        "\n",
        "Output:3 4\n",
        "\n",
        "Explanation:\n",
        "push(2) the stack will be {2}\n",
        "push(3) the stack will be {2 3}\n",
        "pop()   poped element will be 3 the\n",
        "        stack will be {2}\n",
        "push(4) the stack will be {2 4}\n",
        "pop()   poped element will be 4\n",
        "\n",
        "**Example 2:**\n",
        "\n",
        "Input:\n",
        "push(2)\n",
        "pop()\n",
        "pop()\n",
        "push(3)\n",
        "\n",
        "Output:2 -1"
      ],
      "metadata": {
        "id": "Vr0TitTbipVA"
      }
    },
    {
      "cell_type": "markdown",
      "source": [
        "## Solution\n",
        "\n",
        "Here's the Python code to implement a stack using two queues:"
      ],
      "metadata": {
        "id": "GM-1sYrLdxOL"
      }
    },
    {
      "cell_type": "code",
      "source": [
        "from queue import Queue\n",
        "\n",
        "class Stack:\n",
        "    def __init__(self):\n",
        "        self.q1 = Queue()\n",
        "        self.q2 = Queue()\n",
        "\n",
        "    def push(self, x):\n",
        "        # Move all elements from q1 to q2\n",
        "        while not self.q1.empty():\n",
        "            self.q2.put(self.q1.get())\n",
        "\n",
        "        # Push the new element to q1\n",
        "        self.q1.put(x)\n",
        "\n",
        "        # Move all elements back to q1 from q2\n",
        "        while not self.q2.empty():\n",
        "            self.q1.put(self.q2.get())\n",
        "\n",
        "    def pop(self):\n",
        "        # If q1 is empty, the stack is empty\n",
        "        if self.q1.empty():\n",
        "            return -1\n",
        "\n",
        "        # Return the top element from q1\n",
        "        return self.q1.get()"
      ],
      "metadata": {
        "id": "z3SQVoZki7DW"
      },
      "execution_count": null,
      "outputs": []
    },
    {
      "cell_type": "markdown",
      "source": [
        "### Test Cases"
      ],
      "metadata": {
        "id": "-Cv8lsShdzyy"
      }
    },
    {
      "cell_type": "code",
      "source": [
        "# Test Cae 1\n",
        "\n",
        "stack = Stack()\n",
        "stack.push(2)\n",
        "stack.push(3)\n",
        "print(stack.pop())  # Output: 3\n",
        "stack.push(4)\n",
        "print(stack.pop())  # Output: 4"
      ],
      "metadata": {
        "id": "XQT5mP5Jd112",
        "colab": {
          "base_uri": "https://localhost:8080/"
        },
        "outputId": "2d8df80b-b495-4b95-dc35-3cbe78a29e02"
      },
      "execution_count": null,
      "outputs": [
        {
          "output_type": "stream",
          "name": "stdout",
          "text": [
            "3\n",
            "4\n"
          ]
        }
      ]
    },
    {
      "cell_type": "code",
      "source": [
        "# Test Cae 2\n",
        "\n",
        "stack = Stack()\n",
        "stack.push(2)\n",
        "print(stack.pop())  # Output: 2\n",
        "print(stack.pop())  # Output: -1\n",
        "stack.push(3)\n",
        "print(stack.pop())  # Output: 3"
      ],
      "metadata": {
        "id": "RdAIOz-Cd2AM",
        "colab": {
          "base_uri": "https://localhost:8080/"
        },
        "outputId": "e5dcdce0-2858-4c9c-946b-2555f40d8969"
      },
      "execution_count": null,
      "outputs": [
        {
          "output_type": "stream",
          "name": "stdout",
          "text": [
            "2\n",
            "-1\n",
            "3\n"
          ]
        }
      ]
    },
    {
      "cell_type": "markdown",
      "source": [
        "### Conclusion\n",
        "\n",
        "**Time Complexity:**\n",
        "\n",
        "**Push operation: O(n)** - In the worst case, all elements need to be moved between queues.\n",
        "\n",
        "**Pop operation: O(1)** - Popping an element from a queue takes constant time.\n",
        "\n",
        "**Space Complexity:**\n",
        "\n",
        "**O(n)** - We use two queues to store the elements, which can have at most n elements in the worst case."
      ],
      "metadata": {
        "id": "2GA8LAuDd2W7"
      }
    },
    {
      "cell_type": "markdown",
      "source": [
        "# Question 4\n",
        "\n",
        "💡 You are given a stack **St**. You have to reverse the stack using recursion.\n",
        "\n",
        "**Example 1:**\n",
        "\n",
        "Input:St = {3,2,1,7,6}\n",
        "Output:{6,7,1,2,3}\n",
        "\n",
        "**Example 2:**\n",
        "\n",
        "Input:St = {4,3,9,6}\n",
        "Output:{6,9,3,4}"
      ],
      "metadata": {
        "id": "4AX8quygixk_"
      }
    },
    {
      "cell_type": "markdown",
      "source": [
        "## Solution\n",
        "\n",
        "Here's the Python code to reverse a stack using recursion:"
      ],
      "metadata": {
        "id": "OKv35ZK1d46G"
      }
    },
    {
      "cell_type": "code",
      "source": [
        "class Stack:\n",
        "    def __init__(self):\n",
        "        self.items = []\n",
        "\n",
        "    def is_empty(self):\n",
        "        return len(self.items) == 0\n",
        "\n",
        "    def push(self, item):\n",
        "        self.items.append(item)\n",
        "\n",
        "    def pop(self):\n",
        "        if self.is_empty():\n",
        "            return None\n",
        "        return self.items.pop()\n",
        "\n",
        "    def reverse_stack(self):\n",
        "        if not self.is_empty():\n",
        "            # Remove the top element\n",
        "            item = self.pop()\n",
        "\n",
        "            # Reverse the remaining stack\n",
        "            self.reverse_stack()\n",
        "\n",
        "            # Insert the item at the bottom of the stack\n",
        "            self.insert_at_bottom(item)\n",
        "\n",
        "    def insert_at_bottom(self, item):\n",
        "        if self.is_empty():\n",
        "            self.push(item)\n",
        "        else:\n",
        "            # Remove all items from the stack and insert them back after the new item\n",
        "            temp = self.pop()\n",
        "            self.insert_at_bottom(item)\n",
        "            self.push(temp)\n",
        "\n",
        "    def print_stack(self):\n",
        "        for item in self.items[::-1]:\n",
        "            print(item, end=\" \")\n",
        "        print()"
      ],
      "metadata": {
        "id": "abGaR9d6i77P"
      },
      "execution_count": null,
      "outputs": []
    },
    {
      "cell_type": "markdown",
      "source": [
        "### Test Cases"
      ],
      "metadata": {
        "id": "5AqNW7g0d7ZT"
      }
    },
    {
      "cell_type": "code",
      "source": [
        "# Test Case 1\n",
        "\n",
        "stack = Stack()\n",
        "stack.push(3)\n",
        "stack.push(2)\n",
        "stack.push(1)\n",
        "stack.push(7)\n",
        "stack.push(6)\n",
        "\n",
        "print(\"Original Stack:\")\n",
        "stack.print_stack()\n",
        "\n",
        "print(\"Reversed Stack:\")\n",
        "stack.reverse_stack()\n",
        "stack.print_stack()"
      ],
      "metadata": {
        "id": "WYaAMpe8d-Dr",
        "colab": {
          "base_uri": "https://localhost:8080/"
        },
        "outputId": "df15da1a-b65d-4320-c4e5-a4f097984166"
      },
      "execution_count": null,
      "outputs": [
        {
          "output_type": "stream",
          "name": "stdout",
          "text": [
            "Original Stack:\n",
            "6 7 1 2 3 \n",
            "Reversed Stack:\n",
            "3 2 1 7 6 \n"
          ]
        }
      ]
    },
    {
      "cell_type": "code",
      "source": [
        "# Test case 2\n",
        "\n",
        "stack = Stack()\n",
        "stack.push(4)\n",
        "stack.push(3)\n",
        "stack.push(9)\n",
        "stack.push(6)\n",
        "\n",
        "print(\"Original Stack:\")\n",
        "stack.print_stack()\n",
        "\n",
        "print(\"Reversed Stack:\")\n",
        "stack.reverse_stack()\n",
        "stack.print_stack()"
      ],
      "metadata": {
        "id": "Ar0ic_c8d-H1",
        "colab": {
          "base_uri": "https://localhost:8080/"
        },
        "outputId": "ca9c8b20-6a15-46c2-ba92-9e1b176c1a6c"
      },
      "execution_count": null,
      "outputs": [
        {
          "output_type": "stream",
          "name": "stdout",
          "text": [
            "Original Stack:\n",
            "6 9 3 4 \n",
            "Reversed Stack:\n",
            "4 3 9 6 \n"
          ]
        }
      ]
    },
    {
      "cell_type": "markdown",
      "source": [
        "### Conclusion\n",
        "\n",
        "**Time Complexity:** The time complexity of reversing the stack using recursion is **O(n^2)** because for each element in the stack, we need to perform n recursive calls to insert it at the bottom.\n",
        "Space Complexity:\n",
        "\n",
        "The **space complexity is O(n)** because the recursion stack can have at most n function calls in the worst case, where n is the number of elements in the stack."
      ],
      "metadata": {
        "id": "6kDy3NYWd-XF"
      }
    },
    {
      "cell_type": "markdown",
      "source": [
        "# Question 5\n",
        "\n",
        "💡 You are given a string **S**, the task is to reverse the string using stack.\n",
        "\n",
        "**Example 1:**\n",
        "\n",
        "Input: S=\"GeeksforGeeks\"\n",
        "Output: skeeGrofskeeG"
      ],
      "metadata": {
        "id": "IC7N3xsIizmQ"
      }
    },
    {
      "cell_type": "markdown",
      "source": [
        "## Solution\n",
        "\n",
        "Here's the Python code to reverse a string using a stack:"
      ],
      "metadata": {
        "id": "VpGAn3YweBuA"
      }
    },
    {
      "cell_type": "code",
      "source": [
        "class Stack:\n",
        "    def __init__(self):\n",
        "        self.items = []\n",
        "\n",
        "    def is_empty(self):\n",
        "        return len(self.items) == 0\n",
        "\n",
        "    def push(self, item):\n",
        "        self.items.append(item)\n",
        "\n",
        "    def pop(self):\n",
        "        if self.is_empty():\n",
        "            return None\n",
        "        return self.items.pop()\n",
        "\n",
        "    def reverse_string(self, string):\n",
        "        for char in string:\n",
        "            self.push(char)\n",
        "\n",
        "        reversed_string = \"\"\n",
        "        while not self.is_empty():\n",
        "            reversed_string += self.pop()\n",
        "\n",
        "        return reversed_string"
      ],
      "metadata": {
        "id": "QuUHhpmhi9Ct"
      },
      "execution_count": null,
      "outputs": []
    },
    {
      "cell_type": "markdown",
      "source": [
        "### Test Cases"
      ],
      "metadata": {
        "id": "xioe7gxveEmU"
      }
    },
    {
      "cell_type": "code",
      "source": [
        "# Test Case 1\n",
        "\n",
        "stack = Stack()\n",
        "string = \"GeeksforGeeks\"\n",
        "\n",
        "reversed_string = stack.reverse_string(string)\n",
        "print(\"Reversed String:\", reversed_string)"
      ],
      "metadata": {
        "id": "-meqM1FTeHNo",
        "colab": {
          "base_uri": "https://localhost:8080/"
        },
        "outputId": "8793b812-2518-4442-dc38-dc5af5e46b1f"
      },
      "execution_count": null,
      "outputs": [
        {
          "output_type": "stream",
          "name": "stdout",
          "text": [
            "Reversed String: skeeGrofskeeG\n"
          ]
        }
      ]
    },
    {
      "cell_type": "markdown",
      "source": [
        "### Conclusion\n",
        "\n",
        "The **time complexity of reversing the string using a stack is O(n)**, where n is the length of the string. This is because we iterate through each character in the string once to push them onto the stack, and then pop them from the stack to form the reversed string.\n",
        "\n",
        "The **space complexity is O(n)** because we use a stack to store the characters of the string. In the worst case, the stack will contain all the characters of the string, resulting in a space complexity proportional to the length of the string."
      ],
      "metadata": {
        "id": "9zId1ql8eHpb"
      }
    },
    {
      "cell_type": "markdown",
      "source": [
        "# Question 6\n",
        "\n",
        "💡 Given string **S** representing a postfix expression, the task is to evaluate the expression and find the final value. Operators will only include the basic arithmetic operators like ***, /, + and -**.\n",
        "\n",
        "**Example 1:**\n",
        "\n",
        "Input: S = \"231*+9-\"\n",
        "Output: -4\n",
        "Explanation:\n",
        "After solving the given expression,\n",
        "we have -4 as result.\n",
        "\n",
        "**Example 2:**\n",
        "\n",
        "Input: S = \"123+*8-\"\n",
        "Output: -3\n",
        "Explanation:\n",
        "After solving the given postfix\n",
        "expression, we have -3 as result."
      ],
      "metadata": {
        "id": "DTFWlz2ci1VH"
      }
    },
    {
      "cell_type": "markdown",
      "source": [
        "## Solution\n",
        "\n",
        "Here's the Python code to evaluate a postfix expression:"
      ],
      "metadata": {
        "id": "S7u9yjS0eKW_"
      }
    },
    {
      "cell_type": "code",
      "source": [
        "class Stack:\n",
        "    def __init__(self):\n",
        "        self.items = []\n",
        "\n",
        "    def is_empty(self):\n",
        "        return len(self.items) == 0\n",
        "\n",
        "    def push(self, item):\n",
        "        self.items.append(item)\n",
        "\n",
        "    def pop(self):\n",
        "        if self.is_empty():\n",
        "            return None\n",
        "        return self.items.pop()\n",
        "\n",
        "def evaluate_postfix(expression):\n",
        "    stack = Stack()\n",
        "\n",
        "    for char in expression:\n",
        "        if char.isdigit():\n",
        "            stack.push(int(char))\n",
        "        else:\n",
        "            operand2 = stack.pop()\n",
        "            operand1 = stack.pop()\n",
        "            result = perform_operation(operand1, operand2, char)\n",
        "            stack.push(result)\n",
        "\n",
        "    return stack.pop()\n",
        "\n",
        "def perform_operation(operand1, operand2, operator):\n",
        "    if operator == '+':\n",
        "        return operand1 + operand2\n",
        "    elif operator == '-':\n",
        "        return operand1 - operand2\n",
        "    elif operator == '*':\n",
        "        return operand1 * operand2\n",
        "    elif operator == '/':\n",
        "        return operand1 / operand2"
      ],
      "metadata": {
        "id": "K9ZCgKoPi-cx"
      },
      "execution_count": null,
      "outputs": []
    },
    {
      "cell_type": "markdown",
      "source": [
        "### Test Cases"
      ],
      "metadata": {
        "id": "Hj66pUR4eNQ9"
      }
    },
    {
      "cell_type": "code",
      "source": [
        "# Test Case 1\n",
        "\n",
        "expression = \"231*+9-\"\n",
        "result = evaluate_postfix(expression)\n",
        "print(\"Result:\", result)\n"
      ],
      "metadata": {
        "id": "FxWfnMdXeO7c",
        "colab": {
          "base_uri": "https://localhost:8080/"
        },
        "outputId": "38caf0d2-f690-432d-d2d9-01f2a47f160a"
      },
      "execution_count": null,
      "outputs": [
        {
          "output_type": "stream",
          "name": "stdout",
          "text": [
            "Result: -4\n"
          ]
        }
      ]
    },
    {
      "cell_type": "code",
      "source": [
        "# Test Case 2\n",
        "\n",
        "expression = \"123+*8-\"\n",
        "result = evaluate_postfix(expression)\n",
        "print(\"Result:\", result)"
      ],
      "metadata": {
        "id": "tT74f-iTeO_l",
        "colab": {
          "base_uri": "https://localhost:8080/"
        },
        "outputId": "54d9bffe-425d-4868-873a-f24ab3ace5a8"
      },
      "execution_count": null,
      "outputs": [
        {
          "output_type": "stream",
          "name": "stdout",
          "text": [
            "Result: -3\n"
          ]
        }
      ]
    },
    {
      "cell_type": "markdown",
      "source": [
        "### Conclusion\n",
        "\n",
        "The **time complexity of evaluating a postfix expression is O(n)**, where n is the length of the expression. This is because we iterate through each character in the expression once.\n",
        "\n",
        "The **space complexity is O(n)**, where n is the length of the expression. This is because we use a stack to store the intermediate operands during the evaluation. The size of the stack will depend on the number of operands in the expression. In the worst case, the stack may contain all the operands of the expression, resulting in a space complexity proportional to the length of the expression."
      ],
      "metadata": {
        "id": "sNcFHORZePUP"
      }
    },
    {
      "cell_type": "markdown",
      "source": [
        "# Question 7\n",
        "\n",
        "💡 Design a stack that supports push, pop, top, and retrieving the minimum element in constant time.\n",
        "\n",
        "Implement the `MinStack` class:\n",
        "\n",
        "- `MinStack()` initializes the stack object.\n",
        "- `void push(int val)` pushes the element `val` onto the stack.\n",
        "- `void pop()` removes the element on the top of the stack.\n",
        "- `int top()` gets the top element of the stack.\n",
        "- `int getMin()` retrieves the minimum element in the stack.\n",
        "\n",
        "You must implement a solution with `O(1)` time complexity for each function.\n",
        "\n",
        "**Example 1:**\n",
        "\n",
        "Input\n",
        "[\"MinStack\",\"push\",\"push\",\"push\",\"getMin\",\"pop\",\"top\",\"getMin\"]\n",
        "[[],[-2],[0],[-3],[],[],[],[]]\n",
        "\n",
        "Output\n",
        "[null,null,null,null,-3,null,0,-2]\n",
        "\n",
        "Explanation\n",
        "MinStack minStack = new MinStack();\n",
        "minStack.push(-2);\n",
        "minStack.push(0);\n",
        "minStack.push(-3);\n",
        "minStack.getMin(); // return -3\n",
        "minStack.pop();\n",
        "minStack.top();    // return 0\n",
        "minStack.getMin(); // return -2"
      ],
      "metadata": {
        "id": "REK6eFETi2th"
      }
    },
    {
      "cell_type": "markdown",
      "source": [
        "## Solution\n",
        "\n",
        "Here's the Python code to implement the MinStack class that supports push, pop, top, and retrieving the minimum element in constant time:"
      ],
      "metadata": {
        "id": "061elRt6eSCy"
      }
    },
    {
      "cell_type": "code",
      "source": [
        "class MinStack:\n",
        "    def __init__(self):\n",
        "        self.stack = []\n",
        "        self.min_stack = []\n",
        "\n",
        "    def push(self, val):\n",
        "        self.stack.append(val)\n",
        "        if not self.min_stack or val <= self.min_stack[-1]:\n",
        "            self.min_stack.append(val)\n",
        "\n",
        "    def pop(self):\n",
        "        if self.stack:\n",
        "            val = self.stack.pop()\n",
        "            if val == self.min_stack[-1]:\n",
        "                self.min_stack.pop()\n",
        "\n",
        "    def top(self):\n",
        "        if self.stack:\n",
        "            return self.stack[-1]\n",
        "        return None\n",
        "\n",
        "    def getMin(self):\n",
        "        if self.min_stack:\n",
        "            return self.min_stack[-1]\n",
        "        return None"
      ],
      "metadata": {
        "id": "z3bLzCz1i_mV"
      },
      "execution_count": null,
      "outputs": []
    },
    {
      "cell_type": "markdown",
      "source": [
        "### Test Cases"
      ],
      "metadata": {
        "id": "oHUa6rubeUUJ"
      }
    },
    {
      "cell_type": "code",
      "source": [
        "# Test Case 1\n",
        "\n",
        "minStack = MinStack()\n",
        "minStack.push(-2)\n",
        "minStack.push(0)\n",
        "minStack.push(-3)\n",
        "print(\"Minimum element:\", minStack.getMin())  # Output: -3\n",
        "minStack.pop()\n",
        "print(\"Top element:\", minStack.top())  # Output: 0\n",
        "print(\"Minimum element:\", minStack.getMin())  # Output: -2"
      ],
      "metadata": {
        "id": "sF8jKzw9eX0p",
        "colab": {
          "base_uri": "https://localhost:8080/"
        },
        "outputId": "bef231a9-5a6a-4f80-ac53-6e115afdf8d6"
      },
      "execution_count": null,
      "outputs": [
        {
          "output_type": "stream",
          "name": "stdout",
          "text": [
            "Minimum element: -3\n",
            "Top element: 0\n",
            "Minimum element: -2\n"
          ]
        }
      ]
    },
    {
      "cell_type": "markdown",
      "source": [
        "### Conclusion\n",
        "\n",
        "The **time complexity for all operations, including push, pop, top, and getMin, is O(1)**. This is because each operation only involves a constant number of operations, regardless of the size of the stack.\n",
        "\n",
        "The **space complexity is O(n)**, where n is the number of elements pushed onto the stack. In the worst case, if all elements are distinct and are pushed onto the stack, both the stack and min_stack will have a size of n, resulting in O(n) space complexity."
      ],
      "metadata": {
        "id": "VT2TdjVzeYFk"
      }
    },
    {
      "cell_type": "markdown",
      "source": [
        "# Question 8\n",
        "\n",
        "💡 Given `n` non-negative integers representing an elevation map where the width of each bar is `1`, compute how much water it can trap after raining.\n",
        "\n",
        "**Example 1:**\n",
        "\n",
        "![image.png](data:image/png;base64,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)\n",
        "\n",
        "Input: height = [0,1,0,2,1,0,1,3,2,1,2,1]\n",
        "Output: 6\n",
        "Explanation: The above elevation map (black section) is represented by array [0,1,0,2,1,0,1,3,2,1,2,1]. In this case, 6 units of rain water (blue section) are being trapped.\n",
        "\n",
        "**Example 2:**\n",
        "\n",
        "Input: height = [4,2,0,3,2,5]\n",
        "Output: 9"
      ],
      "metadata": {
        "id": "B8_UhTKLi3-V"
      }
    },
    {
      "cell_type": "markdown",
      "source": [
        "## Solution\n",
        "\n",
        "To solve this problem, we can use the two-pointer approach. We'll maintain two pointers, one starting from the left side (left) and the other starting from the right side (right). We'll also maintain two variables to keep track of the maximum height encountered from the left side (max_left) and the maximum height encountered from the right side (max_right).\n",
        "\n",
        "1. Initialize left pointer to 0 and right pointer to len(height) - 1.\n",
        "\n",
        "2. Initialize max_left to 0 and max_right to 0.\n",
        "\n",
        "3. Initialize water to 0 to keep track of the total water trapped.\n",
        "\n",
        "4. While left pointer is less than or equal to right pointer, do the following:\n",
        "\n",
        "    - If height[left] is less than or equal to height[right]:\n",
        "\n",
        "        - If height[left] is greater than max_left, update max_left to height[left].\n",
        "\n",
        "        - Otherwise, calculate the water trapped at this position as max_left - height[left] and add it to water.\n",
        "\n",
        "        - Increment left pointer.\n",
        "\n",
        "    - Otherwise, if height[right] is greater than max_right:\n",
        "\n",
        "      - Update max_right to height[right].\n",
        "\n",
        "      - Increment right pointer.\n",
        "\n",
        "    - Otherwise, calculate the water trapped at this position as max_right - height[right] and add it to water.\n",
        "\n",
        "      - Decrement right pointer.\n",
        "\n",
        "      - Return the total water trapped.\n",
        "\n",
        "Here's the Python code implementing the above approach:"
      ],
      "metadata": {
        "id": "cuyufX8lea2G"
      }
    },
    {
      "cell_type": "code",
      "source": [
        "def trap(height):\n",
        "    left = 0\n",
        "    right = len(height) - 1\n",
        "    max_left = 0\n",
        "    max_right = 0\n",
        "    water = 0\n",
        "\n",
        "    while left <= right:\n",
        "        if height[left] <= height[right]:\n",
        "            if height[left] > max_left:\n",
        "                max_left = height[left]\n",
        "            else:\n",
        "                water += max_left - height[left]\n",
        "            left += 1\n",
        "        else:\n",
        "            if height[right] > max_right:\n",
        "                max_right = height[right]\n",
        "            else:\n",
        "                water += max_right - height[right]\n",
        "            right -= 1\n",
        "\n",
        "    return water"
      ],
      "metadata": {
        "id": "JaVWh-OKjAgg"
      },
      "execution_count": null,
      "outputs": []
    },
    {
      "cell_type": "markdown",
      "source": [
        "### Test Cases"
      ],
      "metadata": {
        "id": "yG3_YRVyeebc"
      }
    },
    {
      "cell_type": "code",
      "source": [
        "# Test Case 1\n",
        "\n",
        "height = [0, 1, 0, 2, 1, 0, 1, 3, 2, 1, 2, 1]\n",
        "print(trap(height))  # Output: 6"
      ],
      "metadata": {
        "id": "_b9uGaSDehFH",
        "colab": {
          "base_uri": "https://localhost:8080/"
        },
        "outputId": "78672335-23f3-4cd2-a58a-674871312a55"
      },
      "execution_count": null,
      "outputs": [
        {
          "output_type": "stream",
          "name": "stdout",
          "text": [
            "6\n"
          ]
        }
      ]
    },
    {
      "cell_type": "code",
      "source": [
        "# Test Case 2\n",
        "\n",
        "height = [4, 2, 0, 3, 2, 5]\n",
        "print(trap(height))  # Output: 9"
      ],
      "metadata": {
        "id": "6Fs1qsCrehLL",
        "colab": {
          "base_uri": "https://localhost:8080/"
        },
        "outputId": "6f89b6ca-8649-46a4-b1b1-944fde3fcb00"
      },
      "execution_count": null,
      "outputs": [
        {
          "output_type": "stream",
          "name": "stdout",
          "text": [
            "9\n"
          ]
        }
      ]
    },
    {
      "cell_type": "markdown",
      "source": [
        "### Conclusion\n",
        "\n",
        "**Time Complexity is O(n)**, where n is the length of the height list. We iterate through the list once.\n",
        "\n",
        "**Space Complexity is O(1)**. We only use a constant amount of extra space to store the variables left, right, max_left, max_right, and water."
      ],
      "metadata": {
        "id": "P9Mn-bypehWk"
      }
    }
  ]
}