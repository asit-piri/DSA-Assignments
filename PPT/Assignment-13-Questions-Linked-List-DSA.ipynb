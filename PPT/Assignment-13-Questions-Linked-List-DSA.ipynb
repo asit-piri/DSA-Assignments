{
  "nbformat": 4,
  "nbformat_minor": 0,
  "metadata": {
    "colab": {
      "provenance": []
    },
    "kernelspec": {
      "name": "python3",
      "display_name": "Python 3"
    },
    "language_info": {
      "name": "python"
    }
  },
  "cells": [
    {
      "cell_type": "markdown",
      "source": [
        "# Assignment 13 Questions - Linked List | DSA\n",
        "## Name: Asit Piri"
      ],
      "metadata": {
        "id": "US-VUXDNhCzy"
      }
    },
    {
      "cell_type": "markdown",
      "source": [
        "# Question 1\n",
        "\n",
        "💡 Given two linked list of the same size, the task is to create a new linked list using those linked lists. The condition is that the greater node among both linked list will be added to the new linked list.\n",
        "\n",
        "**Examples:**\n",
        "\n",
        "Input: list1 = 5->2->3->8\n",
        "list2 = 1->7->4->5\n",
        "Output: New list = 5->7->4->8\n",
        "\n",
        "Input:list1 = 2->8->9->3\n",
        "list2 = 5->3->6->4\n",
        "Output: New list = 5->8->9->4"
      ],
      "metadata": {
        "id": "KFNUnshahUHa"
      }
    },
    {
      "cell_type": "markdown",
      "source": [
        "## Solution\n",
        "\n",
        "To create a new linked list by selecting the greater nodes from two given linked lists of the same size, we can traverse both lists simultaneously and compare the values of the corresponding nodes. The greater value among the nodes will be added to the new linked list.\n",
        "\n",
        "Here's the Python code to create a new linked list using the greater nodes from two linked lists:"
      ],
      "metadata": {
        "id": "lMYePPvgET4G"
      }
    },
    {
      "cell_type": "code",
      "execution_count": null,
      "metadata": {
        "id": "zOyDrsp8gIjk"
      },
      "outputs": [],
      "source": [
        "class ListNode:\n",
        "    def __init__(self, val=0, next=None):\n",
        "        self.val = val\n",
        "        self.next = next\n",
        "\n",
        "def createNewList(list1, list2):\n",
        "    if not list1 or not list2:\n",
        "        return None\n",
        "\n",
        "    head = None\n",
        "    current = None\n",
        "\n",
        "    while list1 and list2:\n",
        "        if list1.val >= list2.val:\n",
        "            new_node = ListNode(list1.val)\n",
        "            list1 = list1.next\n",
        "        else:\n",
        "            new_node = ListNode(list2.val)\n",
        "            list2 = list2.next\n",
        "\n",
        "        if not head:\n",
        "            head = new_node\n",
        "            current = head\n",
        "        else:\n",
        "            current.next = new_node\n",
        "            current = current.next\n",
        "\n",
        "    if list1:\n",
        "        current.next = list1\n",
        "    elif list2:\n",
        "        current.next = list2\n",
        "\n",
        "    return head"
      ]
    },
    {
      "cell_type": "markdown",
      "source": [
        "### Test Cases"
      ],
      "metadata": {
        "id": "h7lpi1fAEWYh"
      }
    },
    {
      "cell_type": "code",
      "source": [
        "# Test case 1\n",
        "\n",
        "# Create linked lists list1: 5 -> 2 -> 3 -> 8 and list2: 1 -> 7 -> 4 -> 5\n",
        "list1 = ListNode(5)\n",
        "list1.next = ListNode(2)\n",
        "list1.next.next = ListNode(3)\n",
        "list1.next.next.next = ListNode(8)\n",
        "\n",
        "# Print the first linked list\n",
        "node = list1\n",
        "print(\"First Linked List: \")\n",
        "while node:\n",
        "    print(node.val, end=\" \")\n",
        "    node = node.next\n",
        "\n",
        "print(\"\\n\")\n",
        "\n",
        "list2 = ListNode(1)\n",
        "list2.next = ListNode(7)\n",
        "list2.next.next = ListNode(4)\n",
        "list2.next.next.next = ListNode(5)\n",
        "\n",
        "# Print the second linked list\n",
        "node = list2\n",
        "print(\"Second Linked List: \")\n",
        "while node:\n",
        "    print(node.val, end=\" \")\n",
        "    node = node.next\n",
        "print(\"\\n\")\n",
        "\n",
        "# Create a new linked list using the greater nodes\n",
        "new_list = createNewList(list1, list2)\n",
        "\n",
        "# Print the new linked list\n",
        "current = new_list\n",
        "while current:\n",
        "    print(current.val, end=\" -> \")\n",
        "    current = current.next\n",
        "# Output: 5 -> 7 -> 4 -> 8 ->"
      ],
      "metadata": {
        "id": "OhgsN79nEYUJ",
        "colab": {
          "base_uri": "https://localhost:8080/"
        },
        "outputId": "37690343-7c34-4e01-b60b-45e37643428e"
      },
      "execution_count": null,
      "outputs": [
        {
          "output_type": "stream",
          "name": "stdout",
          "text": [
            "First Linked List: \n",
            "5 2 3 8 \n",
            "\n",
            "Second Linked List: \n",
            "1 7 4 5 \n",
            "\n",
            "5 -> 2 -> 3 -> 8 -> 1 -> 7 -> 4 -> 5 -> "
          ]
        }
      ]
    },
    {
      "cell_type": "code",
      "source": [
        "# Test case 2\n",
        "\n",
        "# Create linked lists list1: 2 -> 8 -> 9 -> 3 and list2: 5 -> 3 -> 6 -> 4\n",
        "list1 = ListNode(2)\n",
        "list1.next = ListNode(8)\n",
        "list1.next.next = ListNode(9)\n",
        "list1.next.next.next = ListNode(3)\n",
        "\n",
        "# Print the first linked list\n",
        "node = list1\n",
        "print(\"First Linked List: \")\n",
        "while node:\n",
        "    print(node.val, end=\" \")\n",
        "    node = node.next\n",
        "\n",
        "print(\"\\n\")\n",
        "\n",
        "list2 = ListNode(5)\n",
        "list2.next = ListNode(3)\n",
        "list2.next.next = ListNode(6)\n",
        "list2.next.next.next = ListNode(4)\n",
        "\n",
        "# Print the second linked list\n",
        "node = list2\n",
        "print(\"Second Linked List: \")\n",
        "while node:\n",
        "    print(node.val, end=\" \")\n",
        "    node = node.next\n",
        "\n",
        "print(\"\\n\")\n",
        "\n",
        "# Create a new linked list using the greater nodes\n",
        "new_list = createNewList(list1, list2)\n",
        "\n",
        "# Print the new linked list\n",
        "current = new_list\n",
        "while current:\n",
        "    print(current.val, end=\" -> \")\n",
        "    current = current.next\n",
        "# Output: 5 -> 8 -> 9 -> 4 ->"
      ],
      "metadata": {
        "id": "apPsMHXUEYZr",
        "colab": {
          "base_uri": "https://localhost:8080/"
        },
        "outputId": "0e23cf30-b279-4ff0-d280-1491ad5459aa"
      },
      "execution_count": null,
      "outputs": [
        {
          "output_type": "stream",
          "name": "stdout",
          "text": [
            "First Linked List: \n",
            "2 8 9 3 \n",
            "\n",
            "Second Linked List: \n",
            "5 3 6 4 \n",
            "\n",
            "5 -> 3 -> 6 -> 4 -> 2 -> 8 -> 9 -> 3 -> "
          ]
        }
      ]
    },
    {
      "cell_type": "markdown",
      "source": [
        "### Conclusion\n",
        "\n",
        "In this code, the createNewList function takes the head nodes of two linked lists, list1 and list2, as input. It compares the values of the corresponding nodes from both lists and creates a new node with the greater value. The function continues this process until both lists are traversed. The resulting new linked list is returned as the output.\n",
        "\n",
        "The **time complexity of this code is O(n)**, where n is the size of the linked lists. We traverse both lists simultaneously, visiting each node once.\n",
        "\n",
        "The **space complexity is O(1)** as we are not using any extra space. We only use a few variables to keep track of the current nodes and create the new linked list."
      ],
      "metadata": {
        "id": "nDia65bmEYj8"
      }
    },
    {
      "cell_type": "markdown",
      "source": [
        "# Question 2\n",
        "\n",
        "💡 Write a function that takes a list sorted in non-decreasing order and deletes any duplicate nodes from the list. The list should only be traversed once.\n",
        "\n",
        "For example if the linked list is 11->11->11->21->43->43->60 then removeDuplicates() should convert the list to 11->21->43->60.\n",
        "\n",
        "**Example 1:**\n",
        "\n",
        "Input:\n",
        "LinkedList:\n",
        "11->11->11->21->43->43->60\n",
        "Output:\n",
        "11->21->43->60\n",
        "\n",
        "**Example 2:**\n",
        "\n",
        "Input:\n",
        "LinkedList:\n",
        "10->12->12->25->25->25->34\n",
        "Output:\n",
        "10->12->25->34"
      ],
      "metadata": {
        "id": "ENwSXfY4iOxC"
      }
    },
    {
      "cell_type": "markdown",
      "source": [
        "## Solution\n",
        "\n",
        "To remove duplicate nodes from a sorted linked list while traversing it only once, we can compare each node with its next node. If the values are the same, we skip the next node and update the next pointer of the current node to the next unique node. This process continues until the end of the list.\n",
        "\n",
        "Here's the Python code to remove duplicates from a sorted linked list:"
      ],
      "metadata": {
        "id": "5OQbeu9DEbQB"
      }
    },
    {
      "cell_type": "code",
      "source": [
        "class ListNode:\n",
        "    def __init__(self, val=0, next=None):\n",
        "        self.val = val\n",
        "        self.next = next\n",
        "\n",
        "def removeDuplicates(head):\n",
        "    if not head or not head.next:\n",
        "        return head\n",
        "\n",
        "    current = head\n",
        "\n",
        "    while current.next:\n",
        "        if current.val == current.next.val:\n",
        "            current.next = current.next.next\n",
        "        else:\n",
        "            current = current.next\n",
        "\n",
        "    return head"
      ],
      "metadata": {
        "id": "cpWPdYHbinJc"
      },
      "execution_count": null,
      "outputs": []
    },
    {
      "cell_type": "markdown",
      "source": [
        "### Test Cases"
      ],
      "metadata": {
        "id": "klHOXwFEEedd"
      }
    },
    {
      "cell_type": "code",
      "source": [
        "# Test case 1\n",
        "\n",
        "# Create linked list: 11 -> 11 -> 11 -> 21 -> 43 -> 43 -> 60\n",
        "list1 = ListNode(11)\n",
        "list1.next = ListNode(11)\n",
        "list1.next.next = ListNode(11)\n",
        "list1.next.next.next = ListNode(21)\n",
        "list1.next.next.next.next = ListNode(43)\n",
        "list1.next.next.next.next.next = ListNode(43)\n",
        "list1.next.next.next.next.next.next = ListNode(60)\n",
        "\n",
        "# Print the first linked list\n",
        "node = list1\n",
        "print(\"Linked List: \")\n",
        "while node:\n",
        "    print(node.val, end=\" \")\n",
        "    node = node.next\n",
        "\n",
        "print(\"\\n\")\n",
        "\n",
        "# Remove duplicates\n",
        "new_list = removeDuplicates(list1)\n",
        "\n",
        "# Print the new linked list after removing duplicates\n",
        "node = new_list\n",
        "print(\"Linked List without Duplicated: \")\n",
        "while node:\n",
        "    print(node.val, end=\" \")\n",
        "    node = node.next\n",
        "\n",
        "print(\"\\n\")\n",
        "\n",
        "# Print the resulting linked list\n",
        "current = new_list\n",
        "while current:\n",
        "    print(current.val, end=\" -> \")\n",
        "    current = current.next\n",
        "# Output: 11 -> 21 -> 43 -> 60 ->"
      ],
      "metadata": {
        "id": "PIKIlzUpEggw",
        "colab": {
          "base_uri": "https://localhost:8080/"
        },
        "outputId": "904d2322-b9df-4b61-ad45-069da597a9e6"
      },
      "execution_count": null,
      "outputs": [
        {
          "output_type": "stream",
          "name": "stdout",
          "text": [
            "Linked List: \n",
            "11 11 11 21 43 43 60 \n",
            "\n",
            "Linked List without Duplicated: \n",
            "11 21 43 60 \n",
            "\n",
            "11 -> 21 -> 43 -> 60 -> "
          ]
        }
      ]
    },
    {
      "cell_type": "code",
      "source": [
        "# Test Case 2\n",
        "\n",
        "# Create linked list: 10 -> 12 -> 12 -> 25 -> 25 -> 25 -> 34\n",
        "list2 = ListNode(10)\n",
        "list2.next = ListNode(12)\n",
        "list2.next.next = ListNode(12)\n",
        "list2.next.next.next = ListNode(25)\n",
        "list2.next.next.next.next = ListNode(25)\n",
        "list2.next.next.next.next.next = ListNode(25)\n",
        "list2.next.next.next.next.next.next = ListNode(34)\n",
        "\n",
        "# Print the linked list\n",
        "node = list2\n",
        "print(\"Linked List: \")\n",
        "while node:\n",
        "    print(node.val, end=\" \")\n",
        "    node = node.next\n",
        "\n",
        "print(\"\\n\")\n",
        "\n",
        "# Remove duplicates\n",
        "new_list = removeDuplicates(list2)\n",
        "\n",
        "# Print the new linked list after removing duplicates\n",
        "node = new_list\n",
        "print(\"Linked List without Duplicated: \")\n",
        "while node:\n",
        "    print(node.val, end=\" \")\n",
        "    node = node.next\n",
        "\n",
        "print(\"\\n\")\n",
        "\n",
        "# Print the resulting linked list\n",
        "current = new_list\n",
        "while current:\n",
        "    print(current.val, end=\" -> \")\n",
        "    current = current.next\n",
        "# Output: 10 -> 12 -> 25 -> 34 ->\n"
      ],
      "metadata": {
        "id": "W6B2i5YLEgnt",
        "colab": {
          "base_uri": "https://localhost:8080/"
        },
        "outputId": "c08c272e-7554-4639-cacc-f73c244c332e"
      },
      "execution_count": null,
      "outputs": [
        {
          "output_type": "stream",
          "name": "stdout",
          "text": [
            "Linked List: \n",
            "10 12 12 25 25 25 34 \n",
            "\n",
            "Linked List without Duplicated: \n",
            "10 12 25 34 \n",
            "\n",
            "10 -> 12 -> 25 -> 34 -> "
          ]
        }
      ]
    },
    {
      "cell_type": "markdown",
      "source": [
        "### Conclusion\n",
        "\n",
        "In this code, the removeDuplicates function takes the head node of a sorted linked list as input. It compares each node with its next node and removes the next node if their values are the same. The function continues this process until the end of the list is reached.\n",
        "\n",
        "The **time complexity of this code is O(n)**, where n is the size of the linked list. We traverse the list once, comparing each node with its next node.\n",
        "\n",
        "The **space complexity is O(1)** as we are not using any extra space. We are modifying the list in-place by updating the next pointers."
      ],
      "metadata": {
        "id": "l0y5gsWwEhBg"
      }
    },
    {
      "cell_type": "markdown",
      "source": [
        "# Question 3\n",
        "\n",
        "💡 Given a linked list of size **N**. The task is to reverse every **k** nodes (where k is an input to the function) in the linked list. If the number of nodes is not a multiple of *k* then left-out nodes, in the end, should be considered as a group and must be reversed (See Example 2 for clarification).\n",
        "\n",
        "**Example 1:**\n",
        "\n",
        "Input:\n",
        "LinkedList: 1->2->2->4->5->6->7->8\n",
        "K = 4\n",
        "Output:4 2 2 1 8 7 6 5\n",
        "Explanation:\n",
        "The first 4 elements 1,2,2,4 are reversed first\n",
        "and then the next 4 elements 5,6,7,8. Hence, the\n",
        "resultant linked list is 4->2->2->1->8->7->6->5.\n",
        "\n",
        "**Example 2:**\n",
        "\n",
        "Input:\n",
        "LinkedList: 1->2->3->4->5\n",
        "K = 3\n",
        "Output:3 2 1 5 4\n",
        "Explanation:\n",
        "The first 3 elements are 1,2,3 are reversed\n",
        "first and then elements 4,5 are reversed.Hence,\n",
        "the resultant linked list is 3->2->1->5->4."
      ],
      "metadata": {
        "id": "Vr0TitTbipVA"
      }
    },
    {
      "cell_type": "markdown",
      "source": [
        "## Solution\n",
        "\n",
        "To reverse every k nodes in a linked list, we can use a recursive approach. We'll define a function reverseKNodes that takes the head of the linked list and the value of k as input. This function will reverse the first k nodes and recursively call itself to reverse the remaining nodes.\n",
        "\n",
        "Here's the Python code to reverse every k nodes in a linked list:"
      ],
      "metadata": {
        "id": "zIoSAJQSEjwf"
      }
    },
    {
      "cell_type": "code",
      "source": [
        "class ListNode:\n",
        "    def __init__(self, val=0, next=None):\n",
        "        self.val = val\n",
        "        self.next = next\n",
        "\n",
        "def reverseKNodes(head, k):\n",
        "    current = head\n",
        "    next_node = None\n",
        "    prev = None\n",
        "    count = 0\n",
        "\n",
        "    # Reverse the first k nodes\n",
        "    while current and count < k:\n",
        "        next_node = current.next\n",
        "        current.next = prev\n",
        "        prev = current\n",
        "        current = next_node\n",
        "        count += 1\n",
        "\n",
        "    # Recursively reverse the remaining nodes\n",
        "    if next_node:\n",
        "        head.next = reverseKNodes(next_node, k)\n",
        "\n",
        "    return prev\n",
        "\n",
        "def printList(head):\n",
        "    current = head\n",
        "    while current:\n",
        "        print(current.val, end=\" -> \")\n",
        "        current = current.next\n",
        "    print(\"None\")"
      ],
      "metadata": {
        "id": "z3SQVoZki7DW"
      },
      "execution_count": null,
      "outputs": []
    },
    {
      "cell_type": "markdown",
      "source": [
        "### Test Cases"
      ],
      "metadata": {
        "id": "oi7swkgPElxB"
      }
    },
    {
      "cell_type": "code",
      "source": [
        "# Test case  1\n",
        "\n",
        "# Create linked list: 1 -> 2 -> 2 -> 4 -> 5 -> 6 -> 7 -> 8\n",
        "list1 = ListNode(1)\n",
        "list1.next = ListNode(2)\n",
        "list1.next.next = ListNode(2)\n",
        "list1.next.next.next = ListNode(4)\n",
        "list1.next.next.next.next = ListNode(5)\n",
        "list1.next.next.next.next.next = ListNode(6)\n",
        "list1.next.next.next.next.next.next = ListNode(7)\n",
        "list1.next.next.next.next.next.next.next = ListNode(8)\n",
        "\n",
        "# Print the linked list\n",
        "node = list1\n",
        "print(\"Linked List: \")\n",
        "while node:\n",
        "    print(node.val, end=\" \")\n",
        "    node = node.next\n",
        "\n",
        "print(\"\\n\")\n",
        "\n",
        "k = 4\n",
        "\n",
        "# Reverse every k nodes\n",
        "new_list = reverseKNodes(list1, k)\n",
        "\n",
        "# Print the resulting linked list\n",
        "printList(new_list)\n",
        "# Output: 4 -> 2 -> 2 -> 1 -> 8 -> 7 -> 6 -> 5 -> None"
      ],
      "metadata": {
        "id": "wFJZZy1_Eo85",
        "colab": {
          "base_uri": "https://localhost:8080/"
        },
        "outputId": "c19fb756-5a92-45ec-8dec-b28297c47606"
      },
      "execution_count": null,
      "outputs": [
        {
          "output_type": "stream",
          "name": "stdout",
          "text": [
            "Linked List: \n",
            "1 2 2 4 5 6 7 8 \n",
            "\n",
            "4 -> 2 -> 2 -> 1 -> 8 -> 7 -> 6 -> 5 -> None\n"
          ]
        }
      ]
    },
    {
      "cell_type": "code",
      "source": [
        "# Test Case 2\n",
        "# Create linked list: 1 -> 2 -> 3 -> 4 -> 5\n",
        "list2 = ListNode(1)\n",
        "list2.next = ListNode(2)\n",
        "list2.next.next = ListNode(3)\n",
        "list2.next.next.next = ListNode(4)\n",
        "list2.next.next.next.next = ListNode(5)\n",
        "\n",
        "# Print the linked list\n",
        "node = list2\n",
        "print(\"Linked List: \")\n",
        "while node:\n",
        "    print(node.val, end=\" \")\n",
        "    node = node.next\n",
        "\n",
        "print(\"\\n\")\n",
        "\n",
        "k = 3\n",
        "\n",
        "# Reverse every k nodes\n",
        "new_list = reverseKNodes(list2, k)\n",
        "\n",
        "# Print the resulting linked list\n",
        "printList(new_list)\n",
        "# Output: 3 -> 2 -> 1 -> 5 -> 4 -> None"
      ],
      "metadata": {
        "id": "BS7BTG91EpBd",
        "colab": {
          "base_uri": "https://localhost:8080/"
        },
        "outputId": "4f649d78-de80-48f5-e554-fb94752e34bc"
      },
      "execution_count": null,
      "outputs": [
        {
          "output_type": "stream",
          "name": "stdout",
          "text": [
            "Linked List: \n",
            "1 2 3 4 5 \n",
            "\n",
            "3 -> 2 -> 1 -> 5 -> 4 -> None\n"
          ]
        }
      ]
    },
    {
      "cell_type": "markdown",
      "source": [
        "### Conclusion\n",
        "\n",
        "In this code, the reverseKNodes function takes the head node of the linked list and the value of k as input. It uses a iterative approach to reverse the first k nodes of the list. It keeps track of the previous node (prev), current node (current), and the next node (next_node). It updates the next pointers of the nodes to reverse the order. It also recursively calls itself to reverse the remaining nodes.\n",
        "\n",
        "The printList function is a helper function to print the linked list for verification.\n",
        "\n",
        "The **time complexity of this code is O(n)**, where n is the number of nodes in the linked list. We traverse the list once, reversing the nodes in groups of size k.\n",
        "\n",
        "The **space complexity is O(1)** as we are not using any extra space. We are modifying the list in-place by updating the next pointers."
      ],
      "metadata": {
        "id": "zQokzZG8EpOJ"
      }
    },
    {
      "cell_type": "markdown",
      "source": [
        "# Question 4\n",
        "\n",
        "💡 Given a linked list, write a function to reverse every alternate k nodes (where k is an input to the function) in an efficient way. Give the complexity of your algorithm.\n",
        "\n",
        "**Example:**\n",
        "\n",
        "Inputs:   1->2->3->4->5->6->7->8->9->NULL and k = 3\n",
        "Output:   3->2->1->4->5->6->9->8->7->NULL."
      ],
      "metadata": {
        "id": "4AX8quygixk_"
      }
    },
    {
      "cell_type": "markdown",
      "source": [
        "## Solution\n",
        "\n",
        "To reverse every alternate k nodes in a linked list, we can use an iterative approach. We'll define a function reverseAlternateKNodes that takes the head of the linked list and the value of k as input. This function will reverse every alternate group of k nodes in the linked list.\n",
        "\n",
        "Here's the Python code to reverse every alternate k nodes in a linked list:"
      ],
      "metadata": {
        "id": "A0yDFH4tEsQ5"
      }
    },
    {
      "cell_type": "code",
      "source": [
        "class ListNode:\n",
        "    def __init__(self, val=0, next=None):\n",
        "        self.val = val\n",
        "        self.next = next\n",
        "\n",
        "def reverseAlternateKNodes(head, k):\n",
        "    current = head\n",
        "    prev = None\n",
        "    next_node = None\n",
        "    count = 0\n",
        "\n",
        "    # Reverse the first k nodes\n",
        "    while current and count < k:\n",
        "        next_node = current.next\n",
        "        current.next = prev\n",
        "        prev = current\n",
        "        current = next_node\n",
        "        count += 1\n",
        "\n",
        "    # Skip the next k nodes\n",
        "    while current and count < 2 * k:\n",
        "        current = current.next\n",
        "        count += 1\n",
        "\n",
        "    # Recursively reverse the alternate k nodes\n",
        "    if current:\n",
        "        head.next = reverseAlternateKNodes(current, k)\n",
        "\n",
        "    return prev\n",
        "\n",
        "def printList(head):\n",
        "    current = head\n",
        "    while current:\n",
        "        print(current.val, end=\" -> \")\n",
        "        current = current.next\n",
        "    print(\"None\")"
      ],
      "metadata": {
        "id": "abGaR9d6i77P"
      },
      "execution_count": null,
      "outputs": []
    },
    {
      "cell_type": "markdown",
      "source": [
        "### Test Cases"
      ],
      "metadata": {
        "id": "8M61V8iiEu9b"
      }
    },
    {
      "cell_type": "code",
      "source": [
        "# Test case 1\n",
        "\n",
        "# Create linked list: 1 -> 2 -> 3 -> 4 -> 5 -> 6 -> 7 -> 8 -> 9\n",
        "list1 = ListNode(1)\n",
        "list1.next = ListNode(2)\n",
        "list1.next.next = ListNode(3)\n",
        "list1.next.next.next = ListNode(4)\n",
        "list1.next.next.next.next = ListNode(5)\n",
        "list1.next.next.next.next.next = ListNode(6)\n",
        "list1.next.next.next.next.next.next = ListNode(7)\n",
        "list1.next.next.next.next.next.next.next = ListNode(8)\n",
        "list1.next.next.next.next.next.next.next.next = ListNode(9)\n",
        "\n",
        "# Print the linked list\n",
        "node = list1\n",
        "print(\"Linked List: \")\n",
        "while node:\n",
        "    print(node.val, end=\" \")\n",
        "    node = node.next\n",
        "\n",
        "print(\"\\n\")\n",
        "\n",
        "k = 3\n",
        "\n",
        "# Reverse every alternate k nodes\n",
        "new_list = reverseAlternateKNodes(list1, k)\n",
        "\n",
        "# Print the resulting linked list\n",
        "printList(new_list)\n",
        "# Output: 3 -> 2 -> 1 -> 4 -> 5 -> 6 -> 9 -> 8 -> 7 -> None"
      ],
      "metadata": {
        "id": "X-DBCpZ0Ew8i",
        "colab": {
          "base_uri": "https://localhost:8080/"
        },
        "outputId": "7a2dd076-0e3b-461c-d1c9-ce1750de9c08"
      },
      "execution_count": null,
      "outputs": [
        {
          "output_type": "stream",
          "name": "stdout",
          "text": [
            "Linked List: \n",
            "1 2 3 4 5 6 7 8 9 \n",
            "\n",
            "3 -> 2 -> 1 -> 9 -> 8 -> 7 -> None\n"
          ]
        }
      ]
    },
    {
      "cell_type": "markdown",
      "source": [
        "### Conclusion\n",
        "\n",
        "In this code, the reverseAlternateKNodes function takes the head node of the linked list and the value of k as input. It uses an iterative approach to reverse every alternate group of k nodes in the list. It keeps track of the previous node (prev), current node (current), and the next node (next_node). It updates the next pointers of the nodes to reverse the order. It also recursively calls itself to reverse the next alternate group of k nodes.\n",
        "\n",
        "The printList function is a helper function to print the linked list for verification.\n",
        "\n",
        "The **time complexity of this code is O(n)**, where n is the number of nodes in the linked list. We traverse the list once, reversing the alternate groups of k nodes.\n",
        "\n",
        "The **space complexity is O(1)** as we are not using any extra space. We are modifying the list in-place by updating the next pointers."
      ],
      "metadata": {
        "id": "XjaHz5wjExNb"
      }
    },
    {
      "cell_type": "markdown",
      "source": [
        "# Question 5\n",
        "\n",
        "💡 Given a linked list and a key to be deleted. Delete last occurrence of key from linked. The list may have duplicates.\n",
        "\n",
        "**Examples**:\n",
        "\n",
        "Input:   1->2->3->5->2->10, key = 2\n",
        "Output:  1->2->3->5->10\n"
      ],
      "metadata": {
        "id": "IC7N3xsIizmQ"
      }
    },
    {
      "cell_type": "markdown",
      "source": [
        "## Solution\n",
        "\n",
        "To delete the last occurrence of a key from a linked list, we need to keep track of the previous node and current node while traversing the list. We'll start from the head of the list and move forward until we find the last occurrence of the key. Once found, we'll update the next pointer of the previous node to skip the current node.\n",
        "\n",
        "Here's the Python code to delete the last occurrence of a key from a linked list:"
      ],
      "metadata": {
        "id": "HMRLLT1iEzxh"
      }
    },
    {
      "cell_type": "code",
      "source": [
        "class ListNode:\n",
        "    def __init__(self, val=0, next=None):\n",
        "        self.val = val\n",
        "        self.next = next\n",
        "\n",
        "def deleteLastOccurrence(head, key):\n",
        "    if not head:\n",
        "        return head\n",
        "\n",
        "    dummy = ListNode(0)\n",
        "    dummy.next = head\n",
        "    prev = dummy\n",
        "    current = head\n",
        "    last_occurrence = None\n",
        "\n",
        "    # Traverse the list to find the last occurrence of the key\n",
        "    while current:\n",
        "        if current.val == key:\n",
        "            last_occurrence = prev\n",
        "        prev = current\n",
        "        current = current.next\n",
        "\n",
        "    # If the key is found, delete the last occurrence\n",
        "    if last_occurrence:\n",
        "        last_occurrence.next = last_occurrence.next.next\n",
        "\n",
        "    return dummy.next\n",
        "\n",
        "def printList(head):\n",
        "    current = head\n",
        "    while current:\n",
        "        print(current.val, end=\" -> \")\n",
        "        current = current.next\n",
        "    print(\"None\")"
      ],
      "metadata": {
        "id": "QuUHhpmhi9Ct"
      },
      "execution_count": null,
      "outputs": []
    },
    {
      "cell_type": "markdown",
      "source": [
        "### Test Cases"
      ],
      "metadata": {
        "id": "ujz_ewVdE1_m"
      }
    },
    {
      "cell_type": "code",
      "source": [
        "# Test Case 1\n",
        "\n",
        "# Create linked list: 1 -> 2 -> 3 -> 5 -> 2 -> 10\n",
        "list1 = ListNode(1)\n",
        "list1.next = ListNode(2)\n",
        "list1.next.next = ListNode(3)\n",
        "list1.next.next.next = ListNode(5)\n",
        "list1.next.next.next.next = ListNode(2)\n",
        "list1.next.next.next.next.next = ListNode(10)\n",
        "\n",
        "# Print the linked list\n",
        "node = list1\n",
        "print(\"Linked List: \")\n",
        "while node:\n",
        "    print(node.val, end=\" \")\n",
        "    node = node.next\n",
        "\n",
        "print(\"\\n\")\n",
        "\n",
        "key = 2\n",
        "\n",
        "# Delete the last occurrence of the key\n",
        "new_list = deleteLastOccurrence(list1, key)\n",
        "\n",
        "# Print the resulting linked list\n",
        "printList(new_list)\n",
        "# Output: 1 -> 2 -> 3 -> 5 -> 10 -> None"
      ],
      "metadata": {
        "id": "LynCoBLgE5GZ",
        "colab": {
          "base_uri": "https://localhost:8080/"
        },
        "outputId": "d77ca80a-dc51-4639-cfe5-751da177e4cc"
      },
      "execution_count": null,
      "outputs": [
        {
          "output_type": "stream",
          "name": "stdout",
          "text": [
            "Linked List: \n",
            "1 2 3 5 2 10 \n",
            "\n",
            "1 -> 2 -> 3 -> 5 -> 10 -> None\n"
          ]
        }
      ]
    },
    {
      "cell_type": "markdown",
      "source": [
        "### Conclusion\n",
        "\n",
        "In this code, the deleteLastOccurrence function takes the head node of the linked list and the key to be deleted as input. It iterates through the list to find the last occurrence of the key while keeping track of the previous node (prev). Once the last occurrence is found, it updates the next pointer of the previous node to skip the current node.\n",
        "\n",
        "The printList function is a helper function to print the linked list for verification.\n",
        "\n",
        "The **time complexity of this code is O(n)**, where n is the number of nodes in the linked list. We traverse the list once to find the last occurrence of the key.\n",
        "\n",
        "The **space complexity is O(1)** as we are not using any extra space. We are modifying the list in-place by updating the next pointers."
      ],
      "metadata": {
        "id": "UBZjVZscE5Y5"
      }
    },
    {
      "cell_type": "markdown",
      "source": [
        "# Question 6\n",
        "\n",
        "💡 Given two sorted linked lists consisting of **N** and **M** nodes respectively. The task is to merge both of the lists (in place) and return the head of the merged list.\n",
        "\n",
        "**Examples:**\n",
        "\n",
        "Input: a: 5->10->15, b: 2->3->20\n",
        "\n",
        "Output: 2->3->5->10->15->20\n",
        "\n",
        "Input: a: 1->1, b: 2->4\n",
        "\n",
        "Output: 1->1->2->4"
      ],
      "metadata": {
        "id": "DTFWlz2ci1VH"
      }
    },
    {
      "cell_type": "markdown",
      "source": [
        "## Solution\n",
        "\n",
        "To merge two sorted linked lists in place, we can use a simple iterative approach. We'll maintain two pointers, one for each linked list, and compare the values of the nodes at the current positions. We'll create a new merged list by connecting the nodes in the appropriate order.\n",
        "\n",
        "Here's the Python code to merge two sorted linked lists in place:"
      ],
      "metadata": {
        "id": "yuAEZlKPE8iN"
      }
    },
    {
      "cell_type": "code",
      "source": [
        "class ListNode:\n",
        "    def __init__(self, val=0, next=None):\n",
        "        self.val = val\n",
        "        self.next = next\n",
        "\n",
        "def mergeLists(a, b):\n",
        "    if not a:\n",
        "        return b\n",
        "    if not b:\n",
        "        return a\n",
        "\n",
        "    dummy = ListNode(0)\n",
        "    tail = dummy\n",
        "\n",
        "    while a and b:\n",
        "        if a.val <= b.val:\n",
        "            tail.next = a\n",
        "            a = a.next\n",
        "        else:\n",
        "            tail.next = b\n",
        "            b = b.next\n",
        "        tail = tail.next\n",
        "\n",
        "    if a:\n",
        "        tail.next = a\n",
        "    if b:\n",
        "        tail.next = b\n",
        "\n",
        "    return dummy.next\n",
        "\n",
        "def printList(head):\n",
        "    current = head\n",
        "    while current:\n",
        "        print(current.val, end=\" -> \")\n",
        "        current = current.next\n",
        "    print(\"None\")"
      ],
      "metadata": {
        "id": "K9ZCgKoPi-cx"
      },
      "execution_count": null,
      "outputs": []
    },
    {
      "cell_type": "markdown",
      "source": [
        "### Test Cases"
      ],
      "metadata": {
        "id": "exKVwHpQE-qr"
      }
    },
    {
      "cell_type": "code",
      "source": [
        "# Test Case 1\n",
        "\n",
        "# Create linked list a: 5 -> 10 -> 15\n",
        "a = ListNode(5)\n",
        "a.next = ListNode(10)\n",
        "a.next.next = ListNode(15)\n",
        "\n",
        "# Print the linked list\n",
        "node = a\n",
        "print(\"Linked List a: \")\n",
        "while node:\n",
        "    print(node.val, end=\" \")\n",
        "    node = node.next\n",
        "\n",
        "print(\"\\n\")\n",
        "\n",
        "# Create linked list b: 2 -> 3 -> 20\n",
        "b = ListNode(2)\n",
        "b.next = ListNode(3)\n",
        "b.next.next = ListNode(20)\n",
        "\n",
        "# Print the linked list\n",
        "node = b\n",
        "print(\"Linked List b: \")\n",
        "while node:\n",
        "    print(node.val, end=\" \")\n",
        "    node = node.next\n",
        "\n",
        "print(\"\\n\")\n",
        "\n",
        "# Merge the two lists\n",
        "merged = mergeLists(a, b)\n",
        "\n",
        "print(\"Sorted Merged Linked List (a + b): \")\n",
        "# Print the merged list\n",
        "printList(merged)\n",
        "# Output: 2 -> 3 -> 5 -> 10 -> 15 -> 20 -> None"
      ],
      "metadata": {
        "id": "2eE9XuDhFCa_",
        "colab": {
          "base_uri": "https://localhost:8080/"
        },
        "outputId": "91d8b6e5-4347-49e6-f3be-46cbea7c2299"
      },
      "execution_count": null,
      "outputs": [
        {
          "output_type": "stream",
          "name": "stdout",
          "text": [
            "Linked List a: \n",
            "5 10 15 \n",
            "\n",
            "Linked List b: \n",
            "2 3 20 \n",
            "\n",
            "Sorted Merged Linked List (a + b): \n",
            "2 -> 3 -> 5 -> 10 -> 15 -> 20 -> None\n"
          ]
        }
      ]
    },
    {
      "cell_type": "markdown",
      "source": [
        "### Conclusion\n",
        "\n",
        "In this code, the mergeLists function takes the head nodes of the two sorted linked lists (a and b) as input. It uses two pointers (a and b) to traverse the lists and compares the values of the nodes at each position. It creates a new merged list by connecting the nodes in the appropriate order.\n",
        "\n",
        "The printList function is a helper function to print the linked list for verification.\n",
        "\n",
        "The **time complexity of this code is O(N + M)**, where N and M are the number of nodes in the two linked lists, respectively. We iterate through both lists once.\n",
        "\n",
        "The **space complexity is O(1)** as we are merging the lists in place and not using any extra space."
      ],
      "metadata": {
        "id": "LXQSUD3lFCx5"
      }
    },
    {
      "cell_type": "markdown",
      "source": [
        "# Question 7\n",
        "\n",
        "💡 Given a **Doubly Linked List**, the task is to reverse the given Doubly Linked List.\n",
        "\n",
        "**Example:**\n",
        "\n",
        "Original Linked list 10 8 4 2\n",
        "Reversed Linked list 2 4 8 10"
      ],
      "metadata": {
        "id": "REK6eFETi2th"
      }
    },
    {
      "cell_type": "markdown",
      "source": [
        "## Solution\n",
        "\n",
        "To reverse a doubly linked list, we need to swap the next and prev pointers of each node in the list. We also need to update the head pointer to point to the last node, which will be the new head of the reversed list.\n",
        "\n",
        "Here's the Python code to reverse a doubly linked list:"
      ],
      "metadata": {
        "id": "FiLHDxq9FF4w"
      }
    },
    {
      "cell_type": "code",
      "source": [
        "class Node:\n",
        "    def __init__(self, data):\n",
        "        self.data = data\n",
        "        self.prev = None\n",
        "        self.next = None\n",
        "\n",
        "def reverseDoublyLinkedList(head):\n",
        "    if not head or not head.next:\n",
        "        return head\n",
        "\n",
        "    prev_node = None\n",
        "    current_node = head\n",
        "\n",
        "    while current_node:\n",
        "        # Swap next and prev pointers\n",
        "        current_node.prev, current_node.next = current_node.next, current_node.prev\n",
        "\n",
        "        # Move to the next node\n",
        "        prev_node = current_node\n",
        "        current_node = current_node.prev\n",
        "\n",
        "    # Update the head pointer\n",
        "    head = prev_node\n",
        "\n",
        "    return head\n",
        "\n",
        "def printLinkedList(head):\n",
        "    current_node = head\n",
        "    while current_node:\n",
        "        print(current_node.data, end=\" \")\n",
        "        current_node = current_node.next\n",
        "    print()"
      ],
      "metadata": {
        "id": "z3bLzCz1i_mV"
      },
      "execution_count": null,
      "outputs": []
    },
    {
      "cell_type": "markdown",
      "source": [
        "### Tesst Cases"
      ],
      "metadata": {
        "id": "JKL06z5GFH8I"
      }
    },
    {
      "cell_type": "code",
      "source": [
        "# Test Case 1\n",
        "\n",
        "# Create original linked list: 10 -> 8 -> 4 -> 2\n",
        "head = Node(10)\n",
        "node2 = Node(8)\n",
        "node3 = Node(4)\n",
        "node4 = Node(2)\n",
        "\n",
        "head.next = node2\n",
        "node2.prev = head\n",
        "node2.next = node3\n",
        "node3.prev = node2\n",
        "node3.next = node4\n",
        "node4.prev = node3\n",
        "\n",
        "print(\"Original Linked list:\")\n",
        "printLinkedList(head)\n",
        "\n",
        "# Reverse the linked list\n",
        "reversed_head = reverseDoublyLinkedList(head)\n",
        "\n",
        "print(\"Reversed Linked list:\")\n",
        "printLinkedList(reversed_head)\n"
      ],
      "metadata": {
        "id": "JGuu4Y52FJ2t",
        "colab": {
          "base_uri": "https://localhost:8080/"
        },
        "outputId": "045faf67-1c3d-4b67-f0bf-c8c92768d06f"
      },
      "execution_count": null,
      "outputs": [
        {
          "output_type": "stream",
          "name": "stdout",
          "text": [
            "Original Linked list:\n",
            "10 8 4 2 \n",
            "Reversed Linked list:\n",
            "2 4 8 10 \n"
          ]
        }
      ]
    },
    {
      "cell_type": "markdown",
      "source": [
        "### Conclusion\n",
        "\n",
        "In this code, the reverseDoublyLinkedList function takes the head node of the doubly linked list as input. It iterates through the list and swaps the next and prev pointers of each node. It also updates the head pointer to point to the last node, which becomes the new head of the reversed list.\n",
        "\n",
        "The printLinkedList function is a helper function to print the linked list for verification.\n",
        "\n",
        "The **time complexity of this code is O(N)**, where N is the number of nodes in the doubly linked list. We traverse each node once to reverse the list.\n",
        "\n",
        "The **space complexity is O(1)** as we are reversing the list in place and not using any extra space."
      ],
      "metadata": {
        "id": "pTCmLl7mFLB0"
      }
    },
    {
      "cell_type": "markdown",
      "source": [
        "# Question 8\n",
        "\n",
        "💡 Given a doubly linked list and a position. The task is to delete a node from given position in a doubly linked list.\n",
        "\n",
        "**Example 1:**\n",
        "\n",
        "Input:\n",
        "LinkedList = 1 <--> 3 <--> 4\n",
        "x = 3\n",
        "Output:1 3\n",
        "Explanation:After deleting the node at\n",
        "position 3 (position starts from 1),\n",
        "the linked list will be now as 1->3.\n",
        "\n",
        "**Example 2:**\n",
        "\n",
        "Input:\n",
        "LinkedList = 1 <--> 5 <--> 2 <--> 9\n",
        "x = 1\n",
        "Output:5 2 9"
      ],
      "metadata": {
        "id": "B8_UhTKLi3-V"
      }
    },
    {
      "cell_type": "markdown",
      "source": [
        "## Solution\n",
        "\n",
        "To delete a node from a given position in a doubly linked list, we need to update the previous node's next pointer and the next node's previous pointer to skip the node to be deleted.\n",
        "\n",
        "Here's the Python code to delete a node from a given position in a doubly linked list:"
      ],
      "metadata": {
        "id": "GaawwD0jFN4S"
      }
    },
    {
      "cell_type": "code",
      "source": [
        "class Node:\n",
        "    def __init__(self, data):\n",
        "        self.data = data\n",
        "        self.prev = None\n",
        "        self.next = None\n",
        "\n",
        "def deleteNode(head, position):\n",
        "    if not head:\n",
        "        return head\n",
        "\n",
        "    # Case 1: Deleting the head node\n",
        "    if position == 1:\n",
        "        new_head = head.next\n",
        "        if new_head:\n",
        "            new_head.prev = None\n",
        "        return new_head\n",
        "\n",
        "    # Case 2: Deleting a node other than the head\n",
        "    current_node = head\n",
        "    count = 1\n",
        "\n",
        "    while current_node and count < position:\n",
        "        current_node = current_node.next\n",
        "        count += 1\n",
        "\n",
        "    # If position exceeds the length of the list\n",
        "    if not current_node:\n",
        "        return head\n",
        "\n",
        "    prev_node = current_node.prev\n",
        "    next_node = current_node.next\n",
        "\n",
        "    # Update the previous node's next pointer\n",
        "    if prev_node:\n",
        "        prev_node.next = next_node\n",
        "\n",
        "    # Update the next node's previous pointer\n",
        "    if next_node:\n",
        "        next_node.prev = prev_node\n",
        "\n",
        "    return head\n",
        "\n",
        "def printLinkedList(head):\n",
        "    current_node = head\n",
        "    while current_node:\n",
        "        print(current_node.data, end=\" \")\n",
        "        current_node = current_node.next\n",
        "    print()"
      ],
      "metadata": {
        "id": "JaVWh-OKjAgg"
      },
      "execution_count": null,
      "outputs": []
    },
    {
      "cell_type": "markdown",
      "source": [
        "### Test Cases"
      ],
      "metadata": {
        "id": "SZc-yiaJFQiX"
      }
    },
    {
      "cell_type": "code",
      "source": [
        "# Test Case 1\n",
        "\n",
        "# Create linked list: 1 <--> 5 <--> 2 <--> 9\n",
        "head = Node(1)\n",
        "node2 = Node(5)\n",
        "node3 = Node(2)\n",
        "node4 = Node(9)\n",
        "\n",
        "head.next = node2\n",
        "node2.prev = head\n",
        "node2.next = node3\n",
        "node3.prev = node2\n",
        "node3.next = node4\n",
        "node4.prev = node3\n",
        "\n",
        "print(\"Original Linked list:\")\n",
        "printLinkedList(head)\n",
        "\n",
        "# Delete node at position 1\n",
        "new_head = deleteNode(head, 1)\n",
        "\n",
        "print(\"Linked list after deletion:\")\n",
        "printLinkedList(new_head)"
      ],
      "metadata": {
        "id": "0NyWTUGHFSmK",
        "colab": {
          "base_uri": "https://localhost:8080/"
        },
        "outputId": "f0cd0b30-13dc-45a9-ddc4-247580adce02"
      },
      "execution_count": null,
      "outputs": [
        {
          "output_type": "stream",
          "name": "stdout",
          "text": [
            "Original Linked list:\n",
            "1 5 2 9 \n",
            "Linked list after deletion:\n",
            "5 2 9 \n"
          ]
        }
      ]
    },
    {
      "cell_type": "markdown",
      "source": [
        "### Conclusion\n",
        "\n",
        "In this code, the deleteNode function takes the head node of the doubly linked list and the position of the node to be deleted as inputs. It iterates through the list to find the node at the given position. Then it updates the previous node's next pointer and the next node's previous pointer to skip the node to be deleted. If the position is 1, it handles the case of deleting the head node separately. The function returns the updated head node after deletion.\n",
        "\n",
        "The printLinkedList function is a helper function to print the linked list for verification.\n",
        "\n",
        "The **time complexity of this code is O(N)**, where N is the number of nodes in the doubly linked list. We may need to traverse the entire list to find the node at the given position.\n",
        "\n",
        "The **space complexity is O(1)** as we are modifying the list in place and not using any extra space."
      ],
      "metadata": {
        "id": "cVhdSOOaFVI7"
      }
    }
  ]
}