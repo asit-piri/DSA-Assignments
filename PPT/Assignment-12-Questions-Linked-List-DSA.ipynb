{
  "nbformat": 4,
  "nbformat_minor": 0,
  "metadata": {
    "colab": {
      "provenance": []
    },
    "kernelspec": {
      "name": "python3",
      "display_name": "Python 3"
    },
    "language_info": {
      "name": "python"
    }
  },
  "cells": [
    {
      "cell_type": "markdown",
      "source": [
        "# Assignment 12 Questions - Linked List | DSA\n",
        "## Name: Asit Piri"
      ],
      "metadata": {
        "id": "US-VUXDNhCzy"
      }
    },
    {
      "cell_type": "markdown",
      "source": [
        "# Question 1\n",
        "\n",
        "💡 Given a singly linked list, delete **middle** of the linked list. For example, if given linked list is 1->2->**3**->4->5 then linked list should be modified to 1->2->4->5.If there are **even** nodes, then there would be **two middle** nodes, we need to delete the second middle element. For example, if given linked list is 1->2->3->4->5->6 then it should be modified to 1->2->3->5->6.If the input linked list is NULL or has 1 node, then it should return NULL\n",
        "\n",
        "**Example 1:**\n",
        "\n",
        "Input:LinkedList: 1->2->3->4->5\n",
        "\n",
        "Output:1 2 4 5\n",
        "\n",
        "**Example 2:**\n",
        "\n",
        "Input: LinkedList: 2->4->6->7->5->1\n",
        "\n",
        "Output:2 4 6 5 1"
      ],
      "metadata": {
        "id": "KFNUnshahUHa"
      }
    },
    {
      "cell_type": "markdown",
      "source": [
        "## Solution\n",
        "\n",
        "To delete the middle element(s) of a singly linked list, we can use the two-pointer approach. We'll have two pointers, a slow pointer and a fast pointer. The slow pointer moves one step at a time, while the fast pointer moves two steps at a time. By the time the fast pointer reaches the end of the list, the slow pointer will be at the middle element(s) of the list.\n",
        "\n",
        "Here's the Python code to delete the middle element(s) of a linked list:\n"
      ],
      "metadata": {
        "id": "VmMWfbWkB5RN"
      }
    },
    {
      "cell_type": "code",
      "execution_count": null,
      "metadata": {
        "id": "zOyDrsp8gIjk",
        "colab": {
          "base_uri": "https://localhost:8080/"
        },
        "outputId": "1715a6da-e380-4010-a8ae-1079202f45eb"
      },
      "outputs": [
        {
          "output_type": "stream",
          "name": "stdout",
          "text": [
            "1 2 4 5 "
          ]
        }
      ],
      "source": [
        "class ListNode:\n",
        "    def __init__(self, val=0, next=None):\n",
        "        self.val = val\n",
        "        self.next = next\n",
        "\n",
        "def deleteMiddleNode(head):\n",
        "    if not head or not head.next:\n",
        "        return head\n",
        "\n",
        "    dummy = ListNode(0)\n",
        "    dummy.next = head\n",
        "    slow = dummy\n",
        "    fast = dummy\n",
        "\n",
        "    # Move fast pointer two steps ahead and slow pointer one step ahead\n",
        "    while fast.next and fast.next.next:\n",
        "        fast = fast.next.next\n",
        "        slow = slow.next\n",
        "\n",
        "    # Skip the middle element(s)\n",
        "    slow.next = slow.next.next\n",
        "\n",
        "    return dummy.next"
      ]
    },
    {
      "cell_type": "markdown",
      "source": [
        "### Test Cases"
      ],
      "metadata": {
        "id": "emgdnXg3B8Cm"
      }
    },
    {
      "cell_type": "code",
      "source": [
        "# Test Case 1\n",
        "\n",
        "# Create the linked list: 1->2->3->4->5\n",
        "head = ListNode(1)\n",
        "head.next = ListNode(2)\n",
        "head.next.next = ListNode(3)\n",
        "head.next.next.next = ListNode(4)\n",
        "head.next.next.next.next = ListNode(5)\n",
        "\n",
        "# Print the linked list\n",
        "node = head\n",
        "print(\"Linked List: \")\n",
        "while node:\n",
        "    print(node.val, end=\" \")\n",
        "    node = node.next\n",
        "\n",
        "# Delete the middle element(s)\n",
        "head = deleteMiddleNode(head)\n",
        "\n",
        "# Print the modified linked list\n",
        "node = head\n",
        "print(\"\\n\")\n",
        "print(\"Modified Linked List: \" )\n",
        "while node:\n",
        "    print(node.val, end=\" \")\n",
        "    node = node.next"
      ],
      "metadata": {
        "id": "8zpGt3_RB-ao",
        "colab": {
          "base_uri": "https://localhost:8080/"
        },
        "outputId": "74fae71c-812e-493b-d1a2-f3dda77f32b7"
      },
      "execution_count": null,
      "outputs": [
        {
          "output_type": "stream",
          "name": "stdout",
          "text": [
            "Linked List: \n",
            "1 2 3 4 5 \n",
            "\n",
            "Modified Linked List: \n",
            "1 2 4 5 "
          ]
        }
      ]
    },
    {
      "cell_type": "code",
      "source": [
        "# Test Case 2\n",
        "\n",
        "# Create the linked list: 1->2->3->4->5->6\n",
        "head = ListNode(1)\n",
        "head.next = ListNode(2)\n",
        "head.next.next = ListNode(3)\n",
        "head.next.next.next = ListNode(4)\n",
        "head.next.next.next.next = ListNode(5)\n",
        "head.next.next.next.next.next = ListNode(6)\n",
        "\n",
        "# Print the linked list\n",
        "node = head\n",
        "print(\"Linked List: \")\n",
        "while node:\n",
        "    print(node.val, end=\" \")\n",
        "    node = node.next\n",
        "\n",
        "# Delete the middle element(s)\n",
        "head = deleteMiddleNode(head)\n",
        "\n",
        "# Print the modified linked list\n",
        "node = head\n",
        "print(\"\\n\")\n",
        "print(\"Modified Linked List: \" )\n",
        "while node:\n",
        "    print(node.val, end=\" \")\n",
        "    node = node.next"
      ],
      "metadata": {
        "id": "ahYtb1uKB-ic",
        "colab": {
          "base_uri": "https://localhost:8080/"
        },
        "outputId": "a9c16a54-b4c2-48b1-9856-e968e002bc40"
      },
      "execution_count": null,
      "outputs": [
        {
          "output_type": "stream",
          "name": "stdout",
          "text": [
            "Linked List: \n",
            "1 2 3 4 5 6 \n",
            "\n",
            "Modified Linked List: \n",
            "1 2 3 5 6 "
          ]
        }
      ]
    },
    {
      "cell_type": "markdown",
      "source": [
        "### Conclusion\n",
        "\n",
        "In this code, the deleteMiddleNode function takes the head of a linked list as input and returns the modified linked list after deleting the middle element(s).\n",
        "\n",
        "\n",
        "We first check if the linked list is empty or has only one node. If so, we return the list as it is.\n",
        "\n",
        "\n",
        "We use the two-pointer approach with a slow pointer and a fast pointer. We initialize both pointers to the dummy node, and then move the fast pointer two steps ahead and the slow pointer one step ahead in each iteration.\n",
        "\n",
        "\n",
        "Once the fast pointer reaches the end of the list, the slow pointer will be at the middle element(s) of the list.\n",
        "\n",
        "\n",
        "We skip the middle element(s) by updating the next pointer of the slow pointer to skip the middle node(s).\n",
        "\n",
        "\n",
        "Finally, we return the modified linked list by accessing the next pointer of the dummy node.\n",
        "\n",
        "\n",
        "The **time complexity of this code is O(n)**, where n is the number of nodes in the linked list. We iterate through the linked list once using the two-pointer approach.\n",
        "\n",
        "The **space complexity is O(1)** as we only use a constant amount of extra space to store the dummy node and the two pointers."
      ],
      "metadata": {
        "id": "Rus8tqtoB-s2"
      }
    },
    {
      "cell_type": "markdown",
      "source": [
        "# Question 2\n",
        "\n",
        "💡 Given a linked list of **N** nodes. The task is to check if the linked list has a loop. Linked list can contain self loop.\n",
        "\n",
        "**Example 1:**\n",
        "\n",
        "Input:\n",
        "N = 3\n",
        "value[] = {1,3,4}\n",
        "x(position at which tail is connected) = 2\n",
        "Output:True\n",
        "Explanation:In above test case N = 3.\n",
        "The linked list with nodes N = 3 is\n",
        "given. Then value of x=2 is given which\n",
        "means last node is connected with xth\n",
        "node of linked list. Therefore, there\n",
        "exists a loop.\n",
        "\n",
        "**Example 2:**\n",
        "\n",
        "Input:\n",
        "N = 4\n",
        "value[] = {1,8,3,4}\n",
        "x = 0\n",
        "Output:False\n",
        "Explanation:For N = 4 ,x = 0 means\n",
        "then lastNode->next = NULL, then\n",
        "the Linked list does not contains\n",
        "any loop."
      ],
      "metadata": {
        "id": "ENwSXfY4iOxC"
      }
    },
    {
      "cell_type": "markdown",
      "source": [
        "## Solution\n",
        "\n",
        "To check if a linked list has a loop, we can use the **Floyd's cycle-finding algorithm**, also known as the **\"tortoise and hare\" algorithm**. This algorithm uses two pointers, one moving at a slower pace (tortoise) and the other moving at a faster pace (hare). If there is a loop in the linked list, eventually the hare will catch up to the tortoise.\n",
        "\n",
        "Here's the Python code to check if a linked list has a loop:"
      ],
      "metadata": {
        "id": "qGGWgZVCCBgC"
      }
    },
    {
      "cell_type": "code",
      "source": [
        "class ListNode:\n",
        "    def __init__(self, val=0, next=None):\n",
        "        self.val = val\n",
        "        self.next = next\n",
        "\n",
        "def hasLoop(head):\n",
        "    if not head or not head.next:\n",
        "        return False\n",
        "\n",
        "    slow = head\n",
        "    fast = head\n",
        "\n",
        "    while fast and fast.next:\n",
        "        slow = slow.next\n",
        "        fast = fast.next.next\n",
        "\n",
        "        if slow == fast:\n",
        "            return True\n",
        "\n",
        "    return False"
      ],
      "metadata": {
        "id": "cpWPdYHbinJc"
      },
      "execution_count": null,
      "outputs": []
    },
    {
      "cell_type": "markdown",
      "source": [
        "### Test Cases"
      ],
      "metadata": {
        "id": "4ylfhGlYCD1l"
      }
    },
    {
      "cell_type": "code",
      "source": [
        "# Test Case 1\n",
        "\n",
        "# Create the linked list: 1->3->4->2->3 (loop)\n",
        "head = ListNode(1)\n",
        "head.next = ListNode(3)\n",
        "head.next.next = ListNode(4)\n",
        "head.next.next.next = ListNode(2)\n",
        "head.next.next.next.next = ListNode(3)\n",
        "head.next.next.next.next.next = head.next\n",
        "\n",
        "print(\"Does the linked list has loop: \")\n",
        "# Check if the linked list has a loop\n",
        "hasLoop = hasLoop(head)\n",
        "print(hasLoop)\n",
        "\n",
        "# Output: True"
      ],
      "metadata": {
        "colab": {
          "base_uri": "https://localhost:8080/"
        },
        "id": "H8iP_BK-5TPc",
        "outputId": "308ffcad-7c14-40b4-91f0-3605c7449c22"
      },
      "execution_count": null,
      "outputs": [
        {
          "output_type": "stream",
          "name": "stdout",
          "text": [
            "Does the linked list has loop: \n",
            "True\n"
          ]
        }
      ]
    },
    {
      "cell_type": "markdown",
      "source": [
        "### Conclusion\n",
        "\n",
        "In this code, the hasLoop function takes the head of a linked list as input and returns True if the linked list has a loop, and False otherwise.\n",
        "\n",
        "We initialize two pointers, slow and fast, both starting from the head of the linked list.\n",
        "\n",
        "We iterate through the linked list using the \"tortoise and hare\" algorithm. The slow pointer moves one step at a time, while the fast pointer moves two steps at a time.\n",
        "\n",
        "If there is a loop in the linked list, the fast pointer will eventually catch up to the slow pointer. This is detected by comparing the slow and fast pointers for equality in each iteration.\n",
        "\n",
        "If the pointers become equal, we conclude that there is a loop in the linked list and return True. Otherwise, if the fast pointer reaches the end of the list (i.e., becomes None or reaches a None next node), we conclude that there is no loop and return False.\n",
        "\n",
        "The **time complexity of this code is O(n)**, where n is the number of nodes in the linked list. In the worst case, the fast pointer will traverse the loop once before catching up to the slow pointer.\n",
        "\n",
        "The **space complexity is O(1)** as we only use a constant amount of extra space to store the slow and fast pointers."
      ],
      "metadata": {
        "id": "dI8XneGYCG8U"
      }
    },
    {
      "cell_type": "markdown",
      "source": [
        "# Question 3\n",
        "\n",
        "💡 Given a linked list consisting of **L** nodes and given a number **N**. The task is to find the **N**th node from the end of the linked list.\n",
        "\n",
        "**Example 1:**\n",
        "\n",
        "Input:\n",
        "N = 2\n",
        "LinkedList: 1->2->3->4->5->6->7->8->9\n",
        "Output:8\n",
        "Explanation:In the first example, there\n",
        "are 9 nodes in linked list and we need\n",
        "to find 2nd node from end. 2nd node\n",
        "from end is 8.\n",
        "\n",
        "**Example 2:**\n",
        "\n",
        "Input:\n",
        "N = 5\n",
        "LinkedList: 10->5->100->5\n",
        "Output:-1\n",
        "Explanation:In the second example, there\n",
        "are 4 nodes in the linked list and we\n",
        "need to find 5th from the end. Since 'n'\n",
        "is more than the number of nodes in the\n",
        "linked list, the output is -1."
      ],
      "metadata": {
        "id": "Vr0TitTbipVA"
      }
    },
    {
      "cell_type": "markdown",
      "source": [
        "## Solution\n",
        "\n",
        "To find the Nth node from the end of a linked list, we can use the **two-pointer approach**. We'll maintain two pointers, first and second, initially pointing to the head of the linked list. We'll move the first pointer N steps ahead, and then move both pointers simultaneously until the first pointer reaches the end of the list. At this point, the second pointer will be pointing to the Nth node from the end.\n",
        "\n",
        "Here's the Python code to find the Nth node from the end of a linked list:"
      ],
      "metadata": {
        "id": "1Q2EzIhLCKyK"
      }
    },
    {
      "cell_type": "code",
      "source": [
        "class ListNode:\n",
        "    def __init__(self, val=0, next=None):\n",
        "        self.val = val\n",
        "        self.next = next\n",
        "\n",
        "def findNthFromEnd(head, N):\n",
        "    if not head:\n",
        "        return -1\n",
        "\n",
        "    first = head\n",
        "    second = head\n",
        "\n",
        "    # Move the first pointer N steps ahead\n",
        "    for _ in range(N):\n",
        "        if not first:\n",
        "            return -1\n",
        "        first = first.next\n",
        "\n",
        "    # Move both pointers until the first pointer reaches the end\n",
        "    while first:\n",
        "        first = first.next\n",
        "        second = second.next\n",
        "\n",
        "    # At this point, the second pointer is pointing to the Nth node from the end\n",
        "    return second.val"
      ],
      "metadata": {
        "id": "z3SQVoZki7DW"
      },
      "execution_count": null,
      "outputs": []
    },
    {
      "cell_type": "markdown",
      "source": [
        "### Test Cases"
      ],
      "metadata": {
        "id": "2E5xO5agCN_O"
      }
    },
    {
      "cell_type": "code",
      "source": [
        "# Test Case 1\n",
        "\n",
        "# Create the linked list: 1->2->3->4->5->6->7->8->9\n",
        "head = ListNode(1)\n",
        "head.next = ListNode(2)\n",
        "head.next.next = ListNode(3)\n",
        "head.next.next.next = ListNode(4)\n",
        "head.next.next.next.next = ListNode(5)\n",
        "head.next.next.next.next.next = ListNode(6)\n",
        "head.next.next.next.next.next.next = ListNode(7)\n",
        "head.next.next.next.next.next.next.next = ListNode(8)\n",
        "head.next.next.next.next.next.next.next.next = ListNode(9)\n",
        "\n",
        "N = 2\n",
        "nthFromEnd = findNthFromEnd(head, N)\n",
        "print(nthFromEnd)\n",
        "\n",
        "# Output: 8"
      ],
      "metadata": {
        "id": "G1JyTq_ECRz6",
        "colab": {
          "base_uri": "https://localhost:8080/"
        },
        "outputId": "22ba9ac0-b922-47ad-f0c7-ba9a931e845d"
      },
      "execution_count": null,
      "outputs": [
        {
          "output_type": "stream",
          "name": "stdout",
          "text": [
            "8\n"
          ]
        }
      ]
    },
    {
      "cell_type": "markdown",
      "source": [
        "### Conclusion\n",
        "\n",
        "In this code, the findNthFromEnd function takes the head of a linked list and the value of N as input. It returns the value of the Nth node from the end of the linked list.\n",
        "\n",
        "We initialize two pointers, first and second, both starting from the head of the linked list.\n",
        "\n",
        "We move the first pointer N steps ahead using a for loop. If the first pointer reaches the end of the list before completing N steps, it means N is greater than the number of nodes in the list, so we return -1.\n",
        "\n",
        "Then, we move both pointers simultaneously until the first pointer reaches the end of the list. At this point, the second pointer will be pointing to the Nth node from the end.\n",
        "\n",
        "Finally, we return the value of the node pointed by the second pointer.\n",
        "\n",
        "The **time complexity of this code is O(L)**, where L is the number of nodes in the linked list. We may need to traverse the entire list to find the Nth node from the end.\n",
        "\n",
        "The **space complexity is O(1)** as we only use a constant amount of extra space to store the first and second pointers."
      ],
      "metadata": {
        "id": "wJ2_xgoeCSGS"
      }
    },
    {
      "cell_type": "markdown",
      "source": [
        "# Question 4\n",
        "\n",
        "💡 Given a singly linked list of characters, write a function that returns true if the given list is a palindrome, else false.\n",
        "\n",
        "![image.png](data:image/png;base64,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)\n",
        "\n",
        "**Examples:**\n",
        "\n",
        "Input: R->A->D->A->R->NULL\n",
        "\n",
        "**Output:** Yes\n",
        "\n",
        "**Input:** C->O->D->E->NULL\n",
        "\n",
        "**Output:** No"
      ],
      "metadata": {
        "id": "4AX8quygixk_"
      }
    },
    {
      "cell_type": "markdown",
      "source": [
        "## Solution\n",
        "\n",
        "To check if a singly linked list is a palindrome, we can use the following approach:\n",
        "\n",
        "1. Traverse the linked list and store the values of each node in a list.\n",
        "\n",
        "2. Initialize two pointers, one at the beginning of the list and the other at the end of the list.\n",
        "\n",
        "3. Compare the values at the corresponding positions of the two pointers while moving them towards the center.\n",
        "\n",
        "4. If the values at any position don't match, return False.\n",
        "\n",
        "5. If the pointers meet or cross each other, return True.\n",
        "\n",
        "Here's the Python code to check if a linked list is a palindrome:"
      ],
      "metadata": {
        "id": "Deq5AaB3CVlR"
      }
    },
    {
      "cell_type": "code",
      "source": [
        "class ListNode:\n",
        "    def __init__(self, val=0, next=None):\n",
        "        self.val = val\n",
        "        self.next = next\n",
        "\n",
        "def isPalindrome(head):\n",
        "    if not head or not head.next:\n",
        "        return True\n",
        "\n",
        "    # Step 1: Store the values in a list\n",
        "    values = []\n",
        "    curr = head\n",
        "    while curr:\n",
        "        values.append(curr.val)\n",
        "        curr = curr.next\n",
        "\n",
        "    # Step 2 and 3: Compare values while moving pointers\n",
        "    left = 0\n",
        "    right = len(values) - 1\n",
        "    while left < right:\n",
        "        if values[left] != values[right]:\n",
        "            return False\n",
        "        left += 1\n",
        "        right -= 1\n",
        "\n",
        "    return True"
      ],
      "metadata": {
        "id": "abGaR9d6i77P"
      },
      "execution_count": null,
      "outputs": []
    },
    {
      "cell_type": "markdown",
      "source": [
        "### Test Cases"
      ],
      "metadata": {
        "id": "No51dbehCYGi"
      }
    },
    {
      "cell_type": "code",
      "source": [
        "# Test Case 1\n",
        "\n",
        "# Create the linked list: R->A->D->A->R->NULL\n",
        "head1 = ListNode('R')\n",
        "head1.next = ListNode('A')\n",
        "head1.next.next = ListNode('D')\n",
        "head1.next.next.next = ListNode('A')\n",
        "head1.next.next.next.next = ListNode('R')\n",
        "\n",
        "# Print the linked list\n",
        "node = head1\n",
        "print(\"Linked List: \")\n",
        "while node:\n",
        "    print(node.val, end=\" \")\n",
        "    node = node.next\n",
        "\n",
        "print(\"\\n\")\n",
        "print(\"Is Palendrom: \", isPalindrome(head1))  # Output: True"
      ],
      "metadata": {
        "id": "-lNihyqICah1",
        "colab": {
          "base_uri": "https://localhost:8080/"
        },
        "outputId": "d6271ae1-2991-4e70-8d91-e238b239df0a"
      },
      "execution_count": null,
      "outputs": [
        {
          "output_type": "stream",
          "name": "stdout",
          "text": [
            "Linked List: \n",
            "R A D A R \n",
            "\n",
            "Is Palendrom:  True\n"
          ]
        }
      ]
    },
    {
      "cell_type": "code",
      "source": [
        "# Test Case 2\n",
        "\n",
        "# Create the linked list: C->O->D->E->NULL\n",
        "head2 = ListNode('C')\n",
        "head2.next = ListNode('O')\n",
        "head2.next.next = ListNode('D')\n",
        "head2.next.next.next = ListNode('E')\n",
        "\n",
        "# Print the linked list\n",
        "node = head2\n",
        "print(\"Linked List: \")\n",
        "while node:\n",
        "    print(node.val, end=\" \")\n",
        "    node = node.next\n",
        "\n",
        "print(\"\\n\")\n",
        "print(\"Is Palendrom: \", isPalindrome(head2))  # Output: False"
      ],
      "metadata": {
        "id": "Jhxff1ojCaph",
        "colab": {
          "base_uri": "https://localhost:8080/"
        },
        "outputId": "917b9449-a03a-4040-dd64-9afe0309971e"
      },
      "execution_count": null,
      "outputs": [
        {
          "output_type": "stream",
          "name": "stdout",
          "text": [
            "Linked List: \n",
            "C O D E \n",
            "\n",
            "Is Palendrom:  False\n"
          ]
        }
      ]
    },
    {
      "cell_type": "markdown",
      "source": [
        "### Conclusion\n",
        "\n",
        "In this code, the isPalindrome function takes the head of a linked list as input and returns True if the list is a palindrome, and False otherwise.\n",
        "\n",
        "First, we handle the base cases where the list is empty or has only one node, in which case we consider it as a palindrome.\n",
        "\n",
        "Then, we traverse the linked list and store the values of each node in a list.\n",
        "\n",
        "Next, we initialize two pointers, left and right, pointing to the beginning and end of the list, respectively.\n",
        "\n",
        "We compare the values at the corresponding positions of the two pointers while moving them towards the center. If the values at any position don't match, we return False. If the pointers meet or cross each other, we return True.\n",
        "\n",
        "The **time complexity of this code is O(N)**, where N is the number of nodes in the linked list. We need to traverse the list once to store the values and then compare the values while moving the pointers.\n",
        "\n",
        "The **space complexity is O(N)**, as we need to store the values of each node in a list."
      ],
      "metadata": {
        "id": "Ors9hI9XCa5G"
      }
    },
    {
      "cell_type": "markdown",
      "source": [
        "# Question 5\n",
        "\n",
        "💡 Given a linked list of **N** nodes such that it may contain a loop.\n",
        "\n",
        "A loop here means that the last node of the link list is connected to the node at position X(1-based index). If the link list does not have any loop, X=0.\n",
        "\n",
        "Remove the loop from the linked list, if it is present, i.e. unlink the last node which is forming the loop.\n",
        "\n",
        "**Example 1:**\n",
        "\n",
        "Input:\n",
        "N = 3\n",
        "value[] = {1,3,4}\n",
        "X = 2\n",
        "Output:1\n",
        "Explanation:The link list looks like\n",
        "1 -> 3 -> 4\n",
        "     ^    |\n",
        "     |____|\n",
        "A loop is present. If you remove it\n",
        "successfully, the answer will be 1.\n",
        "\n",
        "\n",
        "**Example 2:**\n",
        "\n",
        "Input:\n",
        "N = 4\n",
        "value[] = {1,8,3,4}\n",
        "X = 0\n",
        "Output:1\n",
        "Explanation:The Linked list does not\n",
        "contains any loop.\n",
        "\n",
        "**Example 3:**\n",
        "\n",
        "Input:\n",
        "N = 4\n",
        "value[] = {1,2,3,4}\n",
        "X = 1\n",
        "Output:1\n",
        "Explanation:The link list looks like\n",
        "1 -> 2 -> 3 -> 4\n",
        "^              |\n",
        "|______________|\n",
        "A loop is present.\n",
        "If you remove it successfully,\n",
        "the answer will be 1."
      ],
      "metadata": {
        "id": "IC7N3xsIizmQ"
      }
    },
    {
      "cell_type": "markdown",
      "source": [
        "## Solution\n",
        "\n",
        "To remove a loop from a linked list, we can use **Floyd's Cycle Detection algorithm**. Here's the Python code to remove the loop:"
      ],
      "metadata": {
        "id": "vE7hMf9rCdVG"
      }
    },
    {
      "cell_type": "code",
      "source": [
        "class ListNode:\n",
        "    def __init__(self, val=0, next=None):\n",
        "        self.val = val\n",
        "        self.next = next\n",
        "\n",
        "def hasLoop(head):\n",
        "    if not head or not head.next:\n",
        "        return False\n",
        "\n",
        "    slow = head\n",
        "    fast = head\n",
        "\n",
        "    while fast and fast.next:\n",
        "        slow = slow.next\n",
        "        fast = fast.next.next\n",
        "\n",
        "        if slow == fast:\n",
        "            return True\n",
        "\n",
        "    return False\n",
        "\n",
        "def detectAndRemoveLoop(head):\n",
        "    slow = head\n",
        "    fast = head\n",
        "\n",
        "    # Detect loop using Floyd's Cycle Detection algorithm\n",
        "    while fast and fast.next:\n",
        "        slow = slow.next\n",
        "        fast = fast.next.next\n",
        "        if slow == fast:\n",
        "            break\n",
        "\n",
        "    # If no loop is present, return\n",
        "    if slow != fast:\n",
        "        return\n",
        "\n",
        "    # Move slow to the head and start from head and slow until they meet\n",
        "    slow = head\n",
        "    while slow.next != fast.next:\n",
        "        slow = slow.next\n",
        "        fast = fast.next\n",
        "\n",
        "    # Remove the loop\n",
        "    fast.next = None\n",
        "\n",
        "def printList(head):\n",
        "    curr = head\n",
        "    while curr:\n",
        "        print(curr.val, end=\" \")\n",
        "        curr = curr.next\n",
        "    print()"
      ],
      "metadata": {
        "id": "QuUHhpmhi9Ct"
      },
      "execution_count": null,
      "outputs": []
    },
    {
      "cell_type": "markdown",
      "source": [
        "### Test Cases"
      ],
      "metadata": {
        "id": "ETyjPAi1Cfk2"
      }
    },
    {
      "cell_type": "code",
      "source": [
        "# Test Case 1\n",
        "\n",
        "# Create the linked list: 1->3->4->2->5->6->4 (loop at 4)\n",
        "head = ListNode(1)\n",
        "head.next = ListNode(3)\n",
        "head.next.next = ListNode(4)\n",
        "head.next.next.next = ListNode(2)\n",
        "head.next.next.next.next = ListNode(5)\n",
        "head.next.next.next.next.next = ListNode(6)\n",
        "head.next.next.next.next.next.next = head.next.next  # Creating a loop\n",
        "\n",
        "print(\"Does the linked list has loop: \")\n",
        "# Check if the linked list has a loop\n",
        "hasLoop = hasLoop(head)\n",
        "print(hasLoop)\n",
        "\n",
        "# Detect and remove loop\n",
        "print(\"\\n\")\n",
        "print(\"Remove loop\")\n",
        "detectAndRemoveLoop(head)\n",
        "print(\"\\n\")\n",
        "print(\"Loop Removed, Link List without loop: \")\n",
        "printList(head)  # Output: 1 3 4 2 5 6"
      ],
      "metadata": {
        "id": "JsKc8-oeCh9S",
        "colab": {
          "base_uri": "https://localhost:8080/"
        },
        "outputId": "ac74f2a9-e9d7-43a5-8de6-1323dcac2fd8"
      },
      "execution_count": null,
      "outputs": [
        {
          "output_type": "stream",
          "name": "stdout",
          "text": [
            "Does the linked list has loop: \n",
            "True\n",
            "\n",
            "\n",
            "Remove loop\n",
            "\n",
            "\n",
            "Loop Removed, Link List without loop: \n",
            "1 3 4 2 5 6 \n"
          ]
        }
      ]
    },
    {
      "cell_type": "markdown",
      "source": [
        "### Conclusion\n",
        "\n",
        "In this code, the detectAndRemoveLoop function takes the head of a linked list as input and removes the loop if it exists.\n",
        "\n",
        "First, we initialize two pointers, slow and fast, pointing to the head of the list.\n",
        "\n",
        "We use the Floyd's Cycle Detection algorithm to detect a loop in the linked list. The fast pointer moves two nodes at a time, while the slow pointer moves one node at a time. If the pointers meet at any point, it indicates the presence of a loop.\n",
        "\n",
        "If no loop is detected, we simply return from the function.\n",
        "\n",
        "If a loop is detected, we move the slow pointer to the head of the list and start both slow and fast pointers again. They move one node at a time until they meet again. The meeting point will be the node where the loop starts.\n",
        "\n",
        "Finally, we break the loop by setting the next pointer of the node where the fast pointer reached to None.\n",
        "\n",
        "The **time complexity of this code is O(N)**, where N is the number of nodes in the linked list. The algorithm requires traversing the list at most twice - once for cycle detection and once for removing the loop.\n",
        "\n",
        "The **space complexity is O(1)** as we are using a constant amount of extra space to maintain the pointers."
      ],
      "metadata": {
        "id": "OXol5tfKCiSd"
      }
    },
    {
      "cell_type": "markdown",
      "source": [
        "# Question 6\n",
        "\n",
        "💡 Given a linked list and two integers M and N. Traverse the linked list such that you retain M nodes then delete next N nodes, continue the same till end of the linked list.\n",
        "\n",
        "Difficulty Level: Rookie\n",
        "\n",
        "**Examples**:\n",
        "\n",
        "Input:\n",
        "M = 2, N = 2\n",
        "Linked List: 1->2->3->4->5->6->7->8\n",
        "Output:\n",
        "Linked List: 1->2->5->6\n",
        "\n",
        "Input:\n",
        "M = 3, N = 2\n",
        "Linked List: 1->2->3->4->5->6->7->8->9->10\n",
        "Output:\n",
        "Linked List: 1->2->3->6->7->8\n",
        "\n",
        "Input:\n",
        "M = 1, N = 1\n",
        "Linked List: 1->2->3->4->5->6->7->8->9->10\n",
        "Output:\n",
        "Linked List: 1->3->5->7->9"
      ],
      "metadata": {
        "id": "DTFWlz2ci1VH"
      }
    },
    {
      "cell_type": "markdown",
      "source": [
        "## Solution\n",
        "\n",
        "To traverse the linked list and retain M nodes while deleting the next N nodes, we can iterate through the linked list and keep track of the count of nodes encountered. When the count reaches M, we skip the next N nodes and continue the traversal. Here's the Python code to achieve this:"
      ],
      "metadata": {
        "id": "SwMXZzFNCllx"
      }
    },
    {
      "cell_type": "code",
      "source": [
        "class ListNode:\n",
        "    def __init__(self, val=0, next=None):\n",
        "        self.val = val\n",
        "        self.next = next\n",
        "\n",
        "def skipNodes(head, count):\n",
        "    curr = head\n",
        "    while count > 1 and curr:\n",
        "        curr = curr.next\n",
        "        count -= 1\n",
        "    if curr and curr.next:\n",
        "        curr.next = curr.next.next\n",
        "\n",
        "def skipMDeleteN(head, M, N):\n",
        "    if M == 0:\n",
        "        return None\n",
        "\n",
        "    curr = head\n",
        "    count = 1\n",
        "\n",
        "    while curr:\n",
        "        if count % M == 0:\n",
        "            skipNodes(curr, N)\n",
        "            count = 0\n",
        "\n",
        "        curr = curr.next\n",
        "        count += 1\n",
        "\n",
        "    return head\n",
        "\n",
        "def printList(head):\n",
        "    curr = head\n",
        "    while curr:\n",
        "        print(curr.val, end=\" \")\n",
        "        curr = curr.next\n",
        "    print()"
      ],
      "metadata": {
        "id": "K9ZCgKoPi-cx"
      },
      "execution_count": null,
      "outputs": []
    },
    {
      "cell_type": "markdown",
      "source": [
        "### Test Cases"
      ],
      "metadata": {
        "id": "uu52aGOTCn1K"
      }
    },
    {
      "cell_type": "code",
      "source": [
        "# Test Case 1\n",
        "\n",
        "# Create the linked list: 1->2->3->4->5->6->7->8\n",
        "head = ListNode(1)\n",
        "head.next = ListNode(2)\n",
        "head.next.next = ListNode(3)\n",
        "head.next.next.next = ListNode(4)\n",
        "head.next.next.next.next = ListNode(5)\n",
        "head.next.next.next.next.next = ListNode(6)\n",
        "head.next.next.next.next.next.next = ListNode(7)\n",
        "head.next.next.next.next.next.next.next = ListNode(8)\n",
        "\n",
        "# Print the linked list\n",
        "node = head\n",
        "print(\"Linked List: \")\n",
        "while node:\n",
        "    print(node.val, end=\" \")\n",
        "    node = node.next\n",
        "\n",
        "print(\"\\n\")\n",
        "\n",
        "M = 2\n",
        "N = 2\n",
        "\n",
        "head = skipMDeleteN(head, M, N)\n",
        "\n",
        "printList(head)"
      ],
      "metadata": {
        "id": "KmMu8RBRCqNP",
        "colab": {
          "base_uri": "https://localhost:8080/"
        },
        "outputId": "e848fbb5-4699-4930-b577-709c0ee8433c"
      },
      "execution_count": null,
      "outputs": [
        {
          "output_type": "stream",
          "name": "stdout",
          "text": [
            "Linked List: \n",
            "1 2 3 4 5 6 7 8 \n",
            "\n",
            "1 2 3 5 6 8 \n"
          ]
        }
      ]
    },
    {
      "cell_type": "code",
      "source": [
        "# Test Case 2\n",
        "\n",
        "# Create the linked list: 1->2->3->4->5->6->7->8\n",
        "head = ListNode(1)\n",
        "head.next = ListNode(2)\n",
        "head.next.next = ListNode(3)\n",
        "head.next.next.next = ListNode(4)\n",
        "head.next.next.next.next = ListNode(5)\n",
        "head.next.next.next.next.next = ListNode(6)\n",
        "head.next.next.next.next.next.next = ListNode(7)\n",
        "head.next.next.next.next.next.next.next = ListNode(8)\n",
        "\n",
        "# Print the linked list\n",
        "node = head\n",
        "print(\"Linked List: \")\n",
        "while node:\n",
        "    print(node.val, end=\" \")\n",
        "    node = node.next\n",
        "\n",
        "print(\"\\n\")\n",
        "\n",
        "M = 3\n",
        "N = 2\n",
        "\n",
        "head = skipMDeleteN(head, M, N)\n",
        "\n",
        "printList(head)"
      ],
      "metadata": {
        "id": "UoFa4jnBCqV7",
        "colab": {
          "base_uri": "https://localhost:8080/"
        },
        "outputId": "af3073d9-dd32-48cf-e30c-5d4c35a649df"
      },
      "execution_count": null,
      "outputs": [
        {
          "output_type": "stream",
          "name": "stdout",
          "text": [
            "Linked List: \n",
            "1 2 3 4 5 6 7 8 \n",
            "\n",
            "1 2 3 4 6 7 8 \n"
          ]
        }
      ]
    },
    {
      "cell_type": "code",
      "source": [
        "# Test Case 3\n",
        "\n",
        "# Create the linked list: 1->2->3->4->5->6->7->8\n",
        "head = ListNode(1)\n",
        "head.next = ListNode(2)\n",
        "head.next.next = ListNode(3)\n",
        "head.next.next.next = ListNode(4)\n",
        "head.next.next.next.next = ListNode(5)\n",
        "head.next.next.next.next.next = ListNode(6)\n",
        "head.next.next.next.next.next.next = ListNode(7)\n",
        "head.next.next.next.next.next.next.next = ListNode(8)\n",
        "\n",
        "# Print the linked list\n",
        "node = head\n",
        "print(\"Linked List: \")\n",
        "while node:\n",
        "    print(node.val, end=\" \")\n",
        "    node = node.next\n",
        "\n",
        "print(\"\\n\")\n",
        "\n",
        "M = 1\n",
        "N = 1\n",
        "\n",
        "head = skipMDeleteN(head, M, N)\n",
        "\n",
        "printList(head)"
      ],
      "metadata": {
        "id": "qI2ZOrtjCqco",
        "colab": {
          "base_uri": "https://localhost:8080/"
        },
        "outputId": "70078e60-293a-495d-cda4-51ebc360420d"
      },
      "execution_count": null,
      "outputs": [
        {
          "output_type": "stream",
          "name": "stdout",
          "text": [
            "Linked List: \n",
            "1 2 3 4 5 6 7 8 \n",
            "\n",
            "1 3 5 7 \n"
          ]
        }
      ]
    },
    {
      "cell_type": "markdown",
      "source": [
        "### Conclusion\n",
        "\n",
        "In this code, the skipNodes function takes a starting node and a count as input and skips the next N nodes by updating the next pointer of the current node.\n",
        "\n",
        "The skipMDeleteN function takes the head of the linked list, M, and N as input. It iterates through the linked list and at every Mth node, it calls the skipNodes function to skip the next N nodes. The count variable keeps track of the current position in the linked list.\n",
        "\n",
        "The printList function is used to print the elements of the modified linked list.\n",
        "\n",
        "The **time complexity of this code is O(N)**, where N is the number of nodes in the linked list. We traverse the list once to skip nodes and delete nodes as required.\n",
        "\n",
        "The **space complexity is O(1)** as we are using a constant amount of extra space to maintain the pointers and variables."
      ],
      "metadata": {
        "id": "627eDI8dCqxk"
      }
    },
    {
      "cell_type": "markdown",
      "source": [
        "# Question 7\n",
        "\n",
        "💡 Given two linked lists, insert nodes of second list into first list at alternate positions of first list.\n",
        "For example, if first list is 5->7->17->13->11 and second is 12->10->2->4->6, the first list should become 5->12->7->10->17->2->13->4->11->6 and second list should become empty. The nodes of second list should only be inserted when there are positions available. For example, if the first list is 1->2->3 and second list is 4->5->6->7->8, then first list should become 1->4->2->5->3->6 and second list to 7->8.\n",
        "\n",
        "Use of extra space is not allowed (Not allowed to create additional nodes), i.e., insertion must be done in-place. Expected time complexity is O(n) where n is number of nodes in first list."
      ],
      "metadata": {
        "id": "REK6eFETi2th"
      }
    },
    {
      "cell_type": "markdown",
      "source": [
        "## Solution\n",
        "\n",
        "To insert nodes of the second list into the first list at alternate positions without using extra space, we can traverse both lists simultaneously and modify the pointers to achieve the desired insertion. Here's the Python code to do that:"
      ],
      "metadata": {
        "id": "qrZ-ZcdICteG"
      }
    },
    {
      "cell_type": "code",
      "source": [
        "class ListNode:\n",
        "    def __init__(self, val=0, next=None):\n",
        "        self.val = val\n",
        "        self.next = next\n",
        "\n",
        "def mergeLists(first, second):\n",
        "    if not first:\n",
        "        return second\n",
        "\n",
        "    if not second:\n",
        "        return first\n",
        "\n",
        "    curr1 = first\n",
        "    curr2 = second\n",
        "\n",
        "    while curr1 and curr2:\n",
        "        next1 = curr1.next\n",
        "        next2 = curr2.next\n",
        "\n",
        "        curr1.next = curr2\n",
        "        curr2.next = next1\n",
        "\n",
        "        curr1 = next1\n",
        "        curr2 = next2\n",
        "\n",
        "    second = curr2  # Attach remaining nodes of second list to the end of first list\n",
        "\n",
        "    return first\n",
        "\n",
        "def printList(head):\n",
        "    curr = head\n",
        "    while curr:\n",
        "        print(curr.val, end=\" \")\n",
        "        curr = curr.next\n",
        "    print()"
      ],
      "metadata": {
        "id": "z3bLzCz1i_mV"
      },
      "execution_count": null,
      "outputs": []
    },
    {
      "cell_type": "markdown",
      "source": [
        "### Test Cases"
      ],
      "metadata": {
        "id": "2fxdiR3yCvyM"
      }
    },
    {
      "cell_type": "code",
      "source": [
        "# Test Case 1\n",
        "\n",
        "# Create the first linked list: 5->7->17->13->11\n",
        "first = ListNode(5)\n",
        "first.next = ListNode(7)\n",
        "first.next.next = ListNode(17)\n",
        "first.next.next.next = ListNode(13)\n",
        "first.next.next.next.next = ListNode(11)\n",
        "\n",
        "# Print the first linked list\n",
        "node = first\n",
        "print(\"First Linked List: \")\n",
        "while node:\n",
        "    print(node.val, end=\" \")\n",
        "    node = node.next\n",
        "\n",
        "print(\"\\n\")\n",
        "\n",
        "# Create the second linked list: 12->10->2->4->6\n",
        "second = ListNode(12)\n",
        "second.next = ListNode(10)\n",
        "second.next.next = ListNode(2)\n",
        "second.next.next.next = ListNode(4)\n",
        "second.next.next.next.next = ListNode(6)\n",
        "\n",
        "# Print the second linked list\n",
        "node = second\n",
        "print(\"Second Linked List: \")\n",
        "while node:\n",
        "    print(node.val, end=\" \")\n",
        "    node = node.next\n",
        "\n",
        "print(\"\\n\")\n",
        "\n",
        "first = mergeLists(first, second)\n",
        "\n",
        "print(\"First List After Merge:\")\n",
        "printList(first)\n",
        "print(\"\\n\")\n",
        "print(\"Second List After Merge:\")\n",
        "printList(second)"
      ],
      "metadata": {
        "id": "LYZ1bGBaCyxe",
        "colab": {
          "base_uri": "https://localhost:8080/"
        },
        "outputId": "8fc609bf-a15e-4114-a2b2-3e458d63b37a"
      },
      "execution_count": null,
      "outputs": [
        {
          "output_type": "stream",
          "name": "stdout",
          "text": [
            "First Linked List: \n",
            "5 7 17 13 11 \n",
            "\n",
            "Second Linked List: \n",
            "12 10 2 4 6 \n",
            "\n",
            "First List After Merge:\n",
            "5 12 7 10 17 2 13 4 11 6 \n",
            "\n",
            "\n",
            "Second List After Merge:\n",
            "12 7 10 17 2 13 4 11 6 \n"
          ]
        }
      ]
    },
    {
      "cell_type": "markdown",
      "source": [
        "### Conclusion\n",
        "\n",
        "In the above code, the mergeLists function takes the head nodes of the first and second linked lists as input. It traverses both lists simultaneously, while modifying the pointers to insert the nodes from the second list into alternate positions of the first list. The function returns the modified first list.\n",
        "\n",
        "The printList function is used to print the elements of the linked list.\n",
        "\n",
        "The **time complexity of this code is O(n)**, where n is the number of nodes in the first list. We traverse both lists only once.\n",
        "\n",
        "The **space complexity is O(1)** as we are not using any extra space. We perform the insertion in-place, without creating additional nodes."
      ],
      "metadata": {
        "id": "_wZwZmUCCy-w"
      }
    },
    {
      "cell_type": "markdown",
      "source": [
        "# Question 8\n",
        "\n",
        "💡 Given a singly linked list, find if the linked list is [circular](https://www.geeksforgeeks.org/circular-linked-list/amp/) or not.\n",
        "\n",
        "A linked list is called circular if it is not NULL-terminated and all nodes are connected in the form of a cycle. Below is an example of a circular linked list.\n",
        "\n",
        "![image.png](data:image/png;base64,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)"
      ],
      "metadata": {
        "id": "B8_UhTKLi3-V"
      }
    },
    {
      "cell_type": "markdown",
      "source": [
        "## Solution\n",
        "\n",
        "To determine whether a singly linked list is circular or not, we can use the concept of a slow and fast pointer. If the linked list has a cycle, then at some point, the fast pointer will catch up with the slow pointer, indicating the presence of a cycle. If the fast pointer reaches the end of the list (i.e., becomes NULL), then the linked list is not circular.\n",
        "\n",
        "Here's the Python code to check whether a linked list is circular or not:"
      ],
      "metadata": {
        "id": "tn_WUffAC1cs"
      }
    },
    {
      "cell_type": "code",
      "source": [
        "class ListNode:\n",
        "    def __init__(self, val=0, next=None):\n",
        "        self.val = val\n",
        "        self.next = next\n",
        "\n",
        "def isCircular(head):\n",
        "    if not head or not head.next:\n",
        "        return False\n",
        "\n",
        "    slow = head\n",
        "    fast = head.next\n",
        "\n",
        "    while fast and fast.next:\n",
        "        if slow == fast:\n",
        "            return True\n",
        "\n",
        "        slow = slow.next\n",
        "        fast = fast.next.next\n",
        "\n",
        "    return False"
      ],
      "metadata": {
        "id": "JaVWh-OKjAgg"
      },
      "execution_count": null,
      "outputs": []
    },
    {
      "cell_type": "markdown",
      "source": [
        "### Test Cases"
      ],
      "metadata": {
        "id": "X8F8fDb2C4ib"
      }
    },
    {
      "cell_type": "code",
      "source": [
        "# Test Case 1\n",
        "# Example of a circular linked list\n",
        "# Create the circular linked list: 1 -> 2 -> 3 -> 4 -> 5 -> 2 (points back to node 2)\n",
        "head = ListNode(1)\n",
        "head.next = ListNode(2)\n",
        "head.next.next = ListNode(3)\n",
        "head.next.next.next = ListNode(4)\n",
        "head.next.next.next.next = ListNode(5)\n",
        "head.next.next.next.next.next = head.next\n",
        "\n",
        "\n",
        "# Check if the linked list is circular\n",
        "print(\"Does the list circular: \")\n",
        "print(isCircular(head))  # Output: True"
      ],
      "metadata": {
        "id": "RteSslQeC-nA",
        "colab": {
          "base_uri": "https://localhost:8080/"
        },
        "outputId": "ffc7c052-72aa-4997-d0d4-cbf6914d0190"
      },
      "execution_count": null,
      "outputs": [
        {
          "output_type": "stream",
          "name": "stdout",
          "text": [
            "Does the list circular: \n",
            "True\n"
          ]
        }
      ]
    },
    {
      "cell_type": "code",
      "source": [
        "# Test Case 2\n",
        "\n",
        "# Example of a non-circular linked list\n",
        "# Create the non-circular linked list: 1 -> 2 -> 3 -> 4 -> 5\n",
        "head = ListNode(1)\n",
        "head.next = ListNode(2)\n",
        "head.next.next = ListNode(3)\n",
        "head.next.next.next = ListNode(4)\n",
        "head.next.next.next.next = ListNode(5)\n",
        "\n",
        "# Check if the linked list is circular\n",
        "print(\"Does the list circular: \")\n",
        "print(isCircular(head))  # Output: False"
      ],
      "metadata": {
        "id": "xSoLRfSVC-vO",
        "colab": {
          "base_uri": "https://localhost:8080/"
        },
        "outputId": "d17c63cb-1f30-49c3-fb52-e92313399a28"
      },
      "execution_count": null,
      "outputs": [
        {
          "output_type": "stream",
          "name": "stdout",
          "text": [
            "Does the list circular: \n",
            "False\n"
          ]
        }
      ]
    },
    {
      "cell_type": "markdown",
      "source": [
        "### Conclusion\n",
        "\n",
        "In this code, the isCircular function takes the head node of the linked list as input. It initializes two pointers, slow and fast, pointing to the head and the next node, respectively. The function then traverses the linked list using a slow pointer that moves one node at a time and a fast pointer that moves two nodes at a time. If the fast pointer ever catches up with the slow pointer, a cycle is detected, and the function returns True. If the fast pointer reaches the end of the list (i.e., becomes NULL), the function returns False.\n",
        "\n",
        "The **time complexity of this code is O(n)**, where n is the number of nodes in the linked list. We traverse the list once using the slow and fast pointers.\n",
        "\n",
        "The **space complexity is O(1)** as we are not using any extra space. We only use two pointers to keep track of the positions in the linked list."
      ],
      "metadata": {
        "id": "AD4gUAQUC6u0"
      }
    }
  ]
}