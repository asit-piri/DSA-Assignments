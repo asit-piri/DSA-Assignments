{
  "nbformat": 4,
  "nbformat_minor": 0,
  "metadata": {
    "colab": {
      "provenance": []
    },
    "kernelspec": {
      "name": "python3",
      "display_name": "Python 3"
    },
    "language_info": {
      "name": "python"
    }
  },
  "cells": [
    {
      "cell_type": "markdown",
      "source": [
        "#Assignment 1 Questions - Arrays | DSA\n",
        "##Name: Asit Piri"
      ],
      "metadata": {
        "id": "tBYc0zXWURFW"
      }
    },
    {
      "cell_type": "markdown",
      "source": [
        "# Question 1\n",
        "\n",
        "💡 Given an array of integers nums and an integer target, return indices of the two numbers such that they add up to target.\n",
        "\n",
        "You may assume that each input would have exactly one solution, and you may not use the same element twice.\n",
        "\n",
        "You can return the answer in any order.\n",
        "\n",
        "**Example:**\n",
        "Input: nums = [2,7,11,15], target = 9\n",
        "Output0 [0,1]\n",
        "\n",
        "**Explanation:** Because nums[0] + nums[1] == 9, we return [0, 1]["
      ],
      "metadata": {
        "id": "ALVi3RR7TwSP"
      }
    },
    {
      "cell_type": "code",
      "source": [
        "'''\n",
        "To find the indices of two numbers in an array that add up to a target value, we can use a hash map (dictionary) to optimize the solution. \n",
        "Here's an optimized Python code to solve the problem:\n",
        "'''\n",
        "\n",
        "def twoSum(nums, target):\n",
        "    num_dict = {}  # Key: number, Value: index\n",
        "    \n",
        "    for i, num in enumerate(nums):\n",
        "        complement = target - num\n",
        "\n",
        "        if complement in num_dict:\n",
        "            return [num_dict[complement], i]\n",
        "\n",
        "        num_dict[num] = i\n",
        "\n",
        "    return []  # No solution found"
      ],
      "metadata": {
        "id": "YyP2_s0hUMCp"
      },
      "execution_count": 36,
      "outputs": []
    },
    {
      "cell_type": "code",
      "source": [
        "# Test Case 1\n",
        "\n",
        "# Inputs\n",
        "nums = [2, 7, 11, 15]\n",
        "target = 9\n",
        "\n",
        "# Calling Function twoSum\n",
        "indices = twoSum(nums, target)\n",
        "print(\"Indices:\", indices)"
      ],
      "metadata": {
        "colab": {
          "base_uri": "https://localhost:8080/"
        },
        "id": "zK4xO-8x078T",
        "outputId": "a2182825-8d1b-43e1-a505-651e6aa5705d"
      },
      "execution_count": 37,
      "outputs": [
        {
          "output_type": "stream",
          "name": "stdout",
          "text": [
            "Indices: [0, 1]\n"
          ]
        }
      ]
    },
    {
      "cell_type": "code",
      "source": [
        "# Test Case 2\n",
        "\n",
        "# Inputs\n",
        "nums = [2, 7, 11, 15]\n",
        "target = 26\n",
        "\n",
        "# Calling Function twoSum\n",
        "indices = twoSum(nums, target)\n",
        "print(\"Indices:\", indices)"
      ],
      "metadata": {
        "colab": {
          "base_uri": "https://localhost:8080/"
        },
        "id": "EqcHY3izz55w",
        "outputId": "67c37bc5-aca3-4648-c226-1a917c1b4a5a"
      },
      "execution_count": 38,
      "outputs": [
        {
          "output_type": "stream",
          "name": "stdout",
          "text": [
            "Indices: [2, 3]\n"
          ]
        }
      ]
    },
    {
      "cell_type": "code",
      "source": [
        "# Test Case 3\n",
        "\n",
        "# Inputs\n",
        "nums = [2, 7, 11, 15]\n",
        "target = 50\n",
        "\n",
        "# Calling Function twoSum\n",
        "indices = twoSum(nums, target)\n",
        "print(\"Indices:\", indices)"
      ],
      "metadata": {
        "colab": {
          "base_uri": "https://localhost:8080/"
        },
        "id": "qrtyvj5i9yUz",
        "outputId": "58daca86-f8a9-40ec-c324-7b3d6de35753"
      },
      "execution_count": 39,
      "outputs": [
        {
          "output_type": "stream",
          "name": "stdout",
          "text": [
            "Indices: []\n"
          ]
        }
      ]
    },
    {
      "cell_type": "markdown",
      "source": [
        "**Conclusion:**\n",
        "In this code, we iterate through the array nums and for each number, we calculate its complement (target minus the current number). We check if the complement exists in the num_dict hash map. If it does, we return the indices of the current number and its complement. If the complement doesn't exist in the hash map, we store the current number and its index in the hash map for future lookups.\n",
        "\n",
        "The **time complexity** of this approach is **O(n)**, where **n is the size of the array nums**. This is because we iterate through the array once, and each lookup in the hash map takes constant time on average. \n",
        "\n",
        "The **space complexity** is also **O(n)** because, **in the worst case, we may store all elements of nums in the hash map**."
      ],
      "metadata": {
        "id": "2YyYoIMNXv6d"
      }
    },
    {
      "cell_type": "markdown",
      "source": [
        "# Question 2\n",
        "\n",
        "💡 Given an integer array nums and an integer val, remove all occurrences of val in nums in-place. The order of the elements may be changed. Then return the number of elements in nums which are not equal to val.\n",
        "\n",
        "Consider the number of elements in nums which are not equal to val be k, to get accepted, you need to do the following things:\n",
        "\n",
        "- Change the array nums such that the first k elements of nums contain the elements which are not equal to val. The remaining elements of nums are not important as well as the size of nums.\n",
        "- Return k.\n",
        "\n",
        "**Example :**\n",
        "Input: nums = [3,2,2,3], val = 3\n",
        "Output: 2, nums = [2,2,_*,_*]\n",
        "\n",
        "**Explanation:** Your function should return k = 2, with the first two elements of nums being 2. It does not matter what you leave beyond the returned k (hence they are underscores)["
      ],
      "metadata": {
        "id": "Xm-HnprqUodS"
      }
    },
    {
      "cell_type": "code",
      "source": [
        "'''\n",
        "To remove all occurrences of a given value val from the array nums in-place and return the number of elements in nums that are not equal to val, \n",
        "we can use a two-pointer approach. Here's an optimized Python code to solve the problem:\n",
        "'''\n",
        "\n",
        "def removeElement(nums, val):\n",
        "    left = 0\n",
        "    right = len(nums) - 1\n",
        "\n",
        "    while left <= right:\n",
        "        if nums[left] == val:\n",
        "            nums[left] = nums[right]\n",
        "            right -= 1\n",
        "        else:\n",
        "            left += 1\n",
        "\n",
        "    return left"
      ],
      "metadata": {
        "id": "jqf3RZBZUzIf"
      },
      "execution_count": 45,
      "outputs": []
    },
    {
      "cell_type": "code",
      "source": [
        "# Test Case 0\n",
        "nums = [3, 2, 2, 3, 2]\n",
        "val = 100\n",
        "k = removeElement(nums, val)\n",
        "print(\"k:\", k)\n",
        "print(\"nums:\", nums[:k])\n",
        "print( [\"*\"] * (len(nums) - k))\n",
        "print(\"nums:\", nums[:k] + [\"*\"] * (len(nums) - k))"
      ],
      "metadata": {
        "colab": {
          "base_uri": "https://localhost:8080/"
        },
        "id": "8dLqbS1FGIJG",
        "outputId": "69a51eae-44a3-4cb0-d3fc-399c6348a128"
      },
      "execution_count": 55,
      "outputs": [
        {
          "output_type": "stream",
          "name": "stdout",
          "text": [
            "k: 5\n",
            "nums: [3, 2, 2, 3, 2]\n",
            "[]\n",
            "nums: [3, 2, 2, 3, 2]\n"
          ]
        }
      ]
    },
    {
      "cell_type": "code",
      "source": [
        "# Test Case 1\n",
        "nums = [3, 2, 2, 3, 2]\n",
        "val = 3\n",
        "k = removeElement(nums, val)\n",
        "print(\"k:\", k)\n",
        "print(\"nums:\", nums[:k] + [\"*\"] * (len(nums) - k))"
      ],
      "metadata": {
        "colab": {
          "base_uri": "https://localhost:8080/"
        },
        "id": "joY7voRw23mZ",
        "outputId": "3a301705-9315-4b41-d544-0f7a8d973a7c"
      },
      "execution_count": 50,
      "outputs": [
        {
          "output_type": "stream",
          "name": "stdout",
          "text": [
            "k: 3\n",
            "nums: [2, 2, 2, '*', '*']\n"
          ]
        }
      ]
    },
    {
      "cell_type": "code",
      "source": [
        "# Test Case 2\n",
        "nums = [3, 2, 2, 3, 2]\n",
        "val = 2\n",
        "k = removeElement(nums, val)\n",
        "print(\"k:\", k)\n",
        "print(\"nums:\", nums[:k] + [\"*\"] * (len(nums) - k))"
      ],
      "metadata": {
        "colab": {
          "base_uri": "https://localhost:8080/"
        },
        "id": "J9oPbZzAAagy",
        "outputId": "d05b90ed-e4be-4dcb-ad48-96fcbd428e61"
      },
      "execution_count": 51,
      "outputs": [
        {
          "output_type": "stream",
          "name": "stdout",
          "text": [
            "k: 2\n",
            "nums: [3, 3, '*', '*', '*']\n"
          ]
        }
      ]
    },
    {
      "cell_type": "code",
      "source": [
        "# Test Case 3\n",
        "nums = [3, 2, 2, 3, 5, 5, 5, 5, 6, 6, 6]\n",
        "val = 5\n",
        "k = removeElement(nums, val)\n",
        "print(\"k:\", k)\n",
        "print(\"nums:\", nums[:k] + [\"*\"] * (len(nums) - k))"
      ],
      "metadata": {
        "colab": {
          "base_uri": "https://localhost:8080/"
        },
        "id": "z0QX08OHAhj1",
        "outputId": "81cfeb1f-172e-4da4-ac6e-7d596bba4a11"
      },
      "execution_count": 48,
      "outputs": [
        {
          "output_type": "stream",
          "name": "stdout",
          "text": [
            "k: 7\n",
            "nums: [3, 2, 2, 3, 6, 6, 6, '*', '*', '*', '*']\n"
          ]
        }
      ]
    },
    {
      "cell_type": "code",
      "source": [
        "# Test Case 4\n",
        "nums = [3, 2, 2, 3, 5, 5, 5, 5, 6, 6, 6]\n",
        "val = 6\n",
        "k = removeElement(nums, val)\n",
        "print(\"k:\", k)\n",
        "print(\"nums:\", nums[:k] + [\"*\"] * (len(nums) - k))"
      ],
      "metadata": {
        "colab": {
          "base_uri": "https://localhost:8080/"
        },
        "id": "MFLRl2LTAthQ",
        "outputId": "7ef459b8-cce5-4490-8998-b0579c66ff1f"
      },
      "execution_count": 49,
      "outputs": [
        {
          "output_type": "stream",
          "name": "stdout",
          "text": [
            "k: 8\n",
            "nums: [3, 2, 2, 3, 5, 5, 5, 5, '*', '*', '*']\n"
          ]
        }
      ]
    },
    {
      "cell_type": "markdown",
      "source": [
        "**Conclusion:**\n",
        "In the above code, we initialize two pointers, left and right, where left points to the start of the array and right points to the end of the array. We iterate through the array while left is less than or equal to right. If the element at left is equal to val, we replace it with the element at right and decrement right by 1. If the element at left is not equal to val, we increment left by 1. This process continues until left becomes greater than right.\n",
        "\n",
        "Finally, we return the value of left, which represents the number of elements in nums that are not equal to val. To display nums with the first k elements containing the elements not equal to val, we print nums[:k] and append \"*\" for the remaining elements.\n",
        "\n",
        "The **time complexity** of this approach is **O(n)**, where **n is the size of the array nums**. \n",
        "\n",
        "The **space complexity** is **O(1)** since we perform the operations in-place without using any extra space that depends on the size of nums."
      ],
      "metadata": {
        "id": "1iNxSQwRaaTc"
      }
    },
    {
      "cell_type": "markdown",
      "source": [
        "# Question 3\n",
        "\n",
        "💡 Given a sorted array of distinct integers and a target value, return the index if the target is found. If not, return the index where it would be if it were inserted in order.\n",
        "\n",
        "You must write an algorithm with O(log n) runtime complexity.\n",
        "\n",
        "**Example 1:**\n",
        "Input: nums = [1,3,5,6], target = 5\n",
        "\n",
        "Output: 2"
      ],
      "metadata": {
        "id": "STfxh_lSUzoD"
      }
    },
    {
      "cell_type": "code",
      "source": [
        "'''\n",
        "To find the index of a target value in a sorted array of distinct integers or the index where it would be inserted in order, \n",
        "we can use a binary search algorithm. Here's an optimized Python code to solve the problem:\n",
        "'''\n",
        "\n",
        "def searchInsert(nums, target):\n",
        "    left = 0\n",
        "    right = len(nums) - 1\n",
        "\n",
        "    while left <= right:\n",
        "        mid = left + (right - left) // 2\n",
        "\n",
        "        if nums[mid] == target:\n",
        "            return mid\n",
        "        elif nums[mid] < target:\n",
        "            left = mid + 1\n",
        "        else:\n",
        "            right = mid - 1\n",
        "\n",
        "    return left"
      ],
      "metadata": {
        "id": "oAbmaEgtU68d"
      },
      "execution_count": 57,
      "outputs": []
    },
    {
      "cell_type": "code",
      "source": [
        "# Test Case 0\n",
        "nums = [1, 3, 5, 6]\n",
        "target = 0\n",
        "index = searchInsert(nums, target)\n",
        "print(\"Index:\", index)"
      ],
      "metadata": {
        "colab": {
          "base_uri": "https://localhost:8080/"
        },
        "id": "BH7IGHLIIQWN",
        "outputId": "eed2b760-f0e0-4a6d-d09f-04c772edbf24"
      },
      "execution_count": 65,
      "outputs": [
        {
          "output_type": "stream",
          "name": "stdout",
          "text": [
            "Index: 0\n"
          ]
        }
      ]
    },
    {
      "cell_type": "code",
      "source": [
        "# Test Case 1\n",
        "nums = [0, 1, 3, 5, 6]\n",
        "target = 5\n",
        "index = searchInsert(nums, target)\n",
        "print(\"Index:\", index)"
      ],
      "metadata": {
        "colab": {
          "base_uri": "https://localhost:8080/"
        },
        "id": "HvwJ1kH9IEK3",
        "outputId": "b81c72aa-3e76-4362-cdd9-e5718cbfc8e4"
      },
      "execution_count": 66,
      "outputs": [
        {
          "output_type": "stream",
          "name": "stdout",
          "text": [
            "Index: 3\n"
          ]
        }
      ]
    },
    {
      "cell_type": "code",
      "source": [
        "# Test Case 2\n",
        "nums = [1, 3, 5, 6]\n",
        "target = 1\n",
        "index = searchInsert(nums, target)\n",
        "print(\"Index:\", index)"
      ],
      "metadata": {
        "colab": {
          "base_uri": "https://localhost:8080/"
        },
        "id": "xJJ0gME8Ibo-",
        "outputId": "385f3991-7a4f-4278-aef2-a74470301b66"
      },
      "execution_count": 60,
      "outputs": [
        {
          "output_type": "stream",
          "name": "stdout",
          "text": [
            "Index: 0\n"
          ]
        }
      ]
    },
    {
      "cell_type": "markdown",
      "source": [
        "**Conclusion: **\n",
        "\n",
        "In this code, we use a **binary search algorithm** to find the index of the target value in the sorted array nums. We initialize two pointers, left and right, where left points to the start of the array and right points to the end of the array. We repeatedly calculate the middle index, mid, and compare the element at mid with the target value. If they are equal, we return mid as the index of the target. If the element at mid is less than the target, we update left to mid + 1. If the element at mid is greater than the target, we update right to mid - 1. We continue this process until left becomes greater than right. In the end, if the target is not found, we return left as the index where the target would be inserted in order.\n",
        "\n",
        "The **time complexity** of this approach is **O(log n)**, where **n is the size of the array nums**. This is because we perform a binary search, and at each step, **we divide the search space in half**. \n",
        "\n",
        "The **space complexity** is **O(1)** **since we perform the operations using a constant amount of auxiliary (extra) space**."
      ],
      "metadata": {
        "id": "GPgOp5QLbmLD"
      }
    },
    {
      "cell_type": "markdown",
      "source": [
        "# Question 4\n",
        "\n",
        "💡 You are given a large integer represented as an integer array digits, where each digits[i] is the ith digit of the integer. The digits are ordered from most significant to least significant in left-to-right order. The large integer does not contain any leading 0's.\n",
        "\n",
        "Increment the large integer by one and return the resulting array of digits.\n",
        "\n",
        "**Example 1:**\n",
        "Input: digits = [1,2,3]\n",
        "Output: [1,2,4]\n",
        "\n",
        "**Explanation:** The array represents the integer 123.\n",
        "\n",
        "Incrementing by one gives 123 + 1 = 124.\n",
        "Thus, the result should be [1,2,4]."
      ],
      "metadata": {
        "id": "MJPT7ylAU7X4"
      }
    },
    {
      "cell_type": "code",
      "source": [
        "'''\n",
        "To increment a large integer represented as an integer array of digits by one, we start from the least significant digit and add one to it. \n",
        "If the result is less than 10, we can update the digit and return the updated array. If the result is 10, we set the digit to 0 and move to the next digit. \n",
        "We repeat this process until we encounter a digit that is less than 9 or reach the most significant digit. If we reach the most significant digit and \n",
        "it becomes 10, we need to add an additional digit at the beginning of the array. Here's an optimized Python code to solve the problem:\n",
        "'''\n",
        "\n",
        "def plusOne(digits):\n",
        "    n = len(digits)\n",
        "    for i in range(n - 1, -1, -1):\n",
        "        if digits[i] < 9:\n",
        "            digits[i] += 1\n",
        "            return digits\n",
        "        digits[i] = 0\n",
        "\n",
        "    return [1] + digits\n"
      ],
      "metadata": {
        "id": "QCggnTurVJm5"
      },
      "execution_count": 67,
      "outputs": []
    },
    {
      "cell_type": "code",
      "source": [
        "# Test Case 1\n",
        "digits = [1, 2, 3]\n",
        "result = plusOne(digits)\n",
        "print(\"Result:\", result)"
      ],
      "metadata": {
        "colab": {
          "base_uri": "https://localhost:8080/"
        },
        "id": "QvYrQEzdKYbq",
        "outputId": "cc707c4c-e66c-4ec3-a37b-7f26d9d1dc6f"
      },
      "execution_count": 68,
      "outputs": [
        {
          "output_type": "stream",
          "name": "stdout",
          "text": [
            "Result: [1, 2, 4]\n"
          ]
        }
      ]
    },
    {
      "cell_type": "code",
      "source": [
        "# Test Case 2\n",
        "digits = [1, 2, 3, 0]\n",
        "result = plusOne(digits)\n",
        "print(\"Result:\", result)"
      ],
      "metadata": {
        "colab": {
          "base_uri": "https://localhost:8080/"
        },
        "id": "QlbSZRkFKkXv",
        "outputId": "e5a17c6c-cfea-487d-e7a0-81e787cdf0a1"
      },
      "execution_count": 69,
      "outputs": [
        {
          "output_type": "stream",
          "name": "stdout",
          "text": [
            "Result: [1, 2, 3, 1]\n"
          ]
        }
      ]
    },
    {
      "cell_type": "code",
      "source": [
        "# Test Case 3\n",
        "digits = [1, 2, 3, 5]\n",
        "result = plusOne(digits)\n",
        "print(\"Result:\", result)"
      ],
      "metadata": {
        "colab": {
          "base_uri": "https://localhost:8080/"
        },
        "id": "UzSmCh2zKtbO",
        "outputId": "737550ef-3751-48ee-c4ed-e00d920df534"
      },
      "execution_count": 71,
      "outputs": [
        {
          "output_type": "stream",
          "name": "stdout",
          "text": [
            "Result: [1, 2, 3, 6]\n"
          ]
        }
      ]
    },
    {
      "cell_type": "code",
      "source": [
        "# Test Case 4\n",
        "digits = [1, 2, 3, 8]\n",
        "result = plusOne(digits)\n",
        "print(\"Result:\", result)"
      ],
      "metadata": {
        "colab": {
          "base_uri": "https://localhost:8080/"
        },
        "id": "uTJAsT4xLL3Y",
        "outputId": "62366265-7598-475b-c108-76224f2f4a91"
      },
      "execution_count": 77,
      "outputs": [
        {
          "output_type": "stream",
          "name": "stdout",
          "text": [
            "Result: [1, 2, 3, 9]\n"
          ]
        }
      ]
    },
    {
      "cell_type": "code",
      "source": [
        "# Test Case 5\n",
        "digits = [1, 2, 3, 9]\n",
        "result = plusOne(digits)\n",
        "print(\"Result:\", result)"
      ],
      "metadata": {
        "colab": {
          "base_uri": "https://localhost:8080/"
        },
        "id": "BwtNOzYML58Y",
        "outputId": "062e0626-dece-49df-f3d8-b82fb7c0d932"
      },
      "execution_count": 78,
      "outputs": [
        {
          "output_type": "stream",
          "name": "stdout",
          "text": [
            "Result: [1, 2, 4, 0]\n"
          ]
        }
      ]
    },
    {
      "cell_type": "markdown",
      "source": [
        "**Conclusion:**\n",
        "In this code, we start iterating from the least significant digit (at index n-1) to the most significant digit (at index 0). We check if the current digit is less than 9. If it is, we increment the digit by 1 and return the updated array. If the current digit is 9, we set it to 0 and move to the next digit. This process continues until we encounter a digit that is less than 9 or reach the most significant digit. If we reach the most significant digit and it becomes 10, we add an additional digit 1 at the beginning of the array.\n",
        "\n",
        "The **time complexity** of this approach is **O(n)**, where **n is the size of the array digits**. This is because in the worst case, we may need to iterate through all the digits in the array. \n",
        "\n",
        "The **space complexity** is also **O(n)** **since the resulting array may have an additional digit at the beginning**."
      ],
      "metadata": {
        "id": "F37vmAZ3dIOg"
      }
    },
    {
      "cell_type": "markdown",
      "source": [
        "# Question 5\n",
        "\n",
        "💡 You are given two integer arrays nums1 and nums2, sorted in non-decreasing order, and two integers m and n, representing the number of elements in nums1 and nums2 respectively.\n",
        "\n",
        "Merge nums1 and nums2 into a single array sorted in non-decreasing order.\n",
        "\n",
        "The final sorted array should not be returned by the function, but instead be stored inside the array nums1. To accommodate this, nums1 has a length of m + n, where the first m elements denote the elements that should be merged, and the last n elements are set to 0 and should be ignored. nums2 has a length of n.\n",
        "\n",
        "**Example 1:**\n",
        "Input: nums1 = [1,2,3,0,0,0], m = 3, nums2 = [2,5,6], n = 3\n",
        "Output: [1,2,2,3,5,6]\n",
        "\n",
        "**Explanation:** The arrays we are merging are [1,2,3] and [2,5,6].\n",
        "The result of the merge is [1,2,2,3,5,6] with the underlined elements coming from nums1."
      ],
      "metadata": {
        "id": "hfOYf4qSVB4v"
      }
    },
    {
      "cell_type": "code",
      "source": [
        "'''\n",
        "To merge two sorted arrays nums1 and nums2 into nums1, we can start from the end of the merged array and compare elements from both arrays. \n",
        "Since nums1 has enough space to accommodate all elements, we don't need to worry about overwriting any existing elements. \n",
        "We can start from the last indices of nums1 and nums2, compare the elements, and place the larger element at the end of nums1. \n",
        "We continue this process until we have exhausted all elements in nums1 or nums2.\n",
        "Here's the optimized Python code to solve the problem:\n",
        "'''\n",
        "\n",
        "def merge(nums1, m, nums2, n):\n",
        "    i = m - 1  # Index of last element in nums1\n",
        "    j = n - 1  # Index of last element in nums2\n",
        "    k = m + n - 1  # Index of last position in merged array nums1\n",
        "\n",
        "    while i >= 0 and j >= 0:\n",
        "        if nums1[i] > nums2[j]:\n",
        "            nums1[k] = nums1[i]\n",
        "            i -= 1\n",
        "        else:\n",
        "            nums1[k] = nums2[j]\n",
        "            j -= 1\n",
        "        k -= 1\n",
        "\n",
        "    # Copy remaining elements from nums2 to nums1\n",
        "    while j >= 0:\n",
        "        nums1[k] = nums2[j]\n",
        "        j -= 1\n",
        "        k -= 1"
      ],
      "metadata": {
        "id": "FSHgQFmsVKhQ"
      },
      "execution_count": 79,
      "outputs": []
    },
    {
      "cell_type": "code",
      "source": [
        "# Test Case 1\n",
        "nums1 = [1, 2, 3, 0, 0, 0]\n",
        "m = 3\n",
        "nums2 = [2, 5, 6]\n",
        "n = 3\n",
        "\n",
        "merge(nums1, m, nums2, n)\n",
        "print(\"Merged Array:\", nums1)"
      ],
      "metadata": {
        "colab": {
          "base_uri": "https://localhost:8080/"
        },
        "id": "RcQHQPzfQJys",
        "outputId": "8ebb49eb-513c-4da8-d3ff-2bf7e79c4ba2"
      },
      "execution_count": 82,
      "outputs": [
        {
          "output_type": "stream",
          "name": "stdout",
          "text": [
            "Merged Array: [1, 2, 2, 3, 5, 6]\n"
          ]
        }
      ]
    },
    {
      "cell_type": "code",
      "source": [
        "# Test Case 2\n",
        "nums1 = [1, 2, 0, 0, 0]\n",
        "m = 2\n",
        "nums2 = [2, 5, 6]\n",
        "n = 3\n",
        "\n",
        "merge(nums1, m, nums2, n)\n",
        "print(\"Merged Array:\", nums1)"
      ],
      "metadata": {
        "colab": {
          "base_uri": "https://localhost:8080/"
        },
        "id": "ne6Ibay8QToP",
        "outputId": "2d2e049c-ad5f-4aa9-99c1-af66fab7fd12"
      },
      "execution_count": 84,
      "outputs": [
        {
          "output_type": "stream",
          "name": "stdout",
          "text": [
            "Merged Array: [1, 2, 2, 5, 6]\n"
          ]
        }
      ]
    },
    {
      "cell_type": "code",
      "source": [
        "# Test Case 3\n",
        "nums1 = [1, 3, 5, 0, 0, 0]\n",
        "m = 3\n",
        "nums2 = [2, 5, 6]\n",
        "n = 3\n",
        "\n",
        "merge(nums1, m, nums2, n)\n",
        "print(\"Merged Array:\", nums1)"
      ],
      "metadata": {
        "colab": {
          "base_uri": "https://localhost:8080/"
        },
        "id": "aPdeKumMQoFk",
        "outputId": "44f825c4-5d08-44a4-b5f0-7d05326b0e8f"
      },
      "execution_count": 85,
      "outputs": [
        {
          "output_type": "stream",
          "name": "stdout",
          "text": [
            "Merged Array: [1, 2, 3, 5, 5, 6]\n"
          ]
        }
      ]
    },
    {
      "cell_type": "markdown",
      "source": [
        "**Conclusion:**\n",
        "In this code, we initialize three pointers: i, j, and k. i points to the last element in nums1 that needs to be considered for merging, j points to the last element in nums2, and k points to the last position in the merged array nums1.\n",
        "\n",
        "We iterate while both i and j are greater than or equal to 0. At each step, we compare the elements at nums1[i] and nums2[j]. If nums1[i] is greater, we place it at nums1[k] and decrement i by 1. Otherwise, we place nums2[j] at nums1[k] and decrement j by 1. We also decrement k by 1 after each placement. This process continues until either i or j becomes less than 0.\n",
        "\n",
        "After merging all the elements from nums2 into nums1, if there are any remaining elements in nums2, we copy them to the beginning of nums1 starting from k till j becomes less than 0.\n",
        "\n",
        "The **time complexity** of this approach is **O(m + n)**, where **m and n are the sizes of nums1 and nums2**, respectively. \n",
        "\n",
        "The **space complexity** is **O(1) **since we perform the **operations in-place without using any extra space proportional to the input size**."
      ],
      "metadata": {
        "id": "Va9R_IJfeLtm"
      }
    },
    {
      "cell_type": "markdown",
      "source": [
        "# Question 6\n",
        "\n",
        "💡 Given an integer array nums, return true if any value appears at least twice in the array, and return false if every element is distinct.\n",
        "\n",
        "**Example 1:**\n",
        "Input: nums = [1,2,3,1]\n",
        "\n",
        "Output: true"
      ],
      "metadata": {
        "id": "mGQGAd5vVLBL"
      }
    },
    {
      "cell_type": "code",
      "source": [
        "'''\n",
        "To determine if any value appears at least twice in the given integer array nums, we can use a set data structure to keep track of unique elements \n",
        "we have encountered so far. As we iterate through the array, we can check if the current element is already present in the set. \n",
        "If it is, we can return True as we have found a duplicate element. If we reach the end of the array without finding any duplicates, we can return False.\n",
        "\n",
        "Here's the optimized Python code to solve the problem:\n",
        "'''\n",
        "\n",
        "def containsDuplicate(nums):\n",
        "    num_set = set()\n",
        "\n",
        "    for num in nums:\n",
        "        if num in num_set:\n",
        "            return True\n",
        "        num_set.add(num)\n",
        "\n",
        "    return False\n"
      ],
      "metadata": {
        "id": "KPN2G3lRVSFY"
      },
      "execution_count": 86,
      "outputs": []
    },
    {
      "cell_type": "code",
      "source": [
        "# Test Case 1\n",
        "nums = [1, 2, 3, 1]\n",
        "result = containsDuplicate(nums)\n",
        "print(\"Result:\", result)"
      ],
      "metadata": {
        "colab": {
          "base_uri": "https://localhost:8080/"
        },
        "id": "9_-YTcBbRe65",
        "outputId": "a0c41b58-c44b-4dc6-8ea3-0fe5fe9b13d9"
      },
      "execution_count": 87,
      "outputs": [
        {
          "output_type": "stream",
          "name": "stdout",
          "text": [
            "Result: True\n"
          ]
        }
      ]
    },
    {
      "cell_type": "code",
      "source": [
        "# Test Case 2\n",
        "nums = [1, 2, 3, 4]\n",
        "result = containsDuplicate(nums)\n",
        "print(\"Result:\", result)"
      ],
      "metadata": {
        "colab": {
          "base_uri": "https://localhost:8080/"
        },
        "id": "62m4hEsMRou1",
        "outputId": "6a16ac99-1adc-4df4-d5ca-f6aa07c13f25"
      },
      "execution_count": 88,
      "outputs": [
        {
          "output_type": "stream",
          "name": "stdout",
          "text": [
            "Result: False\n"
          ]
        }
      ]
    },
    {
      "cell_type": "code",
      "source": [
        "# Test Case 3\n",
        "nums = [1, 2, 3, 1, 2, 3]\n",
        "result = containsDuplicate(nums)\n",
        "print(\"Result:\", result)"
      ],
      "metadata": {
        "colab": {
          "base_uri": "https://localhost:8080/"
        },
        "id": "nibSkcjvRzPm",
        "outputId": "d3397ff1-f8b5-4cb1-9c56-57c5fce82f23"
      },
      "execution_count": 89,
      "outputs": [
        {
          "output_type": "stream",
          "name": "stdout",
          "text": [
            "Result: True\n"
          ]
        }
      ]
    },
    {
      "cell_type": "markdown",
      "source": [
        "**Conclusion:**\n",
        "In this code, we initialize an empty set num_set to keep track of unique elements. We iterate through each element in nums. For each element, we check if it is already present in num_set using the in operator. If it is, we return True as we have found a duplicate. Otherwise, we add the element to num_set using the add() method.\n",
        "\n",
        "If we complete the loop without finding any duplicates, we return False.\n",
        "\n",
        "The **time complexity** of this approach is **O(n)**, where **n is the size of the array nums**. This is because **we perform a constant-time lookup in the set for each element in the array**. \n",
        "\n",
        "The **space complexity** is also **O(n)** since **in the worst case, all elements in nums are unique, and we need to store them in the set**."
      ],
      "metadata": {
        "id": "D2CVble3fc8i"
      }
    },
    {
      "cell_type": "markdown",
      "source": [
        "# Question 7\n",
        "\n",
        "💡 Given an integer array nums, move all 0's to the end of it while maintaining the relative order of the nonzero elements.\n",
        "\n",
        "Note that you must do this in-place without making a copy of the array.\n",
        "\n",
        "**Example 1:**\n",
        "Input: nums = [0,1,0,3,12]\n",
        "Output: [1,3,12,0,0]"
      ],
      "metadata": {
        "id": "bF6aDzcrVTt4"
      }
    },
    {
      "cell_type": "code",
      "source": [
        "'''\n",
        "To move all zeros to the end of the integer array nums while maintaining the relative order of the nonzero elements, we can use a two-pointer approach. \n",
        "We initialize two pointers, i and j, both starting at index 0. We iterate through the array with the pointer i. For each element at nums[i], \n",
        "if it is non-zero, we swap it with the element at nums[j] and increment j by 1. This ensures that all the nonzero elements are shifted towards \n",
        "the beginning of the array. After iterating through the entire array, we can fill the remaining positions from j till the end of the array with zeros, \n",
        "effectively moving all the zeros to the end.\n",
        "\n",
        "Here's the optimized Python code to solve the problem:\n",
        "\n",
        "'''\n",
        "\n",
        "def moveZeroes(nums):\n",
        "    n = len(nums)\n",
        "    j = 0\n",
        "\n",
        "    for i in range(n):\n",
        "        if nums[i] != 0:\n",
        "            nums[i], nums[j] = nums[j], nums[i]\n",
        "            j += 1\n",
        "\n",
        "    while j < n:\n",
        "        nums[j] = 0\n",
        "        j += 1"
      ],
      "metadata": {
        "id": "JkXnE0oDVajh"
      },
      "execution_count": 90,
      "outputs": []
    },
    {
      "cell_type": "code",
      "source": [
        "# Test Case 1\n",
        "nums = [0, 1, 0, 3, 12]\n",
        "moveZeroes(nums)\n",
        "print(\"Result:\", nums)"
      ],
      "metadata": {
        "colab": {
          "base_uri": "https://localhost:8080/"
        },
        "id": "hJnm8PdZTKyx",
        "outputId": "3ef7b276-91e0-4b05-b15f-5f470de74efc"
      },
      "execution_count": 91,
      "outputs": [
        {
          "output_type": "stream",
          "name": "stdout",
          "text": [
            "Result: [1, 3, 12, 0, 0]\n"
          ]
        }
      ]
    },
    {
      "cell_type": "code",
      "source": [
        "# Test Case 2\n",
        "nums = [0, 1, 0, 3, 12, 100, 200, 0]\n",
        "moveZeroes(nums)\n",
        "print(\"Result:\", nums)"
      ],
      "metadata": {
        "colab": {
          "base_uri": "https://localhost:8080/"
        },
        "id": "C_PRVvPuTS_A",
        "outputId": "4c578bf5-556b-446a-9e78-d034dca821a8"
      },
      "execution_count": 92,
      "outputs": [
        {
          "output_type": "stream",
          "name": "stdout",
          "text": [
            "Result: [1, 3, 12, 100, 200, 0, 0, 0]\n"
          ]
        }
      ]
    },
    {
      "cell_type": "markdown",
      "source": [
        "**Conclusion:**\n",
        "In this code, we initialize the pointer j to keep track of the position where the next nonzero element should be placed. We iterate through the array with the pointer i. If nums[i] is non-zero, we swap it with nums[j] using a parallel assignment. After the swap, we increment j by 1 to maintain its correct position for the next nonzero element.\n",
        "\n",
        "Once we finish iterating through the array, we fill the remaining positions from j till the end of the array with zeros in the final step.\n",
        "\n",
        "The **time complexity** of this approach is **O(n)**, where **n is the size of the array nums**. This is because we perform a single pass through the array. \n",
        "\n",
        "The **space complexity** is **O(1)** since we **perform all the operations in-place without using any extra space proportional to the input size**."
      ],
      "metadata": {
        "id": "NaAJ--a0ggnw"
      }
    },
    {
      "cell_type": "markdown",
      "source": [
        "# Question 8\n",
        "\n",
        "💡 You have a set of integers s, which originally contains all the numbers from 1 to n. Unfortunately, due to some error, one of the numbers in s got duplicated to another number in the set, which results in repetition of one number and loss of another number.\n",
        "\n",
        "You are given an integer array nums representing the data status of this set after the error.\n",
        "\n",
        "Find the number that occurs twice and the number that is missing and return them in the form of an array.\n",
        "\n",
        "**Example 1:**\n",
        "Input: nums = [1,2,2,4]\n",
        "Output: [2,3]"
      ],
      "metadata": {
        "id": "GS2_cTjJVa83"
      }
    },
    {
      "cell_type": "code",
      "source": [
        "'''\n",
        "To find the number that occurs twice and the number that is missing in the given integer array nums, we can use the approach of finding the duplicate \n",
        "and missing elements in an array. First, we initialize a set numSet to keep track of unique elements in nums. Then, we iterate through each element \n",
        "num in nums. For each element, if it is already present in numSet, we have found the duplicate element. Otherwise, we add it to numSet. \n",
        "After iterating through nums, we can determine the missing element by finding the difference between the expected sum of numbers from 1 to n and \n",
        "the sum of elements in nums. The missing element is the difference.\n",
        "\n",
        "Here's the optimized Python code to solve the problem:\n",
        "'''\n",
        "\n",
        "def findErrorNums(nums):\n",
        "    numSet = set()\n",
        "    duplicate = -1\n",
        "    n = len(nums)\n",
        "    expectedSum = n * (n + 1) // 2\n",
        "    actualSum = 0\n",
        "\n",
        "    for num in nums:\n",
        "        if num in numSet:\n",
        "            duplicate = num\n",
        "        numSet.add(num)\n",
        "        actualSum += num\n",
        "\n",
        "    missing = expectedSum - actualSum + duplicate\n",
        "\n",
        "    return [duplicate, missing]\n"
      ],
      "metadata": {
        "id": "mSvC-SCaVepE"
      },
      "execution_count": 111,
      "outputs": []
    },
    {
      "cell_type": "code",
      "source": [
        "# Test Case 1\n",
        "nums = [1, 2, 2, 4]\n",
        "result = findErrorNums(nums)\n",
        "print(\"Duplicate and Missing Numbers:\", result)"
      ],
      "metadata": {
        "colab": {
          "base_uri": "https://localhost:8080/"
        },
        "id": "5qhdph6OUtmV",
        "outputId": "ceed2bf7-3207-4b31-8695-603b99032871"
      },
      "execution_count": 112,
      "outputs": [
        {
          "output_type": "stream",
          "name": "stdout",
          "text": [
            "Duplicate and Missing Numbers: [2, 3]\n"
          ]
        }
      ]
    },
    {
      "cell_type": "markdown",
      "source": [
        "**Conclusion:**\n",
        "In this code, we initialize numSet to keep track of unique elements and duplicate to -1 initially. We also calculate the expected sum of numbers from 1 to n using the formula n * (n + 1) // 2.\n",
        "\n",
        "We iterate through nums and for each element, we check if it is already present in numSet. If it is, we have found the duplicate element. Otherwise, we add it to numSet. Additionally, we calculate the actual sum of elements in nums.\n",
        "\n",
        "After iterating through nums, we calculate the missing element by subtracting the actual sum from the expected sum and adding the duplicate element.\n",
        "\n",
        "Finally, we return the result as a list containing the duplicate element and the missing element.\n",
        "\n",
        "The **time complexity** of this approach is **O(n)**, where **n is the size of the array nums**. This is because we perform a single pass through the array. \n",
        "\n",
        "The **space complexity** is **O(n)** since **in the worst case, all elements in nums are unique, and we need to store them in the numSet**."
      ],
      "metadata": {
        "id": "WwBhBbWnhczN"
      }
    },
    {
      "cell_type": "code",
      "source": [
        "# Test Case 2\n",
        "nums = [2, 3, -2, 4, 6]\n",
        "max_prod = max_product_subarray(nums)\n",
        "print(\"Maximum product:\", max_prod)"
      ],
      "metadata": {
        "colab": {
          "base_uri": "https://localhost:8080/"
        },
        "id": "pl1-fBulfDtH",
        "outputId": "7993bc64-8429-4c98-d7b0-ae4b1621c6dc"
      },
      "execution_count": 146,
      "outputs": [
        {
          "output_type": "stream",
          "name": "stdout",
          "text": [
            "Maximum product: 24\n"
          ]
        }
      ]
    },
    {
      "cell_type": "markdown",
      "source": [
        "**Conclusion:**\n",
        "The algorithm has a **time complexity** of **O(N)**, where N is the length of the nums array, as it iterates through the array only once."
      ],
      "metadata": {
        "id": "lfze1A2-mhhm"
      }
    },
    {
      "cell_type": "markdown",
      "source": [
        "**Q4:** Given an integer array nums, return all the triplets [nums[i], nums[j], nums[k]] such that i != j, i != k and j != k and nums[i] + nums[j] + nums[k] = 0.\n",
        "\n",
        "Notice that the solution set must not contain duplicate triplets.\n",
        "\n",
        "Example:\n",
        "\n",
        "input: nums = [-1, 0, 1, 2, -1, -4]\n",
        "\n",
        "output: [[-1, -1, 2], [-1, 0, 1]]\n",
        "\n",
        "Explanation:\n",
        "\n",
        "nums[0] + nums[1] + nums[2] = (-1) +0 + 1 = 0\n",
        "nums[1] + nums[2] + nums[4] = 0 +1 + (-1) = 0\n",
        "nums[0] + nums[3] + nums[4] = (-1) + 2 + (-1) = 0\n",
        "\n",
        "The distinct triplet are [-1, 0, 1] and [-1, -1, 2]\n",
        "\n",
        "Notice that the order of the output and the order of the triplet does not match."
      ],
      "metadata": {
        "id": "xsnYrgxX27_d"
      }
    },
    {
      "cell_type": "code",
      "source": [
        "'''\n",
        "To find all unique triplets in the given integer array nums that sum up to zero, we can use a two-pointer approach combined with sorting the array.\n",
        "The idea is to fix the first element of the triplet, then use two pointers to find the other two elements such that their sum is the negative of the \n",
        "fixed element. This way, we can ensure that the sum of the triplet is zero.\n",
        "\n",
        "Here's the optimized Python code to solve the problem:\n",
        "'''\n",
        "\n",
        "def threeSum(nums):\n",
        "    nums.sort()  # Sort the array to easily skip duplicates\n",
        "\n",
        "    result = []\n",
        "    n = len(nums)\n",
        "\n",
        "    for i in range(n - 2):\n",
        "        if i > 0 and nums[i] == nums[i - 1]:\n",
        "            # Skip duplicates for the first element of the triplet\n",
        "            continue\n",
        "\n",
        "        left = i + 1\n",
        "        right = n - 1\n",
        "\n",
        "        while left < right:\n",
        "            total = nums[i] + nums[left] + nums[right]\n",
        "\n",
        "            if total < 0:\n",
        "                left += 1\n",
        "            elif total > 0:\n",
        "                right -= 1\n",
        "            else:\n",
        "                result.append([nums[i], nums[left], nums[right]])\n",
        "\n",
        "                # Skip duplicates for the second and third elements of the triplet\n",
        "                while left < right and nums[left] == nums[left + 1]:\n",
        "                    left += 1\n",
        "                while left < right and nums[right] == nums[right - 1]:\n",
        "                    right -= 1\n",
        "\n",
        "                left += 1\n",
        "                right -= 1\n",
        "\n",
        "    return result"
      ],
      "metadata": {
        "id": "F56j5h6h8j1p"
      },
      "execution_count": 134,
      "outputs": []
    },
    {
      "cell_type": "code",
      "source": [
        "# Test Case 1\n",
        "nums = [-1, 0, 1, 2, -1, -4]\n",
        "result = threeSum(nums)\n",
        "print(\"Result:\", result)"
      ],
      "metadata": {
        "colab": {
          "base_uri": "https://localhost:8080/"
        },
        "id": "x62Q7F8ZgJqN",
        "outputId": "e36027f0-a961-49ce-c9a6-3bcd77227c84"
      },
      "execution_count": 138,
      "outputs": [
        {
          "output_type": "stream",
          "name": "stdout",
          "text": [
            "Result: [[-1, -1, 2], [-1, 0, 1]]\n"
          ]
        }
      ]
    },
    {
      "cell_type": "code",
      "source": [
        "# Test Case 2\n",
        "nums = [-1, 0, 1, 2, -1, -4, 3]\n",
        "result = threeSum(nums)\n",
        "print(\"Result:\", result)"
      ],
      "metadata": {
        "colab": {
          "base_uri": "https://localhost:8080/"
        },
        "id": "bd-11alogX6V",
        "outputId": "29e9a8f3-cd5c-4c87-ff52-ff905de8a97d"
      },
      "execution_count": 139,
      "outputs": [
        {
          "output_type": "stream",
          "name": "stdout",
          "text": [
            "Result: [[-4, 1, 3], [-1, -1, 2], [-1, 0, 1]]\n"
          ]
        }
      ]
    },
    {
      "cell_type": "markdown",
      "source": [
        "**Conclusion:**\n",
        "In this code, we first sort the nums array in ascending order. This allows us to easily skip duplicates while iterating through the array.\n",
        "\n",
        "We then iterate through the array using a loop variable i, which represents the fixed element of the triplet. We check for duplicates of the fixed element and skip them to avoid duplicate triplets in the result.\n",
        "\n",
        "Inside the loop, we maintain two pointers, left and right, which represent the second and third elements of the triplet, respectively. We adjust the pointers based on the sum of the current triplet.\n",
        "\n",
        "If the sum is less than zero, we increment the left pointer to increase the sum. If the sum is greater than zero, we decrement the right pointer to decrease the sum. If the sum is zero, we add the triplet to the result and skip duplicates for the second and third elements of the triplet.\n",
        "\n",
        "Finally, we return the result, which contains all the unique triplets that sum up to zero.\n",
        "\n",
        "The **time complexity** of this approach is **O(n^2)**, where **n is the size of the input array nums**. This is because **we have two nested loops, and in the worst case, each element of the array is considered for the fixed element**. \n",
        "\n",
        "The **space complexity** is **O(1)** since we only **use a constant amount of extra space for storing the result**."
      ],
      "metadata": {
        "id": "xJcjw4Gl80Oe"
      }
    },
    {
      "cell_type": "markdown",
      "source": [
        "**Q5:** Given an integer array nums and an integer k, return the kth largest element in the array.\n",
        "\n",
        "Note that it is the kth largest element in the sorted order, not the kth distinct element.\n",
        "\n",
        "Example:\n",
        "\n",
        "Input: nums = [3, 2, 1, 5, 6, 4], K = 2\n",
        "\n",
        "Output: 5"
      ],
      "metadata": {
        "id": "UV5-l0zm9Yxy"
      }
    },
    {
      "cell_type": "code",
      "source": [
        "'''\n",
        "To find the kth largest element in an integer array nums, we can use the concept of a min-heap. We can maintain a min-heap of size k, \n",
        "where the smallest k elements seen so far are stored. As we iterate through the array, we compare each element with the root of the min-heap. \n",
        "If the current element is greater than the root, we remove the root and insert the current element into the min-heap. \n",
        "\n",
        "At the end, the root of the min-heap will be the kth largest element.\n",
        "\n",
        "Here's the Python code to find the kth largest element using a min-heap:\n",
        "'''\n",
        "\n",
        "import heapq\n",
        "\n",
        "def findKthLargest(nums, k):\n",
        "    min_heap = []\n",
        "\n",
        "    # Insert the first k elements into the min-heap\n",
        "    for i in range(k):\n",
        "        heapq.heappush(min_heap, nums[i])\n",
        "\n",
        "    # Compare remaining elements with the root of the min-heap\n",
        "    for i in range(k, len(nums)):\n",
        "        if nums[i] > min_heap[0]:\n",
        "            heapq.heappop(min_heap)\n",
        "            heapq.heappush(min_heap, nums[i])\n",
        "\n",
        "    return min_heap[0]"
      ],
      "metadata": {
        "id": "3IbtcdoT_JHL"
      },
      "execution_count": 140,
      "outputs": []
    },
    {
      "cell_type": "code",
      "source": [
        "# Test Case 1\n",
        "nums = [3, 2, 1, 5, 6, 4]\n",
        "k = 1\n",
        "kth_largest = findKthLargest(nums, k)\n",
        "print(\"Kth Largest Element:\", kth_largest)"
      ],
      "metadata": {
        "colab": {
          "base_uri": "https://localhost:8080/"
        },
        "id": "0AKiILOCiDxf",
        "outputId": "221dc84b-1177-4707-ca4e-0914f8541932"
      },
      "execution_count": 143,
      "outputs": [
        {
          "output_type": "stream",
          "name": "stdout",
          "text": [
            "Kth Largest Element: 6\n"
          ]
        }
      ]
    },
    {
      "cell_type": "code",
      "source": [
        "# Test Case 2\n",
        "nums = [3, 2, 1, 5, 6, 4]\n",
        "k = 2\n",
        "kth_largest = findKthLargest(nums, k)\n",
        "print(\"Kth Largest Element:\", kth_largest)"
      ],
      "metadata": {
        "colab": {
          "base_uri": "https://localhost:8080/"
        },
        "id": "Yq3GRXcziLHz",
        "outputId": "141fd674-051d-4d00-9d1b-30977676459e"
      },
      "execution_count": 144,
      "outputs": [
        {
          "output_type": "stream",
          "name": "stdout",
          "text": [
            "Kth Largest Element: 5\n"
          ]
        }
      ]
    },
    {
      "cell_type": "code",
      "source": [
        "# Test Case 3\n",
        "nums = [3, 2, 1, 5, 6, 4]\n",
        "k = 3\n",
        "kth_largest = findKthLargest(nums, k)\n",
        "print(\"Kth Largest Element:\", kth_largest)"
      ],
      "metadata": {
        "colab": {
          "base_uri": "https://localhost:8080/"
        },
        "id": "J1_tCPzmiWHq",
        "outputId": "4e340c08-01fa-4052-9d69-d817671b9740"
      },
      "execution_count": 145,
      "outputs": [
        {
          "output_type": "stream",
          "name": "stdout",
          "text": [
            "Kth Largest Element: 4\n"
          ]
        }
      ]
    }
  ]
}