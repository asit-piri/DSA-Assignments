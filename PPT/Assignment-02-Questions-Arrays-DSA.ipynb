{
  "nbformat": 4,
  "nbformat_minor": 0,
  "metadata": {
    "colab": {
      "provenance": []
    },
    "kernelspec": {
      "name": "python3",
      "display_name": "Python 3"
    },
    "language_info": {
      "name": "python"
    }
  },
  "cells": [
    {
      "cell_type": "markdown",
      "source": [
        "#Assignment 2 Questions - Arrays | DSA\n",
        "##Name: Asit Piri"
      ],
      "metadata": {
        "id": "hajv800d0fyS"
      }
    },
    {
      "cell_type": "markdown",
      "source": [
        "**Question 1**\n",
        "Given an integer array nums of 2n integers, group these integers into n pairs (a1, b1), (a2, b2),\n",
        "..., (an, bn) such that the sum of min(ai, bi) for all i is maximized. Return the maximized sum.\n",
        "\n",
        "Example 1:\n",
        "\n",
        "Input: nums = [1,4,3,2]\n",
        "\n",
        "Output: 4\n",
        "\n",
        "Explanation: All possible pairings (ignoring the ordering of elements) are:\n",
        "1. (1, 4), (2, 3) -> min(1, 4) + min(2, 3) = 1 + 2 = 3\n",
        "2. (1, 3), (2, 4) -> min(1, 3) + min(2, 4) = 1 + 2 = 3\n",
        "3. (1, 2), (3, 4) -> min(1, 2) + min(3, 4) = 1 + 3 = 4\n",
        "\n",
        "So the maximum possible sum is 4"
      ],
      "metadata": {
        "id": "DjeBk5q1065C"
      }
    },
    {
      "cell_type": "markdown",
      "source": [
        "**Solutions:**\n",
        "\n",
        "To maximize the sum of the minimum values in each pair, we need to pair the numbers in a way that the smaller numbers are paired together. \n",
        "Sorting the array in ascending order will ensure this.\n",
        "\n",
        "Here is a step-by-step approach to solve the problem:\n",
        "\n",
        "1. Sort the given nums array in ascending order.\n",
        "2. Initialize a variable max_sum to 0 to keep track of the maximum sum.\n",
        "3. Iterate over the sorted array in steps of 2 (since we need to form pairs).\n",
        "4. For each iteration, add the smaller value of the pair to the max_sum.\n",
        "5.  Return the max_sum as the result.\n",
        "\n",
        "Here is the Python code that implements the above algorithm:"
      ],
      "metadata": {
        "id": "84bM6HWuSfN9"
      }
    },
    {
      "cell_type": "code",
      "source": [
        "def array_pair_sum(nums):\n",
        "    nums.sort()  # Sort the array in ascending order\n",
        "    #print(nums)\n",
        "    max_sum = 0\n",
        "    for i in range(0, len(nums), 2):\n",
        "        max_sum += nums[i]  # Add the smaller value of the pair to max_sum\n",
        "    return max_sum"
      ],
      "metadata": {
        "id": "Kl_TN7Es1jsq"
      },
      "execution_count": 10,
      "outputs": []
    },
    {
      "cell_type": "code",
      "source": [
        "# Test Case 1\n",
        "\n",
        "nums = [1, 4, 3, 2]\n",
        "result = array_pair_sum(nums)\n",
        "print(result)  # The output is 4, which is the maximum sum of the minimum values in each pair, as expected."
      ],
      "metadata": {
        "colab": {
          "base_uri": "https://localhost:8080/"
        },
        "id": "wnU-xm2PS_Wo",
        "outputId": "9853382e-007c-461c-8ba4-641260459ff6"
      },
      "execution_count": 11,
      "outputs": [
        {
          "output_type": "stream",
          "name": "stdout",
          "text": [
            "4\n"
          ]
        }
      ]
    },
    {
      "cell_type": "code",
      "source": [
        "# Test Case 2\n",
        "\n",
        "nums = [1, 4, 3, 2, 5]\n",
        "result = array_pair_sum(nums)\n",
        "print(result)  # The output is 4, which is the maximum sum of the minimum values in each pair, as expected."
      ],
      "metadata": {
        "colab": {
          "base_uri": "https://localhost:8080/"
        },
        "id": "H894guUdxKkV",
        "outputId": "d22e1b48-9799-47f8-e3e8-3ef9150716d3"
      },
      "execution_count": 12,
      "outputs": [
        {
          "output_type": "stream",
          "name": "stdout",
          "text": [
            "9\n"
          ]
        }
      ]
    },
    {
      "cell_type": "code",
      "source": [
        "# Test Case 3\n",
        "\n",
        "nums = [1, 1, 4, 3, 2, 5]\n",
        "result = array_pair_sum(nums)\n",
        "print(result)  # The output is 4, which is the maximum sum of the minimum values in each pair, as expected."
      ],
      "metadata": {
        "colab": {
          "base_uri": "https://localhost:8080/"
        },
        "id": "_5iHy04pxeAO",
        "outputId": "7abc222c-2fdf-4f8f-e7a7-9ff08e6dca44"
      },
      "execution_count": 13,
      "outputs": [
        {
          "output_type": "stream",
          "name": "stdout",
          "text": [
            "7\n"
          ]
        }
      ]
    },
    {
      "cell_type": "markdown",
      "source": [
        "**Question 2**\n",
        "\n",
        "Alice has n candies, where the ith candy is of type candyType[i]. Alice noticed that she started to gain weight, so she visited a doctor. The doctor advised Alice to only eat n / 2 of the candies she has (n is always even). Alice\n",
        "likes her candies very much, and she wants to eat the maximum number of different types of candies while still following the doctor's advice. Given the integer array candyType of length n, return the maximum number of different types of candies she can eat if she only eats n / 2 of them.\n",
        "\n",
        "Example 1:\n",
        "\n",
        "Input: candyType = [1,1,2,2,3,3]\n",
        "\n",
        "Output: 3\n",
        "\n",
        "Explanation: Alice can only eat 6 / 2 = 3 candies. Since there are only 3 types, she can eat one of each type."
      ],
      "metadata": {
        "id": "nNZvjqzE1INa"
      }
    },
    {
      "cell_type": "markdown",
      "source": [
        "**Solutions:**\n",
        "\n",
        "To determine the maximum number of different types of candies Alice can eat while following the doctor's advice, we can count the number of unique candy types in the given array candyType and compare it with n/2, where n is the length of the array.\n",
        "\n",
        "Here's a step-by-step approach to solve the problem:\n",
        "\n",
        "1. Initialize an empty set called unique_candies to store the unique candy types.\n",
        "\n",
        "2. Iterate over the candyType array.\n",
        "\n",
        "3. For each candy type, add it to the unique_candies set.\n",
        "\n",
        "4. After iterating over all the candies, get the length of the unique_candies set, which represents the number of different types of candies.\n",
        "\n",
        "5. Calculate n/2 to get the maximum number of candies Alice can eat.\n",
        "\n",
        "6. Return the minimum of the number of different candy types and n/2 as the result.\n",
        "\n",
        "Here's the Python code that implements the above algorithm:"
      ],
      "metadata": {
        "id": "s56-SXf8Txig"
      }
    },
    {
      "cell_type": "code",
      "source": [
        "def max_num_of_candies(candyType):\n",
        "    unique_candies = set()\n",
        "    for candy in candyType:\n",
        "        unique_candies.add(candy)\n",
        "    return min(len(unique_candies), len(candyType) // 2)"
      ],
      "metadata": {
        "id": "aFAMdCg4URrh"
      },
      "execution_count": 14,
      "outputs": []
    },
    {
      "cell_type": "code",
      "source": [
        "# Test Case 1\n",
        "\n",
        "candyType = [1, 1, 2, 2, 3, 3]\n",
        "result = max_num_of_candies(candyType)\n",
        "print(result)  # The output is 3, which means Alice can eat a maximum of 3 different types of candies while following the doctor's advice."
      ],
      "metadata": {
        "colab": {
          "base_uri": "https://localhost:8080/"
        },
        "id": "NoXdPlPeTx63",
        "outputId": "6f1c6674-f203-4c9e-fafd-a722be814244"
      },
      "execution_count": 15,
      "outputs": [
        {
          "output_type": "stream",
          "name": "stdout",
          "text": [
            "3\n"
          ]
        }
      ]
    },
    {
      "cell_type": "code",
      "source": [
        "# Test Case 2\n",
        "\n",
        "candyType = [1, 1, 2, 2, 3, 3, 4, 4, 6, 6]\n",
        "result = max_num_of_candies(candyType)\n",
        "print(result)  # The output is 5, which means Alice can eat a maximum of 5 different types of candies while following the doctor's advice."
      ],
      "metadata": {
        "colab": {
          "base_uri": "https://localhost:8080/"
        },
        "id": "Tc-nCEnxy2-P",
        "outputId": "b2bc3b59-e68a-4f6c-c3f6-1b1855bf5cec"
      },
      "execution_count": 16,
      "outputs": [
        {
          "output_type": "stream",
          "name": "stdout",
          "text": [
            "5\n"
          ]
        }
      ]
    },
    {
      "cell_type": "markdown",
      "source": [
        "**Question 3**\n",
        "\n",
        "We define a harmonious array as an array where the difference between its maximum value and its minimum value is exactly 1. Given an integer array nums, return the length of its longest harmonious subsequence among all its possible subsequences. A subsequence of an array is a sequence that can be derived from the array by deleting some or no elements without changing the order of the remaining elements.\n",
        "\n",
        "Example 1:\n",
        "\n",
        "Input: nums = [1,3,2,2,5,2,3,7]\n",
        "\n",
        "Output: 5\n",
        "\n",
        "Explanation: The longest harmonious subsequence is [3,2,2,2,3]."
      ],
      "metadata": {
        "id": "FJs9ecgq1kPm"
      }
    },
    {
      "cell_type": "markdown",
      "source": [
        "To find the length of the longest harmonious subsequence in the given array nums, we can use a hashmap to count the frequency of each number in the array. Then, we iterate over the numbers and check if the frequency of the current number and the frequency of the current number plus 1 (if it exists) form a harmonious subsequence. We update the maximum length accordingly.\n",
        "\n",
        "Here's a step-by-step approach to solve the problem:\n",
        "\n",
        "1. Initialize a hashmap called freq to store the frequency of each number.\n",
        "\n",
        "2. Iterate over the nums array and update the frequency of each number in the freq hashmap.\n",
        "\n",
        "3. Initialize a variable max_length to 0, which represents the maximum length of the harmonious subsequence.\n",
        "\n",
        "4. Iterate over the keys in the freq hashmap.\n",
        "\n",
        "5. For each key, check if the frequency of the current key plus 1 exists in the freq hashmap.\n",
        "\n",
        "6. If it exists, update max_length with the maximum value between max_length and the sum of the frequencies of the current key and the current key plus 1.\n",
        "\n",
        "7. Return max_length as the result.\n",
        "\n",
        "Here's the Python code that implements the above algorithm:"
      ],
      "metadata": {
        "id": "dLs9oJdcU9YK"
      }
    },
    {
      "cell_type": "code",
      "source": [
        "from collections import Counter\n",
        "\n",
        "def findLHS(nums):\n",
        "    freq = Counter(nums)\n",
        "    max_length = 0\n",
        "    print(freq)\n",
        "    for num in freq:\n",
        "        if num + 1 in freq:\n",
        "            max_length = max(max_length, freq[num] + freq[num + 1])\n",
        "            #print(max_length)\n",
        "    return max_length"
      ],
      "metadata": {
        "id": "adRMVNnQVpNl"
      },
      "execution_count": 29,
      "outputs": []
    },
    {
      "cell_type": "code",
      "source": [
        "# Test Case 1\n",
        "\n",
        "nums = [1, 3, 2, 2, 5, 2, 3, 7]\n",
        "result = findLHS(nums)\n",
        "print(result)  # The output is 5, which means the longest harmonious subsequence in the array is [3, 2, 2, 2, 3] with a length of 5."
      ],
      "metadata": {
        "colab": {
          "base_uri": "https://localhost:8080/"
        },
        "id": "eS68TvJIVu_G",
        "outputId": "038bfcea-e681-4408-8294-f15682c4dfb3"
      },
      "execution_count": 30,
      "outputs": [
        {
          "output_type": "stream",
          "name": "stdout",
          "text": [
            "Counter({2: 3, 3: 2, 1: 1, 5: 1, 7: 1})\n",
            "5\n"
          ]
        }
      ]
    },
    {
      "cell_type": "code",
      "source": [
        "# Test Case 2\n",
        "\n",
        "nums = [1, 3, 2, 2, 5, 2, 3, 7, 2]\n",
        "result = findLHS(nums)\n",
        "print(result)  # The output is 5, which means the longest harmonious subsequence in the array is [3, 2, 2, 2, 2, 3] with a length of 6."
      ],
      "metadata": {
        "colab": {
          "base_uri": "https://localhost:8080/"
        },
        "id": "bv-Cviuvz1HH",
        "outputId": "cc308a6c-68a3-420a-c575-7a49a69b5929"
      },
      "execution_count": 34,
      "outputs": [
        {
          "output_type": "stream",
          "name": "stdout",
          "text": [
            "Counter({2: 4, 3: 2, 1: 1, 5: 1, 7: 1})\n",
            "6\n"
          ]
        }
      ]
    },
    {
      "cell_type": "code",
      "source": [
        "# Test Case 1\n",
        "\n",
        "nums = [1, 3, 2, 2, 5, 2, 3, 7,3]\n",
        "result = findLHS(nums)\n",
        "print(result)  # The output is 6, which means the longest harmonious subsequence in the array is [3, 3, 3, 2, 2, 2] with a length of 6."
      ],
      "metadata": {
        "colab": {
          "base_uri": "https://localhost:8080/"
        },
        "id": "za-uFQVu0C5H",
        "outputId": "9ae788b9-4b1d-4585-b1dc-58eee64bcfb7"
      },
      "execution_count": 33,
      "outputs": [
        {
          "output_type": "stream",
          "name": "stdout",
          "text": [
            "Counter({3: 3, 2: 3, 1: 1, 5: 1, 7: 1})\n",
            "6\n"
          ]
        }
      ]
    },
    {
      "cell_type": "markdown",
      "source": [
        "**Question 4**\n",
        "\n",
        "You have a long flowerbed in which some of the plots are planted, and some are not. However, flowers cannot be planted in adjacent plots.\n",
        "Given an integer array flowerbed containing 0's and 1's, where 0 means empty and 1 means not empty, and an integer n, return true if n new flowers can be planted in the flowerbed without violating the no-adjacent-flowers rule and false otherwise.\n",
        "\n",
        "Example 1:\n",
        "\n",
        "Input: flowerbed = [1,0,0,0,1], n = 1\n",
        "\n",
        "Output: true"
      ],
      "metadata": {
        "id": "TiQkXQ3Q11pP"
      }
    },
    {
      "cell_type": "markdown",
      "source": [
        "**Solutions:**\n",
        "\n",
        "To solve this problem, we can iterate over the flowerbed array and check if each plot is available for planting. We can keep track of the count of consecutive empty plots (count) and count the number of new flowers planted (num_flowers). If we encounter an empty plot and its adjacent plots are also empty or out of bounds, we can plant a flower in that plot. We update the counts accordingly.\n",
        "\n",
        "Here's a step-by-step approach to solve the problem:\n",
        "\n",
        "1. Initialize variables count and num_flowers to 1 to account for the leftmost plot if it is empty.\n",
        "\n",
        "2. Iterate over the flowerbed array from index 1 to the second last index.\n",
        "\n",
        "3. If the current plot is empty (flowerbed[i] == 0), check if the previous plot and the next plot are also empty or out of bounds (flowerbed[i-1] == 0 and flowerbed[i+1] == 0 or i-1 < 0 or i+1 >= len(flowerbed)).\n",
        "\n",
        "4. If the above condition is satisfied, increment num_flowers and set count to 0 since we are starting a new sequence of consecutive empty plots.\n",
        "\n",
        "5. If the current plot is not empty (flowerbed[i] == 1), update count to 0 since consecutive empty plots have ended.\n",
        "\n",
        "6. Increment count in each iteration.\n",
        "\n",
        "7. After the loop, check if there are consecutive empty plots at the end of the flowerbed. If count is greater than 2, increment num_flowers accordingly.\n",
        "\n",
        "8. Return num_flowers >= n to check if we can plant n new flowers without violating the no-adjacent-flowers rule.\n",
        "\n",
        "Here's the Python code that implements the above algorithm:"
      ],
      "metadata": {
        "id": "zPe43ksnWASQ"
      }
    },
    {
      "cell_type": "code",
      "source": [
        "def canPlaceFlowers(flowerbed, n):\n",
        "    count = 1\n",
        "    num_flowers = 0\n",
        "    \n",
        "    for i in range(1, len(flowerbed) - 1):\n",
        "        if flowerbed[i] == 0 and (flowerbed[i-1] == 0 or i-1 < 0) and (flowerbed[i+1] == 0 or i+1 >= len(flowerbed)):\n",
        "            num_flowers += 1\n",
        "            count = 0\n",
        "        elif flowerbed[i] == 0:\n",
        "            count += 1\n",
        "        else:\n",
        "            count = 0\n",
        "    \n",
        "    if count > 2:\n",
        "        num_flowers += (count - 1) // 2\n",
        "    \n",
        "    return num_flowers >= n"
      ],
      "metadata": {
        "id": "cTfyewyk11Wm"
      },
      "execution_count": 36,
      "outputs": []
    },
    {
      "cell_type": "code",
      "source": [
        "# Test Case 1\n",
        "\n",
        "flowerbed = [1, 0, 0, 0, 1]\n",
        "n = 1\n",
        "result = canPlaceFlowers(flowerbed, n)\n",
        "print(result)  # The output is True, which means we can plant 1 new flower in the flowerbed without violating the no-adjacent-flowers rule."
      ],
      "metadata": {
        "colab": {
          "base_uri": "https://localhost:8080/"
        },
        "id": "Do7XuTJC2D-T",
        "outputId": "876a307b-15a2-4da1-d9cf-71cdfd31e608"
      },
      "execution_count": 37,
      "outputs": [
        {
          "output_type": "stream",
          "name": "stdout",
          "text": [
            "True\n"
          ]
        }
      ]
    },
    {
      "cell_type": "code",
      "source": [
        "# Test Case 2\n",
        "\n",
        "flowerbed = [1, 0, 0, 0, 1]\n",
        "n = 2\n",
        "result = canPlaceFlowers(flowerbed, n)\n",
        "print(result)  # The output is False, which means we can't plant 1 new flower in the flowerbed without violating the no-adjacent-flowers rule."
      ],
      "metadata": {
        "colab": {
          "base_uri": "https://localhost:8080/"
        },
        "id": "kAu2wNnu2HRC",
        "outputId": "183e7f54-f029-4a92-d6e1-898ebe9ec18d"
      },
      "execution_count": 42,
      "outputs": [
        {
          "output_type": "stream",
          "name": "stdout",
          "text": [
            "False\n"
          ]
        }
      ]
    },
    {
      "cell_type": "markdown",
      "source": [
        "**Question 5**\n",
        "\n",
        "Given an integer array nums, find three numbers whose product is maximum and return the maximum product.\n",
        "\n",
        "Example 1:\n",
        "\n",
        "Input: nums = [1,2,3]\n",
        "\n",
        "Output: 6"
      ],
      "metadata": {
        "id": "64vkIPXM2Ec5"
      }
    },
    {
      "cell_type": "markdown",
      "source": [
        "**Solutions:**\n",
        "\n",
        "To find three numbers in the given array whose product is the maximum, we can sort the array in non-decreasing order and consider two scenarios:\n",
        "\n",
        "The three largest numbers in the sorted array have a positive product.\n",
        "The two smallest (negative) numbers in the sorted array and the largest number have a positive product.\n",
        "The maximum product will be the maximum of these two scenarios.\n",
        "\n",
        "Here's the step-by-step approach to solve the problem:\n",
        "\n",
        "1. Sort the input array nums in non-decreasing order.\n",
        "\n",
        "2. Calculate the product of the last three elements in the sorted array and store it in the variable max_product.\n",
        "\n",
        "3. Calculate the product of the first two elements (the smallest numbers) and the last element (the largest number) in the sorted array and store it in the variable alt_product.\n",
        "\n",
        "4. Return the maximum of max_product and alt_product.\n",
        "\n",
        "Here's the Python code that implements the above algorithm:"
      ],
      "metadata": {
        "id": "su80iQ2SXKf8"
      }
    },
    {
      "cell_type": "code",
      "source": [
        "def maximumProduct(nums):\n",
        "    nums.sort()\n",
        "    max_product = nums[-1] * nums[-2] * nums[-3]\n",
        "    alt_product = nums[0] * nums[1] * nums[-1]\n",
        "    return max(max_product, alt_product)"
      ],
      "metadata": {
        "id": "z5kZKI1sXZ5W"
      },
      "execution_count": 43,
      "outputs": []
    },
    {
      "cell_type": "code",
      "source": [
        "# Test Case 1\n",
        "\n",
        "nums = [1, 2, 3]\n",
        "result = maximumProduct(nums)\n",
        "print(result)  # The output is 6, which is the maximum product of three numbers in the given array."
      ],
      "metadata": {
        "colab": {
          "base_uri": "https://localhost:8080/"
        },
        "id": "Vwfl9YCB2Oat",
        "outputId": "d52ed97d-b793-4dce-d25e-7f842baa3566"
      },
      "execution_count": 45,
      "outputs": [
        {
          "output_type": "stream",
          "name": "stdout",
          "text": [
            "6\n"
          ]
        }
      ]
    },
    {
      "cell_type": "code",
      "source": [
        "# Test Case 2\n",
        "\n",
        "nums = [1, 2, 3, 4]\n",
        "result = maximumProduct(nums)\n",
        "print(result)  # The output is 24, which is the maximum product of three numbers in the given array."
      ],
      "metadata": {
        "colab": {
          "base_uri": "https://localhost:8080/"
        },
        "id": "xidhdAQo3bur",
        "outputId": "99774387-a8ff-44a2-ad14-fb9ae97ac60f"
      },
      "execution_count": 47,
      "outputs": [
        {
          "output_type": "stream",
          "name": "stdout",
          "text": [
            "24\n"
          ]
        }
      ]
    },
    {
      "cell_type": "markdown",
      "source": [
        "**Question 6**\n",
        "\n",
        "Given an array of integers nums which is sorted in ascending order, and an integer target, write a function to search target in nums. If target exists, then return its index. Otherwise, return -1. You must write an algorithm with O(log n) runtime complexity.\n",
        "\n",
        "Input: nums = [-1,0,3,5,9,12], target = 9\n",
        "\n",
        "Output: 4\n",
        "\n",
        "Explanation: 9 exists in nums and its index is 4"
      ],
      "metadata": {
        "id": "DOWJ5cRh2OmM"
      }
    },
    {
      "cell_type": "markdown",
      "source": [
        "**Solutions: **\n",
        "\n",
        "To search for a target in a sorted array with a runtime complexity of O(log n), we can use the binary search algorithm. Here's how we can implement it:\n",
        "\n",
        "1. Initialize two pointers, left and right, pointing to the start and end of the array, respectively.\n",
        "\n",
        "2. While left is less than or equal to right, do the following:\n",
        "\n",
        "  - Calculate the middle index as mid using the formula mid = (left + right) // 2.\n",
        "\n",
        "  - If the value at index mid is equal to the target, return mid as the index.\n",
        "\n",
        "  - If the value at index mid is greater than the target, update right to mid - 1 to search in the left half of the array.\n",
        "\n",
        "  - If the value at index mid is less than the target, update left to mid + 1 to search in the right half of the array.\n",
        "\n",
        "3. If the target is not found, return -1.\n",
        "\n",
        "Here's the Python code that implements the binary search algorithm:"
      ],
      "metadata": {
        "id": "UlZAMUBwYEb0"
      }
    },
    {
      "cell_type": "code",
      "source": [
        "def search(nums, target):\n",
        "    left = 0\n",
        "    right = len(nums) - 1\n",
        "\n",
        "    while left <= right:\n",
        "        mid = (left + right) // 2\n",
        "        if nums[mid] == target:\n",
        "            return mid\n",
        "        elif nums[mid] < target:\n",
        "            left = mid + 1\n",
        "        else:\n",
        "            right = mid - 1\n",
        "\n",
        "    return -1"
      ],
      "metadata": {
        "id": "MqpRuezM2bYv"
      },
      "execution_count": 48,
      "outputs": []
    },
    {
      "cell_type": "code",
      "source": [
        "# Test Case 1\n",
        "\n",
        "nums = [-1, 0, 3, 5, 9, 12]\n",
        "target = 9\n",
        "result = search(nums, target)\n",
        "print(result)  # The output is 4, which is the index of the target number 9 in the given array nums."
      ],
      "metadata": {
        "colab": {
          "base_uri": "https://localhost:8080/"
        },
        "id": "hZEFv1ztYmaR",
        "outputId": "9ce2bde1-cca0-438e-fc30-e4fa5f0b6946"
      },
      "execution_count": 49,
      "outputs": [
        {
          "output_type": "stream",
          "name": "stdout",
          "text": [
            "4\n"
          ]
        }
      ]
    },
    {
      "cell_type": "code",
      "source": [
        "# Test Case 2\n",
        "\n",
        "nums = [-1, 0, 3, 5, 9, 12]\n",
        "target = 12\n",
        "result = search(nums, target)\n",
        "print(result)  # The output is 5, which is the index of the target number 12 in the given array nums."
      ],
      "metadata": {
        "colab": {
          "base_uri": "https://localhost:8080/"
        },
        "id": "PdZLb_W94nTO",
        "outputId": "992f42ef-88a6-43b6-9480-96e764c6f552"
      },
      "execution_count": 51,
      "outputs": [
        {
          "output_type": "stream",
          "name": "stdout",
          "text": [
            "5\n"
          ]
        }
      ]
    },
    {
      "cell_type": "code",
      "source": [
        "# Test Case 3\n",
        "\n",
        "nums = [-1, 0, 3, 5, 9, 12]\n",
        "target = 4\n",
        "result = search(nums, target)\n",
        "print(result)  # The output is -1, which is the index of the target number 4 doesn't exist in the given array nums."
      ],
      "metadata": {
        "colab": {
          "base_uri": "https://localhost:8080/"
        },
        "id": "SN7tCB_74wTH",
        "outputId": "d8e030df-9a31-490e-e8da-f81538b6549d"
      },
      "execution_count": 53,
      "outputs": [
        {
          "output_type": "stream",
          "name": "stdout",
          "text": [
            "-1\n"
          ]
        }
      ]
    },
    {
      "cell_type": "markdown",
      "source": [
        "**Question 7**\n",
        "\n",
        "An array is monotonic if it is either monotone increasing or monotone decreasing. An array nums is monotone increasing if for all i <= j, nums[i] <= nums[j]. An array nums is monotone decreasing if for all i <= j, nums[i] >= nums[j]. Given an integer array nums, return true if the given array is monotonic, or false otherwise.\n",
        "\n",
        "Example 1:\n",
        "\n",
        "Input: nums = [1,2,2,3]\n",
        "\n",
        "Output: true"
      ],
      "metadata": {
        "id": "WlE-dNFz2bpl"
      }
    },
    {
      "cell_type": "markdown",
      "source": [
        "**Solution: **\n",
        "\n",
        "To determine whether an array is monotonic, we can compare adjacent elements and check if they follow the monotonic property. Here's a Python code that solves the problem:\n"
      ],
      "metadata": {
        "id": "Uzg-Mm6MZO5y"
      }
    },
    {
      "cell_type": "code",
      "source": [
        "def isMonotonic(nums):\n",
        "    n = len(nums)\n",
        "    increasing = decreasing = True\n",
        "\n",
        "    for i in range(1, n):\n",
        "        if nums[i] > nums[i-1]:\n",
        "            decreasing = False\n",
        "        if nums[i] < nums[i-1]:\n",
        "            increasing = False\n",
        "\n",
        "    return increasing or decreasing"
      ],
      "metadata": {
        "id": "_KmlWos057vO"
      },
      "execution_count": 57,
      "outputs": []
    },
    {
      "cell_type": "code",
      "source": [
        "# Test Case 1\n",
        "nums = [1, 2, 2, 3]\n",
        "print(isMonotonic(nums))  # The output is True, indicating that the given array nums is monotonic."
      ],
      "metadata": {
        "colab": {
          "base_uri": "https://localhost:8080/"
        },
        "id": "oY5dyEGN6EbZ",
        "outputId": "2788e741-21bd-4806-9114-26e58a3c9764"
      },
      "execution_count": 62,
      "outputs": [
        {
          "output_type": "stream",
          "name": "stdout",
          "text": [
            "True\n"
          ]
        }
      ]
    },
    {
      "cell_type": "code",
      "source": [
        "# Test Case 2\n",
        "nums = [3, 2, 2, 1]\n",
        "print(isMonotonic(nums))  # The output is True, indicating that the given array nums is monotonic."
      ],
      "metadata": {
        "colab": {
          "base_uri": "https://localhost:8080/"
        },
        "id": "DD2HmN3e6iwI",
        "outputId": "2590dc3f-1dc4-4ceb-8f28-e3235717a14d"
      },
      "execution_count": 63,
      "outputs": [
        {
          "output_type": "stream",
          "name": "stdout",
          "text": [
            "True\n"
          ]
        }
      ]
    },
    {
      "cell_type": "code",
      "source": [
        "# Test Case 3\n",
        "nums = [1, 3, 2, 2, 3]\n",
        "print(isMonotonic(nums))  # The output is False, indicating that the given array nums is not a monotonic."
      ],
      "metadata": {
        "colab": {
          "base_uri": "https://localhost:8080/"
        },
        "id": "ibWTxeg16L2D",
        "outputId": "ef71a9a8-3534-403e-965b-5e1bebc19359"
      },
      "execution_count": 61,
      "outputs": [
        {
          "output_type": "stream",
          "name": "stdout",
          "text": [
            "False\n"
          ]
        }
      ]
    },
    {
      "cell_type": "markdown",
      "source": [
        "The code iterates through the array and checks if any adjacent elements violate the monotonic property. If we find an element greater than the previous one, we set the decreasing flag to False. If we find an element smaller than the previous one, we set the increasing flag to False. If both flags remain True after iterating through the array, it means the array is either monotone increasing or monotone decreasing, so we return True. Otherwise, we return False.\n",
        "\n",
        "The **time complexity of this solution is O(n)**, where n is the length of the array nums, since we need to iterate through each element once. The **space complexity is O(1)** as we are using a constant amount of extra space to store the flags."
      ],
      "metadata": {
        "id": "dbAnPNKl7J4f"
      }
    },
    {
      "cell_type": "markdown",
      "source": [
        "**Question 8**\n",
        "\n",
        "You are given an integer array nums and an integer k. In one operation, you can choose any index i where 0 <= i < nums.length and change nums[i] to nums[i] + x where x is an integer from the range [-k, k]. You can apply this operation at\n",
        "most once for each index i. The score of nums is the difference between the maximum and minimum elements in nums. Return the minimum score of nums after applying the mentioned operation at most once for each index in it.\n",
        "\n",
        "Example 1:\n",
        "\n",
        "Input: nums = [1], k = 0\n",
        "\n",
        "Output: 0\n",
        "\n",
        "Explanation: The score is max(nums) - min(nums) = 1 - 1 = 0."
      ],
      "metadata": {
        "id": "JddTpAHw2mRk"
      }
    },
    {
      "cell_type": "markdown",
      "source": [
        "**Solution:**\n",
        "\n",
        "To minimize the score of the array nums after applying the given operation, we can try to minimize the maximum element and maximize the minimum element.\n",
        "\n",
        "One approach is to find the maximum and minimum elements in the array and try to make them as close to each other as possible. We can achieve this by adding or subtracting the value k to the minimum and maximum elements, respectively.\n",
        "\n",
        "Here's the Python code that implements this approach:"
      ],
      "metadata": {
        "id": "yFMg-WfmaOf0"
      }
    },
    {
      "cell_type": "code",
      "source": [
        "def minScore(nums, k):\n",
        "    min_val = min(nums)\n",
        "    max_val = max(nums)\n",
        "\n",
        "    if min_val + k >= max_val - k:\n",
        "        return 0  # No operation needed, the minimum score is 0\n",
        "\n",
        "    return max_val - min_val - 2 * k"
      ],
      "metadata": {
        "id": "X5upoetV71gl"
      },
      "execution_count": 64,
      "outputs": []
    },
    {
      "cell_type": "code",
      "source": [
        "# Test Case 1\n",
        "nums = [1]\n",
        "k = 0\n",
        "print(minScore(nums, k))  # Output: 0"
      ],
      "metadata": {
        "colab": {
          "base_uri": "https://localhost:8080/"
        },
        "id": "6ik8ckin728S",
        "outputId": "a19725ff-6d22-474f-ef0a-3e31c43facef"
      },
      "execution_count": 65,
      "outputs": [
        {
          "output_type": "stream",
          "name": "stdout",
          "text": [
            "0\n"
          ]
        }
      ]
    },
    {
      "cell_type": "code",
      "source": [
        "# Test Case 2\n",
        "nums = [0, 1, 2, 3, 4]\n",
        "k = 1\n",
        "print(minScore(nums, k))  # Output: 2"
      ],
      "metadata": {
        "colab": {
          "base_uri": "https://localhost:8080/"
        },
        "id": "j7r1JRIm8Cg8",
        "outputId": "418b2fbe-788e-46e7-ccf4-b8d35cab76a1"
      },
      "execution_count": 67,
      "outputs": [
        {
          "output_type": "stream",
          "name": "stdout",
          "text": [
            "2\n"
          ]
        }
      ]
    },
    {
      "cell_type": "markdown",
      "source": [
        "In the code, we find the minimum element min_val and the maximum element max_val in the array. If the difference between min_val + k and max_val - k is greater than or equal to 0, it means the range between the minimum and maximum elements is already within the given operation's range [-k, k]. In this case, no operation is needed, and the minimum score is 0.\n",
        "\n",
        "Otherwise, we return the difference max_val - min_val - 2 * k, which represents the minimum score after applying the operation to the minimum and maximum elements.\n",
        "\n",
        "The **time complexity of this solution is O(n)**, where n is the length of the array nums, as we need to find the minimum and maximum elements by iterating through the array. The **space complexity is O(1)** as we are using a constant amount of extra space to store the minimum and maximum values."
      ],
      "metadata": {
        "id": "TDeyieUV810i"
      }
    }
  ]
}
