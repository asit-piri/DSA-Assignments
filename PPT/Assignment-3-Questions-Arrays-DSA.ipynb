{
  "nbformat": 4,
  "nbformat_minor": 0,
  "metadata": {
    "colab": {
      "provenance": []
    },
    "kernelspec": {
      "name": "python3",
      "display_name": "Python 3"
    },
    "language_info": {
      "name": "python"
    }
  },
  "cells": [
    {
      "cell_type": "markdown",
      "source": [
        "#Assignment 3 Questions - Arrays | DSA\n",
        "\n",
        "##Name: Asit Piri"
      ],
      "metadata": {
        "id": "E9SItXdn8uVV"
      }
    },
    {
      "cell_type": "markdown",
      "source": [
        "#Question 1\n",
        "\n",
        "Given an integer array nums of length n and an integer target, find three integers in nums such that the sum is closest to the target. Return the sum of the three integers. You may assume that each input would have exactly one solution.\n",
        "\n",
        "Example:\n",
        "\n",
        "Input: nums = [-1,2,1,-4], target = 1\n",
        "\n",
        "Output: 2\n",
        "\n",
        "Explanation: The sum that is closest to the target is 2. (-1 + 2 + 1 = 2)."
      ],
      "metadata": {
        "id": "AkV1INwT87hL"
      }
    },
    {
      "cell_type": "markdown",
      "source": [
        "## Solution\n",
        "\n",
        "To find three integers in the array nums whose sum is closest to the target, we can use a two-pointer approach along with sorting the array.\n",
        "\n",
        "Here's the Python code that implements this approach:"
      ],
      "metadata": {
        "id": "jr4BXSP_-3JA"
      }
    },
    {
      "cell_type": "code",
      "execution_count": null,
      "metadata": {
        "id": "2231Gkts8ond"
      },
      "outputs": [],
      "source": [
        "def threeSumClosest(nums, target):\n",
        "    print(\"nums: \", nums)\n",
        "    nums.sort()  # Sort the array in ascending order\n",
        "    print(\"sorted nums: \", nums)\n",
        "\n",
        "    n = len(nums)\n",
        "    closest_sum = float('inf')  # Initialize the closest sum to a large value\n",
        "\n",
        "    for i in range(n - 2):\n",
        "        left = i + 1\n",
        "        right = n - 1\n",
        "\n",
        "        while left < right:\n",
        "            curr_sum = nums[i] + nums[left] + nums[right]\n",
        "            if curr_sum == target:\n",
        "                return curr_sum\n",
        "\n",
        "            if abs(curr_sum - target) < abs(closest_sum - target):\n",
        "                closest_sum = curr_sum\n",
        "\n",
        "            if curr_sum < target:\n",
        "                left += 1\n",
        "            else:\n",
        "                right -= 1\n",
        "\n",
        "    return closest_sum"
      ]
    },
    {
      "cell_type": "markdown",
      "source": [
        "### Test Cases"
      ],
      "metadata": {
        "id": "FkQc-0jLTbM8"
      }
    },
    {
      "cell_type": "code",
      "source": [
        "# Test Case 1\n",
        "nums = [-1, 2, 1, -4]\n",
        "target = 1\n",
        "print(threeSumClosest(nums, target))  # Output: 2"
      ],
      "metadata": {
        "colab": {
          "base_uri": "https://localhost:8080/"
        },
        "id": "4kO0Mgmc--rW",
        "outputId": "f93b7dbd-eb06-4809-97d0-157651e8ddcf"
      },
      "execution_count": null,
      "outputs": [
        {
          "output_type": "stream",
          "name": "stdout",
          "text": [
            "nums:  [-1, 2, 1, -4]\n",
            "sorted nums:  [-4, -1, 1, 2]\n",
            "2\n"
          ]
        }
      ]
    },
    {
      "cell_type": "code",
      "source": [
        "# Test Case 2\n",
        "nums = [-1, 2, 3, 1, -3, -4]\n",
        "target = 3\n",
        "print(threeSumClosest(nums, target))  # Output: 2"
      ],
      "metadata": {
        "colab": {
          "base_uri": "https://localhost:8080/"
        },
        "id": "offwTlvVA3aS",
        "outputId": "952fb1f5-940b-4f05-e998-10addbce1ed1"
      },
      "execution_count": null,
      "outputs": [
        {
          "output_type": "stream",
          "name": "stdout",
          "text": [
            "nums:  [-1, 2, 3, 1, -3, -4]\n",
            "sorted nums:  [-4, -3, -1, 1, 2, 3]\n",
            "3\n"
          ]
        }
      ]
    },
    {
      "cell_type": "markdown",
      "source": [
        "### Conclusion"
      ],
      "metadata": {
        "id": "MJWmih_mTfwP"
      }
    },
    {
      "cell_type": "markdown",
      "source": [
        "In the code, we first sort the array nums in ascending order. Then, we iterate through the array with a pointer i from the beginning up to n - 2, where n is the length of the array.\n",
        "\n",
        "Inside the loop, we maintain two pointers, left and right, which represent the remaining two elements after selecting nums[i]. We calculate the current sum as nums[i] + nums[left] + nums[right].\n",
        "\n",
        "If the current sum is equal to the target, we immediately return the sum.\n",
        "\n",
        "Otherwise, we update the closest_sum to the current sum if the absolute difference between the current sum and the target is smaller than the absolute difference between the closest sum and the target.\n",
        "\n",
        "To approach the closest sum, we adjust the pointers left and right based on the comparison between the current sum and the target. If the current sum is less than the target, we move the left pointer to the right to increase the sum. If the current sum is greater than the target, we move the right pointer to the left to decrease the sum.\n",
        "\n",
        "Finally, we return the closest sum found.\n",
        "\n",
        "The **time complexity of this solution is O(n^2)**, where n is the length of the array nums. The sorting step takes O(nlogn) time, and the two-pointer approach takes O(n^2) time. The **space complexity is O(1)** as we are using a constant amount of extra space."
      ],
      "metadata": {
        "id": "PSC1cFGyAtLt"
      }
    },
    {
      "cell_type": "markdown",
      "source": [
        "#Question 2\n",
        "\n",
        "Given an array nums of n integers, return an array of all the unique quadruplets\n",
        "[nums[a], nums[b], nums[c], nums[d]] such that:\n",
        "\n",
        "● 0 <= a, b, c, d < n\n",
        "\n",
        "● a, b, c, and d are distinct.\n",
        "\n",
        "● nums[a] + nums[b] + nums[c] + nums[d] == target\n",
        "\n",
        "You may return the answer in any order.\n",
        "\n",
        "Example:\n",
        "\n",
        "Input: nums = [1,0,-1,0,-2,2], target = 0\n",
        "\n",
        "Output: [[-2,-1,1,2],[-2,0,0,2],[-1,0,0,1]]"
      ],
      "metadata": {
        "id": "vDQK8AU_9JJB"
      }
    },
    {
      "cell_type": "markdown",
      "source": [
        "### Solution\n",
        "\n",
        "To find all unique quadruplets in the array nums that sum up to the target, we can use a combination of two-pointer approach and nested loops.\n",
        "\n",
        "Here's the Python code that implements this approach:"
      ],
      "metadata": {
        "id": "XIqR-OQODUuT"
      }
    },
    {
      "cell_type": "code",
      "source": [
        "def fourSum(nums, target):\n",
        "    print(\"nums: \", nums)\n",
        "    nums.sort()  # Sort the array in ascending order\n",
        "    print(\"sorted nums: \", nums)\n",
        "\n",
        "    n = len(nums)\n",
        "    quadruplets = []\n",
        "\n",
        "    for i in range(n - 3):\n",
        "        if i > 0 and nums[i] == nums[i - 1]:\n",
        "            continue\n",
        "\n",
        "        for j in range(i + 1, n - 2):\n",
        "            if j > i + 1 and nums[j] == nums[j - 1]:\n",
        "                continue\n",
        "\n",
        "            left = j + 1\n",
        "            right = n - 1\n",
        "\n",
        "            while left < right:\n",
        "                curr_sum = nums[i] + nums[j] + nums[left] + nums[right]\n",
        "\n",
        "                if curr_sum == target:\n",
        "                    quadruplets.append([nums[i], nums[j], nums[left], nums[right]])\n",
        "\n",
        "                    while left < right and nums[left] == nums[left + 1]:\n",
        "                        left += 1\n",
        "                    while left < right and nums[right] == nums[right - 1]:\n",
        "                        right -= 1\n",
        "\n",
        "                    left += 1\n",
        "                    right -= 1\n",
        "\n",
        "                elif curr_sum < target:\n",
        "                    left += 1\n",
        "                else:\n",
        "                    right -= 1\n",
        "\n",
        "    return quadruplets"
      ],
      "metadata": {
        "id": "a_49e8HL9Msi"
      },
      "execution_count": null,
      "outputs": []
    },
    {
      "cell_type": "markdown",
      "source": [
        "### Test Cases"
      ],
      "metadata": {
        "id": "pdBc1UipToii"
      }
    },
    {
      "cell_type": "code",
      "source": [
        "# Test Case 1\n",
        "nums = [1, 0, -1, 0, -2, 2]\n",
        "target = 0\n",
        "print(fourSum(nums, target))"
      ],
      "metadata": {
        "colab": {
          "base_uri": "https://localhost:8080/"
        },
        "id": "1pxpI41sDhXy",
        "outputId": "394739d2-17e0-4ef2-ff4f-b03be4ee3c18"
      },
      "execution_count": null,
      "outputs": [
        {
          "output_type": "stream",
          "name": "stdout",
          "text": [
            "nums:  [1, 0, -1, 0, -2, 2]\n",
            "sorted nums:  [-2, -1, 0, 0, 1, 2]\n",
            "[[-2, -1, 1, 2], [-2, 0, 0, 2], [-1, 0, 0, 1]]\n"
          ]
        }
      ]
    },
    {
      "cell_type": "code",
      "source": [
        "# Test Case 2\n",
        "nums = [1, 1, 0, -1, 0, -2, 2, 4]\n",
        "target = 0\n",
        "print(fourSum(nums, target))"
      ],
      "metadata": {
        "colab": {
          "base_uri": "https://localhost:8080/"
        },
        "id": "A_vGQd2CD2qZ",
        "outputId": "61f87f46-375a-4b32-f18c-a6db05e89a66"
      },
      "execution_count": null,
      "outputs": [
        {
          "output_type": "stream",
          "name": "stdout",
          "text": [
            "nums:  [1, 1, 0, -1, 0, -2, 2, 4]\n",
            "sorted nums:  [-2, -1, 0, 0, 1, 1, 2, 4]\n",
            "[[-2, -1, 1, 2], [-2, 0, 0, 2], [-2, 0, 1, 1], [-1, 0, 0, 1]]\n"
          ]
        }
      ]
    },
    {
      "cell_type": "markdown",
      "source": [
        "### Conclusion\n",
        "\n",
        "In the code, we first sort the array nums in ascending order. Then, we iterate through the array with two nested loops, using two pointers left and right to handle the remaining two elements after selecting nums[i] and nums[j].\n",
        "\n",
        "Inside the loops, we check for duplicate values and skip them to avoid duplicate quadruplets. We use conditional statements to adjust the pointers left and right based on the comparison between the current sum and the target.\n",
        "\n",
        "If the current sum equals the target, we add the quadruplet [nums[i], nums[j], nums[left], nums[right]] to the quadruplets list. We then increment left and decrement right, skipping any duplicate values.\n",
        "\n",
        "If the current sum is less than the target, we move the left pointer to the right to increase the sum. If the current sum is greater than the target, we move the right pointer to the left to decrease the sum.\n",
        "\n",
        "Finally, we return the quadruplets list containing all unique quadruplets.\n",
        "\n",
        "The **time complexity of this solution is O(n^3)**, where n is the length of the array nums. The sorting step takes O(nlogn) time, and the nested loops take O(n^3) time in the worst case. The **space complexity is O(1)** as we are using a constant amount of extra space."
      ],
      "metadata": {
        "id": "3-xo0CkLEQYX"
      }
    },
    {
      "cell_type": "markdown",
      "source": [
        "#Question 3\n",
        "\n",
        "A permutation of an array of integers is an arrangement of its members into a\n",
        "sequence or linear order.\n",
        "\n",
        "● For example, for arr = [1,2,3], the following are all the permutations of arr:\n",
        "[1,2,3], [1,3,2], [2, 1, 3], [2, 3, 1], [3,1,2], [3,2,1].\n",
        "\n",
        "The next permutation of an array of integers is the next lexicographically greater permutation of its integer. More formally, if all the permutations of the array are sorted in one container according to their lexicographical order, then the next permutation of that array is the permutation that follows it in the sorted container.\n",
        "\n",
        "If such an arrangement is not possible, the array must be rearranged as the\n",
        "lowest possible order (i.e., sorted in ascending order).\n",
        "\n",
        "● For example, the next permutation of arr = [1,2,3] is [1,3,2].\n",
        "\n",
        "● Similarly, the next permutation of arr = [2,3,1] is [3,1,2].\n",
        "\n",
        "● While the next permutation of arr = [3,2,1] is [1,2,3] because [3,2,1] does not have a lexicographical larger rearrangement.\n",
        "\n",
        "Given an array of integers nums, find the next permutation of nums.\n",
        "\n",
        "The replacement must be in place and use only constant extra memory.\n",
        "\n",
        "Example:\n",
        "\n",
        "Input: nums = [1,2,3]\n",
        "\n",
        "Output: [1,3,2]"
      ],
      "metadata": {
        "id": "Q03UPZ4u9Nxs"
      }
    },
    {
      "cell_type": "markdown",
      "source": [
        "## Solution\n",
        "\n",
        "To find the next permutation of an array nums, we can follow these steps:\n",
        "\n",
        "Start from the rightmost element of nums and search for the first pair of adjacent elements where nums[i] < nums[i+1]. This indicates the first element that can be modified to create a lexicographically greater permutation.\n",
        "\n",
        "If such a pair is found, we need to rearrange the array. Set j to the rightmost index such that nums[j] > nums[i]. Swap nums[i] with nums[j].\n",
        "\n",
        "Reverse the subarray starting from index i+1 to the end of the array. This step ensures that the remaining elements after i are in the lowest possible order.\n",
        "\n",
        "If no pair is found in step 1, it means the array is already in descending order, and we need to return the array sorted in ascending order.\n",
        "\n",
        "Here's the Python code that implements this algorithm:"
      ],
      "metadata": {
        "id": "MdtyUpYdFTz3"
      }
    },
    {
      "cell_type": "code",
      "source": [
        "def nextPermutation(nums):\n",
        "    n = len(nums)\n",
        "    i = n - 2  # Start from the second last element\n",
        "\n",
        "    # Find the first pair of adjacent elements where nums[i] < nums[i+1]\n",
        "    while i >= 0 and nums[i] >= nums[i + 1]:\n",
        "        i -= 1\n",
        "\n",
        "    if i >= 0:\n",
        "        # Find the rightmost index j such that nums[j] > nums[i]\n",
        "        j = n - 1\n",
        "        while j > i and nums[j] <= nums[i]:\n",
        "            j -= 1\n",
        "\n",
        "        # Swap nums[i] and nums[j]\n",
        "        nums[i], nums[j] = nums[j], nums[i]\n",
        "\n",
        "    # Reverse the subarray starting from index i+1\n",
        "    left = i + 1\n",
        "    right = n - 1\n",
        "    while left < right:\n",
        "        nums[left], nums[right] = nums[right], nums[left]\n",
        "        left += 1\n",
        "        right -= 1\n",
        "\n",
        "    return nums"
      ],
      "metadata": {
        "id": "ter7LO1H9PWv"
      },
      "execution_count": null,
      "outputs": []
    },
    {
      "cell_type": "markdown",
      "source": [
        "### Test Cases"
      ],
      "metadata": {
        "id": "0fuxs8S2T1B9"
      }
    },
    {
      "cell_type": "code",
      "source": [
        "# Test Case 1\n",
        "nums = [1, 2, 3]\n",
        "print(nextPermutation(nums))  # Output: [1, 3, 2]"
      ],
      "metadata": {
        "colab": {
          "base_uri": "https://localhost:8080/"
        },
        "id": "OzflzuVzFcO_",
        "outputId": "9fdac98c-b442-4e2f-c1e9-b6b4d546eb99"
      },
      "execution_count": null,
      "outputs": [
        {
          "output_type": "stream",
          "name": "stdout",
          "text": [
            "[1, 3, 2]\n"
          ]
        }
      ]
    },
    {
      "cell_type": "code",
      "source": [
        "# Test Case 2\n",
        "nums = [2, 3, 1]\n",
        "print(nextPermutation(nums))  # Output: [3, 1, 2]"
      ],
      "metadata": {
        "colab": {
          "base_uri": "https://localhost:8080/"
        },
        "id": "FpOEvaIyFdBa",
        "outputId": "f4f985ac-640f-44ab-a6ac-c17277b75ff9"
      },
      "execution_count": null,
      "outputs": [
        {
          "output_type": "stream",
          "name": "stdout",
          "text": [
            "[3, 1, 2]\n"
          ]
        }
      ]
    },
    {
      "cell_type": "code",
      "source": [
        "# Test Case 3\n",
        "nums = [3, 2, 1]\n",
        "print(nextPermutation(nums))  # Output: [1, 2, 3]"
      ],
      "metadata": {
        "colab": {
          "base_uri": "https://localhost:8080/"
        },
        "id": "VZVfsUgAFePg",
        "outputId": "127b713b-57a0-4419-ec00-c34d0ce6cd8d"
      },
      "execution_count": null,
      "outputs": [
        {
          "output_type": "stream",
          "name": "stdout",
          "text": [
            "[1, 2, 3]\n"
          ]
        }
      ]
    },
    {
      "cell_type": "markdown",
      "source": [
        "### Conclusion\n",
        "\n",
        "In this code, we handle the base case where n is 0 by returning 1. If n is negative, we compute the reciprocal of x and change n to positive to handle negative exponents. Then, we use a while loop to perform exponentiation by squaring. For each iteration, we check if n is odd, and if so, we multiply the result by x. We then square x and divide n by 2. This process continues until n becomes 0. Finally, we return the result.\n",
        "\n",
        "The **time complexity of this algorithm is O(log n)**, as the number of iterations in the while loop is proportional to the number of bits in the binary representation of n. The **space complexity is O(1)** since we are using only a constant amount of extra space."
      ],
      "metadata": {
        "id": "bKvtOL5DacNS"
      }
    },
    {
      "cell_type": "markdown",
      "source": [
        "#Question 4\n",
        "\n",
        "Given a sorted array of distinct integers and a target value, return the index if the target is found. If not, return the index where it would be if it were inserted in order. You must write an algorithm with O(log n) runtime complexity.\n",
        "\n",
        "Example:\n",
        "\n",
        "Input: nums = [1,3,5,6], target = 5\n",
        "\n",
        "Output: 2"
      ],
      "metadata": {
        "id": "F5g-AuAx9P2p"
      }
    },
    {
      "cell_type": "markdown",
      "source": [
        "# Solution\n",
        "\n",
        "To find the index of the target value in a sorted array or the index where it would be inserted, we can use a binary search algorithm. This approach ensures a logarithmic runtime complexity of O(log n).\n",
        "\n",
        "Here's the Python code that implements this algorithm:"
      ],
      "metadata": {
        "id": "yQ0REfkCJwuB"
      }
    },
    {
      "cell_type": "code",
      "source": [
        "def searchInsert(nums, target):\n",
        "    left = 0\n",
        "    right = len(nums) - 1\n",
        "\n",
        "    while left <= right:\n",
        "        mid = left + (right - left) // 2\n",
        "\n",
        "        if nums[mid] == target:\n",
        "            return mid\n",
        "        elif nums[mid] < target:\n",
        "            left = mid + 1\n",
        "        else:\n",
        "            right = mid - 1\n",
        "\n",
        "    # If the target is not found, return the index where it would be inserted\n",
        "    return left"
      ],
      "metadata": {
        "id": "h7Q20Sgl9RJa"
      },
      "execution_count": null,
      "outputs": []
    },
    {
      "cell_type": "markdown",
      "source": [
        "### Test Cases"
      ],
      "metadata": {
        "id": "rzKxg6klT7yw"
      }
    },
    {
      "cell_type": "code",
      "source": [
        "# Test Case 1\n",
        "\n",
        "nums = [1, 3, 5, 6]\n",
        "target = 5\n",
        "print(searchInsert(nums, target))  # Output: 2"
      ],
      "metadata": {
        "colab": {
          "base_uri": "https://localhost:8080/"
        },
        "id": "dHhkSFNvKCkR",
        "outputId": "075741aa-55b8-4538-cca0-4c2da56097d1"
      },
      "execution_count": null,
      "outputs": [
        {
          "output_type": "stream",
          "name": "stdout",
          "text": [
            "2\n"
          ]
        }
      ]
    },
    {
      "cell_type": "code",
      "source": [
        "# Test Case 2\n",
        "\n",
        "nums = [1, 3, 5, 6]\n",
        "target = 2\n",
        "print(searchInsert(nums, target))  # Output: 1"
      ],
      "metadata": {
        "colab": {
          "base_uri": "https://localhost:8080/"
        },
        "id": "15bvV4-GKKE3",
        "outputId": "e7e4a2a4-4cb6-402b-8eeb-49d56b0da12e"
      },
      "execution_count": null,
      "outputs": [
        {
          "output_type": "stream",
          "name": "stdout",
          "text": [
            "1\n"
          ]
        }
      ]
    },
    {
      "cell_type": "code",
      "source": [
        "# Test Case 3\n",
        "\n",
        "nums = [1, 3, 5, 6]\n",
        "target = 7\n",
        "print(searchInsert(nums, target))  # Output: 4"
      ],
      "metadata": {
        "colab": {
          "base_uri": "https://localhost:8080/"
        },
        "id": "M3mMeLmuKMAV",
        "outputId": "8aa372d3-8d38-4a76-e977-5a51c74ad72a"
      },
      "execution_count": null,
      "outputs": [
        {
          "output_type": "stream",
          "name": "stdout",
          "text": [
            "4\n"
          ]
        }
      ]
    },
    {
      "cell_type": "code",
      "source": [
        "# Test Case 4\n",
        "\n",
        "nums = [1, 3, 5, 6]\n",
        "target = 0\n",
        "print(searchInsert(nums, target))  # Output: 0"
      ],
      "metadata": {
        "colab": {
          "base_uri": "https://localhost:8080/"
        },
        "id": "HRX40UE8KN6h",
        "outputId": "9d0f5ccc-6c58-4fef-c79b-707311526470"
      },
      "execution_count": null,
      "outputs": [
        {
          "output_type": "stream",
          "name": "stdout",
          "text": [
            "0\n"
          ]
        }
      ]
    },
    {
      "cell_type": "markdown",
      "source": [
        "### Conclusion\n",
        "\n",
        "In this code, we maintain two pointers, left and right, which define the search range. We update these pointers based on whether the middle element is greater or smaller than the target value. If the target is found, we return the index. If the target is not found, we return the left pointer, which represents the index where the target would be inserted to maintain the sorted order.\n",
        "\n",
        "The **time complexity of this algorithm is O(log n)** as we perform a binary search on the sorted array. The **space complexity is O(1)** as we only use a constant amount of extra memory."
      ],
      "metadata": {
        "id": "Rjd1vL5QKxe3"
      }
    },
    {
      "cell_type": "markdown",
      "source": [
        "#Question 5\n",
        "\n",
        "You are given a large integer represented as an integer array digits, where each\n",
        "digits[i] is the ith digit of the integer. The digits are ordered from most significant to least significant in left-to-right order. The large integer does not contain any leading 0's. Increment the large integer by one and return the resulting array of digits.\n",
        "\n",
        "Example:\n",
        "\n",
        "Input: digits = [1,2,3]\n",
        "\n",
        "Output: [1,2,4]\n",
        "\n",
        "Explanation: The array represents the integer 123.\n",
        "\n",
        "Incrementing by one gives 123 + 1 = 124.\n",
        "\n",
        "Thus, the result should be [1,2,4]."
      ],
      "metadata": {
        "id": "Lgn2DfvB9R6k"
      }
    },
    {
      "cell_type": "markdown",
      "source": [
        "## Solution\n",
        "\n",
        "To increment a large integer represented as an array of digits, we need to consider the carry-over when incrementing each digit from right to left. If there is no carry-over after incrementing the least significant digit, we can return the resulting array. However, if there is a carry-over, we need to propagate it to the next most significant digit until we reach the leftmost digit.\n",
        "\n",
        "Here's the Python code that increments the large integer represented as an array of digits:"
      ],
      "metadata": {
        "id": "ArMhIUwaO9Aw"
      }
    },
    {
      "cell_type": "code",
      "source": [
        "def plusOne(digits):\n",
        "    n = len(digits)\n",
        "\n",
        "    # Start from the rightmost digit\n",
        "    for i in range(n - 1, -1, -1):\n",
        "        if digits[i] < 9:\n",
        "            # Increment the digit and return the result\n",
        "            digits[i] += 1\n",
        "            return digits\n",
        "        else:\n",
        "            # Carry-over to the next digit\n",
        "            digits[i] = 0\n",
        "\n",
        "    # If all digits are 9, add an additional digit\n",
        "    return [1] + digits"
      ],
      "metadata": {
        "id": "p85jLwL7O-aF"
      },
      "execution_count": null,
      "outputs": []
    },
    {
      "cell_type": "markdown",
      "source": [
        "### Test Cases"
      ],
      "metadata": {
        "id": "u7X8QTtbUELT"
      }
    },
    {
      "cell_type": "code",
      "source": [
        "# Test Case 1\n",
        "\n",
        "digits = [1, 2, 3]\n",
        "print(plusOne(digits))  # Output: [1, 2, 4]"
      ],
      "metadata": {
        "id": "e0ybYq3x9TfK",
        "colab": {
          "base_uri": "https://localhost:8080/"
        },
        "outputId": "fdafaa21-0846-4897-be0c-a75789bf9335"
      },
      "execution_count": null,
      "outputs": [
        {
          "output_type": "stream",
          "name": "stdout",
          "text": [
            "[1, 2, 4]\n"
          ]
        }
      ]
    },
    {
      "cell_type": "code",
      "source": [
        "# Test Case 2\n",
        "\n",
        "digits = [9, 9, 9]\n",
        "print(plusOne(digits))  # Output: [1, 0, 0, 0]"
      ],
      "metadata": {
        "colab": {
          "base_uri": "https://localhost:8080/"
        },
        "id": "CD8-2ufzPUtk",
        "outputId": "8736dc25-9485-4947-8359-95e9f9798324"
      },
      "execution_count": null,
      "outputs": [
        {
          "output_type": "stream",
          "name": "stdout",
          "text": [
            "[1, 0, 0, 0]\n"
          ]
        }
      ]
    },
    {
      "cell_type": "code",
      "source": [
        "# Test Case 3\n",
        "\n",
        "digits = [0]\n",
        "print(plusOne(digits))  # Output: [1]"
      ],
      "metadata": {
        "colab": {
          "base_uri": "https://localhost:8080/"
        },
        "id": "NRfd_5sjPX0h",
        "outputId": "b804e80d-616e-439d-91ec-d9edb8404d67"
      },
      "execution_count": null,
      "outputs": [
        {
          "output_type": "stream",
          "name": "stdout",
          "text": [
            "[1]\n"
          ]
        }
      ]
    },
    {
      "cell_type": "markdown",
      "source": [
        "### Conclusion\n",
        "\n",
        "The **time complexity of this algorithm is O(n)** since we iterate through the digits once. The **space complexity is O(1)** since we perform the increment operation in-place without using any additional memory except for the output array."
      ],
      "metadata": {
        "id": "eVOdDN1DPjHd"
      }
    },
    {
      "cell_type": "markdown",
      "source": [
        "#Question 6\n",
        "\n",
        "Given a non-empty array of integers nums, every element appears twice except\n",
        "for one. Find that single one. You must implement a solution with a linear runtime complexity and use only constant extra space.\n",
        "\n",
        "Example:\n",
        "\n",
        "Input: nums = [2,2,1]\n",
        "\n",
        "Output: 1"
      ],
      "metadata": {
        "id": "nMHUmq_J9UI1"
      }
    },
    {
      "cell_type": "markdown",
      "source": [
        "### Solution\n",
        "\n",
        "To find the single element that appears only once in the given array, we can utilize the XOR operation.\n",
        "\n",
        "The XOR operation (^) between two equal numbers results in 0. Therefore, if we XOR all the elements in the array, the duplicate elements will cancel out each other, and the remaining element will be the one that appears only once.\n",
        "\n",
        "Here's the Python code that implements this approach:"
      ],
      "metadata": {
        "id": "1iuIZvmQR3Io"
      }
    },
    {
      "cell_type": "code",
      "source": [
        "def singleNumber(nums):\n",
        "    result = 0\n",
        "    \n",
        "    for num in nums:\n",
        "        result ^= num\n",
        "    #print(result)\n",
        "        \n",
        "    return result"
      ],
      "metadata": {
        "id": "tkUgmjCGR4Xf"
      },
      "execution_count": null,
      "outputs": []
    },
    {
      "cell_type": "markdown",
      "source": [
        "### Test Cases"
      ],
      "metadata": {
        "id": "qMvILbsXURZl"
      }
    },
    {
      "cell_type": "code",
      "source": [
        "# Test Case 1\n",
        "\n",
        "nums = [2, 2, 1]\n",
        "print(singleNumber(nums))  # Output: 1"
      ],
      "metadata": {
        "id": "KiSamu_z9Va1",
        "colab": {
          "base_uri": "https://localhost:8080/"
        },
        "outputId": "30cec992-9029-4d38-93a9-64d30faff890"
      },
      "execution_count": null,
      "outputs": [
        {
          "output_type": "stream",
          "name": "stdout",
          "text": [
            "1\n"
          ]
        }
      ]
    },
    {
      "cell_type": "code",
      "source": [
        "# Test Case 2\n",
        "\n",
        "nums = [4, 1, 2, 1, 2]\n",
        "print(singleNumber(nums))  # Output: 4"
      ],
      "metadata": {
        "colab": {
          "base_uri": "https://localhost:8080/"
        },
        "id": "rAdfJwjLSG7y",
        "outputId": "f7426e1b-76ef-45ed-b632-53e0ce318b5d"
      },
      "execution_count": null,
      "outputs": [
        {
          "output_type": "stream",
          "name": "stdout",
          "text": [
            "4\n"
          ]
        }
      ]
    },
    {
      "cell_type": "markdown",
      "source": [
        "### Conclusion\n",
        "\n",
        "The **time complexity of this algorithm is O(n)**, where n is the length of the nums array. This is because we traverse the array once to perform the XOR operation. The **space complexity is O(1)** since we use only a constant amount of extra space to store the result."
      ],
      "metadata": {
        "id": "Zg8yxq0ySPFX"
      }
    },
    {
      "cell_type": "markdown",
      "source": [
        "#Question 7\n",
        "\n",
        "You are given an inclusive range [lower, upper] and a sorted unique integer array nums, where all elements are within the inclusive range. A number x is considered missing if x is in the range [lower, upper] and x is not in\n",
        "nums. Return the shortest sorted list of ranges that exactly covers all the missing numbers. That is, no element of nums is included in any of the ranges, and each missing number is covered by one of the ranges.\n",
        "\n",
        "Example:\n",
        "\n",
        "Input: nums = [0,1,3,50,75], lower = 0, upper = 99\n",
        "\n",
        "Output: [[2,2],[4,49],[51,74],[76,99]]\n",
        "\n",
        "Explanation: The ranges are:\n",
        "[2,2]\n",
        "[4,49]\n",
        "[51,74]\n",
        "[76,99]"
      ],
      "metadata": {
        "id": "cmudTgOX9VnN"
      }
    },
    {
      "cell_type": "markdown",
      "source": [
        "## Solution\n",
        "\n",
        "To find the missing ranges in the given range [lower, upper] with respect to the sorted nums array, we can iterate through the range and check for missing numbers. We'll keep track of the start and end of each missing range as we find missing numbers.\n",
        "\n",
        "Here's the corrected Python code:"
      ],
      "metadata": {
        "id": "Xre0IeMtTNEJ"
      }
    },
    {
      "cell_type": "code",
      "source": [
        "def findMissingRanges(nums, lower, upper):\n",
        "    result = []\n",
        "    start = lower\n",
        "    \n",
        "    for num in nums:\n",
        "        if num > start:\n",
        "            end = num - 1\n",
        "            result.append(getRange(start, end))\n",
        "        \n",
        "        start = num + 1\n",
        "    \n",
        "    if upper >= start:\n",
        "        result.append(getRange(start, upper))\n",
        "    \n",
        "    return result\n",
        "\n",
        "def getRange(start, end):\n",
        "    if start == end:\n",
        "        return str(start)\n",
        "    else:\n",
        "        return str(start) + '->' + str(end)"
      ],
      "metadata": {
        "id": "Uq_Ti5Vq9XK9"
      },
      "execution_count": null,
      "outputs": []
    },
    {
      "cell_type": "markdown",
      "source": [
        "### Test Cases"
      ],
      "metadata": {
        "id": "bGVZkZQDUxg2"
      }
    },
    {
      "cell_type": "code",
      "source": [
        "# Test Case 1\n",
        "nums = [0, 1, 3, 50, 75]\n",
        "lower = 0\n",
        "upper = 99\n",
        "print(findMissingRanges(nums, lower, upper))"
      ],
      "metadata": {
        "colab": {
          "base_uri": "https://localhost:8080/"
        },
        "id": "EOuUyQ0TUxuk",
        "outputId": "28180e81-6d96-4aaa-cd8a-cf746136ba92"
      },
      "execution_count": null,
      "outputs": [
        {
          "output_type": "stream",
          "name": "stdout",
          "text": [
            "['2', '4->49', '51->74', '76->99']\n"
          ]
        }
      ]
    },
    {
      "cell_type": "code",
      "source": [
        "# Test Case 2\n",
        "nums = [-10, 0, 1, 3, 50, 75, 100]\n",
        "lower = 0\n",
        "upper = 99\n",
        "print(findMissingRanges(nums, lower, upper))"
      ],
      "metadata": {
        "colab": {
          "base_uri": "https://localhost:8080/"
        },
        "id": "QCyhFpRZVPMS",
        "outputId": "88bcafee-5bfa-4052-b316-7adb95db9950"
      },
      "execution_count": null,
      "outputs": [
        {
          "output_type": "stream",
          "name": "stdout",
          "text": [
            "['-9->-1', '2', '4->49', '51->74', '76->99']\n"
          ]
        }
      ]
    },
    {
      "cell_type": "markdown",
      "source": [
        "In this updated code, we iterate through the nums array and find the missing ranges by comparing the current number with the start value. The getRange function is used to format the ranges.\n",
        "\n",
        "The **time complexity of this algorithm is O(n)**, where n is the length of the nums array. We iterate over the array once to identify the missing ranges. The **space complexity is O(1)** since we use only a constant amount of extra space to store the result."
      ],
      "metadata": {
        "id": "PntaByamVXqX"
      }
    },
    {
      "cell_type": "markdown",
      "source": [
        "#Question 8\n",
        "\n",
        "Given an array of meeting time intervals where intervals[i] = [starti, endi],\n",
        "determine if a person could attend all meetings.\n",
        "\n",
        "Example:\n",
        "\n",
        "Input: intervals = [[0,30],[5,10],[15,20]]\n",
        "\n",
        "Output: false"
      ],
      "metadata": {
        "id": "7SrO2AAi9XoQ"
      }
    },
    {
      "cell_type": "markdown",
      "source": [
        "## Solution\n",
        "\n",
        "To determine if a person could attend all meetings, we need to check if there are any overlapping intervals in the given array of meeting time intervals.\n",
        "\n",
        "Here's the Python code to solve this problem:"
      ],
      "metadata": {
        "id": "BXM6JLMuWZtH"
      }
    },
    {
      "cell_type": "code",
      "source": [
        "def canAttendMeetings(intervals):\n",
        "    # Sort the intervals based on the start time\n",
        "    intervals.sort(key=lambda x: x[0])\n",
        "    \n",
        "    # Check for overlapping intervals\n",
        "    for i in range(1, len(intervals)):\n",
        "        if intervals[i][0] < intervals[i-1][1]:\n",
        "            return False\n",
        "    \n",
        "    return True"
      ],
      "metadata": {
        "id": "Fs9oD_IzWeuo"
      },
      "execution_count": null,
      "outputs": []
    },
    {
      "cell_type": "code",
      "source": [
        "# Test Case 1\n",
        "intervals = [[0, 30], [5, 10], [15, 20]]\n",
        "print(canAttendMeetings(intervals))"
      ],
      "metadata": {
        "colab": {
          "base_uri": "https://localhost:8080/"
        },
        "id": "1w3BzuJUWmZk",
        "outputId": "9fb0d956-d4fd-42c7-e9a3-7315ca038bb8"
      },
      "execution_count": null,
      "outputs": [
        {
          "output_type": "stream",
          "name": "stdout",
          "text": [
            "False\n"
          ]
        }
      ]
    },
    {
      "cell_type": "code",
      "source": [
        "# Test Case 2\n",
        "intervals = [[0, 30], [31, 60], [61, 90]]\n",
        "print(canAttendMeetings(intervals))"
      ],
      "metadata": {
        "colab": {
          "base_uri": "https://localhost:8080/"
        },
        "id": "fIheVn6rWo1Z",
        "outputId": "2b110a80-4472-4169-c69b-64f9ea157f14"
      },
      "execution_count": null,
      "outputs": [
        {
          "output_type": "stream",
          "name": "stdout",
          "text": [
            "True\n"
          ]
        }
      ]
    },
    {
      "cell_type": "markdown",
      "source": [
        "In this code, we first sort the intervals based on their start times. Then, we iterate through the sorted intervals and check if the start time of any interval is less than the end time of the previous interval. If we find such overlapping intervals, we return False. Otherwise, if all intervals are non-overlapping, we return True.\n",
        "\n",
        "The **time complexity of this algorithm is O(n log n)**, where n is the number of intervals. The sorting step takes O(n log n) time, and the subsequent iteration through the sorted intervals takes O(n) time. The **space complexity is O(1)** since we are using only a constant amount of extra space."
      ],
      "metadata": {
        "id": "Iy6oDScdXHI2"
      }
    },
    {
      "cell_type": "markdown",
      "source": [
        "#Class Tasks\n",
        "##Date: 25 May 2023"
      ],
      "metadata": {
        "id": "HM6VqI12_O2M"
      }
    },
    {
      "cell_type": "markdown",
      "source": [
        "#Question 1\n",
        "\n",
        "Implement pow(x, n) which calculates x raised to the power n(i.e. Xn)\n",
        "\n",
        "Example:\n",
        "\n",
        "Input: x = 2.0000, N = 10\n",
        "\n",
        "Output: 1024.0000"
      ],
      "metadata": {
        "id": "YjJi_FBaVS3Q"
      }
    },
    {
      "cell_type": "markdown",
      "source": [
        "## Solution\n",
        "\n",
        "To implement the power function pow(x, n) that calculates x raised to the power n, you can use the concept of exponentiation by squaring, which reduces the number of multiplications required.\n",
        "\n",
        "Here's the Python code to implement the pow function:"
      ],
      "metadata": {
        "id": "2DevMoitYDDx"
      }
    },
    {
      "cell_type": "code",
      "source": [
        "def myPow(x, n):\n",
        "    # Base case: if n is 0, return 1\n",
        "    if n == 0:\n",
        "        return 1\n",
        "    \n",
        "    # If n is negative, compute the reciprocal of x and change n to positive\n",
        "    if n < 0:\n",
        "        x = 1 / x\n",
        "        n = -n\n",
        "    \n",
        "    result = 1\n",
        "    \n",
        "    while n > 0:\n",
        "        # If n is odd, multiply the result by x\n",
        "        if n % 2 == 1:\n",
        "            result *= x\n",
        "        \n",
        "        # Square x and divide n by 2\n",
        "        x *= x\n",
        "        n //= 2\n",
        "    \n",
        "    return result"
      ],
      "metadata": {
        "id": "U5ICtk0-9ZT1"
      },
      "execution_count": null,
      "outputs": []
    },
    {
      "cell_type": "markdown",
      "source": [
        "### Test Cases"
      ],
      "metadata": {
        "id": "uG_Vq3R6YXbC"
      }
    },
    {
      "cell_type": "code",
      "source": [
        "# Test Case 1\n",
        "\n",
        "x = 2.0000\n",
        "n = 10\n",
        "print(myPow(x, n))"
      ],
      "metadata": {
        "colab": {
          "base_uri": "https://localhost:8080/"
        },
        "id": "dR0vWm_vYWtu",
        "outputId": "696343bd-a05f-4a19-bee2-ca37aef80579"
      },
      "execution_count": null,
      "outputs": [
        {
          "output_type": "stream",
          "name": "stdout",
          "text": [
            "1024.0\n"
          ]
        }
      ]
    },
    {
      "cell_type": "code",
      "source": [
        "# Test Case 2\n",
        "\n",
        "x = 2\n",
        "n = 10\n",
        "print(myPow(x, n))"
      ],
      "metadata": {
        "colab": {
          "base_uri": "https://localhost:8080/"
        },
        "id": "jxZ-nnHOY_7k",
        "outputId": "6c855426-bc8d-48b3-eed5-3be025ce3803"
      },
      "execution_count": null,
      "outputs": [
        {
          "output_type": "stream",
          "name": "stdout",
          "text": [
            "1024\n"
          ]
        }
      ]
    },
    {
      "cell_type": "code",
      "source": [
        "# Test Case 3\n",
        "\n",
        "x = 2\n",
        "n = -2\n",
        "print(myPow(x, n))"
      ],
      "metadata": {
        "colab": {
          "base_uri": "https://localhost:8080/"
        },
        "id": "5HGi7hm1Ys7S",
        "outputId": "8201cfc3-f3e3-4819-e0d6-1c246c80ffc1"
      },
      "execution_count": null,
      "outputs": [
        {
          "output_type": "stream",
          "name": "stdout",
          "text": [
            "0.25\n"
          ]
        }
      ]
    },
    {
      "cell_type": "markdown",
      "source": [
        "In this code, we handle the base case where n is 0 by returning 1. If n is negative, we compute the reciprocal of x and change n to positive to handle negative exponents. Then, we use a while loop to perform exponentiation by squaring. For each iteration, we check if n is odd, and if so, we multiply the result by x. We then square x and divide n by 2. This process continues until n becomes 0. Finally, we return the result.\n",
        "\n",
        "The **time complexity of this algorithm is O(log n)**, as the number of iterations in the while loop is proportional to the number of bits in the binary representation of n. The **space complexity is O(1)** since we are using only a constant amount of extra space."
      ],
      "metadata": {
        "id": "2_IPTuMnZTdg"
      }
    },
    {
      "cell_type": "markdown",
      "source": [
        "# Question 2\n",
        "\n",
        "A permutation of an array of integers is an arrangement of its members into a sequence or linear order. For example, for auu = [1, 2, 3], the following are all the permutations of arr = [1, 2, 3], [1, 3, 2], [2, 1, 3], [2, 3, 1], [3, 1, 2], [3, 2, 1]\n",
        "\n",
        "The next permutation of an array of integers is the next lexicographically greater permutation of its integer. More formally, if all the permutations of the array are sorted in one container according to theie lexicographical order, then the next permutation of that array is the permutation that follow it in the sorted container. If such arrangement is not possible, the array must be rearranged as the lowest possible order (i.e. sorted in ascending order).\n",
        "\n",
        "- For example, the next permutation of arr = [1, 2, 3] is [1, 3, 2]\n",
        "\n",
        "- Similarly, the next permutation of arr = [2, 3, 1] is [3, 1, 2]\n",
        "\n",
        "- While the next permutation of arr = [3, 2, 1] is [1, 2, 3] because [3, 2, 1] does not have a lexicographical large rearrangement.\n",
        "\n",
        "Given an array of integers nums, find the next permutation of nums.\n",
        "\n",
        "The replacement must be in place and used only constant extra memory.\n",
        "\n",
        "Example:\n",
        "\n",
        "Input: nums = [1, 2, 3]\n",
        "\n",
        "Output: [1, 3, 2]"
      ],
      "metadata": {
        "id": "UTGeDl85Vujm"
      }
    },
    {
      "cell_type": "markdown",
      "source": [
        "## Solution\n",
        "\n",
        "To find the next lexicographically greater permutation of an array of integers, you can follow these steps:\n",
        "\n",
        "Start from the rightmost element of the array and search for the first pair of adjacent elements where the left element is smaller than the right element. Let's call the index of the left element i.\n",
        "\n",
        "If no such pair is found, it means the given array is in descending order, and we need to rearrange it to the lowest possible order. In this case, reverse the entire array and return it.\n",
        "\n",
        "If a pair is found in step 1, search for the smallest element to the right of nums[i] that is larger than nums[i]. Let's call the index of this element j.\n",
        "Swap the elements at indices i and j.\n",
        "\n",
        "Reverse the subarray starting from index i+1 to the end of the array.\n",
        "Here's the Python code to implement this algorithm:"
      ],
      "metadata": {
        "id": "fwWcWYPwcK0j"
      }
    },
    {
      "cell_type": "code",
      "source": [
        "def nextPermutation(nums):\n",
        "    # Find the first pair of adjacent elements where nums[i] < nums[i+1]\n",
        "    i = len(nums) - 2\n",
        "    while i >= 0 and nums[i] >= nums[i + 1]:\n",
        "        i -= 1\n",
        "    \n",
        "    if i == -1:\n",
        "        # Array is in descending order, so reverse it\n",
        "        nums.reverse()\n",
        "        return nums\n",
        "    \n",
        "    # Find the smallest element to the right of nums[i] that is larger than nums[i]\n",
        "    j = len(nums) - 1\n",
        "    while nums[j] <= nums[i]:\n",
        "        j -= 1\n",
        "    \n",
        "    # Swap the elements at indices i and j\n",
        "    nums[i], nums[j] = nums[j], nums[i]\n",
        "    \n",
        "    # Reverse the subarray starting from index i+1\n",
        "    left, right = i + 1, len(nums) - 1\n",
        "    while left < right:\n",
        "        nums[left], nums[right] = nums[right], nums[left]\n",
        "        left += 1\n",
        "        right -= 1\n",
        "    \n",
        "    return nums"
      ],
      "metadata": {
        "id": "jWg3u-OmcPt0"
      },
      "execution_count": null,
      "outputs": []
    },
    {
      "cell_type": "markdown",
      "source": [
        "### Test cases"
      ],
      "metadata": {
        "id": "lF4VgFu8cYqN"
      }
    },
    {
      "cell_type": "code",
      "source": [
        "# Test Case 1\n",
        "nums = [1, 2, 3]\n",
        "print(nextPermutation(nums))\n",
        "# Output: [1, 3, 2]"
      ],
      "metadata": {
        "colab": {
          "base_uri": "https://localhost:8080/"
        },
        "id": "ShEOBSOAcPzH",
        "outputId": "ee667954-0d4d-49f7-cdca-ebc99b3e0bed"
      },
      "execution_count": null,
      "outputs": [
        {
          "output_type": "stream",
          "name": "stdout",
          "text": [
            "[1, 3, 2]\n"
          ]
        }
      ]
    },
    {
      "cell_type": "code",
      "source": [
        "# Test Case 2\n",
        "nums = [1, 7, 9]\n",
        "print(nextPermutation(nums))"
      ],
      "metadata": {
        "colab": {
          "base_uri": "https://localhost:8080/"
        },
        "id": "JcbUYfYycfzi",
        "outputId": "a4bb5245-c310-4288-a973-35fbdd2dfefa"
      },
      "execution_count": null,
      "outputs": [
        {
          "output_type": "stream",
          "name": "stdout",
          "text": [
            "[1, 9, 7]\n"
          ]
        }
      ]
    },
    {
      "cell_type": "code",
      "source": [
        "# Test Case 2\n",
        "nums = [1, 9, 7]\n",
        "print(nextPermutation(nums))"
      ],
      "metadata": {
        "colab": {
          "base_uri": "https://localhost:8080/"
        },
        "id": "9us52LA1cQE6",
        "outputId": "2d5753e2-56be-4158-d270-4f1017ff5982"
      },
      "execution_count": null,
      "outputs": [
        {
          "output_type": "stream",
          "name": "stdout",
          "text": [
            "[7, 1, 9]\n"
          ]
        }
      ]
    },
    {
      "cell_type": "markdown",
      "source": [
        "### Conclusion\n",
        "\n",
        "In this code, we start by searching for the first pair of adjacent elements where nums[i] < nums[i+1]. If no such pair is found, we reverse the entire array and return it. Otherwise, we find the smallest element to the right of nums[i] that is larger than nums[i] and swap these elements. Finally, we reverse the subarray starting from index i+1 to obtain the next permutation.\n",
        "\n",
        "The **time complexity of this algorithm is O(n)**, where n is the length of the array nums, as we perform a linear scan of the array. The **space complexity is O(1)** since we are using only a constant amount of extra memory."
      ],
      "metadata": {
        "id": "T7E2xTsRc_uw"
      }
    },
    {
      "cell_type": "markdown",
      "source": [
        "#Question 3\n",
        "\n",
        "Given an array arr[] of distinct elements size N that is sorted and then around an unknown point, the task is to check if the array has a pair with a given sum x.\n",
        "\n",
        "Example:\n",
        "\n",
        "Input: arr[] = {11, 15, 6, 8, 9, 10}, x = 16\n",
        "\n",
        "Output: true\n",
        "\n",
        "Explanation: there is a pair (6, 10) with sum 16."
      ],
      "metadata": {
        "id": "cAc517aKW7zC"
      }
    },
    {
      "cell_type": "markdown",
      "source": [
        "### Solution\n",
        "\n",
        "To find if an array has a pair with a given sum, you can utilize the two-pointer technique. Since the array is sorted and rotated around an unknown point, we can follow these steps:\n",
        "\n",
        "Find the pivot point where the array is rotated. This can be done by finding the index of the smallest element in the array. The pivot point divides the array into two sorted subarrays.\n",
        "\n",
        "Initialize two pointers, left and right, pointing to the start and end of the array, respectively.\n",
        "\n",
        "Move the left pointer to the index of the smallest element in the array. If the array is not rotated, the left pointer will be at index 0.\n",
        "\n",
        "Move the right pointer to the index of the largest element in the array. If the array is not rotated, the right pointer will be at the last index.\n",
        "\n",
        "Iterate while left is less than right:\n",
        "\n",
        "Calculate the sum of the elements at left and right, i.e., arr[left] + arr[right].\n",
        "If the sum is equal to the target x, return true.\n",
        "If the sum is less than x, increment the left pointer.\n",
        "If the sum is greater than x, decrement the right pointer.\n",
        "If the loop ends without finding a pair with sum x, return false.\n",
        "\n",
        "Here's the Python code that implements this approach:"
      ],
      "metadata": {
        "id": "tFhj8RCHdPB1"
      }
    },
    {
      "cell_type": "code",
      "source": [
        "def findPair(arr, x):\n",
        "    n = len(arr)\n",
        "    \n",
        "    # Find the pivot point\n",
        "    pivot = findPivot(arr, 0, n - 1)\n",
        "    \n",
        "    # Set left and right pointers\n",
        "    left = (pivot + 1) % n\n",
        "    right = pivot\n",
        "    \n",
        "    # Iterate while left < right\n",
        "    while left != right:\n",
        "        currSum = arr[left] + arr[right]\n",
        "        \n",
        "        if currSum == x:\n",
        "            return True\n",
        "        elif currSum < x:\n",
        "            left = (left + 1) % n\n",
        "        else:\n",
        "            right = (n + right - 1) % n\n",
        "    \n",
        "    return False\n",
        "\n",
        "\n",
        "def findPivot(arr, low, high):\n",
        "    if high < low:\n",
        "        return -1\n",
        "    if high == low:\n",
        "        return low\n",
        "    \n",
        "    mid = (low + high) // 2\n",
        "    \n",
        "    if mid < high and arr[mid] > arr[mid + 1]:\n",
        "        return mid\n",
        "    \n",
        "    if mid > low and arr[mid] < arr[mid - 1]:\n",
        "        return mid - 1\n",
        "    \n",
        "    if arr[low] >= arr[mid]:\n",
        "        return findPivot(arr, low, mid - 1)\n",
        "    \n",
        "    return findPivot(arr, mid + 1, high)"
      ],
      "metadata": {
        "id": "xZep7YPtftyv"
      },
      "execution_count": null,
      "outputs": []
    },
    {
      "cell_type": "markdown",
      "source": [
        "### Test cases"
      ],
      "metadata": {
        "id": "RTidLpDWjBMq"
      }
    },
    {
      "cell_type": "code",
      "source": [
        "# Test Cases 1\n",
        "arr = [11, 15, 6, 8, 9, 10]\n",
        "x = 16\n",
        "print(findPair(arr, x))\n",
        "# Output: True"
      ],
      "metadata": {
        "colab": {
          "base_uri": "https://localhost:8080/"
        },
        "id": "00OlNaEJfvUm",
        "outputId": "11337784-3d96-4d6e-b3be-a7354d11e3c7"
      },
      "execution_count": null,
      "outputs": [
        {
          "output_type": "stream",
          "name": "stdout",
          "text": [
            "True\n"
          ]
        }
      ]
    },
    {
      "cell_type": "code",
      "source": [
        "# Test Cases 2\n",
        "\n",
        "arr = [11, 15, 6, 8, 9, 10]\n",
        "target = 25\n",
        "print(findPair(arr, x))"
      ],
      "metadata": {
        "id": "TBahCoLgcO28",
        "colab": {
          "base_uri": "https://localhost:8080/"
        },
        "outputId": "e6edc60a-8866-46c6-80d9-f42ed4264aeb"
      },
      "execution_count": null,
      "outputs": [
        {
          "output_type": "stream",
          "name": "stdout",
          "text": [
            "True\n"
          ]
        }
      ]
    },
    {
      "cell_type": "code",
      "source": [
        "# Test Cases 3\n",
        "\n",
        "arr = [11, 15, 6, 8, 9, 10]\n",
        "target = 5\n",
        "print(findPair(arr, x))"
      ],
      "metadata": {
        "colab": {
          "base_uri": "https://localhost:8080/"
        },
        "id": "kL0P4GpWfLOM",
        "outputId": "5389d489-46c7-459f-9f7e-6833b8f5c371"
      },
      "execution_count": null,
      "outputs": [
        {
          "output_type": "stream",
          "name": "stdout",
          "text": [
            "True\n"
          ]
        }
      ]
    },
    {
      "cell_type": "code",
      "source": [
        "# Test Cases 4\n",
        "\n",
        "arr = [11, 15, 6, 8, 9, 10]\n",
        "target = 25\n",
        "print(findPair(arr, x))"
      ],
      "metadata": {
        "colab": {
          "base_uri": "https://localhost:8080/"
        },
        "id": "vdfo2tFkfV0D",
        "outputId": "073fbec8-a359-49b1-972d-fdb111b81229"
      },
      "execution_count": null,
      "outputs": [
        {
          "output_type": "stream",
          "name": "stdout",
          "text": [
            "True\n"
          ]
        }
      ]
    },
    {
      "cell_type": "markdown",
      "source": [
        "### Conclusion\n",
        "\n",
        "The findPair function takes the sorted and rotated array arr and the target sum x as input. It first finds the pivot element using a modified binary search in the findPivot function. Then, it initializes the left and right pointers accordingly and performs a two-pointer traversal to check if there exists a pair with the sum x. The function returns True if such a pair is found and False otherwise.\n",
        "\n",
        "The **time complexity of this algorithm is O(log n)**, where n is the size of the array arr, as we perform binary search to find the pivot element. The **space complexity is O(1)** as we are using only a constant amount of extra memory."
      ],
      "metadata": {
        "id": "fggcmE1whIE7"
      }
    },
    {
      "cell_type": "markdown",
      "source": [
        "# Question 4\n",
        "\n",
        "Given an array nums with n objects colored red, white, or blue, sort them in-place so that objects of the same color are adjacent, with the colors in the order red, white and blue. We will use the integers 0, 1 and 2 to represent the color red, white and blue respectively.\n",
        "\n",
        "You must solve this problem without using the library's sort function\n",
        "\n",
        "Example:\n",
        "\n",
        "Input: nums = [2, 0, 2, 1, 1, 0]\n",
        "\n",
        "Output: [0, 0, 1, 1, 2, 2]"
      ],
      "metadata": {
        "id": "5uW0EmCQcPDv"
      }
    },
    {
      "cell_type": "markdown",
      "source": [
        "## Solution\n",
        "\n",
        "To sort an array of objects colored red, white, and blue (represented by integers 0, 1, and 2), we can use the Dutch National Flag algorithm, also known as the 3-way partitioning algorithm. This algorithm allows us to sort the array in a single pass.\n",
        "\n",
        "Here's the step-by-step approach to solving the problem:\n",
        "\n",
        "Initialize three pointers: low, mid, and high. Set low and mid to the start of the array (index 0), and high to the end of the array (index n-1).\n",
        "\n",
        "Iterate through the array while mid is less than or equal to high.\n",
        "\n",
        "If the element at mid is 0, swap it with the element at low and increment both low and mid pointers.\n",
        "\n",
        "If the element at mid is 1, move mid to the next element.\n",
        "\n",
        "If the element at mid is 2, swap it with the element at high and decrement the high pointer.\n",
        "\n",
        "Repeat steps 2-5 until mid is greater than high.\n",
        "\n",
        "The array will be sorted after the above steps.\n",
        "\n",
        "Here's the Python code that implements the Dutch National Flag algorithm to sort the array:"
      ],
      "metadata": {
        "id": "jENrpJcIhnOm"
      }
    },
    {
      "cell_type": "code",
      "source": [
        "def sortColors(nums):\n",
        "    low = 0\n",
        "    mid = 0\n",
        "    high = len(nums) - 1\n",
        "\n",
        "    while mid <= high:\n",
        "        if nums[mid] == 0:\n",
        "            nums[mid], nums[low] = nums[low], nums[mid]\n",
        "            low += 1\n",
        "            mid += 1\n",
        "        elif nums[mid] == 1:\n",
        "            mid += 1\n",
        "        else:  # nums[mid] == 2\n",
        "            nums[mid], nums[high] = nums[high], nums[mid]\n",
        "            high -= 1"
      ],
      "metadata": {
        "id": "Doy6DUSTdJw3"
      },
      "execution_count": null,
      "outputs": []
    },
    {
      "cell_type": "markdown",
      "source": [
        "### Test Cases"
      ],
      "metadata": {
        "id": "SfSz6uHnixQ2"
      }
    },
    {
      "cell_type": "code",
      "source": [
        "# Test Case 1\n",
        "nums = [2, 0, 2, 1, 1, 0]\n",
        "sortColors(nums)\n",
        "print(nums)"
      ],
      "metadata": {
        "colab": {
          "base_uri": "https://localhost:8080/"
        },
        "id": "IEumAxh9h7FW",
        "outputId": "cbbf6d4a-f1ee-4fe8-c03c-71dcb63e383b"
      },
      "execution_count": null,
      "outputs": [
        {
          "output_type": "stream",
          "name": "stdout",
          "text": [
            "[0, 0, 1, 1, 2, 2]\n"
          ]
        }
      ]
    },
    {
      "cell_type": "code",
      "source": [
        "# Test Case 2\n",
        "nums = [2, 0, 2, 2, 1, 1, 0, 2]\n",
        "sortColors(nums)\n",
        "print(nums)"
      ],
      "metadata": {
        "colab": {
          "base_uri": "https://localhost:8080/"
        },
        "id": "tCVaftfliFZh",
        "outputId": "318b7a7b-c4db-4ef8-f9f0-7cb15ee197dc"
      },
      "execution_count": null,
      "outputs": [
        {
          "output_type": "stream",
          "name": "stdout",
          "text": [
            "[0, 0, 1, 1, 2, 2, 2, 2]\n"
          ]
        }
      ]
    },
    {
      "cell_type": "markdown",
      "source": [
        "### Conclusion\n",
        "\n",
        "The sortColors function takes the array nums as input and sorts it according to the Dutch National Flag algorithm. It maintains three pointers low, mid, and high to partition the array into three sections: red (0), white (1), and blue (2). The function swaps elements as necessary to move 0s to the left, 2s to the right, and keeps 1s in the middle. After the function is executed, the array nums will be sorted in-place.\n",
        "\n",
        "The **time complexity of this algorithm is O(n)**, where n is the length of the array nums, as we perform a single pass through the array. The **space complexity is O(1)** as we are using only a constant amount of extra memory."
      ],
      "metadata": {
        "id": "DWeoQdxIivzv"
      }
    },
    {
      "cell_type": "markdown",
      "source": [
        "# Question 5\n",
        "\n",
        "Given an integer array nums, rotate the array to the right by k steps, whwre k is non-negative.\n",
        "\n",
        "Example:\n",
        "\n",
        "Input: nums = [1, 2, 3, 4, 5, 6, 7], k =3\n",
        "\n",
        "Output: [5, 6, 7, 1, 2, 3, 4]\n",
        "\n",
        "Exploration:\n",
        "\n",
        "rotate 1 step to the right: [7, 1, 2, 3, 4, 5, 6]\n",
        "\n",
        "rotate 2 steps to right: [6, 7, 1, 2, 3, 4, 5]\n",
        "\n",
        "rotate 3 steps to the right: [5, 6, 7, 1, 2, 3, 4]"
      ],
      "metadata": {
        "id": "dDdDwbYIW7-X"
      }
    },
    {
      "cell_type": "markdown",
      "source": [
        "### Solution\n",
        "\n",
        "To rotate an array to the right by k steps, we can use the following approach:\n",
        "\n",
        "Calculate the effective rotation index by taking the remainder of k divided by the length of the array. This ensures that we handle cases where k is larger than the length of the array.\n",
        "\n",
        "Reverse the entire array using the reverse function.\n",
        "\n",
        "Reverse the first k elements of the array.\n",
        "\n",
        "Reverse the remaining elements from index k to the end of the array.\n",
        "\n",
        "Here's the Python code that implements this approach:"
      ],
      "metadata": {
        "id": "8uZuTKbKj0Rh"
      }
    },
    {
      "cell_type": "code",
      "source": [
        "def rotate(nums, k):\n",
        "    n = len(nums)\n",
        "    k = k % n\n",
        "\n",
        "    # Reverse the entire array\n",
        "    reverse(nums, 0, n - 1)\n",
        "\n",
        "    # Reverse the first k elements\n",
        "    reverse(nums, 0, k - 1)\n",
        "\n",
        "    # Reverse the remaining elements\n",
        "    reverse(nums, k, n - 1)\n",
        "\n",
        "def reverse(nums, start, end):\n",
        "    while start < end:\n",
        "        nums[start], nums[end] = nums[end], nums[start]\n",
        "        start += 1\n",
        "        end -= 1"
      ],
      "metadata": {
        "id": "1mF8c4mEeGWw"
      },
      "execution_count": null,
      "outputs": []
    },
    {
      "cell_type": "code",
      "source": [
        "# Test Case 1\n",
        "nums = [1, 2, 3, 4, 5, 6, 7]\n",
        "k = 3\n",
        "rotate(nums, k)\n",
        "print(nums)"
      ],
      "metadata": {
        "colab": {
          "base_uri": "https://localhost:8080/"
        },
        "id": "NQmOnpHHkBiA",
        "outputId": "054ccb32-97ce-4dc1-cdca-b9d2e8e0efa9"
      },
      "execution_count": null,
      "outputs": [
        {
          "output_type": "stream",
          "name": "stdout",
          "text": [
            "[5, 6, 7, 1, 2, 3, 4]\n"
          ]
        }
      ]
    },
    {
      "cell_type": "code",
      "source": [
        "# Test Case 2\n",
        "nums = [1, 2, 3, 4, 5, 6, 7]\n",
        "k = 5\n",
        "rotate(nums, k)\n",
        "print(nums)"
      ],
      "metadata": {
        "colab": {
          "base_uri": "https://localhost:8080/"
        },
        "id": "VVfrVJBYkBlt",
        "outputId": "2984c815-b6d4-45de-876c-3917fe919b80"
      },
      "execution_count": null,
      "outputs": [
        {
          "output_type": "stream",
          "name": "stdout",
          "text": [
            "[3, 4, 5, 6, 7, 1, 2]\n"
          ]
        }
      ]
    },
    {
      "cell_type": "markdown",
      "source": [
        "### Conclusion\n",
        "\n",
        "The rotate function takes the array nums and the number of steps k as input and performs the rotation in-place. It uses the reverse function to reverse the elements of the array. First, it calculates the effective rotation index by taking the remainder of k divided by the length of the array. Then, it reverses the entire array, followed by reversing the first k elements and the remaining elements. After the function is executed, the array nums will be rotated to the right by k steps.\n",
        "\n",
        "The **time complexity of this approach is O(n)**, where n is the length of the array nums, as we reverse the array three times. The **space complexity is O(1) **as we are using only a constant amount of extra memory."
      ],
      "metadata": {
        "id": "dbJZMFYLka49"
      }
    },
    {
      "cell_type": "markdown",
      "source": [
        "# Question 6\n",
        "\n",
        "Given a binary nums, return the maximum number of consecutive is in the array.\n",
        "\n",
        "Example:\n",
        "\n",
        "Input: nums = [1, 1, 0, 1, 1]\n",
        "\n",
        "Output: 3\n",
        "\n",
        "Exploration: The first two digits or the last three digits are consecutive 1's is 3."
      ],
      "metadata": {
        "id": "BHWyPUGueGre"
      }
    },
    {
      "cell_type": "markdown",
      "source": [
        "## Solution\n",
        "\n",
        "To find the maximum number of consecutive 1's in a binary array, we can use the following approach:\n",
        "\n",
        "Initialize two variables, max_count and current_count, to keep track of the maximum count of consecutive 1's and the current count of consecutive 1's, respectively. Set both variables to 0 initially.\n",
        "\n",
        "Iterate through the elements of the array.\n",
        "\n",
        "If the current element is 1, increment current_count by 1.\n",
        "\n",
        "If the current element is 0, update max_count with the maximum value between max_count and current_count, and reset current_count to 0.\n",
        "\n",
        "After the iteration is complete, update max_count again with the maximum value between max_count and current_count to handle cases where the consecutive 1's occur at the end of the array.\n",
        "\n",
        "Here's the Python code that implements this approach:"
      ],
      "metadata": {
        "id": "tAMXMjztk1JJ"
      }
    },
    {
      "cell_type": "code",
      "source": [
        "def findMaxConsecutiveOnes(nums):\n",
        "    max_count = 0\n",
        "    current_count = 0\n",
        "\n",
        "    for num in nums:\n",
        "        if num == 1:\n",
        "            current_count += 1\n",
        "        else:\n",
        "            max_count = max(max_count, current_count)\n",
        "            current_count = 0\n",
        "\n",
        "    max_count = max(max_count, current_count)\n",
        "\n",
        "    return max_count"
      ],
      "metadata": {
        "id": "pIq5t-DElEol"
      },
      "execution_count": null,
      "outputs": []
    },
    {
      "cell_type": "markdown",
      "source": [
        "### Test Cases"
      ],
      "metadata": {
        "id": "mNTlov3eliwx"
      }
    },
    {
      "cell_type": "code",
      "source": [
        "# Test Case 1\n",
        "nums = [1, 1, 0, 1, 1]\n",
        "max_consecutive_ones = findMaxConsecutiveOnes(nums)\n",
        "print(max_consecutive_ones)"
      ],
      "metadata": {
        "colab": {
          "base_uri": "https://localhost:8080/"
        },
        "id": "iGJ3vdsflJvk",
        "outputId": "1a135b8f-9dd5-4bd3-c73a-1a27905571d5"
      },
      "execution_count": null,
      "outputs": [
        {
          "output_type": "stream",
          "name": "stdout",
          "text": [
            "2\n"
          ]
        }
      ]
    },
    {
      "cell_type": "code",
      "source": [
        "# Test Case 2\n",
        "nums = [1, 1, 1, 0, 1, 1]\n",
        "max_consecutive_ones = findMaxConsecutiveOnes(nums)\n",
        "print(max_consecutive_ones)"
      ],
      "metadata": {
        "colab": {
          "base_uri": "https://localhost:8080/"
        },
        "id": "Sx52BuBilUUM",
        "outputId": "9d1516fa-a225-4889-9514-710f1fdd5a9b"
      },
      "execution_count": null,
      "outputs": [
        {
          "output_type": "stream",
          "name": "stdout",
          "text": [
            "3\n"
          ]
        }
      ]
    },
    {
      "cell_type": "markdown",
      "source": [
        "### Conclusion\n",
        "\n",
        "The findMaxConsecutiveOnes function takes the binary array nums as input and returns the maximum number of consecutive 1's in the array. It iterates through the elements of the array, updating the current_count variable when encountering a 1 and updating the max_count variable when encountering a 0. After the iteration is complete, it updates max_count again to handle the case of consecutive 1's at the end of the array.\n",
        "\n",
        "The **time complexity of this approach is O(n)**, where n is the length of the array nums, as we iterate through each element of the array once. The **space complexity is O(1)** as we are using only a constant amount of extra memory."
      ],
      "metadata": {
        "id": "MqjaFJBElYIJ"
      }
    }
  ]
}