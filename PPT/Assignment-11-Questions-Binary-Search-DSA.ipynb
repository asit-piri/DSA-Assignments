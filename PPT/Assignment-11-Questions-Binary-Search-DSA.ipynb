{
  "nbformat": 4,
  "nbformat_minor": 0,
  "metadata": {
    "colab": {
      "provenance": []
    },
    "kernelspec": {
      "name": "python3",
      "display_name": "Python 3"
    },
    "language_info": {
      "name": "python"
    }
  },
  "cells": [
    {
      "cell_type": "markdown",
      "source": [
        "# Assignment 11 Questions - Binary Search | DSA\n",
        "## Name: Asit Piri"
      ],
      "metadata": {
        "id": "US-VUXDNhCzy"
      }
    },
    {
      "cell_type": "markdown",
      "source": [
        "# Question 1\n",
        "\n",
        "💡 Given a non-negative integer `x`, return *the square root of* `x` *rounded down to the nearest integer*. The returned integer should be **non-negative** as well.\n",
        "\n",
        "You **must not use** any built-in exponent function or operator.\n",
        "\n",
        "- For example, do not use `pow(x, 0.5)` in c++ or `x ** 0.5` in python.\n",
        "\n",
        "**Example 1:**\n",
        "\n",
        "Input: x = 4\n",
        "\n",
        "Output: 2\n",
        "\n",
        "Explanation: The square root of 4 is 2, so we return 2.\n",
        "\n",
        "**Example 2:**\n",
        "\n",
        "Input: x = 8\n",
        "\n",
        "Output: 2\n",
        "\n",
        "Explanation: The square root of 8 is 2.82842..., and since we round it down to the nearest integer, 2 is returned."
      ],
      "metadata": {
        "id": "KFNUnshahUHa"
      }
    },
    {
      "cell_type": "markdown",
      "source": [
        "## Solution\n",
        "\n",
        "To find the square root of a non-negative integer x without using any built-in exponent function or operator, we can use a binary search approach.\n",
        "\n",
        "Here's a Python code to solve this problem:"
      ],
      "metadata": {
        "id": "yvUA_Sop2Rpg"
      }
    },
    {
      "cell_type": "code",
      "execution_count": null,
      "metadata": {
        "id": "zOyDrsp8gIjk"
      },
      "outputs": [],
      "source": [
        "def mySqrt(x):\n",
        "    if x == 0:\n",
        "        return 0\n",
        "\n",
        "    left, right = 1, x\n",
        "    while left <= right:\n",
        "        mid = left + (right - left) // 2\n",
        "        if mid * mid == x:\n",
        "            return mid\n",
        "        elif mid * mid < x:\n",
        "            left = mid + 1\n",
        "        else:\n",
        "            right = mid - 1\n",
        "\n",
        "    return right"
      ]
    },
    {
      "cell_type": "markdown",
      "source": [
        "### Test Cases"
      ],
      "metadata": {
        "id": "9ei0077e2fvF"
      }
    },
    {
      "cell_type": "code",
      "source": [
        "# Test Case 1\n",
        "\n",
        "x = 4\n",
        "print(mySqrt(x))  # Output: 2"
      ],
      "metadata": {
        "colab": {
          "base_uri": "https://localhost:8080/"
        },
        "id": "psgEXJG72jM0",
        "outputId": "b8072290-cecb-4ae9-8dc4-03bcb9703ac2"
      },
      "execution_count": null,
      "outputs": [
        {
          "output_type": "stream",
          "name": "stdout",
          "text": [
            "2\n"
          ]
        }
      ]
    },
    {
      "cell_type": "code",
      "source": [
        "# Test Case 1\n",
        "\n",
        "x = 8\n",
        "print(mySqrt(x))  # Output: 2"
      ],
      "metadata": {
        "colab": {
          "base_uri": "https://localhost:8080/"
        },
        "id": "ytDWZwSP2kR6",
        "outputId": "142939d3-ea84-47f4-a2de-92ba3f69be9a"
      },
      "execution_count": null,
      "outputs": [
        {
          "output_type": "stream",
          "name": "stdout",
          "text": [
            "2\n"
          ]
        }
      ]
    },
    {
      "cell_type": "markdown",
      "source": [
        "### Conclusion\n",
        "\n",
        "In this code, the mySqrt function takes a non-negative integer x as input and returns its square root rounded down to the nearest integer.\n",
        "\n",
        "The function initializes two pointers, left and right, which represent the range in which we search for the square root. Initially, left is set to 1 and right is set to x.\n",
        "\n",
        "The function then enters a binary search loop, where it calculates the middle value mid as the average of left and right. If the square of mid is equal to x, mid is the square root and it is returned.\n",
        "\n",
        "If the square of mid is less than x, it means the square root is larger, so we update left to mid + 1 and continue the search in the right half of the range.\n",
        "\n",
        "If the square of mid is greater than x, it means the square root is smaller, so we update right to mid - 1 and continue the search in the left half of the range.\n",
        "\n",
        "The loop continues until left becomes greater than right. At this point, right will be the largest integer whose square is less than or equal to x, so we return right as the square root rounded down to the nearest integer.\n",
        "\n",
        "The **time complexity of this code is O(log(x))**, where x is the input number. This is because we perform a binary search, which reduces the search space by half in each iteration."
      ],
      "metadata": {
        "id": "4tZ4AuXK2wQU"
      }
    },
    {
      "cell_type": "markdown",
      "source": [
        "# Question 2\n",
        "\n",
        "💡 A peak element is an element that is strictly greater than its neighbors.\n",
        "\n",
        "Given a **0-indexed** integer array `nums`, find a peak element, and return its index. If the array contains multiple peaks, return the index to **any of the peaks**.\n",
        "\n",
        "You may imagine that `nums[-1] = nums[n] = -∞`. In other words, an element is always considered to be strictly greater than a neighbor that is outside the array.\n",
        "\n",
        "You must write an algorithm that runs in `O(log n)` time.\n",
        "\n",
        "**Example 1:**\n",
        "\n",
        "Input: nums = [1,2,3,1]\n",
        "\n",
        "Output: 2\n",
        "\n",
        "Explanation: 3 is a peak element and your function should return the index number 2.\n",
        "\n",
        "**Example 2:**\n",
        "\n",
        "Input: nums = [1,2,1,3,5,6,4]\n",
        "\n",
        "Output: 5\n",
        "\n",
        "Explanation: Your function can return either index number 1 where the peak element is 2, or index number 5 where the peak element is 6."
      ],
      "metadata": {
        "id": "ENwSXfY4iOxC"
      }
    },
    {
      "cell_type": "markdown",
      "source": [
        "## Solution\n",
        "\n",
        "To find a peak element in an array nums with the given conditions, we can use a binary search approach that runs in O(log n) time.\n",
        "\n",
        "Here's the Python code to solve this problem:"
      ],
      "metadata": {
        "id": "pKUNyxB03GBE"
      }
    },
    {
      "cell_type": "code",
      "source": [
        "def findPeakElement(nums):\n",
        "    left, right = 0, len(nums) - 1\n",
        "\n",
        "    while left < right:\n",
        "        mid = left + (right - left) // 2\n",
        "\n",
        "        if nums[mid] < nums[mid + 1]:\n",
        "            left = mid + 1\n",
        "        else:\n",
        "            right = mid\n",
        "\n",
        "    return left"
      ],
      "metadata": {
        "id": "yN2f8Bv23JXw"
      },
      "execution_count": null,
      "outputs": []
    },
    {
      "cell_type": "markdown",
      "source": [
        "### Test Cases"
      ],
      "metadata": {
        "id": "hETKOhyy3Jvu"
      }
    },
    {
      "cell_type": "code",
      "source": [
        "# Test Case 1\n",
        "\n",
        "nums = [1, 2, 3, 1]\n",
        "print(findPeakElement(nums))  # Output: 2"
      ],
      "metadata": {
        "colab": {
          "base_uri": "https://localhost:8080/"
        },
        "id": "o5OtmTcT3MeZ",
        "outputId": "11dad4be-c776-4a88-e436-e45a40b38ca3"
      },
      "execution_count": null,
      "outputs": [
        {
          "output_type": "stream",
          "name": "stdout",
          "text": [
            "2\n"
          ]
        }
      ]
    },
    {
      "cell_type": "code",
      "source": [
        "# Test case 2\n",
        "\n",
        "nums = [1, 2, 1, 3, 5, 6, 4]\n",
        "print(findPeakElement(nums))  # Output: 5"
      ],
      "metadata": {
        "colab": {
          "base_uri": "https://localhost:8080/"
        },
        "id": "jSj-N6-B4bvX",
        "outputId": "8dba5f3a-cd43-44ef-cb43-15370b3a3a9c"
      },
      "execution_count": null,
      "outputs": [
        {
          "output_type": "stream",
          "name": "stdout",
          "text": [
            "5\n"
          ]
        }
      ]
    },
    {
      "cell_type": "markdown",
      "source": [
        "### Conclusion\n",
        "\n",
        "In this code, the findPeakElement function takes an array nums as input and returns the index of a peak element.\n",
        "\n",
        "The function initializes two pointers, left and right, which represent the range in which we search for the peak element. Initially, left is set to 0 and right is set to the last index of the array.\n",
        "\n",
        "The function enters a binary search loop, where it calculates the middle index mid as the average of left and right.\n",
        "\n",
        "If nums[mid] is less than nums[mid + 1], it means the peak element must be on the right side of mid, so we update left to mid + 1 and continue the search in the right half of the range.\n",
        "\n",
        "If nums[mid] is greater than or equal to nums[mid + 1], it means the peak element must be on the left side of mid or mid itself is a peak element. In this case, we update right to mid and continue the search in the left half of the range.\n",
        "\n",
        "The loop continues until left becomes equal to right, at which point we have found a peak element and we return its index, which is left.\n",
        "\n",
        "In **binary serach we always reduce the search space by half in each iteration, the time complexity of this code is O(log n)**, where n is the size of the input array nums."
      ],
      "metadata": {
        "id": "i-dgjVwf3Nh5"
      }
    },
    {
      "cell_type": "markdown",
      "source": [
        "# Question 3\n",
        "\n",
        "💡 Given an array `nums` containing `n` distinct numbers in the range `[0, n]`, return *the only number in the range that is missing from the array.*\n",
        "\n",
        "**Example 1:**\n",
        "\n",
        "Input: nums = [3,0,1]\n",
        "\n",
        "Output: 2\n",
        "\n",
        "Explanation: n = 3 since there are 3 numbers, so all numbers are in the range [0,3]. 2 is the missing number in the range since it does not appear in nums.\n",
        "\n",
        "**Example 2:**\n",
        "\n",
        "Input: nums = [0,1]\n",
        "\n",
        "Output: 2\n",
        "\n",
        "Explanation: n = 2 since there are 2 numbers, so all numbers are in the range [0,2]. 2 is the missing number in the range since it does not appear in nums.\n",
        "\n",
        "**Example 3:**\n",
        "\n",
        "Input: nums = [9,6,4,2,3,5,7,0,1]\n",
        "\n",
        "Output: 8\n",
        "\n",
        "Explanation: n = 9 since there are 9 numbers, so all numbers are in the range [0,9]. 8 is the missing number in the range since it does not appear in nums.\n"
      ],
      "metadata": {
        "id": "Vr0TitTbipVA"
      }
    },
    {
      "cell_type": "markdown",
      "source": [
        "## Solution\n",
        "\n",
        "To find the missing number in the given array nums, we can use the approach of calculating the sum of numbers in the range [0, n] and subtracting the sum of the numbers in the nums array from it.\n",
        "\n",
        "Here's the Python code to solve this problem:"
      ],
      "metadata": {
        "id": "CfoIcEnj5GtZ"
      }
    },
    {
      "cell_type": "code",
      "source": [
        "def missingNumber(nums):\n",
        "    n = len(nums)\n",
        "    expected_sum = n * (n + 1) // 2\n",
        "    actual_sum = sum(nums)\n",
        "    return expected_sum - actual_sum"
      ],
      "metadata": {
        "id": "L77qXHji5JjN"
      },
      "execution_count": null,
      "outputs": []
    },
    {
      "cell_type": "markdown",
      "source": [
        "### Test Cases"
      ],
      "metadata": {
        "id": "nWYJCmeS5Ly4"
      }
    },
    {
      "cell_type": "code",
      "source": [
        "# Test Case 1\n",
        "\n",
        "nums = [3, 0, 1]\n",
        "print(missingNumber(nums))"
      ],
      "metadata": {
        "id": "z3SQVoZki7DW",
        "colab": {
          "base_uri": "https://localhost:8080/"
        },
        "outputId": "66048b22-497c-474a-fb0f-02b3b2bba5cb"
      },
      "execution_count": null,
      "outputs": [
        {
          "output_type": "stream",
          "name": "stdout",
          "text": [
            "2\n"
          ]
        }
      ]
    },
    {
      "cell_type": "code",
      "source": [
        "# Test Case 2\n",
        "\n",
        "nums = [0, 1]\n",
        "print(missingNumber(nums))"
      ],
      "metadata": {
        "colab": {
          "base_uri": "https://localhost:8080/"
        },
        "id": "gZHLKdr45gQt",
        "outputId": "474d01ae-5756-4bc2-93fd-cfa0c7e74018"
      },
      "execution_count": null,
      "outputs": [
        {
          "output_type": "stream",
          "name": "stdout",
          "text": [
            "2\n"
          ]
        }
      ]
    },
    {
      "cell_type": "code",
      "source": [
        "# Test Case 3\n",
        "\n",
        "nums = [9, 6, 4, 2, 3, 5, 7, 0, 1]\n",
        "print(missingNumber(nums))"
      ],
      "metadata": {
        "colab": {
          "base_uri": "https://localhost:8080/"
        },
        "id": "hT-Cqz2Z5gmX",
        "outputId": "4d1bf5a0-0699-4ecf-b990-2be9ddcf1631"
      },
      "execution_count": null,
      "outputs": [
        {
          "output_type": "stream",
          "name": "stdout",
          "text": [
            "8\n"
          ]
        }
      ]
    },
    {
      "cell_type": "markdown",
      "source": [
        "### Conclusion\n",
        "\n",
        "In this code, the missingNumber function takes the array nums as input and returns the missing number in the range [0, n], where n is the length of the array.\n",
        "\n",
        "The function first calculates the expected sum of numbers in the range [0, n] using the formula n * (n + 1) // 2. This is the sum we would have if the array contained all the numbers in the range.\n",
        "\n",
        "Then, it calculates the actual sum of the numbers in the nums array using the sum function.\n",
        "\n",
        "Finally, it returns the difference between the expected sum and the actual sum, which gives us the missing number.\n",
        "\n",
        "The **time complexity of this code is O(n)**, where n is the length of the input array nums, because we need to iterate over the array once to calculate the actual sum."
      ],
      "metadata": {
        "id": "2iiK_Tsb5Quw"
      }
    },
    {
      "cell_type": "markdown",
      "source": [
        "# Question 4\n",
        "\n",
        "💡 Given an array of integers `nums` containing `n + 1` integers where each integer is in the range `[1, n]` inclusive.\n",
        "\n",
        "There is only **one repeated number** in `nums`, return *this repeated number*.\n",
        "\n",
        "You must solve the problem **without** modifying the array `nums` and uses only constant extra space.\n",
        "\n",
        "**Example 1:**\n",
        "\n",
        "Input: nums = [1,3,4,2,2]\n",
        "\n",
        "Output: 2\n",
        "\n",
        "**Example 2:**\n",
        "\n",
        "Input: nums = [3,1,3,4,2]\n",
        "\n",
        "Output: 3"
      ],
      "metadata": {
        "id": "4AX8quygixk_"
      }
    },
    {
      "cell_type": "markdown",
      "source": [
        "## Solution\n",
        "\n",
        "To solve this problem, we can use the concept of cycle detection in a linked list. We treat the array nums as a linked list, where each element points to the index indicated by its value. Since there is only one repeated number, there will be a cycle in this linked list.\n",
        "\n",
        "Here's the Python code to find the repeated number:"
      ],
      "metadata": {
        "id": "IRuUnJZJ6DF7"
      }
    },
    {
      "cell_type": "code",
      "source": [
        "def findDuplicate(nums):\n",
        "    # Step 1: Find the intersection point of the two pointers\n",
        "    slow = nums[0]\n",
        "    fast = nums[0]\n",
        "    \n",
        "    while True:\n",
        "        slow = nums[slow]\n",
        "        fast = nums[nums[fast]]\n",
        "        if slow == fast:\n",
        "            break\n",
        "    \n",
        "    # Step 2: Move one pointer to the start and keep the other at the intersection point\n",
        "    slow = nums[0]\n",
        "    while slow != fast:\n",
        "        slow = nums[slow]\n",
        "        fast = nums[fast]\n",
        "    \n",
        "    # Step 3: Return the repeated number\n",
        "    return slow"
      ],
      "metadata": {
        "id": "mTlQihQh6J-5"
      },
      "execution_count": null,
      "outputs": []
    },
    {
      "cell_type": "markdown",
      "source": [
        "### Test cases"
      ],
      "metadata": {
        "id": "ii7sN6eL6FZd"
      }
    },
    {
      "cell_type": "code",
      "source": [
        "# Test Case 1\n",
        "\n",
        "nums = [1, 3, 4, 2, 2]\n",
        "print(findDuplicate(nums))  # Output: 2"
      ],
      "metadata": {
        "colab": {
          "base_uri": "https://localhost:8080/"
        },
        "id": "M9kveN2M6Kq_",
        "outputId": "d7f4850a-fbec-4c75-9ed5-cef413390912"
      },
      "execution_count": null,
      "outputs": [
        {
          "output_type": "stream",
          "name": "stdout",
          "text": [
            "2\n"
          ]
        }
      ]
    },
    {
      "cell_type": "code",
      "source": [
        "# Test Case 2\n",
        "\n",
        "nums = [3, 1, 3, 4, 2]\n",
        "print(findDuplicate(nums))  # Output: 3"
      ],
      "metadata": {
        "id": "abGaR9d6i77P",
        "colab": {
          "base_uri": "https://localhost:8080/"
        },
        "outputId": "b625088c-f112-4823-dcee-4ba0955614db"
      },
      "execution_count": null,
      "outputs": [
        {
          "output_type": "stream",
          "name": "stdout",
          "text": [
            "3\n"
          ]
        }
      ]
    },
    {
      "cell_type": "markdown",
      "source": [
        "### Conclusion\n",
        "\n",
        "In this code, the findDuplicate function takes the array nums as input and returns the repeated number.\n",
        "\n",
        "First, we initialize two pointers, slow and fast, both pointing to the first element of the array. We move slow one step at a time and fast two steps at a time until they meet at an intersection point within the cycle.\n",
        "\n",
        "Then, we reset slow to the first element of the array and move slow and fast one step at a time until they meet again. The meeting point will be the start of the cycle.\n",
        "\n",
        "Finally, we return the value at the meeting point, which is the repeated number.\n",
        "\n",
        "The **time complexity of this code is O(n)**, where n is the length of the input array nums, because we only iterate over the array twice with two pointers. The **space complexity is O(1)** since we are not using any additional space that grows with the input size."
      ],
      "metadata": {
        "id": "URHj6OqF6Hq0"
      }
    },
    {
      "cell_type": "markdown",
      "source": [
        "# Question 5\n",
        "\n",
        "💡 Given two integer arrays `nums1` and `nums2`, return *an array of their intersection*. Each element in the result must be **unique** and you may return the result in **any order**.\n",
        "\n",
        "**Example 1:**\n",
        "\n",
        "Input: nums1 = [1,2,2,1], nums2 = [2,2]\n",
        "\n",
        "Output: [2]\n",
        "\n",
        "**Example 2:**\n",
        "\n",
        "Input: nums1 = [4,9,5], nums2 = [9,4,9,8,4]\n",
        "\n",
        "Output: [9,4]\n",
        "\n",
        "Explanation: [4,9] is also accepted.\n"
      ],
      "metadata": {
        "id": "IC7N3xsIizmQ"
      }
    },
    {
      "cell_type": "markdown",
      "source": [
        "## Solution\n",
        "\n",
        "To find the intersection of two arrays, we can use a set to store the unique elements from one array and then check if each element from the other array exists in the set.\n",
        "\n",
        "Here's the Python code to find the intersection of two arrays:"
      ],
      "metadata": {
        "id": "nN7WCRyp64lx"
      }
    },
    {
      "cell_type": "code",
      "source": [
        "def intersection(nums1, nums2):\n",
        "    set1 = set(nums1)\n",
        "    result = []\n",
        "    \n",
        "    for num in nums2:\n",
        "        if num in set1:\n",
        "            result.append(num)\n",
        "            set1.remove(num)\n",
        "    \n",
        "    return result"
      ],
      "metadata": {
        "id": "QuUHhpmhi9Ct"
      },
      "execution_count": null,
      "outputs": []
    },
    {
      "cell_type": "markdown",
      "source": [
        "### Test Cases"
      ],
      "metadata": {
        "id": "XV3-gxHb7HJE"
      }
    },
    {
      "cell_type": "code",
      "source": [
        "# Test Case 1\n",
        "\n",
        "nums1 = [1, 2, 2, 1]\n",
        "nums2 = [2, 2]\n",
        "print(intersection(nums1, nums2))  # Output: [2]"
      ],
      "metadata": {
        "colab": {
          "base_uri": "https://localhost:8080/"
        },
        "id": "ECr8RUsQ7KO6",
        "outputId": "d86a917b-7421-45c1-c493-f6f7bba76f2c"
      },
      "execution_count": null,
      "outputs": [
        {
          "output_type": "stream",
          "name": "stdout",
          "text": [
            "[2]\n"
          ]
        }
      ]
    },
    {
      "cell_type": "code",
      "source": [
        "# Test Case 2\n",
        "\n",
        "nums1 = [4, 9, 5]\n",
        "nums2 = [9, 4, 9, 8, 4]\n",
        "print(intersection(nums1, nums2))  # Output: [9, 4]"
      ],
      "metadata": {
        "colab": {
          "base_uri": "https://localhost:8080/"
        },
        "id": "hKaWyDzi7KfF",
        "outputId": "e8b0fa47-fe50-4698-922f-4233bf174a27"
      },
      "execution_count": null,
      "outputs": [
        {
          "output_type": "stream",
          "name": "stdout",
          "text": [
            "[9, 4]\n"
          ]
        }
      ]
    },
    {
      "cell_type": "markdown",
      "source": [
        "### Conclusion\n",
        "\n",
        "In this code, the intersection function takes nums1 and nums2 as input and returns the intersection of the two arrays as a list.\n",
        "\n",
        "First, we convert nums1 into a set called set1 to store the unique elements.\n",
        "\n",
        "Then, we iterate through each element in nums2 and check if it exists in set1. If it does, we add it to the result list and remove it from set1 to avoid duplicates.\n",
        "\n",
        "Finally, we return the result list, which contains the unique elements that are common to both arrays.\n",
        "\n",
        "The **time complexity of this code is O(m + n)**, where m and n are the lengths of nums1 and nums2, respectively. The **space complexity is O(min(m, n))** since we store the unique elements from one array in the set."
      ],
      "metadata": {
        "id": "uKwrqx0g7Kv9"
      }
    },
    {
      "cell_type": "markdown",
      "source": [
        "# Question 6\n",
        "\n",
        "💡 Suppose an array of length `n` sorted in ascending order is **rotated** between `1` and `n` times. For example, the array `nums = [0,1,2,4,5,6,7]` might become:\n",
        "\n",
        "- `[4,5,6,7,0,1,2]` if it was rotated `4` times.\n",
        "- `[0,1,2,4,5,6,7]` if it was rotated `7` times.\n",
        "\n",
        "Notice that **rotating** an array `[a[0], a[1], a[2], ..., a[n-1]]` 1 time results in the array `[a[n-1], a[0], a[1], a[2], ..., a[n-2]]`.\n",
        "\n",
        "Given the sorted rotated array `nums` of **unique** elements, return *the minimum element of this array*.\n",
        "\n",
        "You must write an algorithm that runs in `O(log n) time.`\n",
        "\n",
        "**Example 1:**\n",
        "\n",
        "Input: nums = [3,4,5,1,2]\n",
        "\n",
        "Output: 1\n",
        "\n",
        "Explanation: The original array was [1,2,3,4,5] rotated 3 times.\n",
        "\n",
        "**Example 2:**\n",
        "\n",
        "Input: nums = [4,5,6,7,0,1,2]\n",
        "\n",
        "Output: 0\n",
        "\n",
        "Explanation: The original array was [0,1,2,4,5,6,7] and it was rotated 4 times.\n",
        "\n",
        "\n",
        "**Example 3:**\n",
        "\n",
        "Input: nums = [11,13,15,17]\n",
        "\n",
        "Output: 11\n",
        "\n",
        "Explanation: The original array was [11,13,15,17] and it was rotated 4 times."
      ],
      "metadata": {
        "id": "DTFWlz2ci1VH"
      }
    },
    {
      "cell_type": "markdown",
      "source": [
        "## Solution\n",
        "\n",
        "To find the minimum element in a sorted rotated array, we can use a modified binary search algorithm. Since the array is sorted and rotated, we can compare the middle element with the leftmost and rightmost elements to determine the direction of the rotation.\n",
        "\n",
        "Here's the Python code to find the minimum element in a sorted rotated array:"
      ],
      "metadata": {
        "id": "WjaW8qdB73Nu"
      }
    },
    {
      "cell_type": "code",
      "source": [
        "def findMin(nums):\n",
        "    left = 0\n",
        "    right = len(nums) - 1\n",
        "    \n",
        "    while left < right:\n",
        "        mid = left + (right - left) // 2\n",
        "        \n",
        "        if nums[mid] > nums[right]:\n",
        "            left = mid + 1\n",
        "        else:\n",
        "            right = mid\n",
        "    \n",
        "    return nums[left]"
      ],
      "metadata": {
        "id": "K9ZCgKoPi-cx"
      },
      "execution_count": null,
      "outputs": []
    },
    {
      "cell_type": "markdown",
      "source": [
        "### Test Cases"
      ],
      "metadata": {
        "id": "t0M3MxpQ76X-"
      }
    },
    {
      "cell_type": "code",
      "source": [
        "# Test Case 1\n",
        "\n",
        "nums = [3, 4, 5, 1, 2]\n",
        "print(findMin(nums))  # Output: 1"
      ],
      "metadata": {
        "colab": {
          "base_uri": "https://localhost:8080/"
        },
        "id": "ewf-29FT78sL",
        "outputId": "590e52ab-934f-4655-a0f1-e28f8eaed740"
      },
      "execution_count": null,
      "outputs": [
        {
          "output_type": "stream",
          "name": "stdout",
          "text": [
            "1\n"
          ]
        }
      ]
    },
    {
      "cell_type": "code",
      "source": [
        "# Test Case 2\n",
        "\n",
        "nums = [4, 5, 6, 7, 0, 1, 2]\n",
        "print(findMin(nums))  # Output: 0"
      ],
      "metadata": {
        "colab": {
          "base_uri": "https://localhost:8080/"
        },
        "id": "8znFNhmo8OWY",
        "outputId": "9979aeca-f328-4194-a46f-86487ee5d61c"
      },
      "execution_count": null,
      "outputs": [
        {
          "output_type": "stream",
          "name": "stdout",
          "text": [
            "0\n"
          ]
        }
      ]
    },
    {
      "cell_type": "code",
      "source": [
        "# Test Case 3\n",
        "\n",
        "nums = [11, 13, 15, 17]\n",
        "print(findMin(nums))  # Output: 11"
      ],
      "metadata": {
        "colab": {
          "base_uri": "https://localhost:8080/"
        },
        "id": "Pwm09sz1787k",
        "outputId": "6a52eae5-408b-4c12-b72c-fa18428385e3"
      },
      "execution_count": null,
      "outputs": [
        {
          "output_type": "stream",
          "name": "stdout",
          "text": [
            "11\n"
          ]
        }
      ]
    },
    {
      "cell_type": "markdown",
      "source": [
        "### Conclusion\n",
        "\n",
        "In this code, the findMin function takes nums as input and returns the minimum element in the array.\n",
        "\n",
        "We use a binary search approach to find the minimum element. The left variable represents the leftmost index, and the right variable represents the rightmost index of the current subarray we are considering.\n",
        "\n",
        "In each iteration, we calculate the mid index as the average of left and right. We compare nums[mid] with nums[right] to determine the direction of the rotation.\n",
        "\n",
        "If nums[mid] is greater than nums[right], it means the minimum element is in the right half of the subarray, so we update left = mid + 1. Otherwise, the minimum element is in the left half of the subarray or mid itself, so we update right = mid.\n",
        "\n",
        "We repeat this process until left and right become equal. At this point, the minimum element will be at index left, so we return nums[left].\n",
        "\n",
        "The **time complexity of this code is O(log n)**, where n is the length of the array. This is because we use binary search, which divides the search space in half at each step."
      ],
      "metadata": {
        "id": "y8eKPK-U79lJ"
      }
    },
    {
      "cell_type": "markdown",
      "source": [
        "# Question 7\n",
        "\n",
        "💡 Given an array of integers `nums` sorted in non-decreasing order, find the starting and ending position of a given `target` value.\n",
        "\n",
        "If `target` is not found in the array, return `[-1, -1]`.\n",
        "\n",
        "You must write an algorithm with `O(log n)` runtime complexity.\n",
        "\n",
        "**Example 1:**\n",
        "\n",
        "Input: nums = [5,7,7,8,8,10], target = 8\n",
        "\n",
        "Output: [3,4]\n",
        "\n",
        "**Example 2:**\n",
        "\n",
        "Input: nums = [5,7,7,8,8,10], target = 6\n",
        "\n",
        "Output: [-1,-1]\n",
        "\n",
        "**Example 3:**\n",
        "\n",
        "Input: nums = [], target = 0\n",
        "\n",
        "Output: [-1,-1]"
      ],
      "metadata": {
        "id": "REK6eFETi2th"
      }
    },
    {
      "cell_type": "markdown",
      "source": [
        "## Solution\n",
        "\n",
        "To find the starting and ending positions of a given target value in a sorted array, we can use a modified binary search algorithm. We will perform two binary searches: one to find the starting position and another to find the ending position.\n",
        "\n",
        "Here's the Python code to find the starting and ending positions of a target value in a sorted array:"
      ],
      "metadata": {
        "id": "WuSw7q2R89Y_"
      }
    },
    {
      "cell_type": "code",
      "source": [
        "def searchRange(nums, target):\n",
        "    def findLeft(nums, target):\n",
        "        left = 0\n",
        "        right = len(nums) - 1\n",
        "        index = -1\n",
        "        \n",
        "        while left <= right:\n",
        "            mid = left + (right - left) // 2\n",
        "            \n",
        "            if nums[mid] >= target:\n",
        "                right = mid - 1\n",
        "            else:\n",
        "                left = mid + 1\n",
        "            \n",
        "            if nums[mid] == target:\n",
        "                index = mid\n",
        "        \n",
        "        return index\n",
        "    \n",
        "    def findRight(nums, target):\n",
        "        left = 0\n",
        "        right = len(nums) - 1\n",
        "        index = -1\n",
        "        \n",
        "        while left <= right:\n",
        "            mid = left + (right - left) // 2\n",
        "            \n",
        "            if nums[mid] <= target:\n",
        "                left = mid + 1\n",
        "            else:\n",
        "                right = mid - 1\n",
        "            \n",
        "            if nums[mid] == target:\n",
        "                index = mid\n",
        "        \n",
        "        return index\n",
        "    \n",
        "    left = findLeft(nums, target)\n",
        "    right = findRight(nums, target)\n",
        "    \n",
        "    return [left, right]"
      ],
      "metadata": {
        "id": "z3bLzCz1i_mV"
      },
      "execution_count": null,
      "outputs": []
    },
    {
      "cell_type": "markdown",
      "source": [
        "### Test Cases"
      ],
      "metadata": {
        "id": "xnYIXjuK9Ala"
      }
    },
    {
      "cell_type": "code",
      "source": [
        "# Test Case 1\n",
        "\n",
        "nums = [5, 7, 7, 8, 8, 10]\n",
        "target = 8\n",
        "print(searchRange(nums, target))  # Output: [3, 4]"
      ],
      "metadata": {
        "colab": {
          "base_uri": "https://localhost:8080/"
        },
        "id": "eVGBQN019Dn8",
        "outputId": "ad66a9ee-0cdc-4995-90a9-c8293696a0f0"
      },
      "execution_count": null,
      "outputs": [
        {
          "output_type": "stream",
          "name": "stdout",
          "text": [
            "[3, 4]\n"
          ]
        }
      ]
    },
    {
      "cell_type": "code",
      "source": [
        "# Test Case 2\n",
        "\n",
        "nums = [5, 7, 7, 8, 8, 10]\n",
        "target = 6\n",
        "print(searchRange(nums, target))  # Output: [-1, -1]"
      ],
      "metadata": {
        "colab": {
          "base_uri": "https://localhost:8080/"
        },
        "id": "BvB_bQSe9Dy7",
        "outputId": "48b54a21-6bc9-4c02-c875-a4c858dfca29"
      },
      "execution_count": null,
      "outputs": [
        {
          "output_type": "stream",
          "name": "stdout",
          "text": [
            "[-1, -1]\n"
          ]
        }
      ]
    },
    {
      "cell_type": "code",
      "source": [
        "# Test Case 3\n",
        "\n",
        "nums = []\n",
        "target = 0\n",
        "print(searchRange(nums, target))  # Output: [-1, -1]"
      ],
      "metadata": {
        "colab": {
          "base_uri": "https://localhost:8080/"
        },
        "id": "BO_uXTkr9eOM",
        "outputId": "1710bcfb-a7a5-48a3-9f3a-2108640ba337"
      },
      "execution_count": null,
      "outputs": [
        {
          "output_type": "stream",
          "name": "stdout",
          "text": [
            "[-1, -1]\n"
          ]
        }
      ]
    },
    {
      "cell_type": "markdown",
      "source": [
        "### Conclusion\n",
        "\n",
        "In this code, the searchRange function takes nums (the sorted array) and target as input and returns the starting and ending positions of the target value in the array.\n",
        "\n",
        "We define two helper functions: findLeft and findRight, which perform binary searches to find the leftmost and rightmost occurrences of the target value, respectively.\n",
        "\n",
        "In each binary search, we maintain a left and right variable to represent the search space. We update these variables based on the comparison between the middle element and the target.\n",
        "\n",
        "For findLeft, if the middle element is greater than or equal to the target, we update right to mid - 1. Otherwise, we update left to mid + 1. We also keep track of the index whenever we find the target element.\n",
        "\n",
        "For findRight, if the middle element is less than or equal to the target, we update left to mid + 1. Otherwise, we update right to mid - 1. We again keep track of the index whenever we find the target element.\n",
        "\n",
        "After performing both binary searches, we return the starting and ending positions as [left, right].\n",
        "\n",
        "The **time complexity of this code is O(log n)**, where n is the length of the array. This is because we use **binary search twice, which divides the search space in half at each step**."
      ],
      "metadata": {
        "id": "-rr0xVMa9EGa"
      }
    },
    {
      "cell_type": "markdown",
      "source": [
        "# Question 8\n",
        "\n",
        "💡 Given two integer arrays `nums1` and `nums2`, return *an array of their intersection*. Each element in the result must appear as many times as it shows in both arrays and you may return the result in **any order**.\n",
        "\n",
        "**Example 1:**\n",
        "\n",
        "Input: nums1 = [1,2,2,1], nums2 = [2,2]\n",
        "\n",
        "Output: [2,2]\n",
        "\n",
        "**Example 2:**\n",
        "\n",
        "Input: nums1 = [4,9,5], nums2 = [9,4,9,8,4]\n",
        "\n",
        "Output: [4,9]\n",
        "\n",
        "Explanation: [9,4] is also accepted."
      ],
      "metadata": {
        "id": "B8_UhTKLi3-V"
      }
    },
    {
      "cell_type": "markdown",
      "source": [
        "## Solution\n",
        "\n",
        "To find the intersection of two integer arrays, we can use a hash map to store the frequency of each element in one of the arrays, and then iterate over the second array to check if each element exists in the hash map. If an element is found, we add it to the result array and decrement its frequency in the hash map.\n",
        "\n",
        "Here's the Python code to find the intersection of two arrays:"
      ],
      "metadata": {
        "id": "Kpmrm2J1981y"
      }
    },
    {
      "cell_type": "code",
      "source": [
        "from collections import Counter\n",
        "\n",
        "def intersect(nums1, nums2):\n",
        "    # Count the frequency of elements in nums1\n",
        "    count = Counter(nums1)\n",
        "    result = []\n",
        "    \n",
        "    # Iterate over nums2 and check for intersection\n",
        "    for num in nums2:\n",
        "        if count.get(num, 0) > 0:\n",
        "            result.append(num)\n",
        "            count[num] -= 1\n",
        "    \n",
        "    return result"
      ],
      "metadata": {
        "colab": {
          "base_uri": "https://localhost:8080/"
        },
        "id": "DUWDvqaI-un4",
        "outputId": "ab235176-b6a9-4a63-caae-854e454b57e5"
      },
      "execution_count": null,
      "outputs": [
        {
          "output_type": "stream",
          "name": "stdout",
          "text": [
            "[2, 2]\n",
            "[9, 4]\n"
          ]
        }
      ]
    },
    {
      "cell_type": "markdown",
      "source": [
        "### Test Cases"
      ],
      "metadata": {
        "id": "xEYF2szX9_O7"
      }
    },
    {
      "cell_type": "code",
      "source": [
        "# Test Case 1\n",
        "nums1 = [1, 2, 2, 1]\n",
        "nums2 = [2, 2]\n",
        "print(intersect(nums1, nums2))  # Output: [2, 2]"
      ],
      "metadata": {
        "colab": {
          "base_uri": "https://localhost:8080/"
        },
        "id": "vDy4FFET-Bto",
        "outputId": "af59d1f1-461c-44af-e926-bdc779c95a05"
      },
      "execution_count": null,
      "outputs": [
        {
          "output_type": "stream",
          "name": "stdout",
          "text": [
            "[3, 4]\n"
          ]
        }
      ]
    },
    {
      "cell_type": "code",
      "source": [
        "# Test Case 2\n",
        "nums1 = [4, 9, 5]\n",
        "nums2 = [9, 4, 9, 8, 4]\n",
        "print(intersect(nums1, nums2))  # Output: [4, 9]"
      ],
      "metadata": {
        "colab": {
          "base_uri": "https://localhost:8080/"
        },
        "id": "NXA186Wy-BxZ",
        "outputId": "42ed4d00-33ec-4182-e5eb-9511811489d4"
      },
      "execution_count": null,
      "outputs": [
        {
          "output_type": "stream",
          "name": "stdout",
          "text": [
            "[-1, -1]\n"
          ]
        }
      ]
    },
    {
      "cell_type": "markdown",
      "source": [
        "### Conclusion\n",
        "\n",
        "In this code, the intersect function takes nums1 and nums2 as input and returns the intersection of the two arrays.\n",
        "\n",
        "We use the Counter class from the collections module to count the frequency of elements in nums1. The Counter object count maps each element to its frequency.\n",
        "\n",
        "Then, we iterate over nums2 and for each element, we check if it exists in count and its frequency is greater than 0. If it does, we append the element to the result array and decrement its frequency in count.\n",
        "\n",
        "Finally, we return the result array, which contains the intersection of the two arrays.\n",
        "\n",
        "The **time complexity of this code is O(n + m)**, where n and m are the lengths of nums1 and nums2, respectively. This is because we iterate over both arrays once, and the operations inside the loop (checking the hash map and updating the result) take constant time on average."
      ],
      "metadata": {
        "id": "GpUIZ9Ry-Cad"
      }
    }
  ]
}