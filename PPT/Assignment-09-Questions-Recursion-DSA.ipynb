{
  "nbformat": 4,
  "nbformat_minor": 0,
  "metadata": {
    "colab": {
      "provenance": []
    },
    "kernelspec": {
      "name": "python3",
      "display_name": "Python 3"
    },
    "language_info": {
      "name": "python"
    }
  },
  "cells": [
    {
      "cell_type": "markdown",
      "source": [
        "# Assignment 9 Questions - Recursion | DSA\n",
        "## Name: Asit Piri"
      ],
      "metadata": {
        "id": "US-VUXDNhCzy"
      }
    },
    {
      "cell_type": "markdown",
      "source": [
        "# Question 1\n",
        "\n",
        "💡 Given an integer `n`, return *`true` if it is a power of two. Otherwise, return `false`*.\n",
        "\n",
        "An integer `n` is a power of two, if there exists an integer `x` such that `n == 2x`.\n",
        "\n",
        "**Example 1:**\n",
        "Input: n = 1 \n",
        "\n",
        "Output: true\n",
        "\n",
        "**Example 2:**\n",
        "Input: n = 16 \n",
        "\n",
        "Output: true\n",
        "\n",
        "**Example 3:**\n",
        "Input: n = 3 \n",
        "\n",
        "Output: false"
      ],
      "metadata": {
        "id": "KFNUnshahUHa"
      }
    },
    {
      "cell_type": "markdown",
      "source": [
        "## Solution\n",
        "\n",
        "To determine if an integer n is a power of two, we can check if n is greater than zero and has only one bit set in its binary representation. If both conditions are true, then n is a power of two; otherwise, it is not.\n",
        "\n",
        "Here's the Python code that implements this logic:"
      ],
      "metadata": {
        "id": "QnDk3eSvO3xT"
      }
    },
    {
      "cell_type": "code",
      "execution_count": null,
      "metadata": {
        "id": "zOyDrsp8gIjk"
      },
      "outputs": [],
      "source": [
        "'''\n",
        "def isPowerOfTwo(n):\n",
        "    if n <= 0:\n",
        "        return False\n",
        "    return (n & (n - 1)) == 0\n",
        "'''\n",
        "\n",
        "def isPowerOfTwo(n):\n",
        "    return n > 0 and (n & (n - 1)) == 0"
      ]
    },
    {
      "cell_type": "markdown",
      "source": [
        "### Test Cases"
      ],
      "metadata": {
        "id": "XixFnXIDP84Z"
      }
    },
    {
      "cell_type": "code",
      "source": [
        "# Test Case 1\n",
        "n = 1\n",
        "result = isPowerOfTwo(n)\n",
        "print(result)  # Output: True"
      ],
      "metadata": {
        "colab": {
          "base_uri": "https://localhost:8080/"
        },
        "id": "J3MNf9pSSs5O",
        "outputId": "4b4a8309-37c3-4a96-cf4e-50afb7d538c3"
      },
      "execution_count": null,
      "outputs": [
        {
          "output_type": "stream",
          "name": "stdout",
          "text": [
            "True\n"
          ]
        }
      ]
    },
    {
      "cell_type": "code",
      "source": [
        "# Test Case 2\n",
        "n = 16\n",
        "result = isPowerOfTwo(n)\n",
        "print(result)  # Output: True"
      ],
      "metadata": {
        "colab": {
          "base_uri": "https://localhost:8080/"
        },
        "id": "nJjWM-jzS0ML",
        "outputId": "14fbbd6f-482d-49f1-8bec-104c44fec669"
      },
      "execution_count": null,
      "outputs": [
        {
          "output_type": "stream",
          "name": "stdout",
          "text": [
            "True\n"
          ]
        }
      ]
    },
    {
      "cell_type": "code",
      "source": [
        "# Test Case 3\n",
        "n = 3\n",
        "result = isPowerOfTwo(n)\n",
        "print(result)  # Output: False"
      ],
      "metadata": {
        "colab": {
          "base_uri": "https://localhost:8080/"
        },
        "id": "y_cYSPp6S0bP",
        "outputId": "085f8eab-1bc0-41b6-f5da-8d5a2dcb3af1"
      },
      "execution_count": null,
      "outputs": [
        {
          "output_type": "stream",
          "name": "stdout",
          "text": [
            "False\n"
          ]
        }
      ]
    },
    {
      "cell_type": "markdown",
      "source": [
        "### Conclusion\n",
        "\n",
        "In this code, the isPowerOfTwo function takes the input integer n and returns True if n is a power of two, and False otherwise.\n",
        "\n",
        "The function first checks if n is greater than zero using the condition n > 0. If n is less than or equal to zero, it cannot be a power of two, so we return False immediately.\n",
        "\n",
        "The second part of the condition (n & (n - 1)) == 0 checks if n has only one bit set in its binary representation. The expression n & (n - 1) clears the rightmost set bit of n. If the result is zero, it means that n had only one bit set, which is the case for powers of two.\n",
        "\n",
        "If both conditions are true, we return True; otherwise, we return False.\n",
        "\n",
        "The **time complexity of this code is O(1)** because it performs a fixed number of operations regardless of the input size.\n",
        "\n",
        "The **space complexity is also O(1)** since we use a constant amount of additional space."
      ],
      "metadata": {
        "id": "s40OU9D3Poev"
      }
    },
    {
      "cell_type": "markdown",
      "source": [
        "# Question 2\n",
        "\n",
        "💡 Given a number n, find the sum of the first natural numbers.\n",
        "\n",
        "**Example 1:**\n",
        "\n",
        "Input: n = 3 \n",
        "\n",
        "Output: 6\n",
        "\n",
        "**Example 2:**\n",
        "\n",
        "Input  : 5 \n",
        "\n",
        "Output : 15"
      ],
      "metadata": {
        "id": "ENwSXfY4iOxC"
      }
    },
    {
      "cell_type": "markdown",
      "source": [
        "## Solution\n",
        "\n",
        "To find the sum of the first n natural numbers, we can use the formula for the sum of an arithmetic series. The sum of the first n natural numbers is given by the formula:\n",
        "\n",
        "Sum = (n * (n + 1)) / 2\n",
        "\n",
        "Here's the Python code that calculates the sum:"
      ],
      "metadata": {
        "id": "quE3NwgJP3mM"
      }
    },
    {
      "cell_type": "code",
      "source": [
        "'''\n",
        "def SumOfFirstN(n):\n",
        "    sum = (n * (n + 1)) // 2\n",
        "    return sum\n",
        "'''\n",
        "\n",
        "def sumOfNaturalNumbers(n):\n",
        "    return (n * (n + 1)) // 2"
      ],
      "metadata": {
        "id": "KtGbpXEQSyFy"
      },
      "execution_count": null,
      "outputs": []
    },
    {
      "cell_type": "markdown",
      "source": [
        "### Test Cases"
      ],
      "metadata": {
        "id": "SzBq4-PgQFTK"
      }
    },
    {
      "cell_type": "code",
      "source": [
        "# Test Case 1\n",
        "n = 3\n",
        "result = sumOfNaturalNumbers(n)\n",
        "print(result)"
      ],
      "metadata": {
        "colab": {
          "base_uri": "https://localhost:8080/"
        },
        "id": "DI07NGuPTEEP",
        "outputId": "8ea8a70f-9dba-43cd-d5d6-81f9f3a9c743"
      },
      "execution_count": null,
      "outputs": [
        {
          "output_type": "stream",
          "name": "stdout",
          "text": [
            "6\n"
          ]
        }
      ]
    },
    {
      "cell_type": "code",
      "source": [
        "# Test Case 2\n",
        "n = 5\n",
        "result = sumOfNaturalNumbers(n)\n",
        "print(result)"
      ],
      "metadata": {
        "colab": {
          "base_uri": "https://localhost:8080/"
        },
        "id": "CA3z-pwMTEQd",
        "outputId": "adb908c0-987e-4af4-c2a5-dc20b37dc6f5"
      },
      "execution_count": null,
      "outputs": [
        {
          "output_type": "stream",
          "name": "stdout",
          "text": [
            "15\n"
          ]
        }
      ]
    },
    {
      "cell_type": "markdown",
      "source": [
        "### Conclusion\n",
        "\n",
        "In this code, the sumOfNaturalNumbers function takes the input integer n and calculates the sum using the formula (n * (n + 1)) / 2. The use of integer division // ensures that the result is an integer.\n",
        "\n",
        "The **time complexity of this code is O(1)** because the calculation is done in constant time, regardless of the input size.\n",
        "\n",
        "The **space complexity is also O(1)** since we use a constant amount of additional space."
      ],
      "metadata": {
        "id": "D1yv-6f7QIPs"
      }
    },
    {
      "cell_type": "markdown",
      "source": [
        "# Question 3\n",
        "\n",
        "💡 Given a positive integer, N. Find the factorial of N. \n",
        "\n",
        "**Example 1:**\n",
        "\n",
        "Input: N = 5 \n",
        "\n",
        "Output: 120\n",
        "\n",
        "**Example 2:**\n",
        "\n",
        "Input: N = 4\n",
        "\n",
        "Output: 24\n",
        "\n"
      ],
      "metadata": {
        "id": "Vr0TitTbipVA"
      }
    },
    {
      "cell_type": "markdown",
      "source": [
        "## Solution\n",
        "\n",
        "To find the factorial of a positive integer N, we can use a simple iterative approach. The factorial of N is the product of all positive integers from 1 to N.\n",
        "\n",
        "Here's the Python code to calculate the factorial:"
      ],
      "metadata": {
        "id": "DzQwGclqRIun"
      }
    },
    {
      "cell_type": "code",
      "source": [
        "def factorial(N):\n",
        "    result = 1\n",
        "    for i in range(1, N + 1):\n",
        "        result *= i\n",
        "    return result"
      ],
      "metadata": {
        "id": "z3SQVoZki7DW"
      },
      "execution_count": null,
      "outputs": []
    },
    {
      "cell_type": "markdown",
      "source": [
        "### Test Cases"
      ],
      "metadata": {
        "id": "S0cd3Vi4SOcZ"
      }
    },
    {
      "cell_type": "code",
      "source": [
        "# Test Case 1\n",
        "N = 5\n",
        "result = factorial(N)\n",
        "print(result)"
      ],
      "metadata": {
        "colab": {
          "base_uri": "https://localhost:8080/"
        },
        "id": "DylB5a-1UxZW",
        "outputId": "a8e0dc2b-5aa3-4cd1-f85f-b937a506df2c"
      },
      "execution_count": null,
      "outputs": [
        {
          "output_type": "stream",
          "name": "stdout",
          "text": [
            "120\n"
          ]
        }
      ]
    },
    {
      "cell_type": "code",
      "source": [
        "# Test Case 2\n",
        "N = 4\n",
        "result = factorial(N)\n",
        "print(result) "
      ],
      "metadata": {
        "colab": {
          "base_uri": "https://localhost:8080/"
        },
        "id": "o28KtcKvUxi-",
        "outputId": "a54549a5-c8fb-4dee-aac5-f664d1c52949"
      },
      "execution_count": null,
      "outputs": [
        {
          "output_type": "stream",
          "name": "stdout",
          "text": [
            "24\n"
          ]
        }
      ]
    },
    {
      "cell_type": "markdown",
      "source": [
        "### Conclusion\n",
        "\n",
        "In this code, the factorial function takes the input integer N and iteratively multiplies the result variable by each positive integer from 1 to N. The final value of result is the factorial of N.\n",
        "\n",
        "The **time complexity of this code is O(N)** because we iterate N times in the for loop.\n",
        "\n",
        "The **space complexity is O(1)** since we use a constant amount of additional space."
      ],
      "metadata": {
        "id": "4olfJHnLRpr-"
      }
    },
    {
      "cell_type": "markdown",
      "source": [
        "# Question 4\n",
        "\n",
        "💡 Given a number N and a power P, the task is to find the exponent of this number raised to the given power, i.e. N^P.\n",
        "\n",
        "**Example 1 :** \n",
        "\n",
        "Input: N = 5, P = 2\n",
        "\n",
        "Output: 25\n",
        "\n",
        "**Example 2 :**\n",
        "Input: N = 2, P = 5\n",
        "\n",
        "Output: 32"
      ],
      "metadata": {
        "id": "4AX8quygixk_"
      }
    },
    {
      "cell_type": "markdown",
      "source": [
        "## Solution\n",
        "\n",
        "To calculate the exponent of a number N raised to the power P, we can use the built-in exponentiation operator ** in Python.\n",
        "\n",
        "Here's the Python code to calculate N^P:"
      ],
      "metadata": {
        "id": "diNbNP_jSmO_"
      }
    },
    {
      "cell_type": "code",
      "source": [
        "def calculate_exponent(N, P):\n",
        "    result = N ** P\n",
        "    return result"
      ],
      "metadata": {
        "id": "abGaR9d6i77P"
      },
      "execution_count": null,
      "outputs": []
    },
    {
      "cell_type": "markdown",
      "source": [
        "### Test Cases"
      ],
      "metadata": {
        "id": "b2OEMzOYStdu"
      }
    },
    {
      "cell_type": "code",
      "source": [
        "# Test Case 1\n",
        "\n",
        "N = 5\n",
        "P = 2\n",
        "result = calculate_exponent(N, P)\n",
        "print(result) "
      ],
      "metadata": {
        "colab": {
          "base_uri": "https://localhost:8080/"
        },
        "id": "OJFImoSNVWTM",
        "outputId": "25e1dfce-c992-4875-cd03-3c76a22162ec"
      },
      "execution_count": null,
      "outputs": [
        {
          "output_type": "stream",
          "name": "stdout",
          "text": [
            "25\n"
          ]
        }
      ]
    },
    {
      "cell_type": "code",
      "source": [
        "# Test Case 2\n",
        "\n",
        "N = 2\n",
        "P = 5\n",
        "result = calculate_exponent(N, P)\n",
        "print(result) "
      ],
      "metadata": {
        "colab": {
          "base_uri": "https://localhost:8080/"
        },
        "id": "LSZdP51yVWeg",
        "outputId": "96237564-862d-4672-d196-3d1276bfb104"
      },
      "execution_count": null,
      "outputs": [
        {
          "output_type": "stream",
          "name": "stdout",
          "text": [
            "32\n"
          ]
        }
      ]
    },
    {
      "cell_type": "markdown",
      "source": [
        "### Conclusion\n",
        "\n",
        "In this code, the calculate_exponent function takes the input number N and power P and uses the exponentiation operator ** to calculate N^P. The result is then returned.\n",
        "\n",
        "The **time complexity of this code is O(1)** since the exponentiation operation takes constant time.\n",
        "\n",
        "The **space complexity is O(1)** since we use a constant amount of additional space."
      ],
      "metadata": {
        "id": "M1mYRqnESyIP"
      }
    },
    {
      "cell_type": "markdown",
      "source": [
        "# Question 5\n",
        "\n",
        "💡 Given an array of integers **arr**, the task is to find maximum element of that array using recursion.\n",
        "\n",
        "**Example 1:**\n",
        "\n",
        "Input: arr = {1, 4, 3, -5, -4, 8, 6};\n",
        "Output: 8\n",
        "\n",
        "**Example 2:**\n",
        "\n",
        "Input: arr = {1, 4, 45, 6, 10, -8};\n",
        "Output: 45\n"
      ],
      "metadata": {
        "id": "IC7N3xsIizmQ"
      }
    },
    {
      "cell_type": "markdown",
      "source": [
        "## Solution\n",
        "\n",
        "To find the maximum element in an array using recursion, you can use a recursive approach where you compare elements recursively to determine the maximum.\n",
        "\n",
        "Here's the Python code to find the maximum element in an array using recursion:"
      ],
      "metadata": {
        "id": "49viu9pDTtNo"
      }
    },
    {
      "cell_type": "code",
      "source": [
        "def find_max(arr, n):\n",
        "    # Base case: If there is only one element, return it\n",
        "    if n == 1:\n",
        "        return arr[0]\n",
        "\n",
        "    # Recursive case: Compare the first element with the maximum of the rest of the array\n",
        "    return max(arr[n-1], find_max(arr, n-1))"
      ],
      "metadata": {
        "id": "QuUHhpmhi9Ct"
      },
      "execution_count": null,
      "outputs": []
    },
    {
      "cell_type": "markdown",
      "source": [
        "### Test Cases"
      ],
      "metadata": {
        "id": "iwh_wKweT5z_"
      }
    },
    {
      "cell_type": "code",
      "source": [
        "# Test Case 1\n",
        "\n",
        "arr = [1, 4, 3, -5, -4, 8, 6]\n",
        "result = find_max(arr, len(arr))\n",
        "print(result)"
      ],
      "metadata": {
        "colab": {
          "base_uri": "https://localhost:8080/"
        },
        "id": "KcVfbD6UUCzP",
        "outputId": "08145919-83e8-48c3-b7f8-3d8a2d59ec24"
      },
      "execution_count": null,
      "outputs": [
        {
          "output_type": "stream",
          "name": "stdout",
          "text": [
            "8\n"
          ]
        }
      ]
    },
    {
      "cell_type": "code",
      "source": [
        "# Test Case 2\n",
        "\n",
        "arr = [1, 4, 45, 6, 10, -8]\n",
        "result = find_max(arr, len(arr))\n",
        "print(result)"
      ],
      "metadata": {
        "colab": {
          "base_uri": "https://localhost:8080/"
        },
        "id": "ydNDC1m_UC7m",
        "outputId": "857987fe-224f-4981-a728-c49e70b4e918"
      },
      "execution_count": null,
      "outputs": [
        {
          "output_type": "stream",
          "name": "stdout",
          "text": [
            "45\n"
          ]
        }
      ]
    },
    {
      "cell_type": "markdown",
      "source": [
        "### Conclusion\n",
        "\n",
        "In this code, the find_max function takes the array arr and the length of the array n as input. It uses recursion to compare the first element with the maximum of the rest of the array. The base case is when there is only one element in the array, in which case it returns that element. The recursive case compares the current element with the maximum of the rest of the array and returns the maximum.\n",
        "\n",
        "The **time complexity of this code is O(n)**, where n is the size of the array, since we compare each element of the array once.\n",
        "\n",
        "The **space complexity is O(n)** due to the recursive calls, as each call adds a new stack frame to the call stack. However, since the recursive calls are tail recursive (the recursive call is the last operation in the function), some compilers or interpreters can optimize the recursion to use constant stack space."
      ],
      "metadata": {
        "id": "8rg-n65BT9MZ"
      }
    },
    {
      "cell_type": "markdown",
      "source": [
        "# Question 6\n",
        "\n",
        "💡 Given first term (a), common difference (d) and a integer N of the Arithmetic Progression series, the task is to find Nth term of the series.\n",
        "\n",
        "**Example 1:**\n",
        "\n",
        "Input : a = 2 d = 1 N = 5\n",
        "Output : 6\n",
        "The 5th term of the series is : 6\n",
        "\n",
        "**Example 2:**\n",
        "\n",
        "Input : a = 5 d = 2 N = 10\n",
        "Output : 23\n",
        "The 10th term of the series is : 23"
      ],
      "metadata": {
        "id": "DTFWlz2ci1VH"
      }
    },
    {
      "cell_type": "markdown",
      "source": [
        "## Solution\n",
        "\n",
        "To find the Nth term of an arithmetic progression series, you can use the formula:\n",
        "\n",
        "Nth term = a + (N-1) * d\n",
        "\n",
        "where 'a' is the first term, 'd' is the common difference, and 'N' is the term number.\n",
        "\n",
        "Here's the Python code to find the Nth term of an arithmetic progression series:"
      ],
      "metadata": {
        "id": "q_aFdjnSUi4N"
      }
    },
    {
      "cell_type": "code",
      "source": [
        "def find_nth_term(a, d, N):\n",
        "    nth_term = a + (N-1) * d\n",
        "    return nth_term"
      ],
      "metadata": {
        "id": "K9ZCgKoPi-cx"
      },
      "execution_count": null,
      "outputs": []
    },
    {
      "cell_type": "markdown",
      "source": [
        "### Test Cases"
      ],
      "metadata": {
        "id": "xQkQofqqUmC-"
      }
    },
    {
      "cell_type": "code",
      "source": [
        "# Test Case 1\n",
        "a = 2\n",
        "d = 1\n",
        "N = 5\n",
        "result = find_nth_term(a, d, N)\n",
        "print(result)  # Output: 6"
      ],
      "metadata": {
        "colab": {
          "base_uri": "https://localhost:8080/"
        },
        "id": "wlC5vEIAWZ3I",
        "outputId": "b1671a1f-9d80-44dd-91cc-0e2eb55b1d3c"
      },
      "execution_count": null,
      "outputs": [
        {
          "output_type": "stream",
          "name": "stdout",
          "text": [
            "6\n"
          ]
        }
      ]
    },
    {
      "cell_type": "code",
      "source": [
        "# Test Case 2\n",
        "a = 5\n",
        "d = 2\n",
        "N = 10\n",
        "result = find_nth_term(a, d, N)\n",
        "print(result)  # Output: 23"
      ],
      "metadata": {
        "colab": {
          "base_uri": "https://localhost:8080/"
        },
        "id": "SLA9jonTWaIS",
        "outputId": "266bd64d-30cb-4592-e2ad-e20f6c4a1387"
      },
      "execution_count": null,
      "outputs": [
        {
          "output_type": "stream",
          "name": "stdout",
          "text": [
            "23\n"
          ]
        }
      ]
    },
    {
      "cell_type": "markdown",
      "source": [
        "### Conclusion\n",
        "\n",
        "In this code, the find_nth_term function takes the first term a, common difference d, and term number N as input. It calculates the Nth term using the formula mentioned above and returns the result.\n",
        "\n",
        "The **time complexity of this code is O(1)** because it involves only simple mathematical operations.\n",
        "\n",
        "The **space complexity is also O(1)** as it does not require any additional space that grows with the input."
      ],
      "metadata": {
        "id": "9whFW_hgUpGi"
      }
    },
    {
      "cell_type": "markdown",
      "source": [
        "# Question 7\n",
        "\n",
        "💡 Given a string S, the task is to write a program to print all permutations of a given string.\n",
        "\n",
        "**Example 1:**\n",
        "\n",
        "***Input:***\n",
        "\n",
        "*S = “ABC”*\n",
        "\n",
        "***Output:***\n",
        "\n",
        "*“ABC”, “ACB”, “BAC”, “BCA”, “CBA”, “CAB”*\n",
        "\n",
        "**Example 2:**\n",
        "\n",
        "***Input:***\n",
        "\n",
        "*S = “XY”*\n",
        "\n",
        "***Output:***\n",
        "\n",
        "*“XY”, “YX”*"
      ],
      "metadata": {
        "id": "REK6eFETi2th"
      }
    },
    {
      "cell_type": "markdown",
      "source": [
        "## Solution\n",
        "\n",
        "To print all permutations of a given string, you can use backtracking. Here's a Python code that prints all permutations of a given string:"
      ],
      "metadata": {
        "id": "cbSjgK0QVj8F"
      }
    },
    {
      "cell_type": "code",
      "source": [
        "'''\n",
        "def permute_string(s):\n",
        "    n = len(s)\n",
        "    # Convert the string to a list to make it mutable\n",
        "    s_list = list(s)\n",
        "    # Helper function to generate permutations\n",
        "    def backtrack(start):\n",
        "        # If all characters have been fixed, print the permutation\n",
        "        if start == n:\n",
        "            print(\"\".join(s_list))\n",
        "            return\n",
        "        # Generate permutations by swapping characters\n",
        "        for i in range(start, n):\n",
        "            # Swap the characters at positions start and i\n",
        "            s_list[start], s_list[i] = s_list[i], s_list[start]\n",
        "            # Recursively generate permutations for the remaining characters\n",
        "            backtrack(start + 1)\n",
        "            # Undo the swap\n",
        "            s_list[start], s_list[i] = s_list[i], s_list[start]\n",
        "\n",
        "    # Start generating permutations from index 0\n",
        "    backtrack(0)\n",
        "'''\n",
        "\n",
        "from itertools import permutations\n",
        "\n",
        "def print_permutations(S):\n",
        "    perms = permutations(S)\n",
        "    for perm in perms:\n",
        "        print(''.join(perm))"
      ],
      "metadata": {
        "id": "GhA7K6R9V8OW"
      },
      "execution_count": null,
      "outputs": []
    },
    {
      "cell_type": "markdown",
      "source": [
        "### test Cases"
      ],
      "metadata": {
        "id": "_gUnrU8AVnhR"
      }
    },
    {
      "cell_type": "code",
      "source": [
        "# Test Case 1\n",
        "S = \"ABC\"\n",
        "#permute_string(s)\n",
        "print_permutations(S)"
      ],
      "metadata": {
        "colab": {
          "base_uri": "https://localhost:8080/"
        },
        "id": "VVtt0GgPXkSX",
        "outputId": "e5b80c9f-4f9c-46f6-c60b-c40a0e819524"
      },
      "execution_count": null,
      "outputs": [
        {
          "output_type": "stream",
          "name": "stdout",
          "text": [
            "ABC\n",
            "ACB\n",
            "BAC\n",
            "BCA\n",
            "CAB\n",
            "CBA\n"
          ]
        }
      ]
    },
    {
      "cell_type": "code",
      "source": [
        "# Test Case 2\n",
        "S = \"XY\"\n",
        "#permute_string(s)\n",
        "print_permutations(S)"
      ],
      "metadata": {
        "colab": {
          "base_uri": "https://localhost:8080/"
        },
        "id": "N4VIKoWwXkeU",
        "outputId": "a21f4863-5384-4c7d-e3e7-49239d82489a"
      },
      "execution_count": null,
      "outputs": [
        {
          "output_type": "stream",
          "name": "stdout",
          "text": [
            "XY\n",
            "YX\n"
          ]
        }
      ]
    },
    {
      "cell_type": "markdown",
      "source": [
        "### Conclusion\n",
        "\n",
        "In this code, the permute_string function takes a string s as input. It converts the string to a list to make it mutable. The backtrack function is a helper function that generates permutations using backtracking.\n",
        "\n",
        "The backtrack function takes a start parameter that represents the index of the character to be fixed. It starts by fixing the character at index start and recursively generates permutations for the remaining characters by swapping them with the fixed character. After generating permutations for the remaining characters, it undoes the swap to restore the original string.\n",
        "\n",
        "The permute_string function calls the backtrack function with a start index of 0 to generate all permutations of the string. Each permutation is printed using the print statement.\n",
        "\n",
        "The **time complexity of this code is O(N!)**, where N is the length of the string. This is because there are N! possible permutations of a string of length N.\n",
        "\n",
        "The **space complexity is O(N)**, where N is the length of the string. This is the space required to store the mutable list representation of the string."
      ],
      "metadata": {
        "id": "EI80Hy_tVqhc"
      }
    },
    {
      "cell_type": "markdown",
      "source": [
        "# Question 8\n",
        "\n",
        "💡 Given an array, find a product of all array elements.\n",
        "\n",
        "**Example 1:**\n",
        "\n",
        "Input  : arr[] = {1, 2, 3, 4, 5}\n",
        "\n",
        "Output : 120\n",
        "\n",
        "**Example 2:**\n",
        "\n",
        "Input  : arr[] = {1, 6, 3}\n",
        "\n",
        "Output : 18\n",
        "\n"
      ],
      "metadata": {
        "id": "B8_UhTKLi3-V"
      }
    },
    {
      "cell_type": "markdown",
      "source": [
        "## solution\n",
        "\n",
        "To find the product of all elements in an array, you can iterate through the array and multiply each element together. Here's a Python code that calculates the product of all array elements:"
      ],
      "metadata": {
        "id": "PnIwYG6iXhum"
      }
    },
    {
      "cell_type": "code",
      "source": [
        "def product_of_array(arr):\n",
        "    product = 1\n",
        "    for num in arr:\n",
        "        product *= num\n",
        "    return product"
      ],
      "metadata": {
        "id": "JaVWh-OKjAgg"
      },
      "execution_count": null,
      "outputs": []
    },
    {
      "cell_type": "markdown",
      "source": [
        "### Test Cases"
      ],
      "metadata": {
        "id": "7hGni5RGXlQ3"
      }
    },
    {
      "cell_type": "code",
      "source": [
        "# Test Case 1\n",
        "arr = [1, 2, 3, 4, 5]\n",
        "result = product_of_array(arr)\n",
        "print(result)"
      ],
      "metadata": {
        "colab": {
          "base_uri": "https://localhost:8080/"
        },
        "id": "lWy0jOzvX9-z",
        "outputId": "38365790-f1c5-44f5-8ede-b5d6cdb4803a"
      },
      "execution_count": null,
      "outputs": [
        {
          "output_type": "stream",
          "name": "stdout",
          "text": [
            "120\n"
          ]
        }
      ]
    },
    {
      "cell_type": "code",
      "source": [
        "# Test Case 2\n",
        "arr = [1, 6, 3]\n",
        "result = product_of_array(arr)\n",
        "print(result)"
      ],
      "metadata": {
        "colab": {
          "base_uri": "https://localhost:8080/"
        },
        "id": "YEDw3F17YGxJ",
        "outputId": "36b2b6a4-b506-40c3-adf2-6af6040c6cef"
      },
      "execution_count": null,
      "outputs": [
        {
          "output_type": "stream",
          "name": "stdout",
          "text": [
            "18\n"
          ]
        }
      ]
    },
    {
      "cell_type": "markdown",
      "source": [
        "### Conclusion\n",
        "\n",
        "In this code, the product_of_array function takes an array arr as input. It initializes a variable product to 1. Then, it iterates through each element num in the array and multiplies it with the current value of product. After iterating through all elements, the final value of product is returned.\n",
        "\n",
        "The **time complexity of this code is O(N)**, where N is the size of the array. This is because it iterates through each element of the array once.\n",
        "\n",
        "The **space complexity is O(1)** since it only uses a constant amount of additional space to store the product variable."
      ],
      "metadata": {
        "id": "V4qgkek9Xn1H"
      }
    }
  ]
}
