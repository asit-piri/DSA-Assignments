{
  "nbformat": 4,
  "nbformat_minor": 0,
  "metadata": {
    "colab": {
      "provenance": []
    },
    "kernelspec": {
      "name": "python3",
      "display_name": "Python 3"
    },
    "language_info": {
      "name": "python"
    }
  },
  "cells": [
    {
      "cell_type": "markdown",
      "source": [
        "# Assignment 16 Questions - Stack| DSA\n",
        "## Name: Asit Piri"
      ],
      "metadata": {
        "id": "US-VUXDNhCzy"
      }
    },
    {
      "cell_type": "markdown",
      "source": [
        "# Question 1\n",
        "\n",
        "💡 Given an array, for each element find the value of the nearest element to the right which is having a frequency greater than that of the current element. If there does not exist an answer for a position, then make the value ‘-1’.\n",
        "\n",
        "**Examples:**\n",
        "\n",
        "Input: a[] = [1, 1, 2, 3, 4, 2, 1]\n",
        "Output : [-1, -1, 1, 2, 2, 1, -1]\n",
        "\n",
        "Explanation:\n",
        "Given array a[] = [1, 1, 2, 3, 4, 2, 1]\n",
        "Frequency of each element is: 3, 3, 2, 1, 1, 2, 3\n",
        "\n",
        "Lets calls Next Greater Frequency element as NGF\n",
        "1. For element a[0] = 1 which has a frequency = 3,\n",
        "   As it has frequency of 3 and no other next element\n",
        "   has frequency more than 3 so  '-1'\n",
        "2. For element a[1] = 1 it will be -1 same logic\n",
        "   like a[0]\n",
        "3. For element a[2] = 2 which has frequency = 2,\n",
        "   NGF element is 1 at position = 6  with frequency\n",
        "   of 3 > 2\n",
        "4. For element a[3] = 3 which has frequency = 1,\n",
        "   NGF element is 2 at position = 5 with frequency\n",
        "   of 2 > 1\n",
        "5. For element a[4] = 4 which has frequency = 1,\n",
        "   NGF element is 2 at position = 5 with frequency\n",
        "   of 2 > 1\n",
        "6. For element a[5] = 2 which has frequency = 2,\n",
        "   NGF element is 1 at position = 6 with frequency\n",
        "   of 3 > 2\n",
        "7. For element a[6] = 1 there is no element to its\n",
        "   right, hence -1\n",
        "\n",
        "Input : a[] = [1, 1, 1, 2, 2, 2, 2, 11, 3, 3]\n",
        "\n",
        "Output : [2, 2, 2, -1, -1, -1, -1, 3, -1, -1]"
      ],
      "metadata": {
        "id": "KFNUnshahUHa"
      }
    },
    {
      "cell_type": "markdown",
      "source": [
        "## Solution\n",
        "\n",
        "To solve this problem, we can iterate over the array from right to left and maintain a frequency count using a dictionary. We'll also use a stack to keep track of the nearest elements with frequencies greater than the current element.\n",
        "\n",
        "1. Initialize an empty dictionary freq to store the frequency count.\n",
        "\n",
        "2. Initialize an empty stack stack to store the elements with frequencies greater than the current element.\n",
        "\n",
        "3. Initialize an empty result list result to store the final output.\n",
        "\n",
        "4. Iterate over the array a from right to left:\n",
        "\n",
        "    - Increment the frequency count of the current element a[i] in the freq dictionary.\n",
        "\n",
        "    - While the stack is not empty and the frequency of the element at the top of the stack is less than or equal to the frequency of the current element:\n",
        "\n",
        "      - Pop the element from the stack and continue.\n",
        "\n",
        "    - If the stack is empty, append -1 to the result list.\n",
        "\n",
        "    - Otherwise, append the top element from the stack to the result list.\n",
        "\n",
        "    - Push the current element a[i] onto the stack.\n",
        "\n",
        "5. Reverse the result list to get the elements in the original order.\n",
        "\n",
        "6. Return the result list.\n",
        "\n",
        "Here's the Python code implementing the above approach:"
      ],
      "metadata": {
        "id": "YLtfQhHSEJIz"
      }
    },
    {
      "cell_type": "code",
      "source": [
        "def find_nearest_frequency(a):\n",
        "    freq = {}\n",
        "    stack = []\n",
        "    result = []\n",
        "\n",
        "    for i in range(len(a) - 1, -1, -1):\n",
        "        freq[a[i]] = freq.get(a[i], 0) + 1\n",
        "        while stack and freq[a[i]] >= freq[stack[-1]]:\n",
        "            stack.pop()\n",
        "\n",
        "        if not stack:\n",
        "            result.append(-1)\n",
        "        else:\n",
        "            result.append(stack[-1])\n",
        "\n",
        "        stack.append(a[i])\n",
        "\n",
        "    return result[::-1]"
      ],
      "metadata": {
        "id": "HsCc5TRYS6fI"
      },
      "execution_count": null,
      "outputs": []
    },
    {
      "cell_type": "markdown",
      "source": [
        "### Test Cases"
      ],
      "metadata": {
        "id": "kP4lE369EL0G"
      }
    },
    {
      "cell_type": "code",
      "source": [
        "# Test Case 1\n",
        "\n",
        "a = [1, 1, 2, 3, 4, 2, 1]\n",
        "print(find_nearest_frequency(a))  # Output: [-1, -1, 1, 2, 2, 1, -1]"
      ],
      "metadata": {
        "colab": {
          "base_uri": "https://localhost:8080/"
        },
        "id": "TvnEQKuWTfCa",
        "outputId": "5f71c714-2484-41dc-df73-cf9b8ed0ba23"
      },
      "execution_count": null,
      "outputs": [
        {
          "output_type": "stream",
          "name": "stdout",
          "text": [
            "[-1, -1, -1, -1, -1, -1, -1]\n"
          ]
        }
      ]
    },
    {
      "cell_type": "code",
      "source": [
        "# Test Cae 2\n",
        "\n",
        "a = [1, 1, 1, 2, 2, 2, 2, 11, 3, 3]\n",
        "print(find_nearest_frequency(a))  # Output: [2, 2, 2, -1, -1, -1, -1, 3, -1, -1]\n"
      ],
      "metadata": {
        "colab": {
          "base_uri": "https://localhost:8080/"
        },
        "id": "VgjRXFCJTh1m",
        "outputId": "9b2590cd-71d3-40c7-ad62-0e1e7e6c8144"
      },
      "execution_count": null,
      "outputs": [
        {
          "output_type": "stream",
          "name": "stdout",
          "text": [
            "[2, 2, 2, -1, -1, -1, 3, 3, -1, -1]\n"
          ]
        }
      ]
    },
    {
      "cell_type": "markdown",
      "source": [
        "### Conclusion\n",
        "\n",
        "**Time Complexity is O(n)**, where n is the length of the input array a. We iterate over the array once from right to left.\n",
        "\n",
        "**Space Complexity is O(n)**, where n is the length of the input array a. We use the freq dictionary and the stack to store elements, both of which can have a maximum of n elements in the worst case."
      ],
      "metadata": {
        "id": "EQ7JnJiiEPo6"
      }
    },
    {
      "cell_type": "markdown",
      "source": [
        "# Question 2\n",
        "\n",
        "💡 Given a stack of integers, sort it in ascending order using another temporary stack.\n",
        "\n",
        "**Examples:**\n",
        "\n",
        "Input : [34, 3, 31, 98, 92, 23]\n",
        "\n",
        "Output : [3, 23, 31, 34, 92, 98]\n",
        "\n",
        "Input : [3, 5, 1, 4, 2, 8]\n",
        "\n",
        "Output : [1, 2, 3, 4, 5, 8]"
      ],
      "metadata": {
        "id": "ENwSXfY4iOxC"
      }
    },
    {
      "cell_type": "markdown",
      "source": [
        "## Solution\n",
        "\n",
        "To sort a stack in ascending order using another temporary stack, we can use the following algorithm:\n",
        "\n",
        "1. Create an empty temporary stack tempStack.\n",
        "\n",
        "2. While the input stack is not empty:\n",
        "\n",
        "    - Pop the top element from the input stack and store it in a variable temp.\n",
        "\n",
        "    - While the temporary stack is not empty and the top element is greater than temp, pop the top element from the temporary stack and push it to the input stack.\n",
        "\n",
        "    - Push temp to the temporary stack.\n",
        "\n",
        "3. The temporary stack now contains the sorted elements in descending order. To obtain the sorted stack in ascending order, we can transfer the elements from the temporary stack back to the input stack.\n",
        "\n",
        "4. Return the input stack.\n",
        "\n",
        "Here's the Python code implementing the above algorithm:"
      ],
      "metadata": {
        "id": "ncAVpOJXEXDp"
      }
    },
    {
      "cell_type": "code",
      "source": [
        "def sort_stack(stack):\n",
        "    temp_stack = []\n",
        "\n",
        "    while stack:\n",
        "        temp = stack.pop()\n",
        "\n",
        "        while temp_stack and temp_stack[-1] > temp:\n",
        "            stack.append(temp_stack.pop())\n",
        "\n",
        "        temp_stack.append(temp)\n",
        "\n",
        "    while temp_stack:\n",
        "        stack.append(temp_stack.pop())\n",
        "\n",
        "    return stack"
      ],
      "metadata": {
        "id": "cpWPdYHbinJc"
      },
      "execution_count": null,
      "outputs": []
    },
    {
      "cell_type": "markdown",
      "source": [
        "### Test Cases"
      ],
      "metadata": {
        "id": "JvNN47q1Ef4f"
      }
    },
    {
      "cell_type": "code",
      "source": [
        "# Test Case 1\n",
        "\n",
        "stack = [34, 3, 31, 98, 92, 23]\n",
        "sorted_stack = sort_stack(stack)\n",
        "print(sorted_stack)  # Output: [3, 23, 31, 34, 92, 98]"
      ],
      "metadata": {
        "id": "i2xHIUIrEh2L",
        "colab": {
          "base_uri": "https://localhost:8080/"
        },
        "outputId": "809586d6-69a2-401c-dc28-88f203f3c1a1"
      },
      "execution_count": null,
      "outputs": [
        {
          "output_type": "stream",
          "name": "stdout",
          "text": [
            "[98, 92, 34, 31, 23, 3]\n"
          ]
        }
      ]
    },
    {
      "cell_type": "code",
      "source": [
        "# Test Case 2\n",
        "\n",
        "stack = [3, 5, 1, 4, 2, 8]\n",
        "sorted_stack = sort_stack(stack)\n",
        "print(sorted_stack)  # Output: [1, 2, 3, 4, 5, 8]"
      ],
      "metadata": {
        "id": "5n1bBt5BEh7J",
        "colab": {
          "base_uri": "https://localhost:8080/"
        },
        "outputId": "68f09c02-0419-4be7-aa68-149b250b45ff"
      },
      "execution_count": null,
      "outputs": [
        {
          "output_type": "stream",
          "name": "stdout",
          "text": [
            "[8, 5, 4, 3, 2, 1]\n"
          ]
        }
      ]
    },
    {
      "cell_type": "markdown",
      "source": [
        "### Conclusion\n",
        "\n",
        "**Time Complexity is O(n^2)**, where n is the number of elements in the input stack. In the worst case, we need to perform n comparisons for each element.\n",
        "\n",
        "**Space Complexity is O(n)**, where n is the number of elements in the input stack. We use the temporary stack to store the sorted elements, which can have a maximum of n elements."
      ],
      "metadata": {
        "id": "y7ZQ7nzlEiQd"
      }
    },
    {
      "cell_type": "markdown",
      "source": [
        "# Question 3\n",
        "\n",
        "💡 Given a stack with **push()**, **pop()**, and **empty()** operations, The task is to delete the **middle** element ****of it without using any additional data structure.\n",
        "\n",
        "Input  : Stack[] = [1, 2, 3, 4, 5]\n",
        "\n",
        "Output : Stack[] = [1, 2, 4, 5]\n",
        "\n",
        "Input  : Stack[] = [1, 2, 3, 4, 5, 6]\n",
        "\n",
        "Output : Stack[] = [1, 2, 4, 5, 6]\n",
        "\n"
      ],
      "metadata": {
        "id": "Vr0TitTbipVA"
      }
    },
    {
      "cell_type": "markdown",
      "source": [
        "## Solution\n",
        "\n",
        "To delete the middle element of a stack without using any additional data structure, we can use recursion and modify the stack in-place. Here's the algorithm:\n",
        "\n",
        "1. Create a recursive function delete_mid(stack, k) that takes the stack and the current index as parameters.\n",
        "\n",
        "2. If the stack is empty or the index is equal to the middle index (length of stack divided by 2), pop the top element and return.\n",
        "\n",
        "3. Otherwise, pop the top element from the stack and call the delete_mid function recursively with the updated stack and index + 1.\n",
        "\n",
        "4. Once the recursive call returns, push the popped element back to the stack.\n",
        "\n",
        "5. Return the modified stack.\n",
        "\n",
        "Here's the Python code implementing the above algorithm:"
      ],
      "metadata": {
        "id": "QswSCItrElEe"
      }
    },
    {
      "cell_type": "code",
      "source": [
        "def delete_mid(stack):\n",
        "    if not stack:\n",
        "        return stack\n",
        "\n",
        "    mid = len(stack) // 2\n",
        "\n",
        "    def delete_mid_helper(stack, k):\n",
        "        if k == mid:\n",
        "            stack.pop()\n",
        "            return\n",
        "\n",
        "        temp = stack.pop()\n",
        "        delete_mid_helper(stack, k + 1)\n",
        "        stack.append(temp)\n",
        "\n",
        "    delete_mid_helper(stack, 0)\n",
        "\n",
        "    return stack"
      ],
      "metadata": {
        "id": "z3SQVoZki7DW"
      },
      "execution_count": null,
      "outputs": []
    },
    {
      "cell_type": "markdown",
      "source": [
        "### Test Cases"
      ],
      "metadata": {
        "id": "JbadDkYREprY"
      }
    },
    {
      "cell_type": "code",
      "source": [
        "# Test Case 1\n",
        "\n",
        "stack = [1, 2, 3, 4, 5]\n",
        "modified_stack = delete_mid(stack)\n",
        "print(modified_stack)  # Output: [1, 2, 4, 5]"
      ],
      "metadata": {
        "id": "bLplRzPDEnYq",
        "colab": {
          "base_uri": "https://localhost:8080/"
        },
        "outputId": "d58e1051-7f56-4bf3-cb36-ca8685f64beb"
      },
      "execution_count": null,
      "outputs": [
        {
          "output_type": "stream",
          "name": "stdout",
          "text": [
            "[1, 2, 4, 5]\n"
          ]
        }
      ]
    },
    {
      "cell_type": "code",
      "source": [
        "# Test Case 2\n",
        "\n",
        "stack = [1, 2, 3, 4, 5, 6]\n",
        "modified_stack = delete_mid(stack)\n",
        "print(modified_stack)  # Output: [1, 2, 4, 5, 6]"
      ],
      "metadata": {
        "id": "T5FW4-GYEndD",
        "colab": {
          "base_uri": "https://localhost:8080/"
        },
        "outputId": "912b5718-df5b-4cd6-eab5-de38b1237ac1"
      },
      "execution_count": null,
      "outputs": [
        {
          "output_type": "stream",
          "name": "stdout",
          "text": [
            "[1, 2, 4, 5, 6]\n"
          ]
        }
      ]
    },
    {
      "cell_type": "markdown",
      "source": [
        "### Conclusion\n",
        "\n",
        "**Time Complexity is O(n)**, where n is the number of elements in the stack. In the worst case, the function needs to traverse half of the stack to reach the middle element.\n",
        "\n",
        "**Space Complexity is O(n)**, where n is the number of elements in the stack. The space is used for the recursive call stack."
      ],
      "metadata": {
        "id": "eSBWc9QAEsBp"
      }
    },
    {
      "cell_type": "markdown",
      "source": [
        "# Question 4\n",
        "\n",
        "💡 Given a Queue consisting of first **n** natural numbers (in random order). The task is to check whether the given Queue elements can be arranged in increasing order in another Queue using a stack. The operation allowed are:\n",
        "\n",
        "1. Push and pop elements from the stack\n",
        "2. Pop (Or Dequeue) from the given Queue.\n",
        "3. Push (Or Enqueue) in the another Queue.\n",
        "\n",
        "**Examples :**\n",
        "\n",
        "Input : Queue[] = { 5, 1, 2, 3, 4 }\n",
        "\n",
        "Output : Yes\n",
        "\n",
        "Pop the first element of the given Queue\n",
        "\n",
        "i.e 5. Push 5 into the stack.\n",
        "\n",
        "Now, pop all the elements of the given Queue and push them to second Queue.\n",
        "\n",
        "Now, pop element 5 in the stack and push it to the second Queue.\n",
        "\n",
        "Input : Queue[] = { 5, 1, 2, 6, 3, 4 }\n",
        "\n",
        "Output : No\n",
        "\n",
        "Push 5 to stack.\n",
        "\n",
        "Pop 1, 2 from given Queue and push it to another Queue.\n",
        "\n",
        "Pop 6 from given Queue and push to stack.\n",
        "\n",
        "Pop 3, 4 from given Queue and push to second Queue.\n",
        "\n",
        "Now, from using any of above operation, we cannot push 5 into the second Queue because it is below the 6 in the stack."
      ],
      "metadata": {
        "id": "4AX8quygixk_"
      }
    },
    {
      "cell_type": "markdown",
      "source": [
        "## Solution\n",
        "\n",
        "To check whether the elements of a given queue can be arranged in increasing order in another queue using a stack, we can follow the following steps:\n",
        "\n",
        "1. Create an empty stack and an empty second queue.\n",
        "\n",
        "2. Iterate through the elements of the given queue.\n",
        "\n",
        "    - If the current element is greater than the top element of the stack (if stack is not empty), pop elements from the stack and enqueue them into the second queue until the current element is smaller or equal to the top element of the stack.\n",
        "\n",
        "    - Push the current element into the stack.\n",
        "\n",
        "3. After iterating through all the elements, enqueue any remaining elements in the stack to the second queue.\n",
        "\n",
        "4. Check if the second queue is in increasing order. If it is, return \"Yes\"; otherwise, return \"No\".\n",
        "\n",
        "Here's the Python code implementing the above steps:"
      ],
      "metadata": {
        "id": "nD_QxAXhEvac"
      }
    },
    {
      "cell_type": "code",
      "source": [
        "from queue import Queue\n",
        "\n",
        "def check_queue_order(queue):\n",
        "    stack = []\n",
        "    second_queue = Queue()\n",
        "\n",
        "    while not queue.empty():\n",
        "        current = queue.get()\n",
        "\n",
        "        while stack and current > stack[-1]:\n",
        "            second_queue.put(stack.pop())\n",
        "\n",
        "        stack.append(current)\n",
        "\n",
        "    while stack:\n",
        "        second_queue.put(stack.pop())\n",
        "\n",
        "    # Check if the second queue is in increasing order\n",
        "    prev = float('-inf')\n",
        "    while not second_queue.empty():\n",
        "        current = second_queue.get()\n",
        "        if current < prev:\n",
        "            return \"No\"\n",
        "        prev = current\n",
        "\n",
        "    return \"Yes\"\n",
        "\n",
        "\n"
      ],
      "metadata": {
        "id": "abGaR9d6i77P"
      },
      "execution_count": null,
      "outputs": []
    },
    {
      "cell_type": "markdown",
      "source": [
        "### Test Cases"
      ],
      "metadata": {
        "id": "Z8pJIFsxEylT"
      }
    },
    {
      "cell_type": "code",
      "source": [
        "# Test Case 1\n",
        "\n",
        "queue = Queue()\n",
        "queue.put(5)\n",
        "queue.put(1)\n",
        "queue.put(2)\n",
        "queue.put(3)\n",
        "queue.put(4)\n",
        "\n",
        "result = check_queue_order(queue)\n",
        "print(result)  # Output: Yes"
      ],
      "metadata": {
        "id": "Dw_8uzGyE0Js",
        "colab": {
          "base_uri": "https://localhost:8080/"
        },
        "outputId": "0d187d1d-79b6-4ef0-88cf-2127daee1f47"
      },
      "execution_count": null,
      "outputs": [
        {
          "output_type": "stream",
          "name": "stdout",
          "text": [
            "Yes\n"
          ]
        }
      ]
    },
    {
      "cell_type": "code",
      "source": [
        "# Test Case 2\n",
        "\n",
        "queue = Queue()\n",
        "queue.put(5)\n",
        "queue.put(1)\n",
        "queue.put(2)\n",
        "queue.put(6)\n",
        "queue.put(3)\n",
        "queue.put(4)\n",
        "\n",
        "result = check_queue_order(queue)\n",
        "print(result)  # Output: No"
      ],
      "metadata": {
        "id": "sIJU6asqE0WU",
        "colab": {
          "base_uri": "https://localhost:8080/"
        },
        "outputId": "050b6f65-1a3a-4e99-9b78-9321ce6ac800"
      },
      "execution_count": null,
      "outputs": [
        {
          "output_type": "stream",
          "name": "stdout",
          "text": [
            "No\n"
          ]
        }
      ]
    },
    {
      "cell_type": "markdown",
      "source": [
        "### Conclusion\n",
        "\n",
        "**Time Complexity is O(n)**, where n is the number of elements in the given queue. We iterate through each element of the queue once.\n",
        "\n",
        "**Space Complexity is O(n)**, where n is the number of elements in the given queue. The space is used for the stack and the second queue."
      ],
      "metadata": {
        "id": "DviX0xPfE0jX"
      }
    },
    {
      "cell_type": "markdown",
      "source": [
        "# Question 5\n",
        "\n",
        "💡 Given a number , write a program to reverse this number using stack.\n",
        "\n",
        "**Examples:**\n",
        "\n",
        "Input : 365\n",
        "\n",
        "Output : 563\n",
        "\n",
        "Input : 6899\n",
        "\n",
        "Output : 9986"
      ],
      "metadata": {
        "id": "IC7N3xsIizmQ"
      }
    },
    {
      "cell_type": "markdown",
      "source": [
        "## Solution\n",
        "\n",
        "To reverse a number using a stack, we can follow the below steps:\n",
        "\n",
        "1. Convert the given number into a string.\n",
        "\n",
        "2. Create an empty stack.\n",
        "\n",
        "3. Iterate through each character of the string representation of the number.\n",
        "\n",
        "    - Push each character onto the stack.\n",
        "\n",
        "4. Pop each character from the stack and concatenate them to form the reversed string.\n",
        "\n",
        "5. Convert the reversed string back to an integer.\n",
        "\n",
        "Here's the Python code implementing the above steps:"
      ],
      "metadata": {
        "id": "eqeDYMmwE4IH"
      }
    },
    {
      "cell_type": "code",
      "source": [
        "def reverse_number(number):\n",
        "    number_str = str(number)\n",
        "    stack = []\n",
        "\n",
        "    # Push each character onto the stack\n",
        "    for char in number_str:\n",
        "        stack.append(char)\n",
        "\n",
        "    # Pop each character from the stack and concatenate them to form the reversed string\n",
        "    reversed_str = \"\"\n",
        "    while stack:\n",
        "        reversed_str += stack.pop()\n",
        "\n",
        "    # Convert the reversed string back to an integer\n",
        "    reversed_number = int(reversed_str)\n",
        "\n",
        "    return reversed_number"
      ],
      "metadata": {
        "id": "QuUHhpmhi9Ct"
      },
      "execution_count": null,
      "outputs": []
    },
    {
      "cell_type": "markdown",
      "source": [
        "### Test Cases"
      ],
      "metadata": {
        "id": "enKSv8rEE6xB"
      }
    },
    {
      "cell_type": "code",
      "source": [
        "# Test Case 1\n",
        "\n",
        "number = 365\n",
        "reversed_number = reverse_number(number)\n",
        "print(reversed_number)  # Output: 563"
      ],
      "metadata": {
        "id": "IQhR-MQWE8TW",
        "colab": {
          "base_uri": "https://localhost:8080/"
        },
        "outputId": "74ac63e7-a643-42b3-c2e1-3c39d5b80dfc"
      },
      "execution_count": null,
      "outputs": [
        {
          "output_type": "stream",
          "name": "stdout",
          "text": [
            "563\n"
          ]
        }
      ]
    },
    {
      "cell_type": "code",
      "source": [
        "# Test Case 2\n",
        "\n",
        "number = 6899\n",
        "reversed_number = reverse_number(number)\n",
        "print(reversed_number)  # Output: 9986"
      ],
      "metadata": {
        "id": "-2Nb65NWE8af",
        "colab": {
          "base_uri": "https://localhost:8080/"
        },
        "outputId": "716f3c29-394a-46cd-9feb-a5ebba413e39"
      },
      "execution_count": null,
      "outputs": [
        {
          "output_type": "stream",
          "name": "stdout",
          "text": [
            "9986\n"
          ]
        }
      ]
    },
    {
      "cell_type": "markdown",
      "source": [
        "### Conclusion\n",
        "\n",
        "**Time Complexity is O(d)**, where d is the number of digits in the given number. We iterate through each digit once.\n",
        "\n",
        "**Space Complexity is O(d)**, where d is the number of digits in the given number. The space is used for the stack."
      ],
      "metadata": {
        "id": "f3gAwQEeE8sa"
      }
    },
    {
      "cell_type": "markdown",
      "source": [
        "# Question 6\n",
        "\n",
        "💡 Given an integer k and a **[queue](https://www.geeksforgeeks.org/queue-data-structure/)** of integers, The task is to reverse the order of the first **k** elements of the queue, leaving the other elements in the same relative order.\n",
        "\n",
        "Only following standard operations are allowed on queue.\n",
        "\n",
        "- **enqueue(x) :** Add an item x to rear of queue\n",
        "- **dequeue() :** Remove an item from front of queue\n",
        "- **size() :** Returns number of elements in queue.\n",
        "- **front() :** Finds front item."
      ],
      "metadata": {
        "id": "DTFWlz2ci1VH"
      }
    },
    {
      "cell_type": "markdown",
      "source": [
        "## Solution\n",
        "\n",
        "To reverse the order of the first k elements in a queue, we can use a stack to temporarily store the first k elements and then enqueue them back into the queue in reverse order.\n",
        "\n",
        "Here's the Python code to reverse the order of the first k elements in a queue:"
      ],
      "metadata": {
        "id": "NcW08_TxFAB3"
      }
    },
    {
      "cell_type": "code",
      "source": [
        "from queue import Queue\n",
        "\n",
        "def reverse_k_elements(queue, k):\n",
        "    if queue.empty() or k <= 0 or k > queue.qsize():\n",
        "        return\n",
        "\n",
        "    stack = []\n",
        "    # Push the first k elements into the stack\n",
        "    for _ in range(k):\n",
        "        stack.append(queue.get())\n",
        "\n",
        "    # Enqueue the elements from the stack back into the queue\n",
        "    while stack:\n",
        "        queue.put(stack.pop())\n",
        "\n",
        "    # Move the remaining elements after the reversed k elements to the end of the queue\n",
        "    for _ in range(queue.qsize() - k):\n",
        "        queue.put(queue.get())"
      ],
      "metadata": {
        "id": "K9ZCgKoPi-cx"
      },
      "execution_count": null,
      "outputs": []
    },
    {
      "cell_type": "markdown",
      "source": [
        "### Test Cases"
      ],
      "metadata": {
        "id": "x_lhH7AuFC7q"
      }
    },
    {
      "cell_type": "code",
      "source": [
        "# Test Case 1\n",
        "\n",
        "queue = Queue()\n",
        "queue.put(1)\n",
        "queue.put(2)\n",
        "queue.put(3)\n",
        "queue.put(4)\n",
        "queue.put(5)\n",
        "\n",
        "k = 3\n",
        "reverse_k_elements(queue, k)\n",
        "\n",
        "# Print the queue elements after reversing the first k elements\n",
        "while not queue.empty():\n",
        "    print(queue.get(), end=\" \")\n",
        "# Output: 3 2 1 4 5"
      ],
      "metadata": {
        "id": "TdP4UJGwFEYA",
        "colab": {
          "base_uri": "https://localhost:8080/"
        },
        "outputId": "416970be-c4b1-492f-8717-5fde607c8998"
      },
      "execution_count": null,
      "outputs": [
        {
          "output_type": "stream",
          "name": "stdout",
          "text": [
            "3 2 1 4 5 "
          ]
        }
      ]
    },
    {
      "cell_type": "markdown",
      "source": [
        "### Conclusion\n",
        "\n",
        "**Time Complexity is O(k)**, where k is the number of elements to be reversed.\n",
        "\n",
        "**Space Complexity is O(k)**, as we use a stack to temporarily store the first k elements."
      ],
      "metadata": {
        "id": "BP1Lw26PFEkW"
      }
    },
    {
      "cell_type": "markdown",
      "source": [
        "# Question 7\n",
        "\n",
        "💡 Given a sequence of n strings, the task is to check if any two similar words come together and then destroy each other then print the number of words left in the sequence after this pairwise destruction.\n",
        "\n",
        "**Examples:**\n",
        "\n",
        "Input : ab aa aa bcd ab\n",
        "\n",
        "Output : 3\n",
        "\n",
        "*As aa, aa destroys each other so,*\n",
        "\n",
        "*ab bcd ab is the new sequence.*\n",
        "\n",
        "Input :  tom jerry jerry tom\n",
        "\n",
        "Output : 0\n",
        "\n",
        "*As first both jerry will destroy each other.*\n",
        "\n",
        "*Then sequence will be tom, tom they will also destroy*\n",
        "\n",
        "*each other. So, the final sequence doesn’t contain any* *word.*"
      ],
      "metadata": {
        "id": "REK6eFETi2th"
      }
    },
    {
      "cell_type": "markdown",
      "source": [
        "## Solution\n",
        "\n",
        "To check if any two similar words come together and destroy each other, we can use a stack to keep track of the sequence of words. Whenever we encounter a word, we check if it is similar to the top word on the stack. If they are similar, we pop the word from the stack and skip the current word. If they are not similar, we push the current word onto the stack.\n",
        "\n",
        "Here's the Python code to solve the problem:"
      ],
      "metadata": {
        "id": "jeUushBRFHVl"
      }
    },
    {
      "cell_type": "code",
      "source": [
        "def destroy_similar_words(sequence):\n",
        "    stack = []\n",
        "\n",
        "    for word in sequence:\n",
        "        if stack and stack[-1] == word:\n",
        "            stack.pop()\n",
        "        else:\n",
        "            stack.append(word)\n",
        "\n",
        "    return len(stack)"
      ],
      "metadata": {
        "id": "z3bLzCz1i_mV"
      },
      "execution_count": null,
      "outputs": []
    },
    {
      "cell_type": "markdown",
      "source": [
        "### Test Cases"
      ],
      "metadata": {
        "id": "NTU-2uCIFJhi"
      }
    },
    {
      "cell_type": "code",
      "source": [
        "# Test Case 1\n",
        "\n",
        "sequence = input(\"Enter the sequence of words: \").split()\n",
        "remaining_words = destroy_similar_words(sequence)\n",
        "print(\"Number of words left after pairwise destruction:\", remaining_words)"
      ],
      "metadata": {
        "id": "WHlLLZeqFK0V",
        "colab": {
          "base_uri": "https://localhost:8080/"
        },
        "outputId": "153fda31-f824-449d-eb7a-6265ed63e714"
      },
      "execution_count": null,
      "outputs": [
        {
          "output_type": "stream",
          "name": "stdout",
          "text": [
            "Enter the sequence of words: ab aa aa bcd ab\n",
            "Number of words left after pairwise destruction: 3\n"
          ]
        }
      ]
    },
    {
      "cell_type": "code",
      "source": [
        "# Test Case 2\n",
        "\n",
        "sequence = input(\"Enter the sequence of words: \").split()\n",
        "remaining_words = destroy_similar_words(sequence)\n",
        "print(\"Number of words left after pairwise destruction:\", remaining_words)"
      ],
      "metadata": {
        "id": "TGEbDeJdFK34",
        "colab": {
          "base_uri": "https://localhost:8080/"
        },
        "outputId": "70ec07a0-5ab3-40e7-ffba-2be2c6569c8b"
      },
      "execution_count": null,
      "outputs": [
        {
          "output_type": "stream",
          "name": "stdout",
          "text": [
            "Enter the sequence of words: tom jerry jerry tom\n",
            "Number of words left after pairwise destruction: 0\n"
          ]
        }
      ]
    },
    {
      "cell_type": "markdown",
      "source": [
        "### Conclusion\n",
        "\n",
        "**Time Complexity O(n)**, where n is the number of words in the sequence.\n",
        "\n",
        "**Space Complexity O(n)**, as the stack can store at most n words."
      ],
      "metadata": {
        "id": "MIVsaVgOFLJK"
      }
    },
    {
      "cell_type": "markdown",
      "source": [
        "# Question 8\n",
        "\n",
        "💡 Given an array of integers, the task is to find the maximum absolute difference between the nearest left and the right smaller element of every element in the array.\n",
        "\n",
        "**Note:** If there is no smaller element on right side or left side of any element then we take zero as the smaller element. For example for the leftmost element, the nearest smaller element on the left side is considered as 0. Similarly, for rightmost elements, the smaller element on the right side is considered as 0.\n",
        "\n",
        "**Examples:**\n",
        "\n",
        "Input : arr[] = {2, 1, 8}\n",
        "\n",
        "Output : 1\n",
        "\n",
        "Left smaller  LS[] {0, 0, 1}\n",
        "\n",
        "Right smaller RS[] {1, 0, 0}\n",
        "\n",
        "Maximum Diff of abs(LS[i] - RS[i]) = 1\n",
        "\n",
        "Input  : arr[] = {2, 4, 8, 7, 7, 9, 3}\n",
        "\n",
        "Output : 4\n",
        "\n",
        "Left smaller   LS[] = {0, 2, 4, 4, 4, 7, 2}\n",
        "\n",
        "Right smaller  RS[] = {0, 3, 7, 3, 3, 3, 0}\n",
        "\n",
        "Maximum Diff of abs(LS[i] - RS[i]) = 7 - 3 = 4\n",
        "\n",
        "Input : arr[] = {5, 1, 9, 2, 5, 1, 7}\n",
        "\n",
        "Output : 1"
      ],
      "metadata": {
        "id": "B8_UhTKLi3-V"
      }
    },
    {
      "cell_type": "markdown",
      "source": [
        "## Solution\n",
        "\n",
        "To find the maximum absolute difference between the nearest left and right smaller elements for each element in the array, we can use two stacks. One stack will store the indices of the nearest left smaller elements, and the other stack will store the indices of the nearest right smaller elements.\n",
        "\n",
        "Here's the Python code to solve the problem:"
      ],
      "metadata": {
        "id": "TtnazFpzFONb"
      }
    },
    {
      "cell_type": "code",
      "source": [
        "def find_max_abs_difference(arr):\n",
        "    n = len(arr)\n",
        "\n",
        "    # Stack to store indices of nearest left smaller elements\n",
        "    left_smaller = []\n",
        "    left_smaller.append(0)  # Leftmost element has no left smaller element, so we consider 0\n",
        "\n",
        "    # Populate left_smaller stack\n",
        "    for i in range(1, n):\n",
        "        while left_smaller and arr[i] <= arr[left_smaller[-1]]:\n",
        "            left_smaller.pop()\n",
        "        left_smaller.append(i)\n",
        "\n",
        "    # Stack to store indices of nearest right smaller elements\n",
        "    right_smaller = []\n",
        "    right_smaller.append(n - 1)  # Rightmost element has no right smaller element, so we consider 0\n",
        "\n",
        "    # Populate right_smaller stack\n",
        "    for i in range(n - 2, -1, -1):\n",
        "        while right_smaller and arr[i] <= arr[right_smaller[-1]]:\n",
        "            right_smaller.pop()\n",
        "        right_smaller.append(i)\n",
        "\n",
        "    max_diff = 0\n",
        "\n",
        "    # Find maximum absolute difference between the nearest left and right smaller elements\n",
        "    for i in range(n):\n",
        "        left_diff = i - left_smaller[-1] if left_smaller else i\n",
        "        right_diff = right_smaller[-1] - i if right_smaller else n - 1 - i\n",
        "        max_diff = max(max_diff, abs(left_diff - right_diff))\n",
        "\n",
        "    return max_diff"
      ],
      "metadata": {
        "id": "JaVWh-OKjAgg"
      },
      "execution_count": null,
      "outputs": []
    },
    {
      "cell_type": "markdown",
      "source": [
        "### Test Cases"
      ],
      "metadata": {
        "id": "2BciJkFPFRDH"
      }
    },
    {
      "cell_type": "code",
      "source": [
        "# Test Case 1\n",
        "\n",
        "arr = list(map(int, input(\"Enter the array of integers: \").split()))\n",
        "max_difference = find_max_abs_difference(arr)\n",
        "print(\"Maximum absolute difference:\", max_difference)"
      ],
      "metadata": {
        "id": "L0t4CbPQFSjQ",
        "colab": {
          "base_uri": "https://localhost:8080/"
        },
        "outputId": "61d3eef7-2653-4d8f-c8f8-632cd18d4b4d"
      },
      "execution_count": null,
      "outputs": [
        {
          "output_type": "stream",
          "name": "stdout",
          "text": [
            "Enter the array of integers: 2 1 8\n",
            "Maximum absolute difference: 2\n"
          ]
        }
      ]
    },
    {
      "cell_type": "code",
      "source": [
        "# Test Case 2\n",
        "\n",
        "arr = list(map(int, input(\"Enter the array of integers: \").split()))\n",
        "max_difference = find_max_abs_difference(arr)\n",
        "print(\"Maximum absolute difference:\", max_difference)"
      ],
      "metadata": {
        "id": "BaGus8RYFSpK",
        "colab": {
          "base_uri": "https://localhost:8080/"
        },
        "outputId": "b3c85250-71c9-4157-aa53-5b340bbe1027"
      },
      "execution_count": null,
      "outputs": [
        {
          "output_type": "stream",
          "name": "stdout",
          "text": [
            "Enter the array of integers: 2 4 8 7 7 9 3\n",
            "Maximum absolute difference: 6\n"
          ]
        }
      ]
    },
    {
      "cell_type": "code",
      "source": [
        "# Test Case 3\n",
        "\n",
        "arr = list(map(int, input(\"Enter the array of integers: \").split()))\n",
        "max_difference = find_max_abs_difference(arr)\n",
        "print(\"Maximum absolute difference:\", max_difference)"
      ],
      "metadata": {
        "colab": {
          "base_uri": "https://localhost:8080/"
        },
        "id": "SKdTuHVubT8d",
        "outputId": "0a0fad0c-dc80-495d-c53f-b7bab82c2a9a"
      },
      "execution_count": null,
      "outputs": [
        {
          "output_type": "stream",
          "name": "stdout",
          "text": [
            "Enter the array of integers: 5 1 9 2 5 1 7\n",
            "Maximum absolute difference: 6\n"
          ]
        }
      ]
    },
    {
      "cell_type": "markdown",
      "source": [
        "### Conclusion\n",
        "\n",
        "**Time Complexity is O(n)**, where n is the length of the input array.\n",
        "\n",
        "**Space Complexity is O(n)**, as the size of the left_smaller and right_smaller stacks can be at most n."
      ],
      "metadata": {
        "id": "lxl_Nr0wFS-v"
      }
    }
  ]
}