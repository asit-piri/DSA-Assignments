{
  "nbformat": 4,
  "nbformat_minor": 0,
  "metadata": {
    "colab": {
      "provenance": []
    },
    "kernelspec": {
      "name": "python3",
      "display_name": "Python 3"
    },
    "language_info": {
      "name": "python"
    }
  },
  "cells": [
    {
      "cell_type": "markdown",
      "source": [
        "# Assignment 10 Questions - Recursion | DSA\n",
        "## Name: Asit Piri"
      ],
      "metadata": {
        "id": "US-VUXDNhCzy"
      }
    },
    {
      "cell_type": "markdown",
      "source": [
        "# Question 1\n",
        "\n",
        "💡 Given an integer `n`, return *`true` if it is a power of three. Otherwise, return `false`*.\n",
        "\n",
        "An integer `n` is a power of three, if there exists an integer `x` such that `n == 3x`.\n",
        "\n",
        "**Example 1:**\n",
        "\n",
        "Input: n = 27\n",
        "\n",
        "Output: true\n",
        "\n",
        "Explanation: 27 = 3^3\n",
        "\n",
        "**Example 2:**\n",
        "\n",
        "Input: n = 0\n",
        "\n",
        "Output: false\n",
        "\n",
        "Explanation: There is no x where 3x = 0.\n",
        "\n",
        "**Example 3:**\n",
        "\n",
        "Input: n = -1\n",
        "\n",
        "Output: false\n",
        "\n",
        "Explanation: There is no x where 3x = (-1)."
      ],
      "metadata": {
        "id": "KFNUnshahUHa"
      }
    },
    {
      "cell_type": "markdown",
      "source": [
        "## Solution\n",
        "\n",
        "To determine whether an integer is a power of three, we can use a simple approach. We continuously divide the given number by 3 until it becomes 1 or less than 1. If the final value is equal to 1, it means the original number was a power of three; otherwise, it is not.\n",
        "\n",
        "Here's the Python code that implements this approach:"
      ],
      "metadata": {
        "id": "9knDifdKmWVt"
      }
    },
    {
      "cell_type": "code",
      "execution_count": null,
      "metadata": {
        "id": "zOyDrsp8gIjk"
      },
      "outputs": [],
      "source": [
        "def is_power_of_three(n):\n",
        "    if n <= 0:\n",
        "        return False\n",
        "\n",
        "    while n > 1:\n",
        "        if n % 3 != 0:\n",
        "            return False\n",
        "        n //= 3\n",
        "\n",
        "    return True"
      ]
    },
    {
      "cell_type": "code",
      "source": [
        "# Test Case 1\n",
        "\n",
        "print(is_power_of_three(27))"
      ],
      "metadata": {
        "colab": {
          "base_uri": "https://localhost:8080/"
        },
        "id": "hpM73dm8Zdxn",
        "outputId": "eec6bf22-e90c-4d01-b28c-1b639de5e331"
      },
      "execution_count": null,
      "outputs": [
        {
          "output_type": "stream",
          "name": "stdout",
          "text": [
            "True\n"
          ]
        }
      ]
    },
    {
      "cell_type": "code",
      "source": [
        "# Test Case 2\n",
        "\n",
        "print(is_power_of_three(0))"
      ],
      "metadata": {
        "colab": {
          "base_uri": "https://localhost:8080/"
        },
        "id": "g1RpxmdPZd7N",
        "outputId": "35c96026-5d0c-4d71-9f06-1fd7506ec3f0"
      },
      "execution_count": null,
      "outputs": [
        {
          "output_type": "stream",
          "name": "stdout",
          "text": [
            "False\n"
          ]
        }
      ]
    },
    {
      "cell_type": "code",
      "source": [
        "# Test Case 3\n",
        "\n",
        "print(is_power_of_three(-1))"
      ],
      "metadata": {
        "colab": {
          "base_uri": "https://localhost:8080/"
        },
        "id": "xtpURsDDZvV8",
        "outputId": "055dc2af-42bf-43f0-b3d0-7b4410865585"
      },
      "execution_count": null,
      "outputs": [
        {
          "output_type": "stream",
          "name": "stdout",
          "text": [
            "False\n"
          ]
        }
      ]
    },
    {
      "cell_type": "markdown",
      "source": [
        "### Conclusion\n",
        "\n",
        "In this code, the is_power_of_three function takes an integer n as input. It first checks if n is less than or equal to 0. If so, it returns False since negative numbers and zero cannot be powers of three.\n",
        "\n",
        "Inside the while loop, it continuously divides n by 3 and checks if the remainder is 0. If the remainder is not 0 at any point, it means n is not divisible by 3 and therefore not a power of three.\n",
        "\n",
        "After the loop, if the final value of n is equal to 1, it returns True. Otherwise, it returns False.\n",
        "\n",
        "The **time complexity of this code is O(log(n))**, where n is the given number. This is because the loop continues until n becomes 1 or less, which requires dividing n by 3 for log(n) times.\n",
        "\n",
        "The **space complexity is O(1)** since the code uses a constant amount of additional space to store variables."
      ],
      "metadata": {
        "id": "EUuQCemdnUZH"
      }
    },
    {
      "cell_type": "markdown",
      "source": [
        "# Question 2\n",
        "\n",
        "💡 You have a list `arr` of all integers in the range `[1, n]` sorted in a strictly increasing order. Apply the following algorithm on `arr`:\n",
        "\n",
        "- Starting from left to right, remove the first number and every other number afterward until you reach the end of the list.\n",
        "- Repeat the previous step again, but this time from right to left, remove the rightmost number and every other number from the remaining numbers.\n",
        "- Keep repeating the steps again, alternating left to right and right to left, until a single number remains.\n",
        "\n",
        "Given the integer `n`, return *the last number that remains in* `arr`.\n",
        "\n",
        "**Example 1:**\n",
        "\n",
        "Input: n = 9\n",
        "\n",
        "Output: 6\n",
        "\n",
        "Explanation:\n",
        "\n",
        "arr = [1, 2,3, 4,5, 6,7, 8,9]\n",
        "arr = [2,4, 6,8]\n",
        "arr = [2, 6]\n",
        "arr = [6]\n",
        "\n",
        "**Example 2:**\n",
        "\n",
        "Input: n = 1\n",
        "\n",
        "Output: 1\n",
        "\n",
        "\n",
        "\n"
      ],
      "metadata": {
        "id": "ENwSXfY4iOxC"
      }
    },
    {
      "cell_type": "markdown",
      "source": [
        "## Solution\n",
        "\n"
      ],
      "metadata": {
        "id": "KYTcT4tvoSUZ"
      }
    },
    {
      "cell_type": "code",
      "source": [
        "def lastRemaining(n):\n",
        "    # Base case: if n is 1, the remaining number is 1\n",
        "    if n == 1:\n",
        "        return 1\n",
        "\n",
        "    # If n is even, the next step starts from the left, so we only need to consider the remaining numbers after removing every other number from the right\n",
        "    if n % 2 == 0:\n",
        "        return 2 * lastRemaining(n // 2)\n",
        "\n",
        "    # If n is odd, the next step starts from the left, so we need to consider the remaining numbers after removing every other number from the right,\n",
        "    # but with an additional shift by 1\n",
        "    return 2 * lastRemaining(n // 2) + 1"
      ],
      "metadata": {
        "id": "RdZ4U51upNoP"
      },
      "execution_count": null,
      "outputs": []
    },
    {
      "cell_type": "markdown",
      "source": [
        "### Test Cases"
      ],
      "metadata": {
        "id": "tgPHsgOMoVI5"
      }
    },
    {
      "cell_type": "code",
      "source": [
        "# Test Case 1\n",
        "print(lastRemaining(9)) "
      ],
      "metadata": {
        "colab": {
          "base_uri": "https://localhost:8080/"
        },
        "id": "VTVAdczVogP1",
        "outputId": "8f14d513-90b2-41ed-f5fb-55683904f135"
      },
      "execution_count": null,
      "outputs": [
        {
          "output_type": "stream",
          "name": "stdout",
          "text": [
            "9\n"
          ]
        }
      ]
    },
    {
      "cell_type": "code",
      "source": [
        "# Test Case 2\n",
        "print(lastRemaining(1))  # Output: 1"
      ],
      "metadata": {
        "colab": {
          "base_uri": "https://localhost:8080/"
        },
        "id": "e0vkGg1YoqEE",
        "outputId": "ee752a37-50a3-45e8-9277-0dfc8e56f1fe"
      },
      "execution_count": null,
      "outputs": [
        {
          "output_type": "stream",
          "name": "stdout",
          "text": [
            "1\n"
          ]
        }
      ]
    },
    {
      "cell_type": "markdown",
      "source": [
        "### Conclusion\n",
        "\n",
        "In this code, the lastRemaining function takes an integer n as input and returns the last remaining number in the list.\n",
        "\n",
        "The function uses a recursive approach. In each step, it checks whether n is even or odd. If n is even, it means the next step starts from the left, so we only need to consider the remaining numbers after removing every other number from the right. In this case, the function recursively calls itself with n // 2 as the new input.\n",
        "\n",
        "If n is odd, it means the next step starts from the left, but we also need to consider the remaining numbers after removing every other number from the right, with an additional shift by 1. In this case, the function recursively calls itself with n // 2 as the new input, and adds 1 to the result.\n",
        "\n",
        "The base case of the recursion is when n is 1, which means there is only one number left and it is the final result.\n",
        "\n",
        "The **time complexity of this code is O(log n)**, where n is the given input. This is because the function performs recursive calls with n // 2 in each step, and the recursion depth is proportional to the logarithm of n.\n",
        "\n",
        "The **space complexity is O(log n)** as well, due to the recursion stack."
      ],
      "metadata": {
        "id": "nEJb0gTCoblC"
      }
    },
    {
      "cell_type": "markdown",
      "source": [
        "# Question 3\n",
        "\n",
        "💡 Given a set represented as a string, write a recursive code to print all subsets of it. The subsets can be printed in any order.\n",
        "\n",
        "**Example 1:**\n",
        "\n",
        "Input :  set = “abc”\n",
        "\n",
        "Output : { “”, “a”, “b”, “c”, “ab”, “ac”, “bc”, “abc”}\n",
        "\n",
        "**Example 2:**\n",
        "\n",
        "Input : set = “abcd”\n",
        "\n",
        "Output : { “”, “a” ,”ab” ,”abc” ,”abcd”, “abd” ,”ac” ,”acd”, “ad” ,”b”, “bc” ,”bcd” ,”bd” ,”c” ,”cd” ,”d” }\n",
        "\n",
        "\n",
        "\n"
      ],
      "metadata": {
        "id": "Vr0TitTbipVA"
      }
    },
    {
      "cell_type": "markdown",
      "source": [
        "## Solution\n",
        "\n",
        "To print all subsets of a given set, we can use a recursive approach. \n",
        "\n",
        "Here's the Python code that implements this:"
      ],
      "metadata": {
        "id": "SBCFy5rFqbdE"
      }
    },
    {
      "cell_type": "code",
      "source": [
        "def printSubsets(s, current=\"\", index=0):\n",
        "    # Base case: when we reach the end of the string, print the current subset\n",
        "    if index == len(s):\n",
        "        print(current)\n",
        "        return\n",
        "\n",
        "    # Recursive case: for each character, we have two choices:\n",
        "    #   1. Include the character in the subset\n",
        "    #   2. Exclude the character from the subset\n",
        "    # We recursively call the function with the next index and the updated current subset\n",
        "\n",
        "    # Include the character in the subset and move to the next index\n",
        "    printSubsets(s, current + s[index], index + 1)\n",
        "\n",
        "    # Exclude the character from the subset and move to the next index\n",
        "    printSubsets(s, current, index + 1)"
      ],
      "metadata": {
        "id": "z3SQVoZki7DW"
      },
      "execution_count": null,
      "outputs": []
    },
    {
      "cell_type": "markdown",
      "source": [
        "### Test Cases"
      ],
      "metadata": {
        "id": "fceIhdRlqgPy"
      }
    },
    {
      "cell_type": "code",
      "source": [
        "# Test Case 1\n",
        "printSubsets(\"abc\")"
      ],
      "metadata": {
        "colab": {
          "base_uri": "https://localhost:8080/"
        },
        "id": "ToCEDW9Sq0lB",
        "outputId": "f40e5162-f322-4b0b-bc81-e4ced2e23212"
      },
      "execution_count": null,
      "outputs": [
        {
          "output_type": "stream",
          "name": "stdout",
          "text": [
            "abc\n",
            "ab\n",
            "ac\n",
            "a\n",
            "bc\n",
            "b\n",
            "c\n",
            "\n"
          ]
        }
      ]
    },
    {
      "cell_type": "code",
      "source": [
        "# Test Case 2\n",
        "\n",
        "printSubsets(\"abcd\")"
      ],
      "metadata": {
        "colab": {
          "base_uri": "https://localhost:8080/"
        },
        "id": "howg5--dq0v8",
        "outputId": "9e95bc34-7429-4ecc-ec4c-a8ade5bd95c6"
      },
      "execution_count": null,
      "outputs": [
        {
          "output_type": "stream",
          "name": "stdout",
          "text": [
            "abcd\n",
            "abc\n",
            "abd\n",
            "ab\n",
            "acd\n",
            "ac\n",
            "ad\n",
            "a\n",
            "bcd\n",
            "bc\n",
            "bd\n",
            "b\n",
            "cd\n",
            "c\n",
            "d\n",
            "\n"
          ]
        }
      ]
    },
    {
      "cell_type": "markdown",
      "source": [
        "### Conclusion\n",
        "\n",
        "In this code, the printSubsets function takes three parameters: the string s, the current subset current (initialized as an empty string), and the current index index (initialized as 0).\n",
        "\n",
        "The function uses a recursive approach to print all subsets. At each index, we have two choices: to include or exclude the character at that index. We recursively call the function with the next index and the updated current subset.\n",
        "\n",
        "The base case of the recursion is when we reach the end of the string (index == len(s)). In this case, we print the current subset.\n",
        "\n",
        "The **time complexity of this code is O(2^n)**, where n is the length of the input set. This is because for each character, we have two choices: to include or exclude it, resulting in a total of 2^n subsets.\n",
        "\n",
        "The **space complexity is O(n)** due to the recursion stack, where n is the length of the input set."
      ],
      "metadata": {
        "id": "v4YDD2TXqkyW"
      }
    },
    {
      "cell_type": "markdown",
      "source": [
        "# Question 4\n",
        "\n",
        "💡 Given a string calculate length of the string using recursion.\n",
        "\n",
        "**Examples:**\n",
        "\n",
        "Input : str = \"abcd\"\n",
        "\n",
        "Output :4\n",
        "\n",
        "Input : str = \"GEEKSFORGEEKS\"\n",
        "\n",
        "Output :13"
      ],
      "metadata": {
        "id": "4AX8quygixk_"
      }
    },
    {
      "cell_type": "markdown",
      "source": [
        "## Solution\n",
        "\n",
        "To calculate the length of a string using recursion, we can define a recursive function that counts the characters until the end of the string is reached. Here's the Python code that implements this:"
      ],
      "metadata": {
        "id": "8L3j6CVerikE"
      }
    },
    {
      "cell_type": "code",
      "source": [
        "def stringLength(string):\n",
        "    # Base case: if the string is empty, return 0\n",
        "    if string == \"\":\n",
        "        return 0\n",
        "\n",
        "    # Recursive case: return 1 plus the length of the string without the first character\n",
        "    return 1 + stringLength(string[1:])"
      ],
      "metadata": {
        "id": "abGaR9d6i77P"
      },
      "execution_count": null,
      "outputs": []
    },
    {
      "cell_type": "markdown",
      "source": [
        "### Test Cases"
      ],
      "metadata": {
        "id": "SPgr1eoTsBC5"
      }
    },
    {
      "cell_type": "code",
      "source": [
        "# Test Case 1\n",
        "str = \"abcd\"\n",
        "print(stringLength(str))"
      ],
      "metadata": {
        "colab": {
          "base_uri": "https://localhost:8080/"
        },
        "id": "CaZyC4vMau14",
        "outputId": "08751706-8edf-4dcd-b922-931940c15902"
      },
      "execution_count": null,
      "outputs": [
        {
          "output_type": "stream",
          "name": "stdout",
          "text": [
            "4\n"
          ]
        }
      ]
    },
    {
      "cell_type": "code",
      "source": [
        "# Test Case 2\n",
        "str = \"GEEKSFORGEEKS\"\n",
        "print(stringLength(str))"
      ],
      "metadata": {
        "colab": {
          "base_uri": "https://localhost:8080/"
        },
        "id": "bO_tUFp0avAk",
        "outputId": "3e5e9f7e-4ba5-4423-a925-af5674f5f184"
      },
      "execution_count": null,
      "outputs": [
        {
          "output_type": "stream",
          "name": "stdout",
          "text": [
            "13\n"
          ]
        }
      ]
    },
    {
      "cell_type": "markdown",
      "source": [
        "### Conclusion\n",
        "\n",
        "In this code, the stringLength function takes a string as an input.\n",
        "\n",
        "The base case of the recursion is when the string is empty. In this case, we return 0.\n",
        "\n",
        "The recursive case is when the string is not empty. We return 1 plus the length of the string without the first character. This is done by recursively calling the stringLength function with the string sliced from the second character onward (string[1:]).\n",
        "\n",
        "The recursion continues until the base case is reached, and the function returns the final length of the string.\n",
        "\n",
        "The **time complexity of this code is O(n)**, where n is the length of the string. This is because we make a recursive call for each character in the string, resulting in n recursive calls.\n",
        "\n",
        "The **space complexity is O(n)** due to the recursion stack, where n is the length of the string."
      ],
      "metadata": {
        "id": "wQnl1jYQsDy3"
      }
    },
    {
      "cell_type": "markdown",
      "source": [
        "# Question 5\n",
        "\n",
        "💡 We are given a string S, we need to find count of all contiguous substrings starting and ending with same character.\n",
        "\n",
        "**Examples :**\n",
        "\n",
        "Input  : S = \"abcab\"\n",
        "\n",
        "Output : 7\n",
        "\n",
        "There are 15 substrings of \"abcab\"\n",
        "a, ab, abc, abca, abcab, b, bc, bca\n",
        "bcab, c, ca, cab, a, ab, b\n",
        "Out of the above substrings, there\n",
        "are 7 substrings : a, abca, b, bcab,\n",
        "c, a and b.\n",
        "\n",
        "Input  : S = \"aba\"\n",
        "\n",
        "Output : 4\n",
        "\n",
        "The substrings are a, b, a and aba\n"
      ],
      "metadata": {
        "id": "IC7N3xsIizmQ"
      }
    },
    {
      "cell_type": "markdown",
      "source": [
        "## Solution\n",
        "\n",
        "To find the count of all contiguous substrings starting and ending with the same character, we can use the following approach:\n",
        "\n",
        "1. Initialize a variable count to keep track of the count of valid substrings.\n",
        "\n",
        "2. Iterate over each character in the string S.\n",
        "\n",
        "3. For each character, consider it as the starting character of a substring.\n",
        "\n",
        "4. Increment the count by 1 for the current character.\n",
        "\n",
        "5. Check if the next character is the same as the starting character. If it is, increment the count by 1 for the substring formed by the starting character and the next character.\n",
        "\n",
        "6. Repeat step 5 until we reach the end of the string or the next character is different from the starting character.\n",
        "\n",
        "7. Return the final count as the result.\n",
        "\n",
        "Here's the Python code that implements this algorithm:"
      ],
      "metadata": {
        "id": "SfrObUkBsi1z"
      }
    },
    {
      "cell_type": "code",
      "source": [
        "def countSubstrings(S):\n",
        "    count = 0\n",
        "    n = len(S)\n",
        "\n",
        "    for i in range(n):\n",
        "        count += 1  # Single character substring\n",
        "        j = i + 1\n",
        "\n",
        "        while j < n and S[j] == S[i]:\n",
        "            count += 1\n",
        "            j += 1\n",
        "\n",
        "    return count"
      ],
      "metadata": {
        "id": "BNFSXAMAtioP"
      },
      "execution_count": null,
      "outputs": []
    },
    {
      "cell_type": "markdown",
      "source": [
        "### Test Cases"
      ],
      "metadata": {
        "id": "90wDhsFwsl93"
      }
    },
    {
      "cell_type": "code",
      "source": [
        "# Test Case 1\n",
        "\n",
        "print(countSubstrings(\"abcab\")) "
      ],
      "metadata": {
        "colab": {
          "base_uri": "https://localhost:8080/"
        },
        "id": "BV-M7f3uspY0",
        "outputId": "9671eb8b-67f3-47ad-99b8-fc3d2d8d50d1"
      },
      "execution_count": null,
      "outputs": [
        {
          "output_type": "stream",
          "name": "stdout",
          "text": [
            "5\n"
          ]
        }
      ]
    },
    {
      "cell_type": "code",
      "source": [
        "# Test Case 2\n",
        "\n",
        "print(countSubstrings(\"aba\")) "
      ],
      "metadata": {
        "colab": {
          "base_uri": "https://localhost:8080/"
        },
        "id": "wuUeqwxPs8Je",
        "outputId": "13c10b55-60ac-4148-8fa5-a950df4067e9"
      },
      "execution_count": null,
      "outputs": [
        {
          "output_type": "stream",
          "name": "stdout",
          "text": [
            "3\n"
          ]
        }
      ]
    },
    {
      "cell_type": "markdown",
      "source": [
        "### Conclusion\n",
        "\n",
        "In this code, the countSubstrings function takes a string S as input.\n",
        "\n",
        "We iterate over each character in S using the index i. For each character, we increment the count by 1 to account for the single character substring.\n",
        "\n",
        "Then, we initialize j as i + 1 and check if the character at index j is the same as the starting character at index i. If it is, we increment the count by 1 for the substring formed by the starting character and the next character. We repeat this step until we reach the end of the string or the next character is different from the starting character.\n",
        "\n",
        "Finally, we return the final count as the result.\n",
        "\n",
        "The **time complexity of this code is O(n)**, where n is the length of the string S. This is because we iterate over each character in the string exactly once.\n",
        "\n",
        "The **space complexity is O(1)** since we only use a constant amount of extra space to store the count and the loop variables."
      ],
      "metadata": {
        "id": "sEiKVskkspt-"
      }
    },
    {
      "cell_type": "markdown",
      "source": [
        "# Question 6\n",
        "\n",
        "💡 The [tower of Hanoi](https://en.wikipedia.org/wiki/Tower_of_Hanoi) is a famous puzzle where we have three rods and **N** disks. The objective of the puzzle is to move the entire stack to another rod. You are given the number of discs **N**. Initially, these discs are in the rod 1. You need to print all the steps of discs movement so that all the discs reach the 3rd rod. Also, you need to find the total moves.**Note:** The discs are arranged such that the **top disc is numbered 1** and the **bottom-most disc is numbered N**. Also, all the discs have **different sizes** and a bigger disc **cannot** be put on the top of a smaller disc. Refer the provided link to get a better clarity about the puzzle.\n",
        "\n",
        "**Example 1:**\n",
        "\n",
        "Input:\n",
        "N = 2\n",
        "\n",
        "Output:\n",
        "move disk 1 from rod 1 to rod 2\n",
        "move disk 2 from rod 1 to rod 3\n",
        "move disk 1 from rod 2 to rod 3\n",
        "3\n",
        "Explanation:For N=2 , steps will be\n",
        "as follows in the example and total\n",
        "3 steps will be taken.\n",
        "\n",
        "Example 2:\n",
        "\n",
        "Input:\n",
        "N = 3\n",
        "Output:\n",
        "move disk 1 from rod 1 to rod 3\n",
        "move disk 2 from rod 1 to rod 2\n",
        "move disk 1 from rod 3 to rod 2\n",
        "move disk 3 from rod 1 to rod 3\n",
        "move disk 1 from rod 2 to rod 1\n",
        "move disk 2 from rod 2 to rod 3\n",
        "move disk 1 from rod 1 to rod 3\n",
        "7\n",
        "Explanation:For N=3 , steps will be\n",
        "as follows in the example and total\n",
        "7 steps will be taken.\n"
      ],
      "metadata": {
        "id": "DTFWlz2ci1VH"
      }
    },
    {
      "cell_type": "markdown",
      "source": [
        "## Solution\n",
        "\n",
        "The Tower of Hanoi problem can be solved using a recursive approach. The basic idea is to recursively move the top (N-1) disks from the source rod to an auxiliary rod, then move the Nth disk from the source rod to the destination rod, and finally move the (N-1) disks from the auxiliary rod to the destination rod.\n",
        "\n",
        "Here's the Python code to solve the Tower of Hanoi problem and print the steps:"
      ],
      "metadata": {
        "id": "YwbNG7t3ulS3"
      }
    },
    {
      "cell_type": "code",
      "source": [
        "def towerOfHanoi(n, source, destination, auxiliary):\n",
        "    if n == 1:\n",
        "        print(\"move disk 1 from rod\", source, \"to rod\", destination)\n",
        "        return 1\n",
        "\n",
        "    moves = 0\n",
        "\n",
        "    moves += towerOfHanoi(n - 1, source, auxiliary, destination)\n",
        "    print(\"move disk\", n, \"from rod\", source, \"to rod\", destination)\n",
        "    moves += 1\n",
        "    moves += towerOfHanoi(n - 1, auxiliary, destination, source)\n",
        "\n",
        "    return moves"
      ],
      "metadata": {
        "id": "gqKG--dVviq8"
      },
      "execution_count": null,
      "outputs": []
    },
    {
      "cell_type": "markdown",
      "source": [
        "### Test Cases"
      ],
      "metadata": {
        "id": "nrh6-rz8ung4"
      }
    },
    {
      "cell_type": "code",
      "source": [
        "# Test Case 1\n",
        "\n",
        "N = 2\n",
        "total_moves = towerOfHanoi(N, 1, 3, 2)\n",
        "print(\"Total moves:\", total_moves)"
      ],
      "metadata": {
        "colab": {
          "base_uri": "https://localhost:8080/"
        },
        "id": "EFrCuLMHu5_4",
        "outputId": "f02a8413-7a40-4c64-b8c7-3fb04e793987"
      },
      "execution_count": null,
      "outputs": [
        {
          "output_type": "stream",
          "name": "stdout",
          "text": [
            "move disk 1 from rod 1 to rod 2\n",
            "move disk 2 from rod 1 to rod 3\n",
            "move disk 1 from rod 2 to rod 3\n",
            "Total moves: 3\n"
          ]
        }
      ]
    },
    {
      "cell_type": "markdown",
      "source": [
        "### Conclusion\n",
        "\n",
        "In this code, the towerOfHanoi function takes four parameters: n (the number of discs), source (the source rod), destination (the destination rod), and auxiliary (the auxiliary rod).\n",
        "\n",
        "If n is equal to 1, it means we have only one disc to move. In this case, we print the step to move the disc from the source rod to the destination rod and return 1.\n",
        "\n",
        "Otherwise, we recursively perform the following steps:\n",
        "\n",
        "Move (N-1) discs from the source rod to the auxiliary rod using the destination rod as the auxiliary rod.\n",
        "Print the step to move the Nth disk from the source rod to the destination rod.\n",
        "Move (N-1) discs from the auxiliary rod to the destination rod using the source rod as the auxiliary rod.\n",
        "The function returns the total number of moves performed.\n",
        "\n",
        "The **time complexity of this code is O(2^N)**, where N is the number of discs. This is because the number of moves required doubles for each additional disc. The **space complexity is O(N)** due to the recursive calls on the call stack."
      ],
      "metadata": {
        "id": "LUCsoaPeup9q"
      }
    },
    {
      "cell_type": "markdown",
      "source": [
        "# Question 7\n",
        "\n",
        "💡 Given a string **str**, the task is to print all the permutations of **str**. A **permutation** is an arrangement of all or part of a set of objects, with regard to the order of the arrangement. For instance, the words ‘bat’ and ‘tab’ represents two distinct permutation (or arrangements) of a similar three letter word.\n",
        "\n",
        "**Examples:**\n",
        "\n",
        "Input: str = “cd”\n",
        "\n",
        "**Output:** cd dc\n",
        "\n",
        "**Input:** str = “abb”\n",
        "\n",
        "**Output:** abb abb bab bba bab bba"
      ],
      "metadata": {
        "id": "REK6eFETi2th"
      }
    },
    {
      "cell_type": "markdown",
      "source": [
        "## Solution\n",
        "\n",
        "To print all the permutations of a given string, you can use a recursive approach. Here's a Python code to solve this problem:"
      ],
      "metadata": {
        "id": "rVt5VaCiwUEw"
      }
    },
    {
      "cell_type": "code",
      "source": [
        "def permute(s, l, r):\n",
        "    if l == r:\n",
        "        print(''.join(s))\n",
        "    else:\n",
        "        for i in range(l, r + 1):\n",
        "            s[l], s[i] = s[i], s[l]  # Swap characters\n",
        "            permute(s, l + 1, r)  # Recursive call\n",
        "            s[l], s[i] = s[i], s[l]  # Revert the swap"
      ],
      "metadata": {
        "id": "1dAJ9IizfZ6c"
      },
      "execution_count": null,
      "outputs": []
    },
    {
      "cell_type": "markdown",
      "source": [
        "### Test Cases"
      ],
      "metadata": {
        "id": "6JjQxyYZwXMf"
      }
    },
    {
      "cell_type": "code",
      "source": [
        "# Test Case 1\n",
        "\n",
        "str = \"cd\"\n",
        "n = len(str)\n",
        "permute(list(str), 0, n - 1)"
      ],
      "metadata": {
        "colab": {
          "base_uri": "https://localhost:8080/"
        },
        "id": "xbUQTpyewi5v",
        "outputId": "268915c1-8b6b-4e2e-cf00-88071c3f68ee"
      },
      "execution_count": null,
      "outputs": [
        {
          "output_type": "stream",
          "name": "stdout",
          "text": [
            "cd\n",
            "dc\n"
          ]
        }
      ]
    },
    {
      "cell_type": "markdown",
      "source": [
        "### Conclusion\n",
        "\n",
        "In this code, the permute function takes four parameters: s (the string to permute), l (the left index of the string), and r (the right index of the string).\n",
        "\n",
        "If l is equal to r, it means we have reached the last character of the string. In this case, we print the current permutation by joining the characters of the string.\n",
        "\n",
        "Otherwise, we iterate over the range from l to r (inclusive) and perform the following steps:\n",
        "\n",
        "Swap the character at index l with each character in the range l to r.\n",
        "Recursively call the permute function with the updated string and the next index l + 1.\n",
        "Revert the swap to backtrack and explore other permutations.\n",
        "By permuting the characters of the string recursively, we can generate all possible permutations. The **time complexity of this code is O(N!)**, where N is the length of the input string. This is because there are N! possible permutations for a string of length N."
      ],
      "metadata": {
        "id": "GgtjDbgtwaxd"
      }
    },
    {
      "cell_type": "markdown",
      "source": [
        "# Question 8\n",
        "\n",
        "💡 Given a string, count total number of consonants in it. A consonant is an English alphabet character that is not vowel (a, e, i, o and u). Examples of constants are b, c, d, f, and g.\n",
        "\n",
        "**Examples :**\n",
        "\n",
        "Input : abc de\n",
        "\n",
        "Output : 3\n",
        "\n",
        "There are three consonants b, c and d.\n",
        "\n",
        "Input : geeksforgeeks portal\n",
        "\n",
        "Output : 12"
      ],
      "metadata": {
        "id": "B8_UhTKLi3-V"
      }
    },
    {
      "cell_type": "markdown",
      "source": [
        "## Solution\n",
        "\n",
        "To count the total number of consonants in a string, you can iterate through each character of the string and check if it is a consonant. Here's a Python code to solve this problem:"
      ],
      "metadata": {
        "id": "bQ0XSwNOxBKf"
      }
    },
    {
      "cell_type": "code",
      "source": [
        "def count_consonants(string):\n",
        "    consonants = \"bcdfghjklmnpqrstvwxyzBCDFGHJKLMNPQRSTVWXYZ\"\n",
        "    count = 0\n",
        "    for char in string:\n",
        "        if char in consonants:\n",
        "            count += 1\n",
        "    return count"
      ],
      "metadata": {
        "id": "RRiZDNOkxEmM"
      },
      "execution_count": null,
      "outputs": []
    },
    {
      "cell_type": "markdown",
      "source": [
        "### Test Cases"
      ],
      "metadata": {
        "id": "Ax_krelVxJjT"
      }
    },
    {
      "cell_type": "code",
      "source": [
        "# Test Case 1\n",
        "\n",
        "string = \"abc de\"\n",
        "print(count_consonants(string))"
      ],
      "metadata": {
        "colab": {
          "base_uri": "https://localhost:8080/"
        },
        "id": "rZg2tvTzxMLJ",
        "outputId": "fdaba8b3-503a-4308-e1e8-3523373f38b3"
      },
      "execution_count": null,
      "outputs": [
        {
          "output_type": "stream",
          "name": "stdout",
          "text": [
            "3\n"
          ]
        }
      ]
    },
    {
      "cell_type": "code",
      "source": [
        "# Test Case 2\n",
        "\n",
        "string = \"geeksforgeeks portal\"\n",
        "print(count_consonants(string)) "
      ],
      "metadata": {
        "colab": {
          "base_uri": "https://localhost:8080/"
        },
        "id": "DMGkTx3GxMPT",
        "outputId": "706dd379-92a0-42d4-a954-95d9f2af16e0"
      },
      "execution_count": null,
      "outputs": [
        {
          "output_type": "stream",
          "name": "stdout",
          "text": [
            "12\n"
          ]
        }
      ]
    },
    {
      "cell_type": "markdown",
      "source": [
        "### Conclusion\n",
        "\n",
        "In this code, the count_consonants function takes a string as input. It initializes a variable count to 0, which will store the count of consonants.\n",
        "\n",
        "The function then iterates through each character in the string. It checks if the character is present in the string consonants, which contains all the consonant characters (both lowercase and uppercase). If the character is found in the consonants string, the count is incremented by 1.\n",
        "\n",
        "Finally, the function returns the count which represents the total number of consonants in the string.\n",
        "\n",
        "The **time complexity of this code is O(n)**, where n is the length of the input string. This is because we iterate through each character of the string once."
      ],
      "metadata": {
        "id": "wzMFL7bqxd8Y"
      }
    }
  ]
}