{
  "nbformat": 4,
  "nbformat_minor": 0,
  "metadata": {
    "colab": {
      "provenance": []
    },
    "kernelspec": {
      "name": "python3",
      "display_name": "Python 3"
    },
    "language_info": {
      "name": "python"
    }
  },
  "cells": [
    {
      "cell_type": "markdown",
      "source": [
        "# **Mock Test 3**\n"
      ],
      "metadata": {
        "id": "2-3dexyGLmQy"
      }
    },
    {
      "cell_type": "markdown",
      "source": [
        "# **Question 1**\n",
        "\n",
        "Implement a stack using a list in Python. Include the necessary methods such as push, pop, and isEmpty."
      ],
      "metadata": {
        "id": "w_PS2T_fL8vS"
      }
    },
    {
      "cell_type": "markdown",
      "source": [
        "## **Solution**\n",
        "\n",
        "In this implementation:\n",
        "\n",
        "1. The __init__ method initializes an empty list to store the elements of the stack.\n",
        "\n",
        "2. The push method adds an item to the top of the stack by appending it to the list.\n",
        "\n",
        "3. The pop method removes and returns the item from the top of the stack. It raises an exception if the stack is empty.\n",
        "\n",
        "4. The isEmpty method checks whether the stack is empty by comparing the length of the list to zero.\n",
        "\n",
        "Here's an implementation of a stack using a list in Python:"
      ],
      "metadata": {
        "id": "BzefqD1CMSga"
      }
    },
    {
      "cell_type": "code",
      "source": [
        "class Stack:\n",
        "    def __init__(self):\n",
        "        self.stack = []\n",
        "\n",
        "    def push(self, item):\n",
        "        self.stack.append(item)\n",
        "\n",
        "    def pop(self):\n",
        "        if self.isEmpty():\n",
        "            raise Exception(\"Stack is empty\")\n",
        "        return self.stack.pop()\n",
        "\n",
        "    def isEmpty(self):\n",
        "        return len(self.stack) == 0"
      ],
      "metadata": {
        "id": "-Q4xbviFMF90"
      },
      "execution_count": 2,
      "outputs": []
    },
    {
      "cell_type": "markdown",
      "source": [
        "### **Test Cases**"
      ],
      "metadata": {
        "id": "lJEOBY6VMZEt"
      }
    },
    {
      "cell_type": "code",
      "source": [
        "stack = Stack()\n",
        "stack.push(1)\n",
        "stack.push(2)\n",
        "stack.push(3)\n",
        "\n",
        "\n",
        "print(stack.pop())  # Output: 3\n",
        "print(stack.isEmpty())  # Output: False\n",
        "print(stack.pop())  # Output: 2\n",
        "print(stack.pop())  # Output: 1\n",
        "print(stack.isEmpty())  # Output: True\n"
      ],
      "metadata": {
        "colab": {
          "base_uri": "https://localhost:8080/"
        },
        "id": "Hnou-FO3Me9Q",
        "outputId": "02502ecb-55bd-42a0-d9b8-a3faa75f4f1b"
      },
      "execution_count": 11,
      "outputs": [
        {
          "output_type": "stream",
          "name": "stdout",
          "text": [
            "3\n",
            "False\n",
            "2\n",
            "1\n",
            "True\n"
          ]
        }
      ]
    },
    {
      "cell_type": "markdown",
      "source": [
        "### **Conclusion**\n",
        "\n",
        "**Time Complexity:** The push and pop operations have a time complexity of O(1) since they directly operate on the end of the list.\n",
        "\n",
        "**Space Complexity:** The space complexity is O(n), where n is the number of elements in the stack. The list stores all the elements of the stack."
      ],
      "metadata": {
        "id": "gAA3-4SoMfYp"
      }
    },
    {
      "cell_type": "markdown",
      "source": [
        "# **Question 2**\n",
        "\n",
        "Implement a queue using a list in Python. Include the necessary methods such as enqueue, dequeue, and isEmpty."
      ],
      "metadata": {
        "id": "cJgUaFd1MGXV"
      }
    },
    {
      "cell_type": "markdown",
      "source": [
        "## **Solution**\n",
        "\n",
        "In this implementation:\n",
        "\n",
        "1. The __init__ method initializes an empty list to store the elements of the queue.\n",
        "\n",
        "2. The enqueue method adds an item to the rear of the queue by appending it to the list.\n",
        "\n",
        "3. The dequeue method removes and returns the item from the front of the queue. It raises an exception if the queue is empty.\n",
        "\n",
        "4. The isEmpty method checks whether the queue is empty by comparing the length of the list to zero.\n",
        "\n",
        "Here's an implementation of a queue using a list in Python:"
      ],
      "metadata": {
        "id": "ustWgGeaMkmC"
      }
    },
    {
      "cell_type": "code",
      "source": [
        "class Queue:\n",
        "    def __init__(self):\n",
        "        self.queue = []\n",
        "\n",
        "    def enqueue(self, item):\n",
        "        self.queue.append(item)\n",
        "\n",
        "    def dequeue(self):\n",
        "        if self.isEmpty():\n",
        "            raise Exception(\"Queue is empty\")\n",
        "        return self.queue.pop(0)\n",
        "\n",
        "    def isEmpty(self):\n",
        "        return len(self.queue) == 0"
      ],
      "metadata": {
        "id": "zNefQcCxMpHU"
      },
      "execution_count": 12,
      "outputs": []
    },
    {
      "cell_type": "markdown",
      "source": [
        "### **Test Cases**"
      ],
      "metadata": {
        "id": "U3swBbTlMpbe"
      }
    },
    {
      "cell_type": "code",
      "source": [
        "queue = Queue()\n",
        "queue.enqueue(1)\n",
        "queue.enqueue(2)\n",
        "queue.enqueue(3)\n",
        "\n",
        "print(queue.dequeue())  # Output: 1\n",
        "print(queue.isEmpty())  # Output: False\n",
        "print(queue.dequeue())  # Output: 2\n",
        "print(queue.dequeue())  # Output: 3\n",
        "print(queue.isEmpty())  # Output: True"
      ],
      "metadata": {
        "colab": {
          "base_uri": "https://localhost:8080/"
        },
        "id": "wXE598EDMv0b",
        "outputId": "4bf7c831-e0a9-4c5b-b17f-fe08318af8fa"
      },
      "execution_count": 13,
      "outputs": [
        {
          "output_type": "stream",
          "name": "stdout",
          "text": [
            "1\n",
            "False\n",
            "2\n",
            "3\n",
            "True\n"
          ]
        }
      ]
    },
    {
      "cell_type": "markdown",
      "source": [
        "### **Conclusion**\n",
        "\n",
        "**Time Complexity:**\n",
        "\n",
        "1. The enqueue operation has a time complexity of O(1) since it directly appends the item to the end of the list.\n",
        "\n",
        "2. The dequeue operation has a time complexity of O(n) since it needs to remove an element from the front of the list, which requires shifting all other elements.\n",
        "\n",
        "**Space Complexity:**\n",
        "\n",
        "1. The space complexity is O(n), where n is the number of elements in the queue. The list stores all the elements of the queue."
      ],
      "metadata": {
        "id": "VLAXN6y5MwKW"
      }
    },
    {
      "cell_type": "markdown",
      "source": [
        "\n",
        "# **Mock Test 2**\n",
        "\n"
      ],
      "metadata": {
        "id": "sBeV22BgLSRa"
      }
    },
    {
      "cell_type": "markdown",
      "source": [
        "# **Question 1**\n",
        "\n",
        "Given a non-negative integer x, return the square root of x rounded down to the nearest integer. The returned integer should be non-negative as well. You must not use any built-in exponent function or operator.\n",
        "\n",
        "**Example 1:**\n",
        "\n",
        "Input: x = 4\n",
        "\n",
        "Output: 2\n",
        "\n",
        "Explanation: The square root of 4 is 2, so we return 2.\n",
        "\n",
        "**Example 2:**\n",
        "\n",
        "Input: x = 8\n",
        "\n",
        "Output: 2\n",
        "\n",
        "Explanation: The square root of 8 is 2.82842..., and since we round it down to the nearest integer, 2 is returned.\n",
        "\n",
        "**Constraints: 0 <= x <= 2^31 - 1**\n",
        "\n",
        "Note: Create a GitHub file for the solution and add the file link the the answer section below."
      ],
      "metadata": {
        "id": "P4OYjhEPKH1S"
      }
    },
    {
      "cell_type": "markdown",
      "source": [
        "## **Solution**\n",
        "\n",
        "To calculate the square root of a non-negative integer x and round it down to the nearest integer, we can use the binary search algorithm. We search for the integer value whose square is less than or equal to x.\n",
        "\n",
        "Here's the Python code that implements this approach:"
      ],
      "metadata": {
        "id": "Z44aWaLA_M5I"
      }
    },
    {
      "cell_type": "code",
      "execution_count": null,
      "metadata": {
        "id": "RynVI9wDKChd"
      },
      "outputs": [],
      "source": [
        "def mySqrt(x):\n",
        "    if x == 0:\n",
        "        return 0\n",
        "\n",
        "    left, right = 1, x\n",
        "\n",
        "    while left <= right:\n",
        "        mid = left + (right - left) // 2\n",
        "        if mid * mid > x:\n",
        "            right = mid - 1\n",
        "        else:\n",
        "            left = mid + 1\n",
        "\n",
        "    return right"
      ]
    },
    {
      "cell_type": "markdown",
      "source": [
        "### **Test Cases**"
      ],
      "metadata": {
        "id": "VtXppTlm_RM-"
      }
    },
    {
      "cell_type": "code",
      "source": [
        "# Test case 1:\n",
        "mySqrt(4)"
      ],
      "metadata": {
        "colab": {
          "base_uri": "https://localhost:8080/"
        },
        "id": "asq5_oNbNXKJ",
        "outputId": "0e18e6d1-1b72-4274-deaf-8c102efe91c9"
      },
      "execution_count": null,
      "outputs": [
        {
          "output_type": "execute_result",
          "data": {
            "text/plain": [
              "2"
            ]
          },
          "metadata": {},
          "execution_count": 6
        }
      ]
    },
    {
      "cell_type": "code",
      "source": [
        "# Test Case 2:\n",
        "mySqrt(5)"
      ],
      "metadata": {
        "colab": {
          "base_uri": "https://localhost:8080/"
        },
        "id": "_sFkNk5ySxSB",
        "outputId": "ad9b2b02-0fea-489b-b44a-0ebf018d67d6"
      },
      "execution_count": null,
      "outputs": [
        {
          "output_type": "execute_result",
          "data": {
            "text/plain": [
              "2"
            ]
          },
          "metadata": {},
          "execution_count": 7
        }
      ]
    },
    {
      "cell_type": "code",
      "source": [
        "# Test Case 3:\n",
        "mySqrt(8)"
      ],
      "metadata": {
        "colab": {
          "base_uri": "https://localhost:8080/"
        },
        "id": "ySaeZcAZS_1r",
        "outputId": "898bf392-4b68-429c-9573-cdce6c23e5f2"
      },
      "execution_count": null,
      "outputs": [
        {
          "output_type": "execute_result",
          "data": {
            "text/plain": [
              "2"
            ]
          },
          "metadata": {},
          "execution_count": 8
        }
      ]
    },
    {
      "cell_type": "code",
      "source": [
        "# Test Case 4:\n",
        "mySqrt(16)"
      ],
      "metadata": {
        "colab": {
          "base_uri": "https://localhost:8080/"
        },
        "id": "ds73H4dqDl2r",
        "outputId": "74120dde-9423-47f8-c6e5-4755f1441ae2"
      },
      "execution_count": null,
      "outputs": [
        {
          "output_type": "execute_result",
          "data": {
            "text/plain": [
              "4"
            ]
          },
          "metadata": {},
          "execution_count": 9
        }
      ]
    },
    {
      "cell_type": "markdown",
      "source": [
        "### **Conclusion**\n",
        "\n",
        "The **time complexity of this solution is O(log(x))**, where x is the input number. We perform a binary search on the range from 1 to x.\n",
        "\n",
        "The **space complexity is O(1)** since we only use a constant amount of additional space."
      ],
      "metadata": {
        "id": "yqiPwgFS_Ur3"
      }
    },
    {
      "cell_type": "markdown",
      "source": [
        "# **Question 2**\n",
        "\n",
        "You are given two non-empty linked lists representing two non-negative integers. The digits are stored in reverse order, and each of their nodes contains a single digit. Add the two numbers and return the sum as a linked list.\n",
        "\n",
        "You may assume the two numbers do not contain any leading zero, except the number 0 itself.\n",
        "\n",
        "\n",
        "**Example 1:**\n",
        "\n",
        "Input: l1 = [2,4,3], l2 = [5,6,4]\n",
        "\n",
        "Output: [7,0,8]\n",
        "\n",
        "Explanation: 342 + 465 = 807.\n",
        "\n",
        "**Example 2:**\n",
        "\n",
        "Input: l1 = [0], l2 = [0]\n",
        "\n",
        "Output: [0]\n",
        "\n",
        "**Example 3:**\n",
        "\n",
        "Input: l1 = [9,9,9,9,9,9,9], l2 = [9,9,9,9]\n",
        "\n",
        "Output: [8,9,9,9,0,0,0,1]\n",
        "\n",
        "**Constraints:**\n",
        "\n",
        "The number of nodes in each linked list is in the range [1, 100].\n",
        "0 <= Node.val <= 9 It is guaranteed that the list represents a number that does not have leading zeros.\n",
        "\n",
        "Note: Create a GitHub file for the solution and add the file link the the answer section below."
      ],
      "metadata": {
        "id": "3icoN1gxKsua"
      }
    },
    {
      "cell_type": "markdown",
      "source": [
        "## **Solution**\n",
        "\n",
        "To solve the problem, you can create a new linked list to store the sum of the two input lists. We'll iterate through the input lists simultaneously, adding the corresponding digits along with any carry from the previous addition.\n",
        "\n",
        "Here's the Python code to implement the solution:"
      ],
      "metadata": {
        "id": "vbK3dWVV_8uT"
      }
    },
    {
      "cell_type": "code",
      "source": [
        "class ListNode:\n",
        "    def __init__(self, val=0, next=None):\n",
        "        self.val = val\n",
        "        self.next = next\n",
        "\n",
        "def addTwoNumbers(l1, l2):\n",
        "    dummy = ListNode()  # Create a dummy node to simplify the code\n",
        "    curr = dummy  # Initialize a pointer to the current node\n",
        "    carry = 0  # Initialize the carry to 0\n",
        "\n",
        "    while l1 or l2 or carry:\n",
        "        val1 = l1.val if l1 else 0  # Get the value of the current node in l1 or 0 if l1 is None\n",
        "        val2 = l2.val if l2 else 0  # Get the value of the current node in l2 or 0 if l2 is None\n",
        "\n",
        "        carry, digit = divmod(val1 + val2 + carry, 10)  # Compute the carry and the digit\n",
        "\n",
        "        curr.next = ListNode(digit)  # Create a new node with the digit and assign it as the next node\n",
        "        curr = curr.next  # Move the current pointer to the next node\n",
        "\n",
        "        if l1:\n",
        "            l1 = l1.next  # Move to the next node in l1 if it exists\n",
        "        if l2:\n",
        "            l2 = l2.next  # Move to the next node in l2 if it exists\n",
        "\n",
        "    return dummy.next  # Return the next node of the dummy node, which is the head of the resulting linked list\n"
      ],
      "metadata": {
        "id": "5AFqJGMxJSea"
      },
      "execution_count": null,
      "outputs": []
    },
    {
      "cell_type": "markdown",
      "source": [
        "### **Test Cases**"
      ],
      "metadata": {
        "id": "awxwWz92__p4"
      }
    },
    {
      "cell_type": "code",
      "source": [
        "# Test Case 1\n",
        "\n",
        "l1 = [2,4,3]\n",
        "l2 = [5,6,4]\n",
        "\n",
        "print(l1)\n",
        "print(l2)\n",
        "\n",
        "addTwoNumbers(l1, l2)"
      ],
      "metadata": {
        "id": "HQn49sDYTt1v"
      },
      "execution_count": null,
      "outputs": []
    },
    {
      "cell_type": "code",
      "source": [
        "# Test Case 2\n",
        "\n",
        "l1 = [0]\n",
        "l2 = [0]\n",
        "\n",
        "print(l1)\n",
        "print(l2)\n",
        "\n",
        "addTwoNumbers(l1, l2)"
      ],
      "metadata": {
        "id": "sQrkPrPGTxvs"
      },
      "execution_count": null,
      "outputs": []
    },
    {
      "cell_type": "code",
      "source": [
        "# Test Case 3\n",
        "\n",
        "l1 = [9,9,9,9,9,9,9]\n",
        "l2 = [9,9,9,9]\n",
        "\n",
        "print(l1)\n",
        "print(l2)\n",
        "\n",
        "addTwoNumbers(l1, l2)"
      ],
      "metadata": {
        "id": "sE7sCcl2UW-P"
      },
      "execution_count": null,
      "outputs": []
    },
    {
      "cell_type": "markdown",
      "source": [
        "### **Conclusion**\n",
        "\n",
        "The **time complexity of this solution is O(max(m, n))**, where m and n are the lengths of the two input linked lists.\n",
        "\n",
        "The **space complexity is O(max(m, n))**, as we create a new linked list to store the sum.\n",
        "\n",
        "**Assumption:** I assumed that the input linked lists are represented using the ListNode class, where each node has a val attribute representing the digit and a next attribute pointing to the next node."
      ],
      "metadata": {
        "id": "108MEZMqAEmT"
      }
    }
  ]
}