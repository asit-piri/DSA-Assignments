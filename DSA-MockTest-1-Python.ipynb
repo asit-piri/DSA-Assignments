{
  "nbformat": 4,
  "nbformat_minor": 0,
  "metadata": {
    "colab": {
      "provenance": []
    },
    "kernelspec": {
      "name": "python3",
      "display_name": "Python 3"
    },
    "language_info": {
      "name": "python"
    }
  },
  "cells": [
    {
      "cell_type": "markdown",
      "source": [
        "# Move Zeroes\n",
        "Given an integer array nums, move all 0's to the end of it while maintaining the relative order of the non-zero elements. Note that you must do this in-place without making a copy of the array.\n",
        "\n",
        "Example 1:\n",
        "\n",
        "Input: nums = [0,1,0,3,12]\n",
        "\n",
        "Output: [1,3,12,0,0]\n",
        "\n",
        "Example 2:\n",
        "\n",
        "Input: nums = [0]\n",
        "\n",
        "Output: [0]\n",
        "\n",
        "Constraints:\n",
        "\n",
        "a. 1 <= nums.length <= 10^4\n",
        "\n",
        "b. -2^31 <= nums[i] <= 2^31 - 1\n",
        "\n",
        "Note: Create a GitHub file for the solution and add the file link the the answer section below."
      ],
      "metadata": {
        "id": "P4OYjhEPKH1S"
      }
    },
    {
      "cell_type": "code",
      "execution_count": null,
      "metadata": {
        "id": "RynVI9wDKChd"
      },
      "outputs": [],
      "source": [
        "def moveZeros(nums):\n",
        "    i = 0\n",
        "    for j in range(len(nums)):\n",
        "        if nums[j] != 0:\n",
        "            nums[i] = nums[j]\n",
        "            i += 1\n",
        "    \n",
        "    while i < len(nums):\n",
        "        nums[i] = 0\n",
        "        i += 1"
      ]
    },
    {
      "cell_type": "code",
      "source": [
        "# Test case 1: the function\n",
        "nums = [0, 1, 0, 3, 12]\n",
        "moveZeros(nums)\n",
        "print(nums)"
      ],
      "metadata": {
        "colab": {
          "base_uri": "https://localhost:8080/"
        },
        "id": "asq5_oNbNXKJ",
        "outputId": "22f5a2ea-af5c-4564-fe87-a37ded7ed512"
      },
      "execution_count": null,
      "outputs": [
        {
          "output_type": "stream",
          "name": "stdout",
          "text": [
            "[1, 3, 12, 0, 0]\n"
          ]
        }
      ]
    },
    {
      "cell_type": "code",
      "source": [
        "# Test Case 2: the function\n",
        "nums = [12, 1, 0, 3, 0]\n",
        "moveZeros(nums)\n",
        "print(nums)"
      ],
      "metadata": {
        "colab": {
          "base_uri": "https://localhost:8080/"
        },
        "id": "_sFkNk5ySxSB",
        "outputId": "f3fdbd44-c2c3-44e9-ef48-48469d2fe203"
      },
      "execution_count": null,
      "outputs": [
        {
          "output_type": "stream",
          "name": "stdout",
          "text": [
            "[12, 1, 3, 0, 0]\n"
          ]
        }
      ]
    },
    {
      "cell_type": "code",
      "source": [
        "# Test Case 3: the function\n",
        "nums = [12, 6, 0, 3, 0]\n",
        "moveZeros(nums)\n",
        "print(nums)"
      ],
      "metadata": {
        "colab": {
          "base_uri": "https://localhost:8080/"
        },
        "id": "ySaeZcAZS_1r",
        "outputId": "22a57320-afc2-4d6d-e138-cc741b12a81e"
      },
      "execution_count": null,
      "outputs": [
        {
          "output_type": "stream",
          "name": "stdout",
          "text": [
            "[12, 6, 3, 0, 0]\n"
          ]
        }
      ]
    },
    {
      "cell_type": "markdown",
      "source": [
        "**Time Complexity:** The code has a time complexity of **O(n)**, where **n is the length of the nums array**. We iterate through the array twice: once to move the non-zero elements to the front, and then again to fill the remaining positions with zeros.\n",
        "\n",
        "**Space Complexity:** The code has a space complexity of **O(1)** **since it performs the operations in place, without using any additional data structures that depend on the input size**."
      ],
      "metadata": {
        "id": "JPHHjou8R_BN"
      }
    },
    {
      "cell_type": "markdown",
      "source": [
        "# First Unique Character in a String\n",
        "\n",
        "Given a string s, find the first non-repeating character in it and return its index. If it does not exist, return -1.\n",
        "\n",
        "Example 1:\n",
        "\n",
        "Input: s = \"leetcode\"\n",
        "\n",
        "Output: 0\n",
        "\n",
        "Example 2:\n",
        "\n",
        "Input: s = \"loveleetcode\"\n",
        "\n",
        "Output: 2\n",
        "\n",
        "Example 3:\n",
        "\n",
        "Input: s = \"aabb\"\n",
        "\n",
        "Output: -1\n",
        "\n",
        "Constraints:\n",
        "\n",
        "a. 1 <= s.length <= 10^5\n",
        "\n",
        "b. s consists of only lowercase English letters.\n",
        "\n",
        "Note: Create a GitHub file for the solution and add the file link the the answer section below."
      ],
      "metadata": {
        "id": "3icoN1gxKsua"
      }
    },
    {
      "cell_type": "code",
      "source": [
        "def FirstUniqueCharacter(s):\n",
        "    char_count = {}\n",
        "    \n",
        "    # Count the occurrences of each character\n",
        "    for char in s:\n",
        "        char_count[char] = char_count.get(char, 0) + 1\n",
        "    \n",
        "    # Find the first non-repeating character and return its index\n",
        "    for i in range(len(s)):\n",
        "        if char_count[s[i]] == 1:\n",
        "            return i, s[i]\n",
        "    \n",
        "    return -1, \"No Unique Character\""
      ],
      "metadata": {
        "id": "wNzTzNsiWPid"
      },
      "execution_count": 68,
      "outputs": []
    },
    {
      "cell_type": "code",
      "source": [
        "# Test Case 1\n",
        "s = \"leetcode\"\n",
        "index, char = FirstUniqueCharacter(s)\n",
        "print(\"First non-repeating character index:\", index)\n",
        "print(\"First non-repeating character:\", char)"
      ],
      "metadata": {
        "colab": {
          "base_uri": "https://localhost:8080/"
        },
        "id": "HQn49sDYTt1v",
        "outputId": "56c1b373-95f9-4223-b5c8-9faf8deee3d2"
      },
      "execution_count": 69,
      "outputs": [
        {
          "output_type": "stream",
          "name": "stdout",
          "text": [
            "First non-repeating character index: 0\n",
            "First non-repeating character: l\n"
          ]
        }
      ]
    },
    {
      "cell_type": "code",
      "source": [
        "# Test Case 2\n",
        "s = \"loveleetcode\"\n",
        "index, char = FirstUniqueCharacter(s)\n",
        "print(\"First non-repeating character index:\", index)\n",
        "print(\"First non-repeating character:\", char)"
      ],
      "metadata": {
        "colab": {
          "base_uri": "https://localhost:8080/"
        },
        "id": "sQrkPrPGTxvs",
        "outputId": "6d4e4df1-e192-4175-b1be-a7a6a0b4cd45"
      },
      "execution_count": 70,
      "outputs": [
        {
          "output_type": "stream",
          "name": "stdout",
          "text": [
            "First non-repeating character index: 2\n",
            "First non-repeating character: v\n"
          ]
        }
      ]
    },
    {
      "cell_type": "code",
      "source": [
        "# Test Case 3\n",
        "s = \"aabb\"\n",
        "index, char = FirstUniqueCharacter(s)\n",
        "print(\"First non-repeating character index:\", index)\n",
        "print(\"First non-repeating character:\", char)"
      ],
      "metadata": {
        "colab": {
          "base_uri": "https://localhost:8080/"
        },
        "id": "sE7sCcl2UW-P",
        "outputId": "37c4364e-ef01-4167-95ed-7b8c8d4e7693"
      },
      "execution_count": 71,
      "outputs": [
        {
          "output_type": "stream",
          "name": "stdout",
          "text": [
            "First non-repeating character index: -1\n",
            "First non-repeating character: No Unique Character\n"
          ]
        }
      ]
    },
    {
      "cell_type": "markdown",
      "source": [
        "**Time Complexity:** The code has a time complexity of **O(n)**, where **n is the length of the string s**. We iterate through the string twice: once to count the occurrences of each character, and then again to find the first non-repeating character.\n",
        "\n",
        "**Space Complexity: **The code has a space complexity of **O(n)**, where **n is the number of unique characters in the string s**. We use a dictionary (char_count) to store the count of each character. \n",
        "\n",
        "In the **worst case**, when all characters are unique, the space complexity is O(n), but since the constraint limits the input string to lowercase English letters, the space complexity is effectively O(26) or O(1)."
      ],
      "metadata": {
        "id": "7Piu5asRWoKm"
      }
    }
  ]
}