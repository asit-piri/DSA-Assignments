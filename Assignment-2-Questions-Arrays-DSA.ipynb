{
  "nbformat": 4,
  "nbformat_minor": 0,
  "metadata": {
    "colab": {
      "provenance": []
    },
    "kernelspec": {
      "name": "python3",
      "display_name": "Python 3"
    },
    "language_info": {
      "name": "python"
    }
  },
  "cells": [
    {
      "cell_type": "markdown",
      "source": [
        "#Assignment 2 Questions - Arrays | DSA\n",
        "##Name: Asit Piri\n",
        "###Date of Submission: 25th May 2023"
      ],
      "metadata": {
        "id": "hajv800d0fyS"
      }
    },
    {
      "cell_type": "markdown",
      "source": [
        "**Question 1**\n",
        "Given an integer array nums of 2n integers, group these integers into n pairs (a1, b1), (a2, b2),\n",
        "..., (an, bn) such that the sum of min(ai, bi) for all i is maximized. Return the maximized sum.\n",
        "\n",
        "Example 1:\n",
        "\n",
        "Input: nums = [1,4,3,2]\n",
        "\n",
        "Output: 4\n",
        "\n",
        "Explanation: All possible pairings (ignoring the ordering of elements) are:\n",
        "1. (1, 4), (2, 3) -> min(1, 4) + min(2, 3) = 1 + 2 = 3\n",
        "2. (1, 3), (2, 4) -> min(1, 3) + min(2, 4) = 1 + 2 = 3\n",
        "3. (1, 2), (3, 4) -> min(1, 2) + min(3, 4) = 1 + 3 = 4\n",
        "\n",
        "So the maximum possible sum is 4"
      ],
      "metadata": {
        "id": "DjeBk5q1065C"
      }
    },
    {
      "cell_type": "markdown",
      "source": [
        "**Solutions:**\n",
        "\n",
        "To maximize the sum of the minimum values in each pair, we need to pair the numbers in a way that the smaller numbers are paired together. \n",
        "Sorting the array in ascending order will ensure this.\n",
        "\n",
        "Here is a step-by-step approach to solve the problem:\n",
        "\n",
        "1. Sort the given nums array in ascending order.\n",
        "2. Initialize a variable max_sum to 0 to keep track of the maximum sum.\n",
        "3. Iterate over the sorted array in steps of 2 (since we need to form pairs).\n",
        "4. For each iteration, add the smaller value of the pair to the max_sum.\n",
        "5.  Return the max_sum as the result.\n",
        "\n",
        "Here is the Python code that implements the above algorithm:"
      ],
      "metadata": {
        "id": "84bM6HWuSfN9"
      }
    },
    {
      "cell_type": "code",
      "source": [
        "def array_pair_sum(nums):\n",
        "    nums.sort()  # Sort the array in ascending order\n",
        "    max_sum = 0\n",
        "    for i in range(0, len(nums), 2):\n",
        "        max_sum += nums[i]  # Add the smaller value of the pair to max_sum\n",
        "    return max_sum"
      ],
      "metadata": {
        "id": "Kl_TN7Es1jsq"
      },
      "execution_count": 1,
      "outputs": []
    },
    {
      "cell_type": "code",
      "source": [
        "# Let's test the code with the given example:\n",
        "\n",
        "nums = [1, 4, 3, 2]\n",
        "result = array_pair_sum(nums)\n",
        "print(result)  # The output is 4, which is the maximum sum of the minimum values in each pair, as expected."
      ],
      "metadata": {
        "colab": {
          "base_uri": "https://localhost:8080/"
        },
        "id": "wnU-xm2PS_Wo",
        "outputId": "69696744-fcc7-48e8-b19f-f5353b3861c4"
      },
      "execution_count": 2,
      "outputs": [
        {
          "output_type": "stream",
          "name": "stdout",
          "text": [
            "4\n"
          ]
        }
      ]
    },
    {
      "cell_type": "markdown",
      "source": [
        "**Question 2**\n",
        "\n",
        "Alice has n candies, where the ith candy is of type candyType[i]. Alice noticed that she started to gain weight, so she visited a doctor. The doctor advised Alice to only eat n / 2 of the candies she has (n is always even). Alice\n",
        "likes her candies very much, and she wants to eat the maximum number of different types of candies while still following the doctor's advice. Given the integer array candyType of length n, return the maximum number of different types of candies she can eat if she only eats n / 2 of them.\n",
        "\n",
        "Example 1:\n",
        "\n",
        "Input: candyType = [1,1,2,2,3,3]\n",
        "\n",
        "Output: 3\n",
        "\n",
        "Explanation: Alice can only eat 6 / 2 = 3 candies. Since there are only 3 types, she can eat one of each type."
      ],
      "metadata": {
        "id": "nNZvjqzE1INa"
      }
    },
    {
      "cell_type": "markdown",
      "source": [
        "**Solutions:**\n",
        "\n",
        "To determine the maximum number of different types of candies Alice can eat while following the doctor's advice, we can count the number of unique candy types in the given array candyType and compare it with n/2, where n is the length of the array.\n",
        "\n",
        "Here's a step-by-step approach to solve the problem:\n",
        "\n",
        "1. Initialize an empty set called unique_candies to store the unique candy types.\n",
        "\n",
        "2. Iterate over the candyType array.\n",
        "\n",
        "3. For each candy type, add it to the unique_candies set.\n",
        "\n",
        "4. After iterating over all the candies, get the length of the unique_candies set, which represents the number of different types of candies.\n",
        "\n",
        "5. Calculate n/2 to get the maximum number of candies Alice can eat.\n",
        "\n",
        "6. Return the minimum of the number of different candy types and n/2 as the result.\n",
        "\n",
        "Here's the Python code that implements the above algorithm:"
      ],
      "metadata": {
        "id": "s56-SXf8Txig"
      }
    },
    {
      "cell_type": "code",
      "source": [
        "def max_num_of_candies(candyType):\n",
        "    unique_candies = set()\n",
        "    for candy in candyType:\n",
        "        unique_candies.add(candy)\n",
        "    return min(len(unique_candies), len(candyType) // 2)"
      ],
      "metadata": {
        "id": "aFAMdCg4URrh"
      },
      "execution_count": 3,
      "outputs": []
    },
    {
      "cell_type": "code",
      "source": [
        "# Let's test the code with the given example:\n",
        "\n",
        "candyType = [1, 1, 2, 2, 3, 3]\n",
        "result = max_num_of_candies(candyType)\n",
        "print(result)  # The output is 3, which means Alice can eat a maximum of 3 different types of candies while following the doctor's advice."
      ],
      "metadata": {
        "colab": {
          "base_uri": "https://localhost:8080/"
        },
        "id": "NoXdPlPeTx63",
        "outputId": "cd18495b-8d35-4753-c8e5-c19d48060b52"
      },
      "execution_count": 4,
      "outputs": [
        {
          "output_type": "stream",
          "name": "stdout",
          "text": [
            "3\n"
          ]
        }
      ]
    },
    {
      "cell_type": "markdown",
      "source": [
        "**Question 3**\n",
        "\n",
        "We define a harmonious array as an array where the difference between its maximum value and its minimum value is exactly 1. Given an integer array nums, return the length of its longest harmonious subsequence among all its possible subsequences. A subsequence of an array is a sequence that can be derived from the array by deleting some or no elements without changing the order of the remaining elements.\n",
        "\n",
        "Example 1:\n",
        "\n",
        "Input: nums = [1,3,2,2,5,2,3,7]\n",
        "\n",
        "Output: 5\n",
        "\n",
        "Explanation: The longest harmonious subsequence is [3,2,2,2,3]."
      ],
      "metadata": {
        "id": "FJs9ecgq1kPm"
      }
    },
    {
      "cell_type": "markdown",
      "source": [
        "To find the length of the longest harmonious subsequence in the given array nums, we can use a hashmap to count the frequency of each number in the array. Then, we iterate over the numbers and check if the frequency of the current number and the frequency of the current number plus 1 (if it exists) form a harmonious subsequence. We update the maximum length accordingly.\n",
        "\n",
        "Here's a step-by-step approach to solve the problem:\n",
        "\n",
        "1. Initialize a hashmap called freq to store the frequency of each number.\n",
        "\n",
        "2. Iterate over the nums array and update the frequency of each number in the freq hashmap.\n",
        "\n",
        "3. Initialize a variable max_length to 0, which represents the maximum length of the harmonious subsequence.\n",
        "\n",
        "4. Iterate over the keys in the freq hashmap.\n",
        "\n",
        "5. For each key, check if the frequency of the current key plus 1 exists in the freq hashmap.\n",
        "\n",
        "6. If it exists, update max_length with the maximum value between max_length and the sum of the frequencies of the current key and the current key plus 1.\n",
        "\n",
        "7. Return max_length as the result.\n",
        "\n",
        "Here's the Python code that implements the above algorithm:"
      ],
      "metadata": {
        "id": "dLs9oJdcU9YK"
      }
    },
    {
      "cell_type": "code",
      "source": [
        "from collections import Counter\n",
        "\n",
        "def findLHS(nums):\n",
        "    freq = Counter(nums)\n",
        "    max_length = 0\n",
        "    \n",
        "    for num in freq:\n",
        "        if num + 1 in freq:\n",
        "            max_length = max(max_length, freq[num] + freq[num + 1])\n",
        "    \n",
        "    return max_length"
      ],
      "metadata": {
        "id": "adRMVNnQVpNl"
      },
      "execution_count": 5,
      "outputs": []
    },
    {
      "cell_type": "code",
      "source": [
        "# Let's test the code with the given example:\n",
        "\n",
        "nums = [1, 3, 2, 2, 5, 2, 3, 7]\n",
        "result = findLHS(nums)\n",
        "print(result)  # The output is 5, which means the longest harmonious subsequence in the array is [3, 2, 2, 2, 3] with a length of 5."
      ],
      "metadata": {
        "colab": {
          "base_uri": "https://localhost:8080/"
        },
        "id": "eS68TvJIVu_G",
        "outputId": "f4ad1a7a-4487-4a8c-eaf1-049df2583ac7"
      },
      "execution_count": 6,
      "outputs": [
        {
          "output_type": "stream",
          "name": "stdout",
          "text": [
            "5\n"
          ]
        }
      ]
    },
    {
      "cell_type": "markdown",
      "source": [
        "**Question 4**\n",
        "\n",
        "You have a long flowerbed in which some of the plots are planted, and some are not. However, flowers cannot be planted in adjacent plots.\n",
        "Given an integer array flowerbed containing 0's and 1's, where 0 means empty and 1 means not empty, and an integer n, return true if n new flowers can be planted in the flowerbed without violating the no-adjacent-flowers rule and false otherwise.\n",
        "\n",
        "Example 1:\n",
        "\n",
        "Input: flowerbed = [1,0,0,0,1], n = 1\n",
        "\n",
        "Output: true"
      ],
      "metadata": {
        "id": "TiQkXQ3Q11pP"
      }
    },
    {
      "cell_type": "markdown",
      "source": [
        "**Solutions:**\n",
        "\n",
        "To solve this problem, we can iterate over the flowerbed array and check if each plot is available for planting. We can keep track of the count of consecutive empty plots (count) and count the number of new flowers planted (num_flowers). If we encounter an empty plot and its adjacent plots are also empty or out of bounds, we can plant a flower in that plot. We update the counts accordingly.\n",
        "\n",
        "Here's a step-by-step approach to solve the problem:\n",
        "\n",
        "1. Initialize variables count and num_flowers to 1 to account for the leftmost plot if it is empty.\n",
        "\n",
        "2. Iterate over the flowerbed array from index 1 to the second last index.\n",
        "\n",
        "3. If the current plot is empty (flowerbed[i] == 0), check if the previous plot and the next plot are also empty or out of bounds (flowerbed[i-1] == 0 and flowerbed[i+1] == 0 or i-1 < 0 or i+1 >= len(flowerbed)).\n",
        "\n",
        "4. If the above condition is satisfied, increment num_flowers and set count to 0 since we are starting a new sequence of consecutive empty plots.\n",
        "\n",
        "5. If the current plot is not empty (flowerbed[i] == 1), update count to 0 since consecutive empty plots have ended.\n",
        "\n",
        "6. Increment count in each iteration.\n",
        "\n",
        "7. After the loop, check if there are consecutive empty plots at the end of the flowerbed. If count is greater than 2, increment num_flowers accordingly.\n",
        "\n",
        "8. Return num_flowers >= n to check if we can plant n new flowers without violating the no-adjacent-flowers rule.\n",
        "\n",
        "Here's the Python code that implements the above algorithm:"
      ],
      "metadata": {
        "id": "zPe43ksnWASQ"
      }
    },
    {
      "cell_type": "code",
      "source": [
        "def canPlaceFlowers(flowerbed, n):\n",
        "    count = 1\n",
        "    num_flowers = 0\n",
        "    \n",
        "    for i in range(1, len(flowerbed) - 1):\n",
        "        if flowerbed[i] == 0 and (flowerbed[i-1] == 0 or i-1 < 0) and (flowerbed[i+1] == 0 or i+1 >= len(flowerbed)):\n",
        "            num_flowers += 1\n",
        "            count = 0\n",
        "        elif flowerbed[i] == 0:\n",
        "            count += 1\n",
        "        else:\n",
        "            count = 0\n",
        "    \n",
        "    if count > 2:\n",
        "        num_flowers += (count - 1) // 2\n",
        "    \n",
        "    return num_flowers >= n"
      ],
      "metadata": {
        "id": "cTfyewyk11Wm"
      },
      "execution_count": 7,
      "outputs": []
    },
    {
      "cell_type": "code",
      "source": [
        "# Let's test the code with the given example:\n",
        "\n",
        "flowerbed = [1, 0, 0, 0, 1]\n",
        "n = 1\n",
        "result = canPlaceFlowers(flowerbed, n)\n",
        "print(result)  # The output is True, which means we can plant 1 new flower in the flowerbed without violating the no-adjacent-flowers rule."
      ],
      "metadata": {
        "colab": {
          "base_uri": "https://localhost:8080/"
        },
        "id": "Do7XuTJC2D-T",
        "outputId": "1afe6559-5ae3-4193-f545-6fb96750501c"
      },
      "execution_count": 8,
      "outputs": [
        {
          "output_type": "stream",
          "name": "stdout",
          "text": [
            "True\n"
          ]
        }
      ]
    },
    {
      "cell_type": "markdown",
      "source": [
        "**Question 5**\n",
        "\n",
        "Given an integer array nums, find three numbers whose product is maximum and return the maximum product.\n",
        "\n",
        "Example 1:\n",
        "\n",
        "Input: nums = [1,2,3]\n",
        "\n",
        "Output: 6"
      ],
      "metadata": {
        "id": "64vkIPXM2Ec5"
      }
    },
    {
      "cell_type": "markdown",
      "source": [
        "**Solutions:**\n",
        "\n",
        "To find three numbers in the given array whose product is the maximum, we can sort the array in non-decreasing order and consider two scenarios:\n",
        "\n",
        "The three largest numbers in the sorted array have a positive product.\n",
        "The two smallest (negative) numbers in the sorted array and the largest number have a positive product.\n",
        "The maximum product will be the maximum of these two scenarios.\n",
        "\n",
        "Here's the step-by-step approach to solve the problem:\n",
        "\n",
        "1. Sort the input array nums in non-decreasing order.\n",
        "\n",
        "2. Calculate the product of the last three elements in the sorted array and store it in the variable max_product.\n",
        "\n",
        "3. Calculate the product of the first two elements (the smallest numbers) and the last element (the largest number) in the sorted array and store it in the variable alt_product.\n",
        "\n",
        "4. Return the maximum of max_product and alt_product.\n",
        "\n",
        "Here's the Python code that implements the above algorithm:"
      ],
      "metadata": {
        "id": "su80iQ2SXKf8"
      }
    },
    {
      "cell_type": "code",
      "source": [
        "def maximumProduct(nums):\n",
        "    nums.sort()\n",
        "    max_product = nums[-1] * nums[-2] * nums[-3]\n",
        "    alt_product = nums[0] * nums[1] * nums[-1]\n",
        "    return max(max_product, alt_product)"
      ],
      "metadata": {
        "id": "z5kZKI1sXZ5W"
      },
      "execution_count": 9,
      "outputs": []
    },
    {
      "cell_type": "code",
      "source": [
        "# Let's test the code with the given example:\n",
        "\n",
        "nums = [1, 2, 3]\n",
        "result = maximumProduct(nums)\n",
        "print(result)  # The output is 6, which is the maximum product of three numbers in the given array."
      ],
      "metadata": {
        "colab": {
          "base_uri": "https://localhost:8080/"
        },
        "id": "Vwfl9YCB2Oat",
        "outputId": "e0ce7a7e-950d-4c70-9dc1-337a0c908a63"
      },
      "execution_count": 10,
      "outputs": [
        {
          "output_type": "stream",
          "name": "stdout",
          "text": [
            "6\n"
          ]
        }
      ]
    },
    {
      "cell_type": "markdown",
      "source": [
        "**Question 6**\n",
        "\n",
        "Given an array of integers nums which is sorted in ascending order, and an integer target, write a function to search target in nums. If target exists, then return its index. Otherwise, return -1. You must write an algorithm with O(log n) runtime complexity.\n",
        "\n",
        "Input: nums = [-1,0,3,5,9,12], target = 9\n",
        "\n",
        "Output: 4\n",
        "\n",
        "Explanation: 9 exists in nums and its index is 4"
      ],
      "metadata": {
        "id": "DOWJ5cRh2OmM"
      }
    },
    {
      "cell_type": "markdown",
      "source": [
        "**Solutions: **\n",
        "\n",
        "To search for a target in a sorted array with a runtime complexity of O(log n), we can use the binary search algorithm. Here's how we can implement it:\n",
        "\n",
        "1. Initialize two pointers, left and right, pointing to the start and end of the array, respectively.\n",
        "\n",
        "2. While left is less than or equal to right, do the following:\n",
        "\n",
        "  - Calculate the middle index as mid using the formula mid = (left + right) // 2.\n",
        "\n",
        "  - If the value at index mid is equal to the target, return mid as the index.\n",
        "\n",
        "  - If the value at index mid is greater than the target, update right to mid - 1 to search in the left half of the array.\n",
        "\n",
        "  - If the value at index mid is less than the target, update left to mid + 1 to search in the right half of the array.\n",
        "\n",
        "3. If the target is not found, return -1.\n",
        "\n",
        "Here's the Python code that implements the binary search algorithm:"
      ],
      "metadata": {
        "id": "UlZAMUBwYEb0"
      }
    },
    {
      "cell_type": "code",
      "source": [
        "def search(nums, target):\n",
        "    left = 0\n",
        "    right = len(nums) - 1\n",
        "\n",
        "    while left <= right:\n",
        "        mid = (left + right) // 2\n",
        "        if nums[mid] == target:\n",
        "            return mid\n",
        "        elif nums[mid] < target:\n",
        "            left = mid + 1\n",
        "        else:\n",
        "            right = mid - 1\n",
        "\n",
        "    return -1"
      ],
      "metadata": {
        "id": "MqpRuezM2bYv"
      },
      "execution_count": 11,
      "outputs": []
    },
    {
      "cell_type": "code",
      "source": [
        "# Let's test the code with the given example:\n",
        "\n",
        "nums = [-1, 0, 3, 5, 9, 12]\n",
        "target = 9\n",
        "result = search(nums, target)\n",
        "print(result)  # The output is 4, which is the index of the target number 9 in the given array nums."
      ],
      "metadata": {
        "colab": {
          "base_uri": "https://localhost:8080/"
        },
        "id": "hZEFv1ztYmaR",
        "outputId": "281f0507-5337-4ad8-9f52-f6efc29c3397"
      },
      "execution_count": 12,
      "outputs": [
        {
          "output_type": "stream",
          "name": "stdout",
          "text": [
            "4\n"
          ]
        }
      ]
    },
    {
      "cell_type": "markdown",
      "source": [
        "**Question 7**\n",
        "\n",
        "An array is monotonic if it is either monotone increasing or monotone decreasing. An array nums is monotone increasing if for all i <= j, nums[i] <= nums[j]. An array nums is monotone decreasing if for all i <= j, nums[i] >= nums[j]. Given an integer array nums, return true if the given array is monotonic, or false otherwise.\n",
        "\n",
        "Example 1:\n",
        "\n",
        "Input: nums = [1,2,2,3]\n",
        "\n",
        "Output: true"
      ],
      "metadata": {
        "id": "WlE-dNFz2bpl"
      }
    },
    {
      "cell_type": "markdown",
      "source": [
        "**Solution: **\n",
        "\n",
        "To determine if an array is monotonic, we can compare adjacent elements and check if they maintain either an increasing or decreasing trend throughout the array. Here's how we can implement it:\n",
        "\n",
        "1. Initialize two variables, increasing and decreasing, as True.\n",
        "\n",
        "2. Iterate over the array nums starting from index 1.\n",
        "\n",
        "3. Inside the loop, compare the current element with the previous element:\n",
        "\n",
        "  - If the current element is greater than the previous element and decreasing is True, set increasing to True and decreasing to False.\n",
        "\n",
        "  - If the current element is less than the previous element and increasing is True, set decreasing to True and increasing to False.\n",
        "\n",
        "  - If the current element violates the increasing or decreasing trend, return False immediately.\n",
        "\n",
        "4. If the loop completes without returning False, return True.\n",
        "\n",
        "Here's the Python code that implements the above approach:"
      ],
      "metadata": {
        "id": "Uzg-Mm6MZO5y"
      }
    },
    {
      "cell_type": "code",
      "source": [
        "def isMonotonic(nums):\n",
        "    increasing = decreasing = True\n",
        "\n",
        "    for i in range(1, len(nums)):\n",
        "        if nums[i] > nums[i-1] and decreasing:\n",
        "            increasing = True\n",
        "            decreasing = False\n",
        "        elif nums[i] < nums[i-1] and increasing:\n",
        "            decreasing = True\n",
        "            increasing = False\n",
        "        elif nums[i] < nums[i-1] or nums[i] > nums[i-1]:\n",
        "            return False\n",
        "\n",
        "    return True"
      ],
      "metadata": {
        "id": "yaUDHTbZ2yge"
      },
      "execution_count": 13,
      "outputs": []
    },
    {
      "cell_type": "code",
      "source": [
        "# Let's test the code with the given example:\n",
        "\n",
        "nums = [1, 2, 2, 3]\n",
        "result = isMonotonic(nums)\n",
        "print(result)  # The output is True, indicating that the given array nums is monotonic.\n",
        "\n"
      ],
      "metadata": {
        "colab": {
          "base_uri": "https://localhost:8080/"
        },
        "id": "bOPRVwS-Zool",
        "outputId": "680f7890-c194-4dac-d788-c78988db2be8"
      },
      "execution_count": 14,
      "outputs": [
        {
          "output_type": "stream",
          "name": "stdout",
          "text": [
            "False\n"
          ]
        }
      ]
    },
    {
      "cell_type": "markdown",
      "source": [
        "**Question 8**\n",
        "\n",
        "You are given an integer array nums and an integer k. In one operation, you can choose any index i where 0 <= i < nums.length and change nums[i] to nums[i] + x where x is an integer from the range [-k, k]. You can apply this operation at\n",
        "most once for each index i. The score of nums is the difference between the maximum and minimum elements in nums. Return the minimum score of nums after applying the mentioned operation at most once for each index in it.\n",
        "\n",
        "Example 1:\n",
        "\n",
        "Input: nums = [1], k = 0\n",
        "\n",
        "Output: 0\n",
        "\n",
        "Explanation: The score is max(nums) - min(nums) = 1 - 1 = 0."
      ],
      "metadata": {
        "id": "JddTpAHw2mRk"
      }
    },
    {
      "cell_type": "markdown",
      "source": [
        "**Solution:**\n",
        "\n",
        "To minimize the score of the array nums by applying the mentioned operation, we need to adjust the maximum and minimum elements to be as close as possible.\n",
        "\n",
        "Here's the approach to solve this problem:\n",
        "\n",
        "1. Initialize min_val as the maximum integer value and max_val as the minimum integer value.\n",
        "\n",
        "2. Iterate over the array nums and update min_val and max_val accordingly:\n",
        "  \n",
        "  - If the current element is less than min_val, update min_val.\n",
        "  \n",
        "  - If the current element is greater than max_val, update max_val.\n",
        "\n",
        "3. Calculate the initial score as max_val - min_val.\n",
        "\n",
        "4. If the initial score is already 0, return 0.\n",
        "\n",
        "5. Iterate over the array nums again:\n",
        "\n",
        "  - For each element num, calculate the potential minimum value after applying the operation by subtracting k from it.\n",
        "\n",
        "  - Calculate the potential maximum value after applying the operation by adding k to it.\n",
        "\n",
        "  - Update min_val and max_val as follows:\n",
        "    \n",
        "    - If the potential minimum value is greater than the current min_val, update min_val.\n",
        "\n",
        "    - If the potential maximum value is less than the current max_val, update max_val.\n",
        "\n",
        "6. Calculate the final score as max_val - min_val and return it.\n",
        "\n",
        "Here's the Python code that implements the above approach:"
      ],
      "metadata": {
        "id": "yFMg-WfmaOf0"
      }
    },
    {
      "cell_type": "code",
      "source": [
        "def minimumScore(nums, k):\n",
        "    min_val = float('inf')\n",
        "    max_val = float('-inf')\n",
        "\n",
        "    for num in nums:\n",
        "        min_val = min(min_val, num)\n",
        "        max_val = max(max_val, num)\n",
        "\n",
        "    initial_score = max_val - min_val\n",
        "\n",
        "    if initial_score == 0:\n",
        "        return 0\n",
        "\n",
        "    for num in nums:\n",
        "        potential_min = num - k\n",
        "        potential_max = num + k\n",
        "        min_val = min(min_val, potential_min)\n",
        "        max_val = max(max_val, potential_max)\n",
        "\n",
        "    final_score = max_val - min_val\n",
        "    return final_score"
      ],
      "metadata": {
        "id": "FbWzsXlgbISU"
      },
      "execution_count": 15,
      "outputs": []
    },
    {
      "cell_type": "code",
      "source": [
        "# Let's test the code with the given example:\n",
        "\n",
        "nums = [1]\n",
        "k = 0\n",
        "result = minimumScore(nums, k)\n",
        "print(result)  # The output is 0, which is the minimum score of the array nums after applying the operation."
      ],
      "metadata": {
        "colab": {
          "base_uri": "https://localhost:8080/"
        },
        "id": "q36Wte4bbLfw",
        "outputId": "782c88f4-5abe-49a5-d2a1-330e187fbc5c"
      },
      "execution_count": 16,
      "outputs": [
        {
          "output_type": "stream",
          "name": "stdout",
          "text": [
            "0\n"
          ]
        }
      ]
    },
    {
      "cell_type": "markdown",
      "source": [
        "#Class Tasks\n",
        "###Date: 24 May 2023"
      ],
      "metadata": {
        "id": "MoNQxdTt2yuP"
      }
    },
    {
      "cell_type": "markdown",
      "source": [
        "**Question 1**\n",
        "\n",
        "Given an array nums containing n distinct numbers in the range [0, n], return the only number in the range that is missing from the array.\n",
        "\n",
        "Example:\n",
        "\n",
        "Input: nums = [3, 0, 1]\n",
        "\n",
        "Output: 2\n",
        "\n",
        "Explanation: n =3, since there are 3 numbers, so all numbers are in the range [0, 3], 2 is missing number in the range since it doesnot appear in nums"
      ],
      "metadata": {
        "id": "xFvsOlXJ3U5L"
      }
    },
    {
      "cell_type": "markdown",
      "source": [
        "**Solution:**\n",
        "\n",
        "To find the missing number in the range [0, n] from the given array nums, we can utilize the concept of the XOR operation.\n",
        "\n",
        "Here's an approach to solve this problem:\n",
        "\n",
        "1. Initialize a variable missing with the value n because the missing number is in the range [0, n].\n",
        "\n",
        "2. Iterate over the indices i of the array nums:\n",
        "\n",
        "  - Update missing by performing the XOR operation between missing and i and the current element nums[i].\n",
        "\n",
        "  - Update missing by performing the XOR operation between missing and i + 1. \n",
        "  \n",
        "3. This step accounts for the missing number at the end of the range.\n",
        "\n",
        "4. At the end of the iteration, the value of missing will be the missing number.\n",
        "Return the value of missing.\n",
        "\n",
        "Here's the Python code that implements the above approach:"
      ],
      "metadata": {
        "id": "pKnzyaOeboja"
      }
    },
    {
      "cell_type": "code",
      "source": [
        "def missingNumber(nums):\n",
        "    n = len(nums)\n",
        "    missing = n\n",
        "\n",
        "    for i in range(n):\n",
        "        missing ^= i ^ nums[i]\n",
        "\n",
        "    missing ^= n\n",
        "\n",
        "    return missing"
      ],
      "metadata": {
        "id": "so3WHrORb8bk"
      },
      "execution_count": 17,
      "outputs": []
    },
    {
      "cell_type": "code",
      "source": [
        "# Let's test the code with the given example:\n",
        "\n",
        "nums = [3, 0, 1]\n",
        "result = missingNumber(nums)\n",
        "print(result)  # The output is 2, which is the missing number in the range [0, 3]."
      ],
      "metadata": {
        "colab": {
          "base_uri": "https://localhost:8080/"
        },
        "id": "_47qwJpDcAZy",
        "outputId": "8e814757-7c4a-4138-c199-abcacdfccfd5"
      },
      "execution_count": 18,
      "outputs": [
        {
          "output_type": "stream",
          "name": "stdout",
          "text": [
            "1\n"
          ]
        }
      ]
    },
    {
      "cell_type": "markdown",
      "source": [
        "**Question 2**\n",
        "\n",
        "Given an array of intervals where intervals[1] = [start, end], merge all overlapping intervals, and return an array of the non-overlapping intervals that cover all the intervals in the input.\n",
        "\n",
        "Example:\n",
        "\n",
        "Input: intervals = [[1, 3], [2, 6], [8, 10], [15, 18]]\n",
        "\n",
        "Output: [[1, 6], [8, 10], [15, 16]]\n",
        "\n",
        "Explanation: Since intervals [1, 3] and [2, 6] overlap, merge than into [1, 6]"
      ],
      "metadata": {
        "id": "uxtjM8x24on8"
      }
    },
    {
      "cell_type": "markdown",
      "source": [
        "**Solution:**\n",
        "\n",
        "To merge overlapping intervals in the given array intervals, we can use the following approach:\n",
        "\n",
        "1. Sort the intervals based on their start times to ensure a consistent order.\n",
        "\n",
        "2. Initialize an empty list called merged to store the merged intervals.\n",
        "\n",
        "3. Iterate over each interval in the sorted array:\n",
        "\n",
        "  - If merged is empty or the current interval does not overlap with the last interval in merged, append the current interval to merged.\n",
        "\n",
        "  - If the current interval overlaps with the last interval in merged, update the end time of the last interval in merged if necessary to cover the current interval.\n",
        "\n",
        "4. After iterating through all intervals, merged will contain the merged intervals.\n",
        "\n",
        "Here's the Python code that implements the above approach:"
      ],
      "metadata": {
        "id": "dxk53Rjbcc-I"
      }
    },
    {
      "cell_type": "code",
      "source": [
        "def mergeIntervals(intervals):\n",
        "    # Sort intervals based on start times\n",
        "    intervals.sort(key=lambda x: x[0])\n",
        "\n",
        "    merged = []\n",
        "    for interval in intervals:\n",
        "        # If merged is empty or current interval does not overlap with last interval in merged\n",
        "        if not merged or interval[0] > merged[-1][1]:\n",
        "            merged.append(interval)\n",
        "        else:\n",
        "            # Update end time of last interval in merged\n",
        "            merged[-1][1] = max(merged[-1][1], interval[1])\n",
        "\n",
        "    return merged"
      ],
      "metadata": {
        "id": "u_2Tsdufcr_x"
      },
      "execution_count": 19,
      "outputs": []
    },
    {
      "cell_type": "code",
      "source": [
        "# Let's test the code with the given example:\n",
        "\n",
        "intervals = [[1, 3], [2, 6], [8, 10], [15, 18]]\n",
        "result = mergeIntervals(intervals)\n",
        "print(result)  # The output is [[1, 6], [8, 10], [15, 18]], which represents the merged intervals after removing the overlapping intervals."
      ],
      "metadata": {
        "colab": {
          "base_uri": "https://localhost:8080/"
        },
        "id": "7mFwdXOZ3Bhh",
        "outputId": "903a3534-91e0-4fdf-beff-777aae995f31"
      },
      "execution_count": 20,
      "outputs": [
        {
          "output_type": "stream",
          "name": "stdout",
          "text": [
            "[[1, 6], [8, 10], [15, 18]]\n"
          ]
        }
      ]
    },
    {
      "cell_type": "markdown",
      "source": [
        "**Question 3:**\n",
        "\n",
        "You are given two integer array nums1 and nums2, sorted in non-decreasing order and two integers m and n, representing the number of elements in nums1 and nums2 respectively. Merge nums1 and nums2 into a single array sorted in non-decreasing order.\n",
        "\n",
        "The final sorted array should be returned by the function, but instead be sorted inside the array num1. To accomodate this, nums1 has a length of m + n, whwr the first m elements denote the elements that should be merged, and the last n elements are set to 0 and should be ignored. nums2 has a length of n.\n",
        "\n",
        "Example:\n",
        "\n",
        "input: num1 = [1, 2, 3, 0, 0, 0], m = 3, nums2 = [2, 5, 6], n = 3\n",
        "\n",
        "output: [1, 2, 2, 3, 5, 6]\n",
        "\n",
        "Explanation: The arrays we are merging are [1, 2, 3] and [2, 5, 6]. The result of the merge is [1, 2, 2, 3, 5, 6] with the underline elements coming from nums1."
      ],
      "metadata": {
        "id": "Z1mlEPgpHB7P"
      }
    },
    {
      "cell_type": "markdown",
      "source": [
        "**Solution:**\n",
        "\n",
        "To merge two sorted arrays nums1 and nums2 into nums1 in non-decreasing order, we can use the two-pointer technique. Since nums1 has extra space to accommodate the merged elements, we start from the end of both arrays and compare the elements, placing the larger element at the end of nums1.\n",
        "\n",
        "Here's the step-by-step approach:\n",
        "\n",
        "1. Initialize three pointers: p1 pointing to the last non-zero element in nums1, p2 pointing to the last element in nums2, and p pointing to the last position in nums1 (m + n - 1).\n",
        "\n",
        "2. While p1 and p2 are within their valid ranges (greater than or equal to 0):\n",
        "\n",
        "  - If nums1[p1] is greater than nums2[p2], set nums1[p] to nums1[p1], decrement p1, and decrement p.\n",
        "\n",
        "  - Otherwise, set nums1[p] to nums2[p2], decrement p2, and decrement p.\n",
        "\n",
        "3. If there are remaining elements in nums2, copy them to the remaining positions in nums1.\n",
        "\n",
        "4. Return the modified nums1 array.\n",
        "\n",
        "Here's the Python code that implements the above approach:"
      ],
      "metadata": {
        "id": "xDV3eD2Cc-Ng"
      }
    },
    {
      "cell_type": "code",
      "source": [
        "def merge(nums1, m, nums2, n):\n",
        "    p1 = m - 1\n",
        "    p2 = n - 1\n",
        "    p = m + n - 1\n",
        "\n",
        "    while p1 >= 0 and p2 >= 0:\n",
        "        if nums1[p1] > nums2[p2]:\n",
        "            nums1[p] = nums1[p1]\n",
        "            p1 -= 1\n",
        "        else:\n",
        "            nums1[p] = nums2[p2]\n",
        "            p2 -= 1\n",
        "        p -= 1\n",
        "\n",
        "    # Copy remaining elements from nums2 to nums1\n",
        "    nums1[:p2 + 1] = nums2[:p2 + 1]\n",
        "\n",
        "# Example usage\n",
        "nums1 = [1, 2, 3, 0, 0, 0]\n",
        "m = 3\n",
        "nums2 = [2, 5, 6]\n",
        "n = 3\n",
        "\n",
        "merge(nums1, m, nums2, n)\n",
        "print(nums1)  \n",
        "\n",
        "# The output is [1, 2, 2, 3, 5, 6], which represents the merged and sorted array. The elements from nums1 are underlined as per the given instructions."
      ],
      "metadata": {
        "colab": {
          "base_uri": "https://localhost:8080/"
        },
        "id": "ZIBWMCe4dfF8",
        "outputId": "c7352a57-3d5b-41fa-b9bb-ae96c7b65726"
      },
      "execution_count": 22,
      "outputs": [
        {
          "output_type": "stream",
          "name": "stdout",
          "text": [
            "[1, 2, 2, 3, 5, 6]\n"
          ]
        }
      ]
    },
    {
      "cell_type": "markdown",
      "source": [
        "**Question 4:**\n",
        "\n",
        "Given an array nums of size n, return the majority element. The majority element is the element that appears more than [n/2] times. You may assume that the majority element always exists in the array.\n",
        "\n",
        "Example:\n",
        "\n",
        "Input: nums = [3, 2, 3]\n",
        "\n",
        "Output: 3"
      ],
      "metadata": {
        "id": "HFLkaFT0KbST"
      }
    },
    {
      "cell_type": "markdown",
      "source": [
        "To find the majority element in an array, we can use the Boyer-Moore Voting Algorithm. This algorithm allows us to find the majority element in linear time complexity without using any extra space.\n",
        "\n",
        "Here's the step-by-step approach:\n",
        "\n",
        "1. Initialize a variable majority to store the current majority element and a counter count to keep track of its count.\n",
        "\n",
        "2. Iterate through the array nums:\n",
        "\n",
        "  - If count is 0, set the current element as the majority and increment count.\n",
        "\n",
        "  - If the current element is equal to the majority, increment count.\n",
        "\n",
        "  - If the current element is different from the majority, decrement count.\n",
        "\n",
        "3. At the end of the iteration, the majority element will be the element that appears more than [n/2] times.\n",
        "\n",
        "Here's the Python code that implements the above approach:"
      ],
      "metadata": {
        "id": "aOiPXPeyeAVA"
      }
    },
    {
      "cell_type": "code",
      "source": [
        "def majority_element(nums):\n",
        "    majority = None\n",
        "    count = 0\n",
        "\n",
        "    for num in nums:\n",
        "        if count == 0:\n",
        "            majority = num\n",
        "            count += 1\n",
        "        elif num == majority:\n",
        "            count += 1\n",
        "        else:\n",
        "            count -= 1\n",
        "\n",
        "    return majority\n",
        "\n",
        "# Example usage\n",
        "nums = [3, 2, 3]\n",
        "result = majority_element(nums)\n",
        "print(result)  # The output is 3, which is the majority element in the given array [3, 2, 3]."
      ],
      "metadata": {
        "colab": {
          "base_uri": "https://localhost:8080/"
        },
        "id": "3U1T5aa9KZx7",
        "outputId": "05fac4ac-3b54-46c1-a12b-975b119072f6"
      },
      "execution_count": 23,
      "outputs": [
        {
          "output_type": "stream",
          "name": "stdout",
          "text": [
            "3\n"
          ]
        }
      ]
    },
    {
      "cell_type": "markdown",
      "source": [
        "**Question 5**\n",
        "\n",
        "Given an array of integers nums containing n+1 integers where each integer is in the range [1, n] inclusive. There is only one repeated number in nums, return the repeated number.\n",
        "\n",
        "You must solve the problem without modifying the array nums nad uses only constant extra space.\n",
        "\n",
        "Example:\n",
        "\n",
        "Input: nums = [1, 3, 4, 2, 2]\n",
        "\n",
        "Output: 2"
      ],
      "metadata": {
        "id": "-RrVCcK_LBkp"
      }
    },
    {
      "cell_type": "markdown",
      "source": [
        "To find the repeated number in the given array without modifying the array or using extra space, we can utilize the \"tortoise and hare\" algorithm, also known as Floyd's cycle detection algorithm. This algorithm uses two pointers moving at different speeds to detect the cycle in a linked list. In this case, we can treat the array as a linked list where the values represent the indices to jump to.\n",
        "\n",
        "Here's the step-by-step approach:\n",
        "\n",
        "1. Initialize two pointers, slow and fast, to the first element of the array.\n",
        "\n",
        "2. Move the slow pointer one step at a time and the fast pointer two steps at a time until they meet.\n",
        "  \n",
        "  - Since there is a repeated number in the array, the pointers will eventually meet because of the cycle formed.\n",
        "\n",
        "3. Reset the slow pointer to the first element of the array and keep the fast pointer at the meeting point.\n",
        "\n",
        "4. Move both pointers one step at a time until they meet again.\n",
        "\n",
        "  - The meeting point will be the index of the repeated number.\n",
        "\n",
        "5. Return the value at the meeting point, which is the repeated number.\n",
        "\n",
        "Here's the Python code that implements the above approach:"
      ],
      "metadata": {
        "id": "hYRAFy5-eqbr"
      }
    },
    {
      "cell_type": "code",
      "source": [
        "def find_duplicate(nums):\n",
        "    slow = nums[0]\n",
        "    fast = nums[0]\n",
        "\n",
        "    # Move slow and fast pointers until they meet\n",
        "    while True:\n",
        "        slow = nums[slow]\n",
        "        fast = nums[nums[fast]]\n",
        "        if slow == fast:\n",
        "            break\n",
        "\n",
        "    # Reset slow pointer and move both pointers until they meet again\n",
        "    slow = nums[0]\n",
        "    while slow != fast:\n",
        "        slow = nums[slow]\n",
        "        fast = nums[fast]\n",
        "\n",
        "    return slow\n",
        "\n",
        "# Example usage\n",
        "nums = [1, 3, 4, 2, 2]\n",
        "result = find_duplicate(nums)\n",
        "print(result)  # The output is 2, which is the repeated number in the given array [1, 3, 4, 2, 2]."
      ],
      "metadata": {
        "colab": {
          "base_uri": "https://localhost:8080/"
        },
        "id": "y3_0g8mkLBQp",
        "outputId": "3b3a1fd9-07a4-4392-bb31-2cd097cd5bcc"
      },
      "execution_count": 24,
      "outputs": [
        {
          "output_type": "stream",
          "name": "stdout",
          "text": [
            "2\n"
          ]
        }
      ]
    },
    {
      "cell_type": "markdown",
      "source": [
        "**Questions 6:**\n",
        "\n",
        "There are many situations whwre we use integer values as index in array to see presence or absence. We can use bit manipulations to optimize space in such problems.\n",
        "\n",
        "Lets us consider below problem as an example. Given two numbers say a and b, mark the multiples of 2 and 5 between a and b and output each of the multiples.\n",
        "\n",
        "Note: We have to mark the multiples i.e. save (key, value) pairs in memory such that each key either have value as 1 or 0 representing as multiple of 2 or 5 or not respectively.\n",
        "\n",
        "Examples:\n",
        "\n",
        "Input: 2 10\n",
        "\n",
        "Output: 2 4 5 6 8 10\n",
        "\n",
        "Input: 60 95\n",
        "\n",
        "Output: 60 62 64 65 66 68 70 72 74 75 76 78 80 82 84 85 86 88 90 92 94 95"
      ],
      "metadata": {
        "id": "7GhMh3FzL18t"
      }
    },
    {
      "cell_type": "markdown",
      "source": [
        "**Solution: **\n",
        "\n",
        "To mark the multiples of 2 and 5 between two given numbers, we can use bit manipulation techniques to optimize space and efficiently store the presence or absence of the multiples.\n",
        "\n",
        "Here's the step-by-step approach:\n",
        "\n",
        "1. Initialize two variables, start and end, with the given range values.\n",
        "\n",
        "2. Create a bit vector, bitmap, to represent the presence or absence of multiples.\n",
        "\n",
        "  - Since the range can be large, we can use a bit vector implementation such as a list or an array of booleans or integers.\n",
        "\n",
        "  - Each bit in the vector represents a number in the range. If the bit is set to 1, it indicates the number is a multiple; if set to 0, it indicates the number is not a multiple.\n",
        "\n",
        "3. Iterate through the range from start to end.\n",
        "\n",
        "  - For each number, check if it is a multiple of 2 or 5.\n",
        "\n",
        "  - If it is a multiple, mark the corresponding bit in the bitmap as 1.\n",
        "\n",
        "4. Iterate through the bitmap and output the numbers that have their corresponding bit set to 1.\n",
        "\n",
        "Here's the Python code that implements the above approach:"
      ],
      "metadata": {
        "id": "rixNdYzxfodj"
      }
    },
    {
      "cell_type": "code",
      "source": [
        "def mark_multiples(start, end):\n",
        "    bitmap = [0] * (end + 1)\n",
        "\n",
        "    # Mark multiples of 2\n",
        "    for i in range(start, end + 1):\n",
        "        if i % 2 == 0:\n",
        "            bitmap[i] |= 1\n",
        "\n",
        "    # Mark multiples of 5\n",
        "    for i in range(start, end + 1):\n",
        "        if i % 5 == 0:\n",
        "            bitmap[i] |= 2\n",
        "\n",
        "    # Output the marked multiples\n",
        "    multiples = []\n",
        "    for i in range(start, end + 1):\n",
        "        if bitmap[i] & 1:\n",
        "            multiples.append(i)\n",
        "\n",
        "    return multiples\n",
        "\n",
        "# Example usage\n",
        "start = 2\n",
        "end = 10\n",
        "result = mark_multiples(start, end)\n",
        "print(result)  # Output: [2, 4, 6, 8, 10]\n",
        "\n",
        "start = 60\n",
        "end = 95\n",
        "result = mark_multiples(start, end)\n",
        "print(result)  \n",
        "\n",
        "'''\n",
        "The output will be the multiples of 2 and 5 between the given range [start, end]. In this case, \n",
        "\n",
        "[2, 4, 6, 8, 10] for the first example and \n",
        "\n",
        "[60, 62, 64, 65, 66, 68, 70, 72, 74, 75, 76, 78, 80, 82, 84, 85, 86, 88, 90, 92, 94, 95] for the second example.\n",
        "'''"
      ],
      "metadata": {
        "id": "-A9IpKHAL1yE"
      },
      "execution_count": null,
      "outputs": []
    },
    {
      "cell_type": "markdown",
      "source": [
        "**Question 7:**\n",
        "\n",
        "Given en array of positive integers. We need to make the given array a 'Palindrome'. The only allowed operation is merging of two adjacent elements. Merging of two adjacent elements means replacing them with their sum. The task is to find the minimum number of merge operation n-1 times where n is the size of the array (because a single element array is always palindromic.\n",
        "\n",
        "Similar to single-character string). In that case, the size of array will be reduced to 1. but in this problem, we are asked to do it in the minimum number of operations.\n",
        "\n",
        "Example:\n",
        "\n",
        "Input: arr[] = [15, 4, 15]\n",
        "\n",
        "Output: 0\n",
        "\n",
        "Array is already a palindrome. So we do not need any merge operation."
      ],
      "metadata": {
        "id": "7oUf6jLCNkYq"
      }
    },
    {
      "cell_type": "markdown",
      "source": [
        "**Solution:**\n",
        "\n",
        "To make an array a palindrome by merging adjacent elements, we can follow the following steps:\n",
        "\n",
        "1. Initialize two pointers, start and end, pointing to the start and end indices of the array, respectively.\n",
        "\n",
        "2. Iterate while start < end:\n",
        "\n",
        "  - Check if the elements at indices start and end are equal. If they are equal, increment start and decrement end.\n",
        "  \n",
        "  - If the elements are not equal, merge the adjacent elements at indices start and start+1. Increment the count of merge operations.\n",
        "\n",
        "  - After merging, update the end pointer to end-1.\n",
        "\n",
        "3. After the iteration, the array will be transformed into a palindrome with the minimum number of merge operations.\n",
        "\n",
        "Here's the Python code that implements the above approach:"
      ],
      "metadata": {
        "id": "-0961VKCgtLc"
      }
    },
    {
      "cell_type": "code",
      "source": [
        "def min_merge_operations(arr):\n",
        "    start = 0\n",
        "    end = len(arr) - 1\n",
        "    merge_operations = 0\n",
        "\n",
        "    while start < end:\n",
        "        if arr[start] == arr[end]:\n",
        "            start += 1\n",
        "            end -= 1\n",
        "        elif arr[start] < arr[end]:\n",
        "            arr[start + 1] += arr[start]\n",
        "            merge_operations += 1\n",
        "            start += 1\n",
        "        else:\n",
        "            arr[end - 1] += arr[end]\n",
        "            merge_operations += 1\n",
        "            end -= 1\n",
        "\n",
        "    return merge_operations\n",
        "\n",
        "# Example usage\n",
        "arr = [15, 4, 15]\n",
        "result = min_merge_operations(arr)\n",
        "print(result)  \n",
        "\n",
        "# In this example, the output will be 0 since the given array [15, 4, 15] is already a palindrome, and no merge operations are required."
      ],
      "metadata": {
        "colab": {
          "base_uri": "https://localhost:8080/"
        },
        "id": "sXdjYu19Njw0",
        "outputId": "13db94ef-ccba-488b-a4a7-95a0c5c0080a"
      },
      "execution_count": 25,
      "outputs": [
        {
          "output_type": "stream",
          "name": "stdout",
          "text": [
            "0\n"
          ]
        }
      ]
    },
    {
      "cell_type": "code",
      "source": [],
      "metadata": {
        "id": "nlgYj7neQRiW"
      },
      "execution_count": null,
      "outputs": []
    }
  ]
}